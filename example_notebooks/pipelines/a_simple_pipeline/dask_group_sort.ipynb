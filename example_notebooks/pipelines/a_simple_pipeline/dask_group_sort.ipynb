{
 "cells": [
  {
   "cell_type": "markdown",
   "id": "497901e0",
   "metadata": {},
   "source": [
    "## DASK groupby and sorting on Hyperplane "
   ]
  },
  {
   "cell_type": "code",
   "execution_count": 1,
   "id": "d1eeb892",
   "metadata": {},
   "outputs": [],
   "source": [
    "import warnings\n",
    "import os\n",
    "import sys\n",
    "import pandas as pd\n",
    "import numpy as np\n",
    "import dask\n",
    "import dask.dataframe as dd\n",
    "from dask.distributed import Client\n",
    "from typing import List, Set, Dict, Tuple, Optional\n",
    "import types\n",
    "from google.cloud import storage\n",
    "from tqdm.notebook import tqdm\n",
    "\n",
    "import matplotlib\n",
    "matplotlib.use('Agg')\n",
    "import matplotlib.pyplot as plt \n",
    "%matplotlib inline\n",
    "\n",
    "pd.options.display.max_rows = 999\n",
    "warnings.filterwarnings('ignore')\n",
    "\n",
    "from hyperplane import notebook_common as nc"
   ]
  },
  {
   "cell_type": "markdown",
   "id": "800e7afb",
   "metadata": {},
   "source": [
    "#### Below the magic cell to set parameters that can be passed in through pipeline jobs\n",
    "Later when this notebook is used in a production pipeline, the variables set in this cell can be changed to something else, by adding this like to the graphql query\n",
    "\n",
    "`\n",
    "parameters: {create: {key: \"data_url\", value: \"some_other_data_url\"}}\n",
    "`\n"
   ]
  },
  {
   "cell_type": "code",
   "execution_count": 12,
   "id": "6fe04e65",
   "metadata": {
    "tags": [
     "parameter"
    ]
   },
   "outputs": [],
   "source": [
    "year = \"199*\""
   ]
  },
  {
   "cell_type": "code",
   "execution_count": 13,
   "id": "ade1d748",
   "metadata": {},
   "outputs": [
    {
     "data": {
      "text/plain": [
       "'s3://dask-data/airline-data/199*.csv'"
      ]
     },
     "execution_count": 13,
     "metadata": {},
     "output_type": "execute_result"
    }
   ],
   "source": [
    "data_url = f\"s3://dask-data/airline-data/{year}.csv\"\n",
    "data_url"
   ]
  },
  {
   "cell_type": "markdown",
   "id": "32d0a9c8",
   "metadata": {},
   "source": [
    "#### Below is the one liner to scale up the job to kubernetes"
   ]
  },
  {
   "cell_type": "code",
   "execution_count": 3,
   "id": "13726c3e",
   "metadata": {},
   "outputs": [
    {
     "name": "stdout",
     "output_type": "stream",
     "text": [
      "👉 Hyperplane: selecting worker node pool\n",
      "👉 Hyperplane: selecting scheduler node pool\n",
      "Creating scheduler pod on cluster. This may take some time.\n",
      "👉 Hyperplane: spinning up a dask cluster with a scheduler as a standalone container.\n",
      "👉 Hyperplane: In a few minutes you'll be able to access the dashboard at https://ds.hyperplane.dev/dask-cluster-e3dc00fa-6e8f-4f8e-ba49-ead6eb972974/status\n",
      "👉 Hyperplane: to get logs from all workers, do `cluster.get_logs()`\n"
     ]
    }
   ],
   "source": [
    "client, cluster = nc.initialize_cluster(\n",
    "        nprocs=5,\n",
    "        nthreads=3,\n",
    "        ram_gb_per_proc=2.4,\n",
    "        cores_per_worker=15,\n",
    "        scheduler_deploy_mode=\"remote\",\n",
    "        num_workers = 2\n",
    "    )\n"
   ]
  },
  {
   "cell_type": "code",
   "execution_count": 4,
   "id": "cdb76e65",
   "metadata": {},
   "outputs": [
    {
     "data": {
      "text/plain": [
       "{'tcp://10.1.47.3:34741': 256,\n",
       " 'tcp://10.1.47.3:35361': 256,\n",
       " 'tcp://10.1.47.3:41555': 0,\n",
       " 'tcp://10.1.47.3:45429': 0,\n",
       " 'tcp://10.1.47.3:45699': 256,\n",
       " 'tcp://10.1.48.3:33355': 0,\n",
       " 'tcp://10.1.48.3:34819': 0,\n",
       " 'tcp://10.1.48.3:41273': 0,\n",
       " 'tcp://10.1.48.3:42043': 0,\n",
       " 'tcp://10.1.48.3:44215': 0}"
      ]
     },
     "execution_count": 4,
     "metadata": {},
     "output_type": "execute_result"
    }
   ],
   "source": [
    "## install any necessary custom packages on the remote node image \n",
    "def install_package_on_remote():\n",
    "    import os\n",
    "    return os.system(\"pip install s3fs\")\n",
    "client.run(install_package_on_remote)"
   ]
  },
  {
   "cell_type": "code",
   "execution_count": 7,
   "id": "bd113870",
   "metadata": {},
   "outputs": [
    {
     "name": "stdout",
     "output_type": "stream",
     "text": [
      "number of rows, 52694390\n",
      "total size 2.355632930994034 G\n",
      "CPU times: user 245 ms, sys: 33.2 ms, total: 278 ms\n",
      "Wall time: 21.1 s\n"
     ]
    },
    {
     "data": {
      "text/html": [
       "<div>\n",
       "<style scoped>\n",
       "    .dataframe tbody tr th:only-of-type {\n",
       "        vertical-align: middle;\n",
       "    }\n",
       "\n",
       "    .dataframe tbody tr th {\n",
       "        vertical-align: top;\n",
       "    }\n",
       "\n",
       "    .dataframe thead th {\n",
       "        text-align: right;\n",
       "    }\n",
       "</style>\n",
       "<table border=\"1\" class=\"dataframe\">\n",
       "  <thead>\n",
       "    <tr style=\"text-align: right;\">\n",
       "      <th></th>\n",
       "      <th>DepTime</th>\n",
       "      <th>FlightNum</th>\n",
       "      <th>DepDelay</th>\n",
       "      <th>Origin</th>\n",
       "      <th>Dest</th>\n",
       "      <th>Distance</th>\n",
       "    </tr>\n",
       "  </thead>\n",
       "  <tbody>\n",
       "    <tr>\n",
       "      <th>0</th>\n",
       "      <td>1707.0</td>\n",
       "      <td>29</td>\n",
       "      <td>37.0</td>\n",
       "      <td>CMH</td>\n",
       "      <td>IND</td>\n",
       "      <td>182.0</td>\n",
       "    </tr>\n",
       "    <tr>\n",
       "      <th>1</th>\n",
       "      <td>1706.0</td>\n",
       "      <td>29</td>\n",
       "      <td>36.0</td>\n",
       "      <td>CMH</td>\n",
       "      <td>IND</td>\n",
       "      <td>182.0</td>\n",
       "    </tr>\n",
       "  </tbody>\n",
       "</table>\n",
       "</div>"
      ],
      "text/plain": [
       "   DepTime  FlightNum  DepDelay Origin Dest  Distance\n",
       "0   1707.0         29      37.0    CMH  IND     182.0\n",
       "1   1706.0         29      36.0    CMH  IND     182.0"
      ]
     },
     "execution_count": 7,
     "metadata": {},
     "output_type": "execute_result"
    }
   ],
   "source": [
    "%%time\n",
    "df = dd.read_csv(data_url, \n",
    "#                  blocksize = 25e6, \n",
    "                 storage_options = {'anon': True},\n",
    "                usecols = ['DepTime','FlightNum','DepDelay','Origin', 'Dest','Distance'],\n",
    "                dtype={'Distance': 'float64',\n",
    "                      'DepTime':'float64',\n",
    "                      'FlightNum':'int64',\n",
    "                      'DepDelay':'float64',\n",
    "                      'Dest':'object',\n",
    "                      'Origin':'object'}, \n",
    "                encoding = \"ISO-8859-1\")\n",
    "\n",
    "print(f\"number of rows, {df.map_partitions(len).compute().sum()}\")\n",
    "print(f\"total size {df.memory_usage_per_partition().compute().sum()/1024./1024./1024.} G\")\n",
    "df.head(2)\n"
   ]
  },
  {
   "cell_type": "code",
   "execution_count": 8,
   "id": "3e7c7efb",
   "metadata": {},
   "outputs": [
    {
     "name": "stdout",
     "output_type": "stream",
     "text": [
      "CPU times: user 22.6 ms, sys: 3.41 ms, total: 26 ms\n",
      "Wall time: 23.7 ms\n"
     ]
    },
    {
     "data": {
      "text/html": [
       "<div><strong>Dask DataFrame Structure:</strong></div>\n",
       "<div>\n",
       "<style scoped>\n",
       "    .dataframe tbody tr th:only-of-type {\n",
       "        vertical-align: middle;\n",
       "    }\n",
       "\n",
       "    .dataframe tbody tr th {\n",
       "        vertical-align: top;\n",
       "    }\n",
       "\n",
       "    .dataframe thead th {\n",
       "        text-align: right;\n",
       "    }\n",
       "</style>\n",
       "<table border=\"1\" class=\"dataframe\">\n",
       "  <thead>\n",
       "    <tr style=\"text-align: right;\">\n",
       "      <th></th>\n",
       "      <th>DepTime</th>\n",
       "      <th>FlightNum</th>\n",
       "      <th>DepDelay</th>\n",
       "      <th>Origin</th>\n",
       "      <th>Dest</th>\n",
       "      <th>Distance</th>\n",
       "    </tr>\n",
       "    <tr>\n",
       "      <th>npartitions=85</th>\n",
       "      <th></th>\n",
       "      <th></th>\n",
       "      <th></th>\n",
       "      <th></th>\n",
       "      <th></th>\n",
       "      <th></th>\n",
       "    </tr>\n",
       "  </thead>\n",
       "  <tbody>\n",
       "    <tr>\n",
       "      <th></th>\n",
       "      <td>float64</td>\n",
       "      <td>int64</td>\n",
       "      <td>float64</td>\n",
       "      <td>object</td>\n",
       "      <td>object</td>\n",
       "      <td>float64</td>\n",
       "    </tr>\n",
       "    <tr>\n",
       "      <th></th>\n",
       "      <td>...</td>\n",
       "      <td>...</td>\n",
       "      <td>...</td>\n",
       "      <td>...</td>\n",
       "      <td>...</td>\n",
       "      <td>...</td>\n",
       "    </tr>\n",
       "    <tr>\n",
       "      <th>...</th>\n",
       "      <td>...</td>\n",
       "      <td>...</td>\n",
       "      <td>...</td>\n",
       "      <td>...</td>\n",
       "      <td>...</td>\n",
       "      <td>...</td>\n",
       "    </tr>\n",
       "    <tr>\n",
       "      <th></th>\n",
       "      <td>...</td>\n",
       "      <td>...</td>\n",
       "      <td>...</td>\n",
       "      <td>...</td>\n",
       "      <td>...</td>\n",
       "      <td>...</td>\n",
       "    </tr>\n",
       "    <tr>\n",
       "      <th></th>\n",
       "      <td>...</td>\n",
       "      <td>...</td>\n",
       "      <td>...</td>\n",
       "      <td>...</td>\n",
       "      <td>...</td>\n",
       "      <td>...</td>\n",
       "    </tr>\n",
       "  </tbody>\n",
       "</table>\n",
       "</div>\n",
       "<div>Dask Name: lambda, 2925 tasks</div>"
      ],
      "text/plain": [
       "Dask DataFrame Structure:\n",
       "                DepTime FlightNum DepDelay  Origin    Dest Distance\n",
       "npartitions=85                                                     \n",
       "                float64     int64  float64  object  object  float64\n",
       "                    ...       ...      ...     ...     ...      ...\n",
       "...                 ...       ...      ...     ...     ...      ...\n",
       "                    ...       ...      ...     ...     ...      ...\n",
       "                    ...       ...      ...     ...     ...      ...\n",
       "Dask Name: lambda, 2925 tasks"
      ]
     },
     "execution_count": 8,
     "metadata": {},
     "output_type": "execute_result"
    }
   ],
   "source": [
    "%%time\n",
    "# lazy groupby and sorting to get the 10 largest trade per ticker\n",
    "df_sort = df.groupby('Origin').apply(lambda x : x.nlargest(n = 10, columns = 'Distance'))\n",
    "df_sort"
   ]
  },
  {
   "cell_type": "code",
   "execution_count": 10,
   "id": "aa9b8eba",
   "metadata": {},
   "outputs": [
    {
     "name": "stdout",
     "output_type": "stream",
     "text": [
      "CPU times: user 590 ms, sys: 16.8 ms, total: 607 ms\n",
      "Wall time: 46.1 s\n"
     ]
    },
    {
     "data": {
      "text/html": [
       "<div>\n",
       "<style scoped>\n",
       "    .dataframe tbody tr th:only-of-type {\n",
       "        vertical-align: middle;\n",
       "    }\n",
       "\n",
       "    .dataframe tbody tr th {\n",
       "        vertical-align: top;\n",
       "    }\n",
       "\n",
       "    .dataframe thead th {\n",
       "        text-align: right;\n",
       "    }\n",
       "</style>\n",
       "<table border=\"1\" class=\"dataframe\">\n",
       "  <thead>\n",
       "    <tr style=\"text-align: right;\">\n",
       "      <th></th>\n",
       "      <th></th>\n",
       "      <th>DepTime</th>\n",
       "      <th>FlightNum</th>\n",
       "      <th>DepDelay</th>\n",
       "      <th>Origin</th>\n",
       "      <th>Dest</th>\n",
       "      <th>Distance</th>\n",
       "    </tr>\n",
       "    <tr>\n",
       "      <th>Origin</th>\n",
       "      <th></th>\n",
       "      <th></th>\n",
       "      <th></th>\n",
       "      <th></th>\n",
       "      <th></th>\n",
       "      <th></th>\n",
       "      <th></th>\n",
       "    </tr>\n",
       "  </thead>\n",
       "  <tbody>\n",
       "    <tr>\n",
       "      <th rowspan=\"5\" valign=\"top\">ROA</th>\n",
       "      <th>65653</th>\n",
       "      <td>1140.0</td>\n",
       "      <td>1777</td>\n",
       "      <td>0.0</td>\n",
       "      <td>ROA</td>\n",
       "      <td>LGA</td>\n",
       "      <td>405.0</td>\n",
       "    </tr>\n",
       "    <tr>\n",
       "      <th>65654</th>\n",
       "      <td>1142.0</td>\n",
       "      <td>1777</td>\n",
       "      <td>2.0</td>\n",
       "      <td>ROA</td>\n",
       "      <td>LGA</td>\n",
       "      <td>405.0</td>\n",
       "    </tr>\n",
       "    <tr>\n",
       "      <th>65655</th>\n",
       "      <td>1140.0</td>\n",
       "      <td>1777</td>\n",
       "      <td>0.0</td>\n",
       "      <td>ROA</td>\n",
       "      <td>LGA</td>\n",
       "      <td>405.0</td>\n",
       "    </tr>\n",
       "    <tr>\n",
       "      <th>65656</th>\n",
       "      <td>NaN</td>\n",
       "      <td>1777</td>\n",
       "      <td>NaN</td>\n",
       "      <td>ROA</td>\n",
       "      <td>LGA</td>\n",
       "      <td>405.0</td>\n",
       "    </tr>\n",
       "    <tr>\n",
       "      <th>65657</th>\n",
       "      <td>1140.0</td>\n",
       "      <td>1777</td>\n",
       "      <td>0.0</td>\n",
       "      <td>ROA</td>\n",
       "      <td>LGA</td>\n",
       "      <td>405.0</td>\n",
       "    </tr>\n",
       "    <tr>\n",
       "      <th>...</th>\n",
       "      <th>...</th>\n",
       "      <td>...</td>\n",
       "      <td>...</td>\n",
       "      <td>...</td>\n",
       "      <td>...</td>\n",
       "      <td>...</td>\n",
       "      <td>...</td>\n",
       "    </tr>\n",
       "    <tr>\n",
       "      <th rowspan=\"5\" valign=\"top\">ITH</th>\n",
       "      <th>11497</th>\n",
       "      <td>800.0</td>\n",
       "      <td>253</td>\n",
       "      <td>0.0</td>\n",
       "      <td>ITH</td>\n",
       "      <td>PIT</td>\n",
       "      <td>239.0</td>\n",
       "    </tr>\n",
       "    <tr>\n",
       "      <th>11498</th>\n",
       "      <td>800.0</td>\n",
       "      <td>253</td>\n",
       "      <td>0.0</td>\n",
       "      <td>ITH</td>\n",
       "      <td>PIT</td>\n",
       "      <td>239.0</td>\n",
       "    </tr>\n",
       "    <tr>\n",
       "      <th>11499</th>\n",
       "      <td>800.0</td>\n",
       "      <td>253</td>\n",
       "      <td>0.0</td>\n",
       "      <td>ITH</td>\n",
       "      <td>PIT</td>\n",
       "      <td>239.0</td>\n",
       "    </tr>\n",
       "    <tr>\n",
       "      <th>11500</th>\n",
       "      <td>800.0</td>\n",
       "      <td>253</td>\n",
       "      <td>0.0</td>\n",
       "      <td>ITH</td>\n",
       "      <td>PIT</td>\n",
       "      <td>239.0</td>\n",
       "    </tr>\n",
       "    <tr>\n",
       "      <th>11501</th>\n",
       "      <td>800.0</td>\n",
       "      <td>253</td>\n",
       "      <td>0.0</td>\n",
       "      <td>ITH</td>\n",
       "      <td>PIT</td>\n",
       "      <td>239.0</td>\n",
       "    </tr>\n",
       "  </tbody>\n",
       "</table>\n",
       "<p>2541 rows × 6 columns</p>\n",
       "</div>"
      ],
      "text/plain": [
       "              DepTime  FlightNum  DepDelay Origin Dest  Distance\n",
       "Origin                                                          \n",
       "ROA    65653   1140.0       1777       0.0    ROA  LGA     405.0\n",
       "       65654   1142.0       1777       2.0    ROA  LGA     405.0\n",
       "       65655   1140.0       1777       0.0    ROA  LGA     405.0\n",
       "       65656      NaN       1777       NaN    ROA  LGA     405.0\n",
       "       65657   1140.0       1777       0.0    ROA  LGA     405.0\n",
       "...               ...        ...       ...    ...  ...       ...\n",
       "ITH    11497    800.0        253       0.0    ITH  PIT     239.0\n",
       "       11498    800.0        253       0.0    ITH  PIT     239.0\n",
       "       11499    800.0        253       0.0    ITH  PIT     239.0\n",
       "       11500    800.0        253       0.0    ITH  PIT     239.0\n",
       "       11501    800.0        253       0.0    ITH  PIT     239.0\n",
       "\n",
       "[2541 rows x 6 columns]"
      ]
     },
     "execution_count": 10,
     "metadata": {},
     "output_type": "execute_result"
    }
   ],
   "source": [
    "%%time\n",
    "# actual compute of the groupby sorting result\n",
    "df_sort_local = df_sort.compute()\n",
    "df_sort_local"
   ]
  },
  {
   "cell_type": "markdown",
   "id": "50184d24",
   "metadata": {},
   "source": [
    "## Compare with pandas (will kill the kernel)\n",
    "Note the code below is going to crush the kernel or kill the instance due to Out of Memory Error"
   ]
  },
  {
   "cell_type": "code",
   "execution_count": null,
   "id": "229d52b4",
   "metadata": {},
   "outputs": [],
   "source": [
    "# %%time\n",
    "# import pandas as pd\n",
    "# df_pd = df.compute()"
   ]
  },
  {
   "cell_type": "code",
   "execution_count": null,
   "id": "f05e8351",
   "metadata": {},
   "outputs": [],
   "source": [
    "# ## crushed the kernel\n",
    "# %%time\n",
    "# df_sort_pd = df_pd.groupby('Origin').apply(lambda x : x.nlargest(n = 10, columns = 'Distance'))"
   ]
  },
  {
   "cell_type": "markdown",
   "id": "c7a87e05",
   "metadata": {},
   "source": [
    "## close cluster after done\n",
    "It's a good idea to close the cluster after use. If you forgot to add this cell, don't worry :) Hyperplane will automatically garbage collect the node after it detects it's being idle for a bit\n"
   ]
  },
  {
   "cell_type": "code",
   "execution_count": 11,
   "id": "b7863ead",
   "metadata": {},
   "outputs": [],
   "source": [
    "cluster.close()"
   ]
  },
  {
   "cell_type": "code",
   "execution_count": null,
   "id": "7abfc6c6",
   "metadata": {},
   "outputs": [],
   "source": []
  }
 ],
 "metadata": {
  "kernelspec": {
   "display_name": "Python [conda env:root] *",
   "language": "python",
   "name": "conda-root-py"
  },
  "language_info": {
   "codemirror_mode": {
    "name": "ipython",
    "version": 3
   },
   "file_extension": ".py",
   "mimetype": "text/x-python",
   "name": "python",
   "nbconvert_exporter": "python",
   "pygments_lexer": "ipython3",
   "version": "3.8.10"
  }
 },
 "nbformat": 4,
 "nbformat_minor": 5
}
