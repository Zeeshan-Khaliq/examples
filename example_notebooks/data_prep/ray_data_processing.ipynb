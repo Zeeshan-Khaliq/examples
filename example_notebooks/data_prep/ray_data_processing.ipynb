{
 "cells": [
  {
   "cell_type": "code",
   "execution_count": 7,
   "id": "3b99454a",
   "metadata": {},
   "outputs": [
    {
     "name": "stdout",
     "output_type": "stream",
     "text": [
      "\u001b[33mWARNING: The directory '/root/.cache/pip' or its parent directory is not owned or is not writable by the current user. The cache has been disabled. Check the permissions and owner of that directory. If executing pip with sudo, you should use sudo's -H flag.\u001b[0m\n",
      "\u001b[33mWARNING: Running pip as the 'root' user can result in broken permissions and conflicting behaviour with the system package manager. It is recommended to use a virtual environment instead: https://pip.pypa.io/warnings/venv\u001b[0m\n",
      "\u001b[33mWARNING: The directory '/root/.cache/pip' or its parent directory is not owned or is not writable by the current user. The cache has been disabled. Check the permissions and owner of that directory. If executing pip with sudo, you should use sudo's -H flag.\u001b[0m\n",
      "Requirement already satisfied: ray[default] in /opt/conda/lib/python3.8/site-packages (1.5.2)\n",
      "Requirement already satisfied: aiohttp in /opt/conda/lib/python3.8/site-packages (from ray[default]) (3.7.4.post0)\n",
      "Requirement already satisfied: pydantic>=1.8 in /opt/conda/lib/python3.8/site-packages (from ray[default]) (1.8.2)\n",
      "Requirement already satisfied: opencensus in /opt/conda/lib/python3.8/site-packages (from ray[default]) (0.7.13)\n",
      "Requirement already satisfied: msgpack<2.0.0,>=1.0.0 in /opt/conda/lib/python3.8/site-packages (from ray[default]) (1.0.2)\n",
      "Requirement already satisfied: colorama in /opt/conda/lib/python3.8/site-packages (from ray[default]) (0.4.4)\n",
      "Requirement already satisfied: click>=7.0 in /opt/conda/lib/python3.8/site-packages (from ray[default]) (7.1.2)\n",
      "Requirement already satisfied: aiohttp-cors in /opt/conda/lib/python3.8/site-packages (from ray[default]) (0.7.0)\n",
      "Requirement already satisfied: numpy>=1.16 in /opt/conda/lib/python3.8/site-packages (from ray[default]) (1.19.5)\n",
      "Requirement already satisfied: requests in /opt/conda/lib/python3.8/site-packages (from ray[default]) (2.26.0)\n",
      "Requirement already satisfied: protobuf>=3.15.3 in /opt/conda/lib/python3.8/site-packages (from ray[default]) (3.17.3)\n",
      "Requirement already satisfied: aioredis<2 in /opt/conda/lib/python3.8/site-packages (from ray[default]) (1.3.1)\n",
      "Requirement already satisfied: grpcio>=1.28.1 in /opt/conda/lib/python3.8/site-packages (from ray[default]) (1.32.0)\n",
      "Requirement already satisfied: pyyaml in /opt/conda/lib/python3.8/site-packages (from ray[default]) (5.4.1)\n",
      "Requirement already satisfied: gpustat in /opt/conda/lib/python3.8/site-packages (from ray[default]) (0.6.0)\n",
      "Requirement already satisfied: jsonschema in /opt/conda/lib/python3.8/site-packages (from ray[default]) (3.2.0)\n",
      "Requirement already satisfied: redis>=3.5.0 in /opt/conda/lib/python3.8/site-packages (from ray[default]) (3.5.3)\n",
      "Requirement already satisfied: py-spy>=0.2.0 in /opt/conda/lib/python3.8/site-packages (from ray[default]) (0.3.8)\n",
      "Requirement already satisfied: prometheus-client>=0.7.1 in /opt/conda/lib/python3.8/site-packages (from ray[default]) (0.11.0)\n",
      "Requirement already satisfied: filelock in /opt/conda/lib/python3.8/site-packages (from ray[default]) (3.0.12)\n",
      "Collecting colorful\n",
      "  Downloading colorful-0.5.4-py2.py3-none-any.whl (201 kB)\n",
      "\u001b[K     |████████████████████████████████| 201 kB 4.6 MB/s eta 0:00:01\n",
      "\u001b[?25hRequirement already satisfied: hiredis in /opt/conda/lib/python3.8/site-packages (from aioredis<2->ray[default]) (2.0.0)\n",
      "Requirement already satisfied: async-timeout in /opt/conda/lib/python3.8/site-packages (from aioredis<2->ray[default]) (3.0.1)\n",
      "Requirement already satisfied: six>=1.5.2 in /opt/conda/lib/python3.8/site-packages (from grpcio>=1.28.1->ray[default]) (1.16.0)\n",
      "Requirement already satisfied: typing-extensions>=3.7.4.3 in /opt/conda/lib/python3.8/site-packages (from pydantic>=1.8->ray[default]) (3.10.0.0)\n",
      "Requirement already satisfied: attrs>=17.3.0 in /opt/conda/lib/python3.8/site-packages (from aiohttp->ray[default]) (21.2.0)\n",
      "Requirement already satisfied: chardet<5.0,>=2.0 in /opt/conda/lib/python3.8/site-packages (from aiohttp->ray[default]) (4.0.0)\n",
      "Requirement already satisfied: yarl<2.0,>=1.0 in /opt/conda/lib/python3.8/site-packages (from aiohttp->ray[default]) (1.6.3)\n",
      "Requirement already satisfied: multidict<7.0,>=4.5 in /opt/conda/lib/python3.8/site-packages (from aiohttp->ray[default]) (5.1.0)\n",
      "Requirement already satisfied: idna>=2.0 in /opt/conda/lib/python3.8/site-packages (from yarl<2.0,>=1.0->aiohttp->ray[default]) (3.2)\n",
      "Requirement already satisfied: nvidia-ml-py3>=7.352.0 in /opt/conda/lib/python3.8/site-packages (from gpustat->ray[default]) (7.352.0)\n",
      "Requirement already satisfied: psutil in /opt/conda/lib/python3.8/site-packages (from gpustat->ray[default]) (5.8.0)\n",
      "Requirement already satisfied: blessings>=1.6 in /opt/conda/lib/python3.8/site-packages (from gpustat->ray[default]) (1.7)\n",
      "Requirement already satisfied: pyrsistent>=0.14.0 in /opt/conda/lib/python3.8/site-packages (from jsonschema->ray[default]) (0.17.3)\n",
      "Requirement already satisfied: setuptools in /opt/conda/lib/python3.8/site-packages (from jsonschema->ray[default]) (57.4.0)\n",
      "Requirement already satisfied: google-api-core<2.0.0,>=1.0.0 in /opt/conda/lib/python3.8/site-packages (from opencensus->ray[default]) (1.31.2)\n",
      "Requirement already satisfied: opencensus-context==0.1.2 in /opt/conda/lib/python3.8/site-packages (from opencensus->ray[default]) (0.1.2)\n",
      "Requirement already satisfied: pytz in /opt/conda/lib/python3.8/site-packages (from google-api-core<2.0.0,>=1.0.0->opencensus->ray[default]) (2021.1)\n",
      "Requirement already satisfied: googleapis-common-protos<2.0dev,>=1.6.0 in /opt/conda/lib/python3.8/site-packages (from google-api-core<2.0.0,>=1.0.0->opencensus->ray[default]) (1.53.0)\n",
      "Requirement already satisfied: packaging>=14.3 in /opt/conda/lib/python3.8/site-packages (from google-api-core<2.0.0,>=1.0.0->opencensus->ray[default]) (21.0)\n",
      "Collecting google-auth<2.0dev,>=1.25.0\n",
      "  Downloading google_auth-1.35.0-py2.py3-none-any.whl (152 kB)\n",
      "\u001b[K     |████████████████████████████████| 152 kB 75.6 MB/s eta 0:00:01\n",
      "\u001b[?25hRequirement already satisfied: pyasn1-modules>=0.2.1 in /opt/conda/lib/python3.8/site-packages (from google-auth<2.0dev,>=1.25.0->google-api-core<2.0.0,>=1.0.0->opencensus->ray[default]) (0.2.8)\n",
      "Requirement already satisfied: rsa<5,>=3.1.4 in /opt/conda/lib/python3.8/site-packages (from google-auth<2.0dev,>=1.25.0->google-api-core<2.0.0,>=1.0.0->opencensus->ray[default]) (4.7.2)\n",
      "Requirement already satisfied: cachetools<5.0,>=2.0.0 in /opt/conda/lib/python3.8/site-packages (from google-auth<2.0dev,>=1.25.0->google-api-core<2.0.0,>=1.0.0->opencensus->ray[default]) (4.2.2)\n",
      "Requirement already satisfied: pyparsing>=2.0.2 in /opt/conda/lib/python3.8/site-packages (from packaging>=14.3->google-api-core<2.0.0,>=1.0.0->opencensus->ray[default]) (2.4.7)\n",
      "Requirement already satisfied: pyasn1<0.5.0,>=0.4.6 in /opt/conda/lib/python3.8/site-packages (from pyasn1-modules>=0.2.1->google-auth<2.0dev,>=1.25.0->google-api-core<2.0.0,>=1.0.0->opencensus->ray[default]) (0.4.8)\n",
      "Requirement already satisfied: certifi>=2017.4.17 in /opt/conda/lib/python3.8/site-packages (from requests->ray[default]) (2021.5.30)\n",
      "Requirement already satisfied: urllib3<1.27,>=1.21.1 in /opt/conda/lib/python3.8/site-packages (from requests->ray[default]) (1.26.6)\n",
      "Requirement already satisfied: charset-normalizer~=2.0.0 in /opt/conda/lib/python3.8/site-packages (from requests->ray[default]) (2.0.4)\n",
      "Installing collected packages: google-auth, colorful\n",
      "  Attempting uninstall: google-auth\n",
      "    Found existing installation: google-auth 2.0.1\n",
      "    Uninstalling google-auth-2.0.1:\n",
      "      Successfully uninstalled google-auth-2.0.1\n",
      "Successfully installed colorful-0.5.4 google-auth-1.35.0\n",
      "\u001b[33mWARNING: Running pip as the 'root' user can result in broken permissions and conflicting behaviour with the system package manager. It is recommended to use a virtual environment instead: https://pip.pypa.io/warnings/venv\u001b[0m\n"
     ]
    }
   ],
   "source": [
    "!pip install pandas==1.3.1 --quiet\n",
    "!pip install 'ray[default]'\n"
   ]
  },
  {
   "cell_type": "code",
   "execution_count": 1,
   "id": "36dc9665",
   "metadata": {},
   "outputs": [
    {
     "name": "stdout",
     "output_type": "stream",
     "text": [
      "ray version 1.5.2\n",
      "pandas version 1.3.1\n"
     ]
    }
   ],
   "source": [
    "import pandas as pd\n",
    "import ray\n",
    "print(f'ray version {ray.__version__}')\n",
    "print(f'pandas version {pd.__version__}')"
   ]
  },
  {
   "cell_type": "code",
   "execution_count": 2,
   "id": "f3e4662b",
   "metadata": {},
   "outputs": [
    {
     "name": "stderr",
     "output_type": "stream",
     "text": [
      "2021-08-22 04:37:01,509\tINFO services.py:1245 -- View the Ray dashboard at \u001b[1m\u001b[32mhttp://127.0.0.1:8265\u001b[39m\u001b[22m\n",
      "2021-08-22 04:37:01,514\tWARNING services.py:1706 -- WARNING: The object store is using /tmp instead of /dev/shm because /dev/shm has only 67108864 bytes available. This will harm performance! You may be able to free up space by deleting files in /dev/shm. If you are inside a Docker container, you can increase /dev/shm size by passing '--shm-size=2.29gb' to 'docker run' (or add it to the run_options list in a Ray cluster config). Make sure to set this to more than 30% of available RAM.\n"
     ]
    },
    {
     "data": {
      "text/plain": [
       "{'node_ip_address': '10.1.86.2',\n",
       " 'raylet_ip_address': '10.1.86.2',\n",
       " 'redis_address': '10.1.86.2:6379',\n",
       " 'object_store_address': '/tmp/ray/session_2021-08-22_04-36-59_407257_1448/sockets/plasma_store',\n",
       " 'raylet_socket_name': '/tmp/ray/session_2021-08-22_04-36-59_407257_1448/sockets/raylet',\n",
       " 'webui_url': '127.0.0.1:8265',\n",
       " 'session_dir': '/tmp/ray/session_2021-08-22_04-36-59_407257_1448',\n",
       " 'metrics_export_port': 64862,\n",
       " 'node_id': '9446f47e8221c356577cc33660ab282edecc4333493f657f3f06f04a'}"
      ]
     },
     "execution_count": 2,
     "metadata": {},
     "output_type": "execute_result"
    }
   ],
   "source": [
    "## change this to the head node ip \n",
    "\n",
    "# ray.init(\"ray://10.3.241.2:10001\")\n",
    "ray.init()\n"
   ]
  },
  {
   "cell_type": "code",
   "execution_count": 3,
   "id": "6f4dabaf",
   "metadata": {},
   "outputs": [
    {
     "name": "stdout",
     "output_type": "stream",
     "text": [
      "[0, 1, 4, 9]\n"
     ]
    }
   ],
   "source": [
    "@ray.remote\n",
    "def f(x):\n",
    "    return x * x\n",
    "\n",
    "futures = [f.remote(i) for i in range(4)]\n",
    "print(ray.get(futures)) # [0, 1, 4, 9]"
   ]
  },
  {
   "cell_type": "code",
   "execution_count": 4,
   "id": "4b668688",
   "metadata": {},
   "outputs": [
    {
     "name": "stderr",
     "output_type": "stream",
     "text": [
      "2021-08-22 04:37:12,563\tWARNING worker.py:1189 -- WARNING: 3 PYTHON workers have been started on a node of the id: 9446f47e8221c356577cc33660ab282edecc4333493f657f3f06f04a and address: 10.1.86.2. This could be a result of using a large number of actors, or it could be a consequence of using nested tasks (see https://github.com/ray-project/ray/issues/3644) for some a discussion of workarounds.\n",
      "2021-08-22 04:37:13,108\tWARNING worker.py:1189 -- WARNING: 4 PYTHON workers have been started on a node of the id: 9446f47e8221c356577cc33660ab282edecc4333493f657f3f06f04a and address: 10.1.86.2. This could be a result of using a large number of actors, or it could be a consequence of using nested tasks (see https://github.com/ray-project/ray/issues/3644) for some a discussion of workarounds.\n"
     ]
    },
    {
     "name": "stdout",
     "output_type": "stream",
     "text": [
      "[1, 1, 1, 1]\n"
     ]
    }
   ],
   "source": [
    "@ray.remote\n",
    "class Counter(object):\n",
    "    def __init__(self):\n",
    "        self.n = 0\n",
    "\n",
    "    def increment(self):\n",
    "        self.n += 1\n",
    "\n",
    "    def read(self):\n",
    "        return self.n\n",
    "\n",
    "counters = [Counter.remote() for i in range(4)]\n",
    "[c.increment.remote() for c in counters]\n",
    "futures = [c.read.remote() for c in counters]\n",
    "print(ray.get(futures)) # [1, 1, 1, 1]"
   ]
  },
  {
   "cell_type": "code",
   "execution_count": 5,
   "id": "c729074e",
   "metadata": {},
   "outputs": [
    {
     "name": "stderr",
     "output_type": "stream",
     "text": [
      "2021-08-22 04:37:13,734\tWARNING worker.py:1189 -- WARNING: 5 PYTHON workers have been started on a node of the id: 9446f47e8221c356577cc33660ab282edecc4333493f657f3f06f04a and address: 10.1.86.2. This could be a result of using a large number of actors, or it could be a consequence of using nested tasks (see https://github.com/ray-project/ray/issues/3644) for some a discussion of workarounds.\n"
     ]
    },
    {
     "name": "stdout",
     "output_type": "stream",
     "text": [
      "duration = 4.6006152629852295\n",
      "results =  [0, 1, 2, 3]\n"
     ]
    }
   ],
   "source": [
    "import time\n",
    "@ray.remote\n",
    "def do_some_work(x):\n",
    "    time.sleep(1) # Replace this is with work you need to do.\n",
    "    return x\n",
    "\n",
    "start = time.time()\n",
    "results = ray.get([do_some_work.remote(x) for x in range(4)])\n",
    "print(\"duration =\", time.time() - start)\n",
    "print(\"results = \", results)"
   ]
  },
  {
   "cell_type": "code",
   "execution_count": 6,
   "id": "ac443011",
   "metadata": {},
   "outputs": [
    {
     "name": "stdout",
     "output_type": "stream",
     "text": [
      "duration = 18.31840491294861\n"
     ]
    }
   ],
   "source": [
    "def tiny_work(x):\n",
    "    time.sleep(0.0001) # replace this is with work you need to do\n",
    "    return x\n",
    "\n",
    "@ray.remote\n",
    "def mega_work(start, end):\n",
    "    return [tiny_work(x) for x in range(start, end)]\n",
    "\n",
    "start = time.time()\n",
    "result_ids = []\n",
    "[result_ids.append(mega_work.remote(x*1000, (x+1)*1000)) for x in range(100)]\n",
    "results = ray.get(result_ids)\n",
    "print(\"duration =\", time.time() - start)"
   ]
  },
  {
   "cell_type": "markdown",
   "id": "27b6df4f",
   "metadata": {},
   "source": [
    "## check overhead of no work"
   ]
  },
  {
   "cell_type": "code",
   "execution_count": 7,
   "id": "29ff4ef8",
   "metadata": {},
   "outputs": [
    {
     "name": "stdout",
     "output_type": "stream",
     "text": [
      "per task overhead (ms) = 2.185699701309204\n"
     ]
    }
   ],
   "source": [
    "@ray.remote\n",
    "def no_work(x):\n",
    "    return x\n",
    "\n",
    "start = time.time()\n",
    "num_calls = 1000\n",
    "[ray.get(no_work.remote(x)) for x in range(num_calls)]\n",
    "print(\"per task overhead (ms) =\", (time.time() - start)*1000/num_calls)\n"
   ]
  },
  {
   "cell_type": "markdown",
   "id": "a3508202",
   "metadata": {},
   "source": [
    "## pass large data by reference id"
   ]
  },
  {
   "cell_type": "code",
   "execution_count": 10,
   "id": "aa9ac80e",
   "metadata": {},
   "outputs": [
    {
     "name": "stdout",
     "output_type": "stream",
     "text": [
      "duration = 2.2644155025482178\n"
     ]
    }
   ],
   "source": [
    "@ray.remote\n",
    "def no_work(a):\n",
    "    return\n",
    "\n",
    "import numpy as np\n",
    "start = time.time()\n",
    "a = np.zeros((5000, 5000))\n",
    "result_ids = [no_work.remote(a) for x in range(10)]\n",
    "results = ray.get(result_ids)\n",
    "print(\"duration =\", time.time() - start)"
   ]
  },
  {
   "cell_type": "code",
   "execution_count": 11,
   "id": "dcd8962c",
   "metadata": {},
   "outputs": [
    {
     "name": "stdout",
     "output_type": "stream",
     "text": [
      "duration = 0.6708011627197266\n"
     ]
    }
   ],
   "source": [
    "start = time.time()\n",
    "a_id = ray.put(np.zeros((5000, 5000)))\n",
    "result_ids = [no_work.remote(a_id) for x in range(10)]\n",
    "results = ray.get(result_ids)\n",
    "print(\"duration =\", time.time() - start)"
   ]
  },
  {
   "cell_type": "markdown",
   "id": "d10c4ae3",
   "metadata": {},
   "source": [
    "## use ray.wait to process data as soon as it's ready"
   ]
  },
  {
   "cell_type": "code",
   "execution_count": 13,
   "id": "bc2da3ed",
   "metadata": {},
   "outputs": [
    {
     "name": "stdout",
     "output_type": "stream",
     "text": [
      "duration = 14.641751527786255 \n",
      "result =  6\n"
     ]
    }
   ],
   "source": [
    "## don't do this\n",
    "import random\n",
    "\n",
    "@ray.remote\n",
    "def do_some_work(x):\n",
    "    time.sleep(random.uniform(0, 4)) # Replace this with work you need to do.\n",
    "    return x\n",
    "\n",
    "def process_results(results):\n",
    "    sum = 0\n",
    "    for x in results:\n",
    "        time.sleep(1) # Replace this with some processing code.\n",
    "        sum += x\n",
    "    return sum\n",
    "\n",
    "start = time.time()\n",
    "data_list = ray.get([do_some_work.remote(x) for x in range(4)])\n",
    "sum = process_results(data_list)\n",
    "print(\"duration =\", time.time() - start, \"\\nresult = \", sum)"
   ]
  },
  {
   "cell_type": "code",
   "execution_count": 14,
   "id": "e7db7bf7",
   "metadata": {},
   "outputs": [
    {
     "name": "stdout",
     "output_type": "stream",
     "text": [
      "duration = 13.566273927688599 \n",
      "result =  6\n"
     ]
    }
   ],
   "source": [
    "@ray.remote\n",
    "def do_some_work(x):\n",
    "    time.sleep(random.uniform(0, 4)) # Replace this is with work you need to do.\n",
    "    return x\n",
    "\n",
    "def process_incremental(sum, result):\n",
    "    time.sleep(1) # Replace this with some processing code.\n",
    "    return sum + result\n",
    "\n",
    "start = time.time()\n",
    "result_ids = [do_some_work.remote(x) for x in range(4)]\n",
    "sum = 0\n",
    "while len(result_ids):\n",
    "    done_id, result_ids = ray.wait(result_ids)\n",
    "    sum = process_incremental(sum, ray.get(done_id[0]))\n",
    "print(\"duration =\", time.time() - start, \"\\nresult = \", sum)"
   ]
  },
  {
   "cell_type": "code",
   "execution_count": 2,
   "id": "3dbdccfa",
   "metadata": {},
   "outputs": [
    {
     "name": "stdout",
     "output_type": "stream",
     "text": [
      "\u001b[33mWARNING: The directory '/root/.cache/pip' or its parent directory is not owned or is not writable by the current user. The cache has been disabled. Check the permissions and owner of that directory. If executing pip with sudo, you should use sudo's -H flag.\u001b[0m\n",
      "Requirement already satisfied: ray[default] in /opt/conda/lib/python3.8/site-packages (1.5.2)\n",
      "Requirement already satisfied: pydantic>=1.8 in /opt/conda/lib/python3.8/site-packages (from ray[default]) (1.8.2)\n",
      "Requirement already satisfied: filelock in /opt/conda/lib/python3.8/site-packages (from ray[default]) (3.0.12)\n",
      "Requirement already satisfied: redis>=3.5.0 in /opt/conda/lib/python3.8/site-packages (from ray[default]) (3.5.3)\n",
      "Requirement already satisfied: gpustat in /opt/conda/lib/python3.8/site-packages (from ray[default]) (0.6.0)\n",
      "Requirement already satisfied: py-spy>=0.2.0 in /opt/conda/lib/python3.8/site-packages (from ray[default]) (0.3.8)\n",
      "Requirement already satisfied: aiohttp-cors in /opt/conda/lib/python3.8/site-packages (from ray[default]) (0.7.0)\n",
      "Requirement already satisfied: msgpack<2.0.0,>=1.0.0 in /opt/conda/lib/python3.8/site-packages (from ray[default]) (1.0.2)\n",
      "Requirement already satisfied: aiohttp in /opt/conda/lib/python3.8/site-packages (from ray[default]) (3.7.4.post0)\n",
      "Requirement already satisfied: pyyaml in /opt/conda/lib/python3.8/site-packages (from ray[default]) (5.4.1)\n",
      "Requirement already satisfied: grpcio>=1.28.1 in /opt/conda/lib/python3.8/site-packages (from ray[default]) (1.32.0)\n",
      "Requirement already satisfied: protobuf>=3.15.3 in /opt/conda/lib/python3.8/site-packages (from ray[default]) (3.17.3)\n",
      "Requirement already satisfied: aioredis<2 in /opt/conda/lib/python3.8/site-packages (from ray[default]) (1.3.1)\n",
      "Requirement already satisfied: jsonschema in /opt/conda/lib/python3.8/site-packages (from ray[default]) (3.2.0)\n",
      "Requirement already satisfied: opencensus in /opt/conda/lib/python3.8/site-packages (from ray[default]) (0.7.13)\n",
      "Requirement already satisfied: numpy>=1.16 in /opt/conda/lib/python3.8/site-packages (from ray[default]) (1.19.5)\n",
      "Requirement already satisfied: requests in /opt/conda/lib/python3.8/site-packages (from ray[default]) (2.26.0)\n",
      "Requirement already satisfied: prometheus-client>=0.7.1 in /opt/conda/lib/python3.8/site-packages (from ray[default]) (0.11.0)\n",
      "Requirement already satisfied: colorama in /opt/conda/lib/python3.8/site-packages (from ray[default]) (0.4.4)\n",
      "Requirement already satisfied: click>=7.0 in /opt/conda/lib/python3.8/site-packages (from ray[default]) (7.1.2)\n",
      "Collecting colorful\n",
      "  Downloading colorful-0.5.4-py2.py3-none-any.whl (201 kB)\n",
      "\u001b[K     |████████████████████████████████| 201 kB 4.4 MB/s eta 0:00:01\n",
      "\u001b[?25hRequirement already satisfied: hiredis in /opt/conda/lib/python3.8/site-packages (from aioredis<2->ray[default]) (2.0.0)\n",
      "Requirement already satisfied: async-timeout in /opt/conda/lib/python3.8/site-packages (from aioredis<2->ray[default]) (3.0.1)\n",
      "Requirement already satisfied: six>=1.5.2 in /opt/conda/lib/python3.8/site-packages (from grpcio>=1.28.1->ray[default]) (1.16.0)\n",
      "Requirement already satisfied: typing-extensions>=3.7.4.3 in /opt/conda/lib/python3.8/site-packages (from pydantic>=1.8->ray[default]) (3.10.0.0)\n",
      "Requirement already satisfied: attrs>=17.3.0 in /opt/conda/lib/python3.8/site-packages (from aiohttp->ray[default]) (21.2.0)\n",
      "Requirement already satisfied: multidict<7.0,>=4.5 in /opt/conda/lib/python3.8/site-packages (from aiohttp->ray[default]) (5.1.0)\n",
      "Requirement already satisfied: yarl<2.0,>=1.0 in /opt/conda/lib/python3.8/site-packages (from aiohttp->ray[default]) (1.6.3)\n",
      "Requirement already satisfied: chardet<5.0,>=2.0 in /opt/conda/lib/python3.8/site-packages (from aiohttp->ray[default]) (4.0.0)\n",
      "Requirement already satisfied: idna>=2.0 in /opt/conda/lib/python3.8/site-packages (from yarl<2.0,>=1.0->aiohttp->ray[default]) (3.2)\n",
      "Requirement already satisfied: blessings>=1.6 in /opt/conda/lib/python3.8/site-packages (from gpustat->ray[default]) (1.7)\n",
      "Requirement already satisfied: psutil in /opt/conda/lib/python3.8/site-packages (from gpustat->ray[default]) (5.8.0)\n",
      "Requirement already satisfied: nvidia-ml-py3>=7.352.0 in /opt/conda/lib/python3.8/site-packages (from gpustat->ray[default]) (7.352.0)\n",
      "Requirement already satisfied: setuptools in /opt/conda/lib/python3.8/site-packages (from jsonschema->ray[default]) (57.4.0)\n",
      "Requirement already satisfied: pyrsistent>=0.14.0 in /opt/conda/lib/python3.8/site-packages (from jsonschema->ray[default]) (0.17.3)\n",
      "Requirement already satisfied: opencensus-context==0.1.2 in /opt/conda/lib/python3.8/site-packages (from opencensus->ray[default]) (0.1.2)\n",
      "Requirement already satisfied: google-api-core<2.0.0,>=1.0.0 in /opt/conda/lib/python3.8/site-packages (from opencensus->ray[default]) (1.31.2)\n",
      "Requirement already satisfied: packaging>=14.3 in /opt/conda/lib/python3.8/site-packages (from google-api-core<2.0.0,>=1.0.0->opencensus->ray[default]) (21.0)\n",
      "Requirement already satisfied: pytz in /opt/conda/lib/python3.8/site-packages (from google-api-core<2.0.0,>=1.0.0->opencensus->ray[default]) (2021.1)\n",
      "Collecting google-auth<2.0dev,>=1.25.0\n",
      "  Downloading google_auth-1.35.0-py2.py3-none-any.whl (152 kB)\n",
      "\u001b[K     |████████████████████████████████| 152 kB 52.7 MB/s eta 0:00:01\n",
      "\u001b[?25hRequirement already satisfied: googleapis-common-protos<2.0dev,>=1.6.0 in /opt/conda/lib/python3.8/site-packages (from google-api-core<2.0.0,>=1.0.0->opencensus->ray[default]) (1.53.0)\n",
      "Requirement already satisfied: rsa<5,>=3.1.4 in /opt/conda/lib/python3.8/site-packages (from google-auth<2.0dev,>=1.25.0->google-api-core<2.0.0,>=1.0.0->opencensus->ray[default]) (4.7.2)\n",
      "Requirement already satisfied: pyasn1-modules>=0.2.1 in /opt/conda/lib/python3.8/site-packages (from google-auth<2.0dev,>=1.25.0->google-api-core<2.0.0,>=1.0.0->opencensus->ray[default]) (0.2.8)\n",
      "Requirement already satisfied: cachetools<5.0,>=2.0.0 in /opt/conda/lib/python3.8/site-packages (from google-auth<2.0dev,>=1.25.0->google-api-core<2.0.0,>=1.0.0->opencensus->ray[default]) (4.2.2)\n",
      "Requirement already satisfied: pyparsing>=2.0.2 in /opt/conda/lib/python3.8/site-packages (from packaging>=14.3->google-api-core<2.0.0,>=1.0.0->opencensus->ray[default]) (2.4.7)\n",
      "Requirement already satisfied: pyasn1<0.5.0,>=0.4.6 in /opt/conda/lib/python3.8/site-packages (from pyasn1-modules>=0.2.1->google-auth<2.0dev,>=1.25.0->google-api-core<2.0.0,>=1.0.0->opencensus->ray[default]) (0.4.8)\n",
      "Requirement already satisfied: certifi>=2017.4.17 in /opt/conda/lib/python3.8/site-packages (from requests->ray[default]) (2021.5.30)\n",
      "Requirement already satisfied: urllib3<1.27,>=1.21.1 in /opt/conda/lib/python3.8/site-packages (from requests->ray[default]) (1.26.6)\n",
      "Requirement already satisfied: charset-normalizer~=2.0.0 in /opt/conda/lib/python3.8/site-packages (from requests->ray[default]) (2.0.4)\n",
      "Installing collected packages: google-auth, colorful\n",
      "  Attempting uninstall: google-auth\n",
      "    Found existing installation: google-auth 2.0.1\n",
      "    Uninstalling google-auth-2.0.1:\n",
      "      Successfully uninstalled google-auth-2.0.1\n",
      "Successfully installed colorful-0.5.4 google-auth-1.35.0\n",
      "\u001b[33mWARNING: Running pip as the 'root' user can result in broken permissions and conflicting behaviour with the system package manager. It is recommended to use a virtual environment instead: https://pip.pypa.io/warnings/venv\u001b[0m\n"
     ]
    }
   ],
   "source": [
    "!pip install 'ray[default]'"
   ]
  },
  {
   "cell_type": "code",
   "execution_count": 3,
   "id": "0c1eb52d",
   "metadata": {},
   "outputs": [],
   "source": [
    "import ray\n",
    "from ray.util.dask import ray_dask_get\n",
    "import dask\n",
    "import dask.array as da\n",
    "import dask.dataframe as dd\n",
    "import numpy as np\n",
    "import pandas as pd"
   ]
  },
  {
   "cell_type": "code",
   "execution_count": 4,
   "id": "07a11d7b",
   "metadata": {},
   "outputs": [
    {
     "name": "stderr",
     "output_type": "stream",
     "text": [
      "2021-08-22 19:04:55,977\tINFO services.py:1245 -- View the Ray dashboard at \u001b[1m\u001b[32mhttp://127.0.0.1:8265\u001b[39m\u001b[22m\n",
      "2021-08-22 19:04:55,981\tWARNING services.py:1706 -- WARNING: The object store is using /tmp instead of /dev/shm because /dev/shm has only 67108864 bytes available. This will harm performance! You may be able to free up space by deleting files in /dev/shm. If you are inside a Docker container, you can increase /dev/shm size by passing '--shm-size=2.06gb' to 'docker run' (or add it to the run_options list in a Ray cluster config). Make sure to set this to more than 30% of available RAM.\n"
     ]
    },
    {
     "data": {
      "text/plain": [
       "{'node_ip_address': '10.1.103.2',\n",
       " 'raylet_ip_address': '10.1.103.2',\n",
       " 'redis_address': '10.1.103.2:6379',\n",
       " 'object_store_address': '/tmp/ray/session_2021-08-22_19-04-51_748685_71/sockets/plasma_store',\n",
       " 'raylet_socket_name': '/tmp/ray/session_2021-08-22_19-04-51_748685_71/sockets/raylet',\n",
       " 'webui_url': '127.0.0.1:8265',\n",
       " 'session_dir': '/tmp/ray/session_2021-08-22_19-04-51_748685_71',\n",
       " 'metrics_export_port': 64140,\n",
       " 'node_id': '7afdb126790f3c0978b01bb0280df49cdaf9de2647ecb264cca49a1a'}"
      ]
     },
     "execution_count": 4,
     "metadata": {},
     "output_type": "execute_result"
    }
   ],
   "source": [
    "ray.init()"
   ]
  },
  {
   "cell_type": "code",
   "execution_count": 6,
   "id": "d7db1a59",
   "metadata": {},
   "outputs": [],
   "source": [
    "d_arr = da.from_array(np.random.randint(0, 1000, size=(256, 256)))"
   ]
  },
  {
   "cell_type": "code",
   "execution_count": 7,
   "id": "8489e9fa",
   "metadata": {},
   "outputs": [
    {
     "data": {
      "text/plain": [
       "498.50010681152344"
      ]
     },
     "execution_count": 7,
     "metadata": {},
     "output_type": "execute_result"
    }
   ],
   "source": [
    "# The Dask scheduler submits the underlying task graph to Ray.\n",
    "d_arr.mean().compute(scheduler=ray_dask_get)"
   ]
  },
  {
   "cell_type": "code",
   "execution_count": 8,
   "id": "83226041",
   "metadata": {},
   "outputs": [
    {
     "data": {
      "text/plain": [
       "<dask.config.set at 0x7f101acf1700>"
      ]
     },
     "execution_count": 8,
     "metadata": {},
     "output_type": "execute_result"
    }
   ],
   "source": [
    "# Set the scheduler to ray_dask_get in your config so you don't have to\n",
    "# specify it on each compute call.\n",
    "dask.config.set(scheduler=ray_dask_get)"
   ]
  },
  {
   "cell_type": "code",
   "execution_count": 9,
   "id": "52a5426d",
   "metadata": {},
   "outputs": [
    {
     "data": {
      "text/html": [
       "<div>\n",
       "<style scoped>\n",
       "    .dataframe tbody tr th:only-of-type {\n",
       "        vertical-align: middle;\n",
       "    }\n",
       "\n",
       "    .dataframe tbody tr th {\n",
       "        vertical-align: top;\n",
       "    }\n",
       "\n",
       "    .dataframe thead th {\n",
       "        text-align: right;\n",
       "    }\n",
       "</style>\n",
       "<table border=\"1\" class=\"dataframe\">\n",
       "  <thead>\n",
       "    <tr style=\"text-align: right;\">\n",
       "      <th></th>\n",
       "      <th>grade</th>\n",
       "    </tr>\n",
       "    <tr>\n",
       "      <th>age</th>\n",
       "      <th></th>\n",
       "    </tr>\n",
       "  </thead>\n",
       "  <tbody>\n",
       "    <tr>\n",
       "      <th>0</th>\n",
       "      <td>48.777778</td>\n",
       "    </tr>\n",
       "    <tr>\n",
       "      <th>1</th>\n",
       "      <td>65.625000</td>\n",
       "    </tr>\n",
       "    <tr>\n",
       "      <th>2</th>\n",
       "      <td>43.875000</td>\n",
       "    </tr>\n",
       "    <tr>\n",
       "      <th>3</th>\n",
       "      <td>45.000000</td>\n",
       "    </tr>\n",
       "    <tr>\n",
       "      <th>4</th>\n",
       "      <td>52.733333</td>\n",
       "    </tr>\n",
       "    <tr>\n",
       "      <th>...</th>\n",
       "      <td>...</td>\n",
       "    </tr>\n",
       "    <tr>\n",
       "      <th>95</th>\n",
       "      <td>48.125000</td>\n",
       "    </tr>\n",
       "    <tr>\n",
       "      <th>96</th>\n",
       "      <td>66.375000</td>\n",
       "    </tr>\n",
       "    <tr>\n",
       "      <th>97</th>\n",
       "      <td>53.928571</td>\n",
       "    </tr>\n",
       "    <tr>\n",
       "      <th>98</th>\n",
       "      <td>53.153846</td>\n",
       "    </tr>\n",
       "    <tr>\n",
       "      <th>99</th>\n",
       "      <td>64.300000</td>\n",
       "    </tr>\n",
       "  </tbody>\n",
       "</table>\n",
       "<p>100 rows × 1 columns</p>\n",
       "</div>"
      ],
      "text/plain": [
       "         grade\n",
       "age           \n",
       "0    48.777778\n",
       "1    65.625000\n",
       "2    43.875000\n",
       "3    45.000000\n",
       "4    52.733333\n",
       "..         ...\n",
       "95   48.125000\n",
       "96   66.375000\n",
       "97   53.928571\n",
       "98   53.153846\n",
       "99   64.300000\n",
       "\n",
       "[100 rows x 1 columns]"
      ]
     },
     "execution_count": 9,
     "metadata": {},
     "output_type": "execute_result"
    }
   ],
   "source": [
    "df = dd.from_pandas(\n",
    "    pd.DataFrame(\n",
    "        np.random.randint(0, 100, size=(1024, 2)), columns=[\"age\", \"grade\"]),\n",
    "    npartitions=2)\n",
    "df.groupby([\"age\"]).mean().compute()"
   ]
  },
  {
   "cell_type": "code",
   "execution_count": 10,
   "id": "7f512e30",
   "metadata": {},
   "outputs": [],
   "source": [
    "ray.shutdown()"
   ]
  },
  {
   "cell_type": "code",
   "execution_count": null,
   "id": "29b7c530",
   "metadata": {},
   "outputs": [],
   "source": []
  }
 ],
 "metadata": {
  "kernelspec": {
   "display_name": "Python [conda env:root] *",
   "language": "python",
   "name": "conda-root-py"
  },
  "language_info": {
   "codemirror_mode": {
    "name": "ipython",
    "version": 3
   },
   "file_extension": ".py",
   "mimetype": "text/x-python",
   "name": "python",
   "nbconvert_exporter": "python",
   "pygments_lexer": "ipython3",
   "version": "3.8.11"
  }
 },
 "nbformat": 4,
 "nbformat_minor": 5
}
