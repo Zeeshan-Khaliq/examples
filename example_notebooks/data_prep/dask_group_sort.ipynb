{
 "cells": [
  {
   "cell_type": "markdown",
   "id": "3176e96a",
   "metadata": {},
   "source": [
    "## Demo easy groupby and sorting with hyperplane "
   ]
  },
  {
   "cell_type": "code",
   "execution_count": 1,
   "id": "19f9fb52",
   "metadata": {},
   "outputs": [],
   "source": [
    "# !pip install s3fs"
   ]
  },
  {
   "cell_type": "code",
   "execution_count": 1,
   "id": "c85709d7",
   "metadata": {},
   "outputs": [],
   "source": [
    "import warnings\n",
    "import os\n",
    "import sys\n",
    "import pandas as pd\n",
    "import numpy as np\n",
    "import dask\n",
    "import dask.dataframe as dd\n",
    "from dask.distributed import Client\n",
    "from typing import List, Set, Dict, Tuple, Optional\n",
    "import types\n",
    "from google.cloud import storage\n",
    "from tqdm.notebook import tqdm\n",
    "\n",
    "import matplotlib\n",
    "matplotlib.use('Agg')\n",
    "import matplotlib.pyplot as plt \n",
    "%matplotlib inline\n",
    "\n",
    "pd.options.display.max_rows = 999\n",
    "warnings.filterwarnings('ignore')\n",
    "\n",
    "from hyperplane import notebook_common as nc"
   ]
  },
  {
   "cell_type": "markdown",
   "id": "266a3e16",
   "metadata": {},
   "source": [
    "#### Below the magic cell to set parameters that can be passed in through pipeline jobs\n",
    "Later when this notebook is used in a production pipeline, the variables set in this cell can be changed to something else, by adding this like to the graphql query\n",
    "\n",
    "`\n",
    "parameters: {create: {key: \"data_url\", value: \"some_other_data_url\"}}\n",
    "`\n"
   ]
  },
  {
   "cell_type": "code",
   "execution_count": 3,
   "id": "cd877d85",
   "metadata": {
    "tags": [
     "parameter"
    ]
   },
   "outputs": [],
   "source": [
    "data_url = \"s3://dask-data/airline-data\""
   ]
  },
  {
   "cell_type": "markdown",
   "id": "e7c70ce8",
   "metadata": {},
   "source": [
    "#### Below is the one liner to scale up the job to kubernetes"
   ]
  },
  {
   "cell_type": "code",
   "execution_count": 4,
   "id": "d7909b01",
   "metadata": {},
   "outputs": [
    {
     "name": "stdout",
     "output_type": "stream",
     "text": [
      "👉 Hyperplane: selecting worker node pool\n",
      "👉 Hyperplane: selecting scheduler node pool\n",
      "Creating scheduler pod on cluster. This may take some time.\n",
      "👉 Hyperplane: spinning up a dask cluster with a scheduler as a standalone container.\n",
      "👉 Hyperplane: In a few minutes you'll be able to access the dashboard at https://ds.hyperplane.dev/dask-cluster-abaf4d2e-0314-40e3-a134-e20c5d42357a/status\n",
      "👉 Hyperplane: to get logs from all workers, do `cluster.get_logs()`\n"
     ]
    }
   ],
   "source": [
    "client, cluster = nc.initialize_cluster(\n",
    "        nprocs=1,\n",
    "        nthreads=15,\n",
    "        ram_gb_per_proc=12,\n",
    "        cores_per_worker=15,\n",
    "        scheduler_deploy_mode=\"remote\",\n",
    "        num_workers = 3\n",
    "    )\n"
   ]
  },
  {
   "cell_type": "code",
   "execution_count": 5,
   "id": "a24f1586",
   "metadata": {},
   "outputs": [
    {
     "data": {
      "text/plain": [
       "{'tcp://10.1.101.10:46191': 0,\n",
       " 'tcp://10.1.102.9:39851': 0,\n",
       " 'tcp://10.1.103.7:38527': 0}"
      ]
     },
     "execution_count": 5,
     "metadata": {},
     "output_type": "execute_result"
    }
   ],
   "source": [
    "## install any necessary custom packages on the remote node image \n",
    "def install_package_on_remote():\n",
    "    import os\n",
    "    return os.system(\"pip install s3fs\")\n",
    "client.run(install_package_on_remote)"
   ]
  },
  {
   "cell_type": "code",
   "execution_count": 6,
   "id": "cd92a349",
   "metadata": {},
   "outputs": [
    {
     "name": "stdout",
     "output_type": "stream",
     "text": [
      "number of rows, 123534969\n",
      "total size 5.522466823458672 G\n",
      "CPU times: user 771 ms, sys: 96.4 ms, total: 867 ms\n",
      "Wall time: 1min 37s\n"
     ]
    },
    {
     "data": {
      "text/html": [
       "<div>\n",
       "<style scoped>\n",
       "    .dataframe tbody tr th:only-of-type {\n",
       "        vertical-align: middle;\n",
       "    }\n",
       "\n",
       "    .dataframe tbody tr th {\n",
       "        vertical-align: top;\n",
       "    }\n",
       "\n",
       "    .dataframe thead th {\n",
       "        text-align: right;\n",
       "    }\n",
       "</style>\n",
       "<table border=\"1\" class=\"dataframe\">\n",
       "  <thead>\n",
       "    <tr style=\"text-align: right;\">\n",
       "      <th></th>\n",
       "      <th>DepTime</th>\n",
       "      <th>FlightNum</th>\n",
       "      <th>DepDelay</th>\n",
       "      <th>Origin</th>\n",
       "      <th>Dest</th>\n",
       "      <th>Distance</th>\n",
       "    </tr>\n",
       "  </thead>\n",
       "  <tbody>\n",
       "    <tr>\n",
       "      <th>0</th>\n",
       "      <td>741.0</td>\n",
       "      <td>1451</td>\n",
       "      <td>11.0</td>\n",
       "      <td>SAN</td>\n",
       "      <td>SFO</td>\n",
       "      <td>447.0</td>\n",
       "    </tr>\n",
       "    <tr>\n",
       "      <th>1</th>\n",
       "      <td>729.0</td>\n",
       "      <td>1451</td>\n",
       "      <td>-1.0</td>\n",
       "      <td>SAN</td>\n",
       "      <td>SFO</td>\n",
       "      <td>447.0</td>\n",
       "    </tr>\n",
       "  </tbody>\n",
       "</table>\n",
       "</div>"
      ],
      "text/plain": [
       "   DepTime  FlightNum  DepDelay Origin Dest  Distance\n",
       "0    741.0       1451      11.0    SAN  SFO     447.0\n",
       "1    729.0       1451      -1.0    SAN  SFO     447.0"
      ]
     },
     "execution_count": 6,
     "metadata": {},
     "output_type": "execute_result"
    }
   ],
   "source": [
    "%%time\n",
    "df = dd.read_csv(f\"{data_url}/*.csv\", \n",
    "#                  blocksize = 25e6, \n",
    "                 storage_options = {'anon': True},\n",
    "                usecols = ['DepTime','FlightNum','DepDelay','Origin', 'Dest','Distance'],\n",
    "                dtype={'Distance': 'float64',\n",
    "                      'DepTime':'float64',\n",
    "                      'FlightNum':'int64',\n",
    "                      'DepDelay':'float64',\n",
    "                      'Dest':'object',\n",
    "                      'Origin':'object'}, \n",
    "                encoding = \"ISO-8859-1\")\n",
    "\n",
    "print(f\"number of rows, {df.map_partitions(len).compute().sum()}\")\n",
    "print(f\"total size {df.memory_usage_per_partition().compute().sum()/1024./1024./1024.} G\")\n",
    "df.head(2)\n"
   ]
  },
  {
   "cell_type": "code",
   "execution_count": 7,
   "id": "52a7cd99",
   "metadata": {},
   "outputs": [
    {
     "name": "stdout",
     "output_type": "stream",
     "text": [
      "CPU times: user 21.1 ms, sys: 1.27 ms, total: 22.4 ms\n",
      "Wall time: 20.9 ms\n"
     ]
    },
    {
     "data": {
      "text/html": [
       "<div><strong>Dask DataFrame Structure:</strong></div>\n",
       "<div>\n",
       "<style scoped>\n",
       "    .dataframe tbody tr th:only-of-type {\n",
       "        vertical-align: middle;\n",
       "    }\n",
       "\n",
       "    .dataframe tbody tr th {\n",
       "        vertical-align: top;\n",
       "    }\n",
       "\n",
       "    .dataframe thead th {\n",
       "        text-align: right;\n",
       "    }\n",
       "</style>\n",
       "<table border=\"1\" class=\"dataframe\">\n",
       "  <thead>\n",
       "    <tr style=\"text-align: right;\">\n",
       "      <th></th>\n",
       "      <th>DepTime</th>\n",
       "      <th>FlightNum</th>\n",
       "      <th>DepDelay</th>\n",
       "      <th>Origin</th>\n",
       "      <th>Dest</th>\n",
       "      <th>Distance</th>\n",
       "    </tr>\n",
       "    <tr>\n",
       "      <th>npartitions=196</th>\n",
       "      <th></th>\n",
       "      <th></th>\n",
       "      <th></th>\n",
       "      <th></th>\n",
       "      <th></th>\n",
       "      <th></th>\n",
       "    </tr>\n",
       "  </thead>\n",
       "  <tbody>\n",
       "    <tr>\n",
       "      <th></th>\n",
       "      <td>float64</td>\n",
       "      <td>int64</td>\n",
       "      <td>float64</td>\n",
       "      <td>object</td>\n",
       "      <td>object</td>\n",
       "      <td>float64</td>\n",
       "    </tr>\n",
       "    <tr>\n",
       "      <th></th>\n",
       "      <td>...</td>\n",
       "      <td>...</td>\n",
       "      <td>...</td>\n",
       "      <td>...</td>\n",
       "      <td>...</td>\n",
       "      <td>...</td>\n",
       "    </tr>\n",
       "    <tr>\n",
       "      <th>...</th>\n",
       "      <td>...</td>\n",
       "      <td>...</td>\n",
       "      <td>...</td>\n",
       "      <td>...</td>\n",
       "      <td>...</td>\n",
       "      <td>...</td>\n",
       "    </tr>\n",
       "    <tr>\n",
       "      <th></th>\n",
       "      <td>...</td>\n",
       "      <td>...</td>\n",
       "      <td>...</td>\n",
       "      <td>...</td>\n",
       "      <td>...</td>\n",
       "      <td>...</td>\n",
       "    </tr>\n",
       "    <tr>\n",
       "      <th></th>\n",
       "      <td>...</td>\n",
       "      <td>...</td>\n",
       "      <td>...</td>\n",
       "      <td>...</td>\n",
       "      <td>...</td>\n",
       "      <td>...</td>\n",
       "    </tr>\n",
       "  </tbody>\n",
       "</table>\n",
       "</div>\n",
       "<div>Dask Name: lambda, 7448 tasks</div>"
      ],
      "text/plain": [
       "Dask DataFrame Structure:\n",
       "                 DepTime FlightNum DepDelay  Origin    Dest Distance\n",
       "npartitions=196                                                     \n",
       "                 float64     int64  float64  object  object  float64\n",
       "                     ...       ...      ...     ...     ...      ...\n",
       "...                  ...       ...      ...     ...     ...      ...\n",
       "                     ...       ...      ...     ...     ...      ...\n",
       "                     ...       ...      ...     ...     ...      ...\n",
       "Dask Name: lambda, 7448 tasks"
      ]
     },
     "execution_count": 7,
     "metadata": {},
     "output_type": "execute_result"
    }
   ],
   "source": [
    "%%time\n",
    "# lazy groupby and sorting to get the 10 largest trade per ticker\n",
    "df_sort = df.groupby('Origin').apply(lambda x : x.nlargest(n = 10, columns = 'Distance'))\n",
    "df_sort"
   ]
  },
  {
   "cell_type": "code",
   "execution_count": 8,
   "id": "54461cf2",
   "metadata": {},
   "outputs": [
    {
     "name": "stdout",
     "output_type": "stream",
     "text": [
      "CPU times: user 1.21 s, sys: 51.1 ms, total: 1.26 s\n",
      "Wall time: 2min 19s\n"
     ]
    },
    {
     "data": {
      "text/html": [
       "<div>\n",
       "<style scoped>\n",
       "    .dataframe tbody tr th:only-of-type {\n",
       "        vertical-align: middle;\n",
       "    }\n",
       "\n",
       "    .dataframe tbody tr th {\n",
       "        vertical-align: top;\n",
       "    }\n",
       "\n",
       "    .dataframe thead th {\n",
       "        text-align: right;\n",
       "    }\n",
       "</style>\n",
       "<table border=\"1\" class=\"dataframe\">\n",
       "  <thead>\n",
       "    <tr style=\"text-align: right;\">\n",
       "      <th></th>\n",
       "      <th></th>\n",
       "      <th>DepTime</th>\n",
       "      <th>FlightNum</th>\n",
       "      <th>DepDelay</th>\n",
       "      <th>Origin</th>\n",
       "      <th>Dest</th>\n",
       "      <th>Distance</th>\n",
       "    </tr>\n",
       "    <tr>\n",
       "      <th>Origin</th>\n",
       "      <th></th>\n",
       "      <th></th>\n",
       "      <th></th>\n",
       "      <th></th>\n",
       "      <th></th>\n",
       "      <th></th>\n",
       "      <th></th>\n",
       "    </tr>\n",
       "  </thead>\n",
       "  <tbody>\n",
       "    <tr>\n",
       "      <th rowspan=\"5\" valign=\"top\">FAT</th>\n",
       "      <th>187185</th>\n",
       "      <td>630.0</td>\n",
       "      <td>6800</td>\n",
       "      <td>17.0</td>\n",
       "      <td>FAT</td>\n",
       "      <td>MEM</td>\n",
       "      <td>1666.0</td>\n",
       "    </tr>\n",
       "    <tr>\n",
       "      <th>187189</th>\n",
       "      <td>1420.0</td>\n",
       "      <td>6802</td>\n",
       "      <td>0.0</td>\n",
       "      <td>FAT</td>\n",
       "      <td>MEM</td>\n",
       "      <td>1666.0</td>\n",
       "    </tr>\n",
       "    <tr>\n",
       "      <th>188229</th>\n",
       "      <td>634.0</td>\n",
       "      <td>6800</td>\n",
       "      <td>21.0</td>\n",
       "      <td>FAT</td>\n",
       "      <td>MEM</td>\n",
       "      <td>1666.0</td>\n",
       "    </tr>\n",
       "    <tr>\n",
       "      <th>188233</th>\n",
       "      <td>1418.0</td>\n",
       "      <td>6802</td>\n",
       "      <td>0.0</td>\n",
       "      <td>FAT</td>\n",
       "      <td>MEM</td>\n",
       "      <td>1666.0</td>\n",
       "    </tr>\n",
       "    <tr>\n",
       "      <th>189301</th>\n",
       "      <td>636.0</td>\n",
       "      <td>6800</td>\n",
       "      <td>23.0</td>\n",
       "      <td>FAT</td>\n",
       "      <td>MEM</td>\n",
       "      <td>1666.0</td>\n",
       "    </tr>\n",
       "    <tr>\n",
       "      <th>...</th>\n",
       "      <th>...</th>\n",
       "      <td>...</td>\n",
       "      <td>...</td>\n",
       "      <td>...</td>\n",
       "      <td>...</td>\n",
       "      <td>...</td>\n",
       "      <td>...</td>\n",
       "    </tr>\n",
       "    <tr>\n",
       "      <th rowspan=\"5\" valign=\"top\">ORD</th>\n",
       "      <th>37335</th>\n",
       "      <td>1026.0</td>\n",
       "      <td>1</td>\n",
       "      <td>-4.0</td>\n",
       "      <td>ORD</td>\n",
       "      <td>HNL</td>\n",
       "      <td>4243.0</td>\n",
       "    </tr>\n",
       "    <tr>\n",
       "      <th>37336</th>\n",
       "      <td>1032.0</td>\n",
       "      <td>1</td>\n",
       "      <td>2.0</td>\n",
       "      <td>ORD</td>\n",
       "      <td>HNL</td>\n",
       "      <td>4243.0</td>\n",
       "    </tr>\n",
       "    <tr>\n",
       "      <th>37337</th>\n",
       "      <td>1028.0</td>\n",
       "      <td>1</td>\n",
       "      <td>-2.0</td>\n",
       "      <td>ORD</td>\n",
       "      <td>HNL</td>\n",
       "      <td>4243.0</td>\n",
       "    </tr>\n",
       "    <tr>\n",
       "      <th>37338</th>\n",
       "      <td>1028.0</td>\n",
       "      <td>1</td>\n",
       "      <td>-2.0</td>\n",
       "      <td>ORD</td>\n",
       "      <td>HNL</td>\n",
       "      <td>4243.0</td>\n",
       "    </tr>\n",
       "    <tr>\n",
       "      <th>37339</th>\n",
       "      <td>1030.0</td>\n",
       "      <td>1</td>\n",
       "      <td>0.0</td>\n",
       "      <td>ORD</td>\n",
       "      <td>HNL</td>\n",
       "      <td>4243.0</td>\n",
       "    </tr>\n",
       "  </tbody>\n",
       "</table>\n",
       "<p>3406 rows × 6 columns</p>\n",
       "</div>"
      ],
      "text/plain": [
       "               DepTime  FlightNum  DepDelay Origin Dest  Distance\n",
       "Origin                                                           \n",
       "FAT    187185    630.0       6800      17.0    FAT  MEM    1666.0\n",
       "       187189   1420.0       6802       0.0    FAT  MEM    1666.0\n",
       "       188229    634.0       6800      21.0    FAT  MEM    1666.0\n",
       "       188233   1418.0       6802       0.0    FAT  MEM    1666.0\n",
       "       189301    636.0       6800      23.0    FAT  MEM    1666.0\n",
       "...                ...        ...       ...    ...  ...       ...\n",
       "ORD    37335    1026.0          1      -4.0    ORD  HNL    4243.0\n",
       "       37336    1032.0          1       2.0    ORD  HNL    4243.0\n",
       "       37337    1028.0          1      -2.0    ORD  HNL    4243.0\n",
       "       37338    1028.0          1      -2.0    ORD  HNL    4243.0\n",
       "       37339    1030.0          1       0.0    ORD  HNL    4243.0\n",
       "\n",
       "[3406 rows x 6 columns]"
      ]
     },
     "execution_count": 8,
     "metadata": {},
     "output_type": "execute_result"
    }
   ],
   "source": [
    "%%time\n",
    "# actual compute of the groupby sorting result\n",
    "df_sort_local = df_sort.compute()\n",
    "df_sort_local"
   ]
  },
  {
   "cell_type": "markdown",
   "id": "82f71a81",
   "metadata": {},
   "source": [
    "## Compare with pandas \n",
    "Note the code below is going to crush the kernel or kill the instance due to Out of Memory Error"
   ]
  },
  {
   "cell_type": "code",
   "execution_count": null,
   "id": "1108bc84",
   "metadata": {},
   "outputs": [],
   "source": [
    "%%time\n",
    "import pandas as pd\n",
    "df_pd = df.compute()"
   ]
  },
  {
   "cell_type": "code",
   "execution_count": null,
   "id": "218a9dda",
   "metadata": {},
   "outputs": [],
   "source": [
    "## crushed the kernel\n",
    "%%time\n",
    "df_sort_pd = df_pd.groupby('Origin').apply(lambda x : x.nlargest(n = 10, columns = 'Distance'))"
   ]
  },
  {
   "cell_type": "markdown",
   "id": "ccd1b9bc",
   "metadata": {},
   "source": [
    "## close cluster after done\n",
    "It's a good idea to close the cluster after use. If you forgot to add this cell, don't worry :) Hyperplane will automatically garbage collect the node after it detects it's being idle for a bit\n"
   ]
  },
  {
   "cell_type": "code",
   "execution_count": 9,
   "id": "d511f62d",
   "metadata": {},
   "outputs": [],
   "source": [
    "cluster.close()"
   ]
  },
  {
   "cell_type": "code",
   "execution_count": null,
   "id": "dce5814f",
   "metadata": {},
   "outputs": [],
   "source": []
  }
 ],
 "metadata": {
  "kernelspec": {
   "display_name": "Python [conda env:root] *",
   "language": "python",
   "name": "conda-root-py"
  },
  "language_info": {
   "codemirror_mode": {
    "name": "ipython",
    "version": 3
   },
   "file_extension": ".py",
   "mimetype": "text/x-python",
   "name": "python",
   "nbconvert_exporter": "python",
   "pygments_lexer": "ipython3",
   "version": "3.8.10"
  }
 },
 "nbformat": 4,
 "nbformat_minor": 5
}
