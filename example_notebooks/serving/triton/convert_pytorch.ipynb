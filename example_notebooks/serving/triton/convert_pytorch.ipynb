{
 "cells": [
  {
   "cell_type": "markdown",
   "id": "47a4da56",
   "metadata": {},
   "source": [
    "## How to trace/convert Transformer model into Triton acceptable models?\n",
    "- source https://github.com/sachinsharma9780/AI-Enterprise-Workshop-Building-ML-Pipelines/blob/main/"
   ]
  },
  {
   "cell_type": "code",
   "execution_count": 1,
   "id": "25384595",
   "metadata": {},
   "outputs": [],
   "source": [
    "import torch\n",
    "from torch.nn import functional as F"
   ]
  },
  {
   "cell_type": "code",
   "execution_count": 5,
   "id": "946d8a7b",
   "metadata": {},
   "outputs": [],
   "source": [
    "# Load and Convert Hugging Face Model\n",
    "# # from transformers import AutoTokenizer, AutoModel\n",
    "# tokenizer = AutoTokenizer.from_pretrained('deepset/sentence_bert')\n",
    "# model = AutoModel.from_pretrained('deepset/sentence_bert')\n",
    "# sentence = 'Who are you voting for in 2020?'\n",
    "\n",
    "# run inputs through model and mean-pool over the sequence\n",
    "# dimension to get sequence-level representations\n",
    "# inputs = tokenizer.batch_encode_plus([sentence],\n",
    "#                                      return_tensors='pt', max_length=256,\n",
    "#                                      truncation=True, padding='max_length')\n",
    "# input_ids = inputs['input_ids']\n",
    "# attention_mask = inputs['attention_mask']\n",
    "\n",
    "# input_ids.shape, attention_mask.shape"
   ]
  },
  {
   "cell_type": "code",
   "execution_count": 2,
   "id": "ec4fdf74",
   "metadata": {},
   "outputs": [
    {
     "name": "stderr",
     "output_type": "stream",
     "text": [
      "Some weights of the model checkpoint at distilbert-base-uncased were not used when initializing DistilBertForSequenceClassification: ['vocab_transform.weight', 'vocab_transform.bias', 'vocab_layer_norm.weight', 'vocab_layer_norm.bias', 'vocab_projector.weight', 'vocab_projector.bias']\n",
      "- This IS expected if you are initializing DistilBertForSequenceClassification from the checkpoint of a model trained on another task or with another architecture (e.g. initializing a BertForSequenceClassification model from a BertForPreTraining model).\n",
      "- This IS NOT expected if you are initializing DistilBertForSequenceClassification from the checkpoint of a model that you expect to be exactly identical (initializing a BertForSequenceClassification model from a BertForSequenceClassification model).\n",
      "Some weights of DistilBertForSequenceClassification were not initialized from the model checkpoint at distilbert-base-uncased and are newly initialized: ['pre_classifier.weight', 'pre_classifier.bias', 'classifier.weight', 'classifier.bias']\n",
      "You should probably TRAIN this model on a down-stream task to be able to use it for predictions and inference.\n"
     ]
    }
   ],
   "source": [
    "from transformers import DistilBertTokenizer, DistilBertForSequenceClassification\n",
    "tokenizer = DistilBertTokenizer.from_pretrained('distilbert-base-uncased')\n",
    "model = DistilBertForSequenceClassification.from_pretrained('distilbert-base-uncased')\n",
    "\n",
    "sentence = \"Hello, my dog is cute!\"\n",
    "labels = \"happy\"\n"
   ]
  },
  {
   "cell_type": "code",
   "execution_count": 38,
   "id": "07c40d5c",
   "metadata": {},
   "outputs": [
    {
     "ename": "AttributeError",
     "evalue": "'NoneType' object has no attribute 'encode'",
     "output_type": "error",
     "traceback": [
      "\u001b[0;31m---------------------------------------------------------------------------\u001b[0m",
      "\u001b[0;31mAttributeError\u001b[0m                            Traceback (most recent call last)",
      "\u001b[0;32m/tmp/ipykernel_2418/4009017868.py\u001b[0m in \u001b[0;36m<module>\u001b[0;34m\u001b[0m\n\u001b[0;32m----> 1\u001b[0;31m input_ids = tokenizer.encode(premise, hypothesis, return_tensors = 'pt', max_length= 256, truncation = True, \n\u001b[0m\u001b[1;32m      2\u001b[0m                             padding = \"max_length\")\n\u001b[1;32m      3\u001b[0m \u001b[0;34m\u001b[0m\u001b[0m\n\u001b[1;32m      4\u001b[0m \u001b[0mmask\u001b[0m \u001b[0;34m=\u001b[0m \u001b[0minput_ids\u001b[0m \u001b[0;34m!=\u001b[0m\u001b[0;36m1\u001b[0m\u001b[0;34m\u001b[0m\u001b[0;34m\u001b[0m\u001b[0m\n\u001b[1;32m      5\u001b[0m \u001b[0mmask\u001b[0m \u001b[0;34m=\u001b[0m \u001b[0mmask\u001b[0m\u001b[0;34m.\u001b[0m\u001b[0mlong\u001b[0m\u001b[0;34m(\u001b[0m\u001b[0;34m)\u001b[0m\u001b[0;34m\u001b[0m\u001b[0;34m\u001b[0m\u001b[0m\n",
      "\u001b[0;31mAttributeError\u001b[0m: 'NoneType' object has no attribute 'encode'"
     ]
    }
   ],
   "source": [
    "input_ids = tokenizer.encode(sentence, hypothesis, return_tensors = 'pt', max_length= 256, truncation = True, \n",
    "                            padding = \"max_length\")\n",
    "\n",
    "mask = input_ids !=1\n",
    "mask = mask.long()"
   ]
  },
  {
   "cell_type": "markdown",
   "id": "0f1e9709",
   "metadata": {},
   "source": [
    "## Tracing PyTorch Model with torchscript\n",
    "- this is to create serializable and optimizable models, in equivalent to convert a tensorflow model with TensorRT"
   ]
  },
  {
   "cell_type": "code",
   "execution_count": 23,
   "id": "d388b650",
   "metadata": {},
   "outputs": [],
   "source": [
    "class PyTorch_to_TorchScript(torch.nn.Module):\n",
    "    def __init__(self):\n",
    "        super(PyTorch_to_TorchScript, self).__init__()\n",
    "        self.model = AutoModelForSequenceClassification.from_pretrained('joeddav/xlm-roberta-large-xnli')\n",
    "    def forward(self, data, attention_mask=None):\n",
    "        return self.model(data, attention_mask)[0]"
   ]
  },
  {
   "cell_type": "code",
   "execution_count": 24,
   "id": "e9cd0984",
   "metadata": {},
   "outputs": [],
   "source": [
    "# after trace it will save the model in cwd\n",
    "pt_model = PyTorch_to_TorchScript().eval()\n",
    "\n",
    "# remove_attributes = []\n",
    "# for key, value in vars(pt_model).items():\n",
    "#     if value is None:\n",
    "#         remove_attributes.append(key)\n",
    "\n",
    "# for key in remove_attributes:\n",
    "#     delattr(pt_model, key)\n",
    "\n",
    "traced_script_module = torch.jit.trace(pt_model, (input_ids, attention_mask), strict=False)\n",
    "traced_script_module.save(\"./model.pt\")"
   ]
  },
  {
   "cell_type": "markdown",
   "id": "181669a6",
   "metadata": {},
   "source": [
    "## save model to model repository folder\n",
    "- should be on cloud"
   ]
  },
  {
   "cell_type": "code",
   "execution_count": 26,
   "id": "e35d075f",
   "metadata": {},
   "outputs": [
    {
     "data": {
      "text/plain": [
       "'/root/model_repository/sentence_bert/1/model.pt'"
      ]
     },
     "execution_count": 26,
     "metadata": {},
     "output_type": "execute_result"
    }
   ],
   "source": [
    "import shutil\n",
    "import os\n",
    "folder_name = 'sentence_bert'\n",
    "# os.mkdir(f'/root/model_repository/{folder_name}')\n",
    "# os.mkdir(f'/root/model_repository/{folder_name}/1')\n",
    "shutil.copy('model.pt', f'/root/model_repository/{folder_name}/1')"
   ]
  },
  {
   "cell_type": "code",
   "execution_count": null,
   "id": "d89590b2",
   "metadata": {},
   "outputs": [],
   "source": []
  },
  {
   "cell_type": "code",
   "execution_count": null,
   "id": "135d0b94",
   "metadata": {},
   "outputs": [],
   "source": []
  }
 ],
 "metadata": {
  "kernelspec": {
   "display_name": "Python [conda env:root] *",
   "language": "python",
   "name": "conda-root-py"
  },
  "language_info": {
   "codemirror_mode": {
    "name": "ipython",
    "version": 3
   },
   "file_extension": ".py",
   "mimetype": "text/x-python",
   "name": "python",
   "nbconvert_exporter": "python",
   "pygments_lexer": "ipython3",
   "version": "3.8.10"
  }
 },
 "nbformat": 4,
 "nbformat_minor": 5
}
