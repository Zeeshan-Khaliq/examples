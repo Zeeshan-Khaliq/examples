{
 "cells": [
  {
   "cell_type": "markdown",
   "id": "340ec4ba",
   "metadata": {},
   "source": [
    "## ray training with pytorch"
   ]
  },
  {
   "cell_type": "code",
   "execution_count": 1,
   "id": "b6ec7386",
   "metadata": {},
   "outputs": [],
   "source": [
    "# !pip install 'ray[default]'"
   ]
  },
  {
   "cell_type": "code",
   "execution_count": 2,
   "id": "296a0a6e",
   "metadata": {},
   "outputs": [],
   "source": [
    "import torch\n",
    "from torch.utils.data import DataLoader\n",
    "from torchvision.datasets import CIFAR10\n",
    "import torchvision.transforms as transforms\n",
    "\n",
    "import ray\n",
    "from ray.util.sgd.torch import TorchTrainer\n",
    "from ray.util.sgd.torch import TrainingOperator\n",
    "# https://github.com/kuangliu/pytorch-cifar/blob/master/models/resnet.py\n",
    "from ray.util.sgd.torch.resnet import ResNet18\n"
   ]
  },
  {
   "cell_type": "code",
   "execution_count": 4,
   "id": "e4a2e8ec",
   "metadata": {},
   "outputs": [],
   "source": [
    "ray.init(\"ray:// 10.3.249.181:10001\")"
   ]
  },
  {
   "cell_type": "code",
   "execution_count": 3,
   "id": "58a5e1d0",
   "metadata": {},
   "outputs": [],
   "source": [
    "def cifar_creator(config):\n",
    "    \"\"\"Returns dataloaders to be used in `train` and `validate`.\"\"\"\n",
    "    tfms = transforms.Compose([\n",
    "        transforms.ToTensor(),\n",
    "        transforms.Normalize((0.4914, 0.4822, 0.4465),\n",
    "                             (0.2023, 0.1994, 0.2010)),\n",
    "    ])  # meanstd transformation\n",
    "    train_loader = DataLoader(\n",
    "        CIFAR10(root=\"~/data\", download=True, transform=tfms), batch_size=config[\"batch\"])\n",
    "    validation_loader = DataLoader(\n",
    "        CIFAR10(root=\"~/data\", download=True, transform=tfms), batch_size=config[\"batch\"])\n",
    "    return train_loader, validation_loader\n",
    "\n",
    "def optimizer_creator(model, config):\n",
    "    \"\"\"Returns an optimizer (or multiple)\"\"\"\n",
    "    return torch.optim.SGD(model.parameters(), lr=config[\"lr\"])\n",
    "\n",
    "CustomTrainingOperator = TrainingOperator.from_creators(\n",
    "    model_creator=ResNet18, # A function that returns a nn.Module\n",
    "    optimizer_creator=optimizer_creator, # A function that returns an optimizer\n",
    "    data_creator=cifar_creator, # A function that returns dataloaders\n",
    "    loss_creator=torch.nn.CrossEntropyLoss  # A loss function\n",
    "    )\n"
   ]
  },
  {
   "cell_type": "code",
   "execution_count": 5,
   "id": "c7be713a",
   "metadata": {},
   "outputs": [
    {
     "name": "stderr",
     "output_type": "stream",
     "text": [
      "\u001b[2m\u001b[36m(pid=1925)\u001b[0m 2021-08-26 20:07:53,474\tINFO distributed_torch_runner.py:58 -- Setting up process group for: tcp://10.1.229.3:60591 [rank=0]\n",
      "\u001b[2m\u001b[36m(pid=1930)\u001b[0m 2021-08-26 20:07:53,509\tINFO distributed_torch_runner.py:58 -- Setting up process group for: tcp://10.1.229.3:60591 [rank=1]\n"
     ]
    },
    {
     "name": "stdout",
     "output_type": "stream",
     "text": [
      "\u001b[2m\u001b[36m(pid=1925)\u001b[0m Downloading https://www.cs.toronto.edu/~kriz/cifar-10-python.tar.gz to /root/data/cifar-10-python.tar.gz\n"
     ]
    },
    {
     "name": "stderr",
     "output_type": "stream",
     "text": [
      "  0%|          | 0/170498071 [00:00<?, ?it/s]\n",
      "  0%|          | 361472/170498071 [00:00<00:47, 3560279.01it/s]\n",
      "  2%|▏         | 2802688/170498071 [00:00<00:10, 15706361.63it/s]\n",
      "  4%|▎         | 5981184/170498071 [00:00<00:07, 22966786.72it/s]\n",
      "  5%|▌         | 8832000/170498071 [00:00<00:06, 25134476.46it/s]\n",
      "  7%|▋         | 11682816/170498071 [00:00<00:06, 26269610.42it/s]\n",
      "  9%|▊         | 14517248/170498071 [00:00<00:05, 26928265.64it/s]\n",
      " 11%|█         | 18991104/170498071 [00:00<00:04, 32728906.50it/s]\n",
      " 14%|█▍        | 24266752/170498071 [00:00<00:03, 39084635.31it/s]\n",
      " 18%|█▊        | 30659584/170498071 [00:00<00:02, 46836857.39it/s]\n",
      " 23%|██▎       | 38471680/170498071 [00:01<00:02, 56480128.74it/s]\n",
      " 28%|██▊       | 48194560/170498071 [00:01<00:01, 68939832.40it/s]\n",
      " 35%|███▍      | 59291648/170498071 [00:01<00:01, 81716631.59it/s]\n",
      " 41%|████▏     | 70641664/170498071 [00:01<00:01, 91335166.57it/s]\n",
      " 48%|████▊     | 81762304/170498071 [00:01<00:00, 97332670.47it/s]\n",
      " 55%|█████▍    | 92948480/170498071 [00:01<00:00, 101701693.78it/s]\n",
      " 61%|██████    | 104249344/170498071 [00:01<00:00, 105104112.81it/s]\n",
      " 67%|██████▋   | 114761728/170498071 [00:01<00:00, 103581551.48it/s]\n",
      " 75%|███████▍  | 127122432/170498071 [00:01<00:00, 109536499.96it/s]\n",
      " 81%|████████  | 138086400/170498071 [00:01<00:00, 109440872.56it/s]\n",
      " 94%|█████████▍| 160483328/170498071 [00:02<00:00, 110651479.93it/s]\n",
      "170499072it [00:02, 77378462.34it/s]                                \n"
     ]
    },
    {
     "name": "stdout",
     "output_type": "stream",
     "text": [
      "\u001b[2m\u001b[36m(pid=1925)\u001b[0m Extracting /root/data/cifar-10-python.tar.gz to /root/data\n",
      "\u001b[2m\u001b[36m(pid=1925)\u001b[0m Files already downloaded and verified\n",
      "\u001b[2m\u001b[36m(pid=1930)\u001b[0m Files already downloaded and verified\n",
      "\u001b[2m\u001b[36m(pid=1930)\u001b[0m Files already downloaded and verified\n"
     ]
    }
   ],
   "source": [
    "trainer = TorchTrainer(\n",
    "    training_operator_cls=CustomTrainingOperator,\n",
    "    config={\"lr\": 0.01, # used in optimizer_creator\n",
    "            \"batch\": 64 # used in data_creator\n",
    "           },\n",
    "    num_workers=2,  # amount of parallelism\n",
    "    use_gpu=torch.cuda.is_available(),\n",
    "    use_tqdm=True)"
   ]
  },
  {
   "cell_type": "code",
   "execution_count": null,
   "id": "8575c93d",
   "metadata": {},
   "outputs": [],
   "source": [
    "stats = trainer.train()\n",
    "print(trainer.validate())"
   ]
  },
  {
   "cell_type": "code",
   "execution_count": null,
   "id": "f8f20d4a",
   "metadata": {},
   "outputs": [],
   "source": [
    "torch.save(trainer.state_dict(), \"checkpoint.pt\")\n",
    "trainer.shutdown()\n",
    "print(\"success!\")"
   ]
  },
  {
   "cell_type": "code",
   "execution_count": null,
   "id": "8bcf7b5d",
   "metadata": {},
   "outputs": [],
   "source": []
  }
 ],
 "metadata": {
  "kernelspec": {
   "display_name": "Python [conda env:root] *",
   "language": "python",
   "name": "conda-root-py"
  },
  "language_info": {
   "codemirror_mode": {
    "name": "ipython",
    "version": 3
   },
   "file_extension": ".py",
   "mimetype": "text/x-python",
   "name": "python",
   "nbconvert_exporter": "python",
   "pygments_lexer": "ipython3",
   "version": "3.8.10"
  }
 },
 "nbformat": 4,
 "nbformat_minor": 5
}
