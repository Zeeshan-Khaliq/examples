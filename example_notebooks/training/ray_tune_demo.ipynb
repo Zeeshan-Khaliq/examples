{
 "cells": [
  {
   "cell_type": "markdown",
   "id": "2052cebb",
   "metadata": {},
   "source": [
    "# Ray Tune on Hyperplane demo"
   ]
  },
  {
   "cell_type": "markdown",
   "id": "512f41d4",
   "metadata": {},
   "source": [
    "### install and update libraries\n",
    "- this can be skipped when ray is fully integrated"
   ]
  },
  {
   "cell_type": "code",
   "execution_count": null,
   "id": "84c8dd14",
   "metadata": {},
   "outputs": [],
   "source": [
    "!pip install pandas==1.3.1 --quiet\n",
    "!pip install tensorboardX --quiet\n",
    "!pip install -U ray[default] --no-cache-dir --quiet\n",
    "!pip install kubernetes==18.20 --quiet"
   ]
  },
  {
   "cell_type": "code",
   "execution_count": 1,
   "id": "79f03176",
   "metadata": {},
   "outputs": [
    {
     "name": "stdout",
     "output_type": "stream",
     "text": [
      "ray version 1.5.2\n",
      "pandas version 1.3.1\n"
     ]
    }
   ],
   "source": [
    "import pandas as pd\n",
    "import ray\n",
    "print(f'ray version {ray.__version__}')\n",
    "print(f'pandas version {pd.__version__}')"
   ]
  },
  {
   "cell_type": "markdown",
   "id": "b4771178",
   "metadata": {},
   "source": [
    "### initialize ray cluster with remote cluster"
   ]
  },
  {
   "cell_type": "code",
   "execution_count": 2,
   "id": "90d190cf",
   "metadata": {},
   "outputs": [
    {
     "data": {
      "text/plain": [
       "ClientContext(dashboard_url='10.1.124.6:8265', python_version='3.8.5', ray_version='1.5.2', ray_commit='88666d39c28553a060c26e9a669da05a6a476800', protocol_version='2021-05-20', _num_clients=1)"
      ]
     },
     "execution_count": 2,
     "metadata": {},
     "output_type": "execute_result"
    }
   ],
   "source": [
    "## start the ray cluster\n",
    "from ray_common import initialize_ray_cluster, stop_ray_cluster\n",
    "\n",
    "num_workers = 2\n",
    "cpu_per_worker=\"4000m\"\n",
    "ram_per_worker=\"4.0Gi\"\n",
    "\n",
    "\n",
    "ray_cluster = initialize_ray_cluster(num_workers, cpu_per_worker, ram_per_worker)\n",
    "ray_cluster"
   ]
  },
  {
   "cell_type": "markdown",
   "id": "61e250d5",
   "metadata": {},
   "source": [
    "## example 1 - basic"
   ]
  },
  {
   "cell_type": "code",
   "execution_count": 3,
   "id": "0e292828",
   "metadata": {},
   "outputs": [],
   "source": [
    "from ray import tune"
   ]
  },
  {
   "cell_type": "code",
   "execution_count": 6,
   "id": "e3f6d924",
   "metadata": {},
   "outputs": [
    {
     "name": "stdout",
     "output_type": "stream",
     "text": [
      "\u001b[2m\u001b[36m(pid=383)\u001b[0m == Status ==\n",
      "\u001b[2m\u001b[36m(pid=383)\u001b[0m Memory usage on this node: 2.0/15.6 GiB\n",
      "\u001b[2m\u001b[36m(pid=383)\u001b[0m Using FIFO scheduling algorithm.\n",
      "\u001b[2m\u001b[36m(pid=383)\u001b[0m Resources requested: 0/12 CPUs, 0/0 GPUs, 0.0/8.4 GiB heap, 0.0/3.82 GiB objects (0.0/2.0 example-resource-b, 0.0/2.0 example-resource-a)\n",
      "\u001b[2m\u001b[36m(pid=383)\u001b[0m Result logdir: /home/ray/ray_results/training_function_2021-08-23_07-06-20\n",
      "\u001b[2m\u001b[36m(pid=383)\u001b[0m Number of trials: 3/3 (3 PENDING)\n",
      "\u001b[2m\u001b[36m(pid=383)\u001b[0m \n",
      "\u001b[2m\u001b[36m(pid=383)\u001b[0m \n",
      "\u001b[2m\u001b[36m(pid=383)\u001b[0m == Status ==\n",
      "\u001b[2m\u001b[36m(pid=383)\u001b[0m Memory usage on this node: 1.9/15.6 GiB\n",
      "\u001b[2m\u001b[36m(pid=383)\u001b[0m Using FIFO scheduling algorithm.\n",
      "\u001b[2m\u001b[36m(pid=383)\u001b[0m Resources requested: 0/12 CPUs, 0/0 GPUs, 0.0/8.4 GiB heap, 0.0/3.82 GiB objects (0.0/2.0 example-resource-b, 0.0/2.0 example-resource-a)\n",
      "\u001b[2m\u001b[36m(pid=383)\u001b[0m Result logdir: /home/ray/ray_results/training_function_2021-08-23_07-06-20\n",
      "\u001b[2m\u001b[36m(pid=383)\u001b[0m Number of trials: 3/3 (3 TERMINATED)\n",
      "\u001b[2m\u001b[36m(pid=383)\u001b[0m \n",
      "\u001b[2m\u001b[36m(pid=383)\u001b[0m \n",
      "Best config:  {'alpha': 0.1, 'beta': 1}\n"
     ]
    },
    {
     "name": "stderr",
     "output_type": "stream",
     "text": [
      "\u001b[2m\u001b[36m(pid=383)\u001b[0m 2021-08-23 07:06:20,696\tINFO tune.py:550 -- Total run time: 0.51 seconds (0.39 seconds for the tuning loop).\n"
     ]
    }
   ],
   "source": [
    "def objective(step, alpha, beta):\n",
    "    return (0.1 + alpha * step / 100)**(-1) + beta * 0.1\n",
    "\n",
    "\n",
    "def training_function(config,  checkpoint_dir=None):\n",
    "    # Hyperparameters\n",
    "    alpha, beta = config[\"alpha\"], config[\"beta\"]\n",
    "    for step in range(10):\n",
    "        # Iterative training function - can be any arbitrary training procedure.\n",
    "        intermediate_score = objective(step, alpha, beta)\n",
    "        # Feed the score back back to Tune.\n",
    "        tune.report(mean_loss=intermediate_score)\n",
    "\n",
    "\n",
    "analysis = tune.run(\n",
    "    training_function,\n",
    "    config={\n",
    "        \"alpha\": tune.grid_search([0.001, 0.01, 0.1]),\n",
    "        \"beta\": tune.choice([1, 2, 3])\n",
    "    },\n",
    "#     sync_config=tune.SyncConfig(\n",
    "#         sync_to_driver=False,\n",
    "#         upload_dir=\"gs://pipeline_data/ray_data\"\n",
    "#     ),\n",
    "    verbose = 1\n",
    ")\n",
    "\n",
    "print(\"Best config: \", analysis.get_best_config(\n",
    "    metric=\"mean_loss\", mode=\"min\"))\n",
    "\n",
    "# Get a dataframe for analyzing trial results.\n",
    "df = analysis.results_df"
   ]
  },
  {
   "cell_type": "code",
   "execution_count": 9,
   "id": "e91f599c",
   "metadata": {},
   "outputs": [
    {
     "data": {
      "text/html": [
       "<div>\n",
       "<style scoped>\n",
       "    .dataframe tbody tr th:only-of-type {\n",
       "        vertical-align: middle;\n",
       "    }\n",
       "\n",
       "    .dataframe tbody tr th {\n",
       "        vertical-align: top;\n",
       "    }\n",
       "\n",
       "    .dataframe thead th {\n",
       "        text-align: right;\n",
       "    }\n",
       "</style>\n",
       "<table border=\"1\" class=\"dataframe\">\n",
       "  <thead>\n",
       "    <tr style=\"text-align: right;\">\n",
       "      <th></th>\n",
       "      <th>mean_loss</th>\n",
       "      <th>time_this_iter_s</th>\n",
       "      <th>done</th>\n",
       "      <th>timesteps_total</th>\n",
       "      <th>episodes_total</th>\n",
       "      <th>training_iteration</th>\n",
       "      <th>neg_mean_loss</th>\n",
       "      <th>experiment_id</th>\n",
       "      <th>date</th>\n",
       "      <th>timestamp</th>\n",
       "      <th>time_total_s</th>\n",
       "      <th>pid</th>\n",
       "      <th>hostname</th>\n",
       "      <th>node_ip</th>\n",
       "      <th>time_since_restore</th>\n",
       "      <th>timesteps_since_restore</th>\n",
       "      <th>iterations_since_restore</th>\n",
       "      <th>experiment_tag</th>\n",
       "      <th>config.alpha</th>\n",
       "      <th>config.beta</th>\n",
       "    </tr>\n",
       "    <tr>\n",
       "      <th>trial_id</th>\n",
       "      <th></th>\n",
       "      <th></th>\n",
       "      <th></th>\n",
       "      <th></th>\n",
       "      <th></th>\n",
       "      <th></th>\n",
       "      <th></th>\n",
       "      <th></th>\n",
       "      <th></th>\n",
       "      <th></th>\n",
       "      <th></th>\n",
       "      <th></th>\n",
       "      <th></th>\n",
       "      <th></th>\n",
       "      <th></th>\n",
       "      <th></th>\n",
       "      <th></th>\n",
       "      <th></th>\n",
       "      <th></th>\n",
       "      <th></th>\n",
       "    </tr>\n",
       "  </thead>\n",
       "  <tbody>\n",
       "    <tr>\n",
       "      <th>4a7b4_00000</th>\n",
       "      <td>10.091008</td>\n",
       "      <td>0.051472</td>\n",
       "      <td>True</td>\n",
       "      <td>None</td>\n",
       "      <td>None</td>\n",
       "      <td>10</td>\n",
       "      <td>-10.091008</td>\n",
       "      <td>3daf9f6afb0742278fe643211bd41baf</td>\n",
       "      <td>2021-08-23_07-06-20</td>\n",
       "      <td>1629727580</td>\n",
       "      <td>0.073429</td>\n",
       "      <td>381</td>\n",
       "      <td>example-cluster-ray-head-9jgkc</td>\n",
       "      <td>10.1.124.6</td>\n",
       "      <td>0.073429</td>\n",
       "      <td>0</td>\n",
       "      <td>10</td>\n",
       "      <td>0_alpha=0.001,beta=1</td>\n",
       "      <td>0.001</td>\n",
       "      <td>1</td>\n",
       "    </tr>\n",
       "    <tr>\n",
       "      <th>4a7b4_00001</th>\n",
       "      <td>10.110803</td>\n",
       "      <td>0.002838</td>\n",
       "      <td>True</td>\n",
       "      <td>None</td>\n",
       "      <td>None</td>\n",
       "      <td>10</td>\n",
       "      <td>-10.110803</td>\n",
       "      <td>33a065c979794ec788abcb9053e22b36</td>\n",
       "      <td>2021-08-23_07-06-20</td>\n",
       "      <td>1629727580</td>\n",
       "      <td>0.024258</td>\n",
       "      <td>379</td>\n",
       "      <td>example-cluster-ray-head-9jgkc</td>\n",
       "      <td>10.1.124.6</td>\n",
       "      <td>0.024258</td>\n",
       "      <td>0</td>\n",
       "      <td>10</td>\n",
       "      <td>1_alpha=0.01,beta=2</td>\n",
       "      <td>0.010</td>\n",
       "      <td>2</td>\n",
       "    </tr>\n",
       "    <tr>\n",
       "      <th>4a7b4_00002</th>\n",
       "      <td>9.274312</td>\n",
       "      <td>0.002300</td>\n",
       "      <td>True</td>\n",
       "      <td>None</td>\n",
       "      <td>None</td>\n",
       "      <td>10</td>\n",
       "      <td>-9.274312</td>\n",
       "      <td>7b8f83b9277548838e23ad8df17e1117</td>\n",
       "      <td>2021-08-23_07-06-20</td>\n",
       "      <td>1629727580</td>\n",
       "      <td>0.022695</td>\n",
       "      <td>380</td>\n",
       "      <td>example-cluster-ray-head-9jgkc</td>\n",
       "      <td>10.1.124.6</td>\n",
       "      <td>0.022695</td>\n",
       "      <td>0</td>\n",
       "      <td>10</td>\n",
       "      <td>2_alpha=0.1,beta=1</td>\n",
       "      <td>0.100</td>\n",
       "      <td>1</td>\n",
       "    </tr>\n",
       "  </tbody>\n",
       "</table>\n",
       "</div>"
      ],
      "text/plain": [
       "             mean_loss  time_this_iter_s  done timesteps_total episodes_total  \\\n",
       "trial_id                                                                        \n",
       "4a7b4_00000  10.091008          0.051472  True            None           None   \n",
       "4a7b4_00001  10.110803          0.002838  True            None           None   \n",
       "4a7b4_00002   9.274312          0.002300  True            None           None   \n",
       "\n",
       "             training_iteration  neg_mean_loss  \\\n",
       "trial_id                                         \n",
       "4a7b4_00000                  10     -10.091008   \n",
       "4a7b4_00001                  10     -10.110803   \n",
       "4a7b4_00002                  10      -9.274312   \n",
       "\n",
       "                                experiment_id                 date  \\\n",
       "trial_id                                                             \n",
       "4a7b4_00000  3daf9f6afb0742278fe643211bd41baf  2021-08-23_07-06-20   \n",
       "4a7b4_00001  33a065c979794ec788abcb9053e22b36  2021-08-23_07-06-20   \n",
       "4a7b4_00002  7b8f83b9277548838e23ad8df17e1117  2021-08-23_07-06-20   \n",
       "\n",
       "              timestamp  time_total_s  pid                        hostname  \\\n",
       "trial_id                                                                     \n",
       "4a7b4_00000  1629727580      0.073429  381  example-cluster-ray-head-9jgkc   \n",
       "4a7b4_00001  1629727580      0.024258  379  example-cluster-ray-head-9jgkc   \n",
       "4a7b4_00002  1629727580      0.022695  380  example-cluster-ray-head-9jgkc   \n",
       "\n",
       "                node_ip  time_since_restore  timesteps_since_restore  \\\n",
       "trial_id                                                               \n",
       "4a7b4_00000  10.1.124.6            0.073429                        0   \n",
       "4a7b4_00001  10.1.124.6            0.024258                        0   \n",
       "4a7b4_00002  10.1.124.6            0.022695                        0   \n",
       "\n",
       "             iterations_since_restore        experiment_tag  config.alpha  \\\n",
       "trial_id                                                                    \n",
       "4a7b4_00000                        10  0_alpha=0.001,beta=1         0.001   \n",
       "4a7b4_00001                        10   1_alpha=0.01,beta=2         0.010   \n",
       "4a7b4_00002                        10    2_alpha=0.1,beta=1         0.100   \n",
       "\n",
       "             config.beta  \n",
       "trial_id                  \n",
       "4a7b4_00000            1  \n",
       "4a7b4_00001            2  \n",
       "4a7b4_00002            1  "
      ]
     },
     "execution_count": 9,
     "metadata": {},
     "output_type": "execute_result"
    }
   ],
   "source": [
    "df"
   ]
  },
  {
   "cell_type": "markdown",
   "id": "3468f211",
   "metadata": {},
   "source": [
    "## Example 2 - Early stopping and Bayesian Optimization (via HyperOpt) "
   ]
  },
  {
   "cell_type": "code",
   "execution_count": 10,
   "id": "544db4fb",
   "metadata": {},
   "outputs": [],
   "source": [
    "import numpy as np\n",
    "import torch\n",
    "import torch.optim as optim\n",
    "import torch.nn as nn\n",
    "from torchvision import datasets, transforms\n",
    "from torch.utils.data import DataLoader\n",
    "import torch.nn.functional as F\n",
    "\n",
    "from ray import tune\n",
    "from ray.tune.schedulers import ASHAScheduler"
   ]
  },
  {
   "cell_type": "code",
   "execution_count": 11,
   "id": "7204774e",
   "metadata": {},
   "outputs": [],
   "source": [
    "class ConvNet(nn.Module):\n",
    "    def __init__(self):\n",
    "        super(ConvNet, self).__init__()\n",
    "        # In this example, we don't change the model architecture\n",
    "        # due to simplicity.\n",
    "        self.conv1 = nn.Conv2d(1, 3, kernel_size=3)\n",
    "        self.fc = nn.Linear(192, 10)\n",
    "\n",
    "    def forward(self, x):\n",
    "        x = F.relu(F.max_pool2d(self.conv1(x), 3))\n",
    "        x = x.view(-1, 192)\n",
    "        x = self.fc(x)\n",
    "        return F.log_softmax(x, dim=1)\n"
   ]
  },
  {
   "cell_type": "code",
   "execution_count": 12,
   "id": "e7a17a0c",
   "metadata": {},
   "outputs": [],
   "source": [
    "from google.cloud import storage\n",
    "\n",
    "def upload_blob(bucket_name, source_file_name, destination_blob_name):\n",
    "    \"\"\"Uploads a file to the bucket.\"\"\"\n",
    "    # bucket_name = \"your-bucket-name\"\n",
    "    # source_file_name = \"local/path/to/file\"\n",
    "    # destination_blob_name = \"storage-object-name\"\n",
    "\n",
    "    storage_client = storage.Client()\n",
    "    bucket = storage_client.bucket(bucket_name)\n",
    "    blob = bucket.blob(destination_blob_name)\n",
    "\n",
    "    blob.upload_from_filename(source_file_name)\n",
    "\n",
    "    print(\n",
    "        \"File {} uploaded to {}.\".format(\n",
    "            source_file_name, destination_blob_name\n",
    "        )\n",
    "    )\n",
    "    \n",
    "def download_blob(bucket_name, source_blob_name, destination_file_name):\n",
    "    \"\"\"Downloads a blob from the bucket.\"\"\"\n",
    "    # bucket_name = \"your-bucket-name\"\n",
    "    # source_blob_name = \"storage-object-name\"\n",
    "    # destination_file_name = \"local/path/to/file\"\n",
    "\n",
    "    storage_client = storage.Client()\n",
    "\n",
    "    bucket = storage_client.bucket(bucket_name)\n",
    "\n",
    "    # Construct a client side representation of a blob.\n",
    "    # Note `Bucket.blob` differs from `Bucket.get_blob` as it doesn't retrieve\n",
    "    # any content from Google Cloud Storage. As we don't need additional data,\n",
    "    # using `Bucket.blob` is preferred here.\n",
    "    blob = bucket.blob(source_blob_name)\n",
    "    blob.download_to_filename(destination_file_name)\n",
    "\n",
    "    print(\n",
    "        \"Blob {} downloaded to {}.\".format(\n",
    "            source_blob_name, destination_file_name\n",
    "        )\n",
    "    )"
   ]
  },
  {
   "cell_type": "code",
   "execution_count": 13,
   "id": "8cc1380f",
   "metadata": {},
   "outputs": [],
   "source": [
    "# Change these values if you want the training to run quicker or slower.\n",
    "EPOCH_SIZE = 512\n",
    "TEST_SIZE = 256\n",
    "\n",
    "def train(model, optimizer, train_loader):\n",
    "    device = torch.device(\"cuda\" if torch.cuda.is_available() else \"cpu\")\n",
    "    model.train()\n",
    "    for batch_idx, (data, target) in enumerate(train_loader):\n",
    "        # We set this just for the example to run quickly.\n",
    "        if batch_idx * len(data) > EPOCH_SIZE:\n",
    "            return\n",
    "        data, target = data.to(device), target.to(device)\n",
    "        optimizer.zero_grad()\n",
    "        output = model(data)\n",
    "        loss = F.nll_loss(output, target)\n",
    "        loss.backward()\n",
    "        optimizer.step()\n",
    "\n",
    "\n",
    "def test(model, data_loader):\n",
    "    device = torch.device(\"cuda\" if torch.cuda.is_available() else \"cpu\")\n",
    "    model.eval()\n",
    "    correct = 0\n",
    "    total = 0\n",
    "    with torch.no_grad():\n",
    "        for batch_idx, (data, target) in enumerate(data_loader):\n",
    "            # We set this just for the example to run quickly.\n",
    "            if batch_idx * len(data) > TEST_SIZE:\n",
    "                break\n",
    "            data, target = data.to(device), target.to(device)\n",
    "            outputs = model(data)\n",
    "            _, predicted = torch.max(outputs.data, 1)\n",
    "            total += target.size(0)\n",
    "            correct += (predicted == target).sum().item()\n",
    "\n",
    "    return correct / total"
   ]
  },
  {
   "cell_type": "code",
   "execution_count": 14,
   "id": "4bad2f81",
   "metadata": {},
   "outputs": [],
   "source": [
    "def train_mnist(config):\n",
    "    # Data Setup\n",
    "    mnist_transforms = transforms.Compose(\n",
    "        [transforms.ToTensor(),\n",
    "         transforms.Normalize((0.1307, ), (0.3081, ))])\n",
    "\n",
    "    train_loader = DataLoader(\n",
    "        datasets.MNIST(\"~/data\", train=True, download=True, transform=mnist_transforms),\n",
    "        batch_size=64,\n",
    "        shuffle=True)\n",
    "    test_loader = DataLoader(\n",
    "        datasets.MNIST(\"~/data\", train=False, transform=mnist_transforms),\n",
    "        batch_size=64,\n",
    "        shuffle=True)\n",
    "\n",
    "    device = torch.device(\"cuda\" if torch.cuda.is_available() else \"cpu\")\n",
    "\n",
    "    model = ConvNet()\n",
    "    model.to(device)\n",
    "\n",
    "    optimizer = optim.SGD(\n",
    "        model.parameters(), lr=config[\"lr\"], momentum=config[\"momentum\"])\n",
    "    for i in range(10):\n",
    "        train(model, optimizer, train_loader)\n",
    "        acc = test(model, test_loader)\n",
    "\n",
    "        # Send the current training result back to Tune\n",
    "        tune.report(mean_accuracy=acc)\n",
    "\n",
    "        if i % 5 == 0:\n",
    "            # This saves the model to the trial directory\n",
    "            torch.save(model.state_dict(), \"./model.pth\")\n",
    "#             upload_blob('pipeline_data', './model.pth', 'ray/model.pth')"
   ]
  },
  {
   "cell_type": "markdown",
   "id": "5386ea65",
   "metadata": {},
   "source": [
    "### 2.1 run 1 trial from a uniform distribution for learning rate and momentum."
   ]
  },
  {
   "cell_type": "code",
   "execution_count": 15,
   "id": "7753130b",
   "metadata": {},
   "outputs": [],
   "source": [
    "search_space = {\n",
    "    \"lr\": tune.sample_from(lambda spec: 10**(-10 * np.random.rand())),\n",
    "    \"momentum\": tune.uniform(0.1, 0.9)\n",
    "}"
   ]
  },
  {
   "cell_type": "code",
   "execution_count": 19,
   "id": "898fc7f0",
   "metadata": {},
   "outputs": [],
   "source": [
    "##download data\n",
    "# datasets.MNIST(\"~/data\", train=True, download=True)"
   ]
  },
  {
   "cell_type": "code",
   "execution_count": 17,
   "id": "219b4939",
   "metadata": {},
   "outputs": [
    {
     "name": "stderr",
     "output_type": "stream",
     "text": [
      "\u001b[2m\u001b[36m(pid=383)\u001b[0m 2021-08-23 07:15:35,505\tWARNING function_runner.py:544 -- Function checkpointing is disabled. This may result in unexpected behavior when using checkpointing features or certain schedulers. To enable, set the train function arguments to be `func(config, checkpoint_dir=None)`.\n"
     ]
    },
    {
     "name": "stdout",
     "output_type": "stream",
     "text": [
      "\u001b[2m\u001b[36m(pid=383)\u001b[0m == Status ==\n",
      "\u001b[2m\u001b[36m(pid=383)\u001b[0m Memory usage on this node: 2.4/15.6 GiB\n",
      "\u001b[2m\u001b[36m(pid=383)\u001b[0m Using FIFO scheduling algorithm.\n",
      "\u001b[2m\u001b[36m(pid=383)\u001b[0m Resources requested: 0/12 CPUs, 0/0 GPUs, 0.0/8.4 GiB heap, 0.0/3.82 GiB objects (0.0/2.0 example-resource-b, 0.0/2.0 example-resource-a)\n",
      "\u001b[2m\u001b[36m(pid=383)\u001b[0m Result logdir: /home/ray/ray_results/train_mnist_2021-08-23_07-15-35\n",
      "\u001b[2m\u001b[36m(pid=383)\u001b[0m Number of trials: 1/1 (1 PENDING)\n",
      "\u001b[2m\u001b[36m(pid=383)\u001b[0m \n",
      "\u001b[2m\u001b[36m(pid=383)\u001b[0m \n",
      "\u001b[2m\u001b[36m(pid=173, ip=10.1.124.8)\u001b[0m Downloading http://yann.lecun.com/exdb/mnist/train-images-idx3-ubyte.gz\n",
      "\u001b[2m\u001b[36m(pid=173, ip=10.1.124.8)\u001b[0m Downloading http://yann.lecun.com/exdb/mnist/train-images-idx3-ubyte.gz to /home/ray/data/MNIST/raw/train-images-idx3-ubyte.gz\n",
      "\u001b[2m\u001b[36m(pid=173, ip=10.1.124.8)\u001b[0m Failed to download (trying next):\n",
      "\u001b[2m\u001b[36m(pid=173, ip=10.1.124.8)\u001b[0m HTTP Error 503: Service Unavailable\n",
      "\u001b[2m\u001b[36m(pid=173, ip=10.1.124.8)\u001b[0m \n",
      "\u001b[2m\u001b[36m(pid=173, ip=10.1.124.8)\u001b[0m Downloading https://ossci-datasets.s3.amazonaws.com/mnist/train-images-idx3-ubyte.gz\n",
      "\u001b[2m\u001b[36m(pid=173, ip=10.1.124.8)\u001b[0m Downloading https://ossci-datasets.s3.amazonaws.com/mnist/train-images-idx3-ubyte.gz to /home/ray/data/MNIST/raw/train-images-idx3-ubyte.gz\n"
     ]
    },
    {
     "name": "stderr",
     "output_type": "stream",
     "text": [
      "  0%|          | 0/9912422 [00:00<?, ?it/s]\n",
      "  4%|▎         | 364544/9912422 [00:00<00:02, 3616857.34it/s]\n",
      "9913344it [00:00, 38979600.09it/s]                             \n"
     ]
    },
    {
     "name": "stdout",
     "output_type": "stream",
     "text": [
      "\u001b[2m\u001b[36m(pid=173, ip=10.1.124.8)\u001b[0m Extracting /home/ray/data/MNIST/raw/train-images-idx3-ubyte.gz to /home/ray/data/MNIST/raw\n",
      "\u001b[2m\u001b[36m(pid=173, ip=10.1.124.8)\u001b[0m \n",
      "\u001b[2m\u001b[36m(pid=173, ip=10.1.124.8)\u001b[0m Downloading http://yann.lecun.com/exdb/mnist/train-labels-idx1-ubyte.gz\n",
      "\u001b[2m\u001b[36m(pid=173, ip=10.1.124.8)\u001b[0m Downloading http://yann.lecun.com/exdb/mnist/train-labels-idx1-ubyte.gz to /home/ray/data/MNIST/raw/train-labels-idx1-ubyte.gz\n",
      "\u001b[2m\u001b[36m(pid=173, ip=10.1.124.8)\u001b[0m Extracting /home/ray/data/MNIST/raw/train-labels-idx1-ubyte.gz to /home/ray/data/MNIST/raw\n",
      "\u001b[2m\u001b[36m(pid=173, ip=10.1.124.8)\u001b[0m \n",
      "\u001b[2m\u001b[36m(pid=173, ip=10.1.124.8)\u001b[0m Downloading http://yann.lecun.com/exdb/mnist/t10k-images-idx3-ubyte.gz\n",
      "\u001b[2m\u001b[36m(pid=173, ip=10.1.124.8)\u001b[0m Downloading http://yann.lecun.com/exdb/mnist/t10k-images-idx3-ubyte.gz to /home/ray/data/MNIST/raw/t10k-images-idx3-ubyte.gz\n"
     ]
    },
    {
     "name": "stderr",
     "output_type": "stream",
     "text": [
      "29696it [00:00, 677867.31it/s]           \n"
     ]
    },
    {
     "name": "stdout",
     "output_type": "stream",
     "text": [
      "\u001b[2m\u001b[36m(pid=173, ip=10.1.124.8)\u001b[0m Failed to download (trying next):\n",
      "\u001b[2m\u001b[36m(pid=173, ip=10.1.124.8)\u001b[0m HTTP Error 503: Service Unavailable\n",
      "\u001b[2m\u001b[36m(pid=173, ip=10.1.124.8)\u001b[0m \n",
      "\u001b[2m\u001b[36m(pid=173, ip=10.1.124.8)\u001b[0m Downloading https://ossci-datasets.s3.amazonaws.com/mnist/t10k-images-idx3-ubyte.gz\n",
      "\u001b[2m\u001b[36m(pid=173, ip=10.1.124.8)\u001b[0m Downloading https://ossci-datasets.s3.amazonaws.com/mnist/t10k-images-idx3-ubyte.gz to /home/ray/data/MNIST/raw/t10k-images-idx3-ubyte.gz\n"
     ]
    },
    {
     "name": "stderr",
     "output_type": "stream",
     "text": [
      "  0%|          | 0/1648877 [00:00<?, ?it/s]\n",
      "1649664it [00:00, 7811614.60it/s]                            \n"
     ]
    },
    {
     "name": "stdout",
     "output_type": "stream",
     "text": [
      "\u001b[2m\u001b[36m(pid=173, ip=10.1.124.8)\u001b[0m Extracting /home/ray/data/MNIST/raw/t10k-images-idx3-ubyte.gz to /home/ray/data/MNIST/raw\n",
      "\u001b[2m\u001b[36m(pid=173, ip=10.1.124.8)\u001b[0m \n",
      "\u001b[2m\u001b[36m(pid=173, ip=10.1.124.8)\u001b[0m Downloading http://yann.lecun.com/exdb/mnist/t10k-labels-idx1-ubyte.gz\n",
      "\u001b[2m\u001b[36m(pid=173, ip=10.1.124.8)\u001b[0m Failed to download (trying next):\n",
      "\u001b[2m\u001b[36m(pid=173, ip=10.1.124.8)\u001b[0m HTTP Error 503: Service Unavailable\n",
      "\u001b[2m\u001b[36m(pid=173, ip=10.1.124.8)\u001b[0m \n",
      "\u001b[2m\u001b[36m(pid=173, ip=10.1.124.8)\u001b[0m Downloading https://ossci-datasets.s3.amazonaws.com/mnist/t10k-labels-idx1-ubyte.gz\n",
      "\u001b[2m\u001b[36m(pid=173, ip=10.1.124.8)\u001b[0m Downloading https://ossci-datasets.s3.amazonaws.com/mnist/t10k-labels-idx1-ubyte.gz to /home/ray/data/MNIST/raw/t10k-labels-idx1-ubyte.gz\n",
      "\u001b[2m\u001b[36m(pid=173, ip=10.1.124.8)\u001b[0m Extracting /home/ray/data/MNIST/raw/t10k-labels-idx1-ubyte.gz to /home/ray/data/MNIST/raw\n",
      "\u001b[2m\u001b[36m(pid=173, ip=10.1.124.8)\u001b[0m \n"
     ]
    },
    {
     "name": "stderr",
     "output_type": "stream",
     "text": [
      "5120it [00:00, 4696006.23it/s]          \n"
     ]
    },
    {
     "name": "stdout",
     "output_type": "stream",
     "text": [
      "\u001b[2m\u001b[36m(pid=383)\u001b[0m == Status ==\n",
      "\u001b[2m\u001b[36m(pid=383)\u001b[0m Memory usage on this node: 2.6/15.6 GiB\n",
      "\u001b[2m\u001b[36m(pid=383)\u001b[0m Using FIFO scheduling algorithm.\n",
      "\u001b[2m\u001b[36m(pid=383)\u001b[0m Resources requested: 1.0/12 CPUs, 0/0 GPUs, 0.0/8.4 GiB heap, 0.0/3.82 GiB objects (0.0/2.0 example-resource-b, 0.0/2.0 example-resource-a)\n",
      "\u001b[2m\u001b[36m(pid=383)\u001b[0m Result logdir: /home/ray/ray_results/train_mnist_2021-08-23_07-15-35\n",
      "\u001b[2m\u001b[36m(pid=383)\u001b[0m Number of trials: 1/1 (1 RUNNING)\n",
      "\u001b[2m\u001b[36m(pid=383)\u001b[0m \n",
      "\u001b[2m\u001b[36m(pid=383)\u001b[0m \n",
      "\u001b[2m\u001b[36m(pid=383)\u001b[0m == Status ==\n",
      "\u001b[2m\u001b[36m(pid=383)\u001b[0m Memory usage on this node: 2.5/15.6 GiB\n",
      "\u001b[2m\u001b[36m(pid=383)\u001b[0m Using FIFO scheduling algorithm.\n",
      "\u001b[2m\u001b[36m(pid=383)\u001b[0m Resources requested: 0/12 CPUs, 0/0 GPUs, 0.0/8.4 GiB heap, 0.0/3.82 GiB objects (0.0/2.0 example-resource-b, 0.0/2.0 example-resource-a)\n",
      "\u001b[2m\u001b[36m(pid=383)\u001b[0m Result logdir: /home/ray/ray_results/train_mnist_2021-08-23_07-15-35\n",
      "\u001b[2m\u001b[36m(pid=383)\u001b[0m Number of trials: 1/1 (1 TERMINATED)\n",
      "\u001b[2m\u001b[36m(pid=383)\u001b[0m \n",
      "\u001b[2m\u001b[36m(pid=383)\u001b[0m \n"
     ]
    },
    {
     "name": "stderr",
     "output_type": "stream",
     "text": [
      "\u001b[2m\u001b[36m(pid=383)\u001b[0m 2021-08-23 07:15:41,707\tINFO tune.py:550 -- Total run time: 6.20 seconds (6.07 seconds for the tuning loop).\n"
     ]
    }
   ],
   "source": [
    "analysis = tune.run(train_mnist, config=search_space, verbose = 1)"
   ]
  },
  {
   "cell_type": "code",
   "execution_count": 18,
   "id": "a64a7ed8",
   "metadata": {},
   "outputs": [
    {
     "name": "stdout",
     "output_type": "stream",
     "text": [
      "[<matplotlib.axes._subplots.AxesSubplot object at 0x7f60e3f80b20>]\n"
     ]
    },
    {
     "data": {
      "text/html": [
       "<div>\n",
       "<style scoped>\n",
       "    .dataframe tbody tr th:only-of-type {\n",
       "        vertical-align: middle;\n",
       "    }\n",
       "\n",
       "    .dataframe tbody tr th {\n",
       "        vertical-align: top;\n",
       "    }\n",
       "\n",
       "    .dataframe thead th {\n",
       "        text-align: right;\n",
       "    }\n",
       "</style>\n",
       "<table border=\"1\" class=\"dataframe\">\n",
       "  <thead>\n",
       "    <tr style=\"text-align: right;\">\n",
       "      <th></th>\n",
       "      <th>mean_accuracy</th>\n",
       "      <th>time_this_iter_s</th>\n",
       "      <th>done</th>\n",
       "      <th>timesteps_total</th>\n",
       "      <th>episodes_total</th>\n",
       "      <th>training_iteration</th>\n",
       "      <th>experiment_id</th>\n",
       "      <th>date</th>\n",
       "      <th>timestamp</th>\n",
       "      <th>time_total_s</th>\n",
       "      <th>pid</th>\n",
       "      <th>hostname</th>\n",
       "      <th>node_ip</th>\n",
       "      <th>time_since_restore</th>\n",
       "      <th>timesteps_since_restore</th>\n",
       "      <th>iterations_since_restore</th>\n",
       "      <th>experiment_tag</th>\n",
       "      <th>config.lr</th>\n",
       "      <th>config.momentum</th>\n",
       "    </tr>\n",
       "    <tr>\n",
       "      <th>trial_id</th>\n",
       "      <th></th>\n",
       "      <th></th>\n",
       "      <th></th>\n",
       "      <th></th>\n",
       "      <th></th>\n",
       "      <th></th>\n",
       "      <th></th>\n",
       "      <th></th>\n",
       "      <th></th>\n",
       "      <th></th>\n",
       "      <th></th>\n",
       "      <th></th>\n",
       "      <th></th>\n",
       "      <th></th>\n",
       "      <th></th>\n",
       "      <th></th>\n",
       "      <th></th>\n",
       "      <th></th>\n",
       "      <th></th>\n",
       "    </tr>\n",
       "  </thead>\n",
       "  <tbody>\n",
       "    <tr>\n",
       "      <th>957d6_00000</th>\n",
       "      <td>0.859375</td>\n",
       "      <td>0.231261</td>\n",
       "      <td>True</td>\n",
       "      <td>None</td>\n",
       "      <td>None</td>\n",
       "      <td>10</td>\n",
       "      <td>867a68314aa4409096bda9d4d8f4fab5</td>\n",
       "      <td>2021-08-23_07-15-41</td>\n",
       "      <td>1629728141</td>\n",
       "      <td>5.284904</td>\n",
       "      <td>173</td>\n",
       "      <td>example-cluster-ray-worker-mqdd4</td>\n",
       "      <td>10.1.124.8</td>\n",
       "      <td>5.284904</td>\n",
       "      <td>0</td>\n",
       "      <td>10</td>\n",
       "      <td>0_lr=0.063148,momentum=0.58491</td>\n",
       "      <td>0.063148</td>\n",
       "      <td>0.584906</td>\n",
       "    </tr>\n",
       "  </tbody>\n",
       "</table>\n",
       "</div>"
      ],
      "text/plain": [
       "             mean_accuracy  time_this_iter_s  done timesteps_total  \\\n",
       "trial_id                                                             \n",
       "957d6_00000       0.859375          0.231261  True            None   \n",
       "\n",
       "            episodes_total  training_iteration  \\\n",
       "trial_id                                         \n",
       "957d6_00000           None                  10   \n",
       "\n",
       "                                experiment_id                 date  \\\n",
       "trial_id                                                             \n",
       "957d6_00000  867a68314aa4409096bda9d4d8f4fab5  2021-08-23_07-15-41   \n",
       "\n",
       "              timestamp  time_total_s  pid                          hostname  \\\n",
       "trial_id                                                                       \n",
       "957d6_00000  1629728141      5.284904  173  example-cluster-ray-worker-mqdd4   \n",
       "\n",
       "                node_ip  time_since_restore  timesteps_since_restore  \\\n",
       "trial_id                                                               \n",
       "957d6_00000  10.1.124.8            5.284904                        0   \n",
       "\n",
       "             iterations_since_restore                  experiment_tag  \\\n",
       "trial_id                                                                \n",
       "957d6_00000                        10  0_lr=0.063148,momentum=0.58491   \n",
       "\n",
       "             config.lr  config.momentum  \n",
       "trial_id                                 \n",
       "957d6_00000   0.063148         0.584906  "
      ]
     },
     "execution_count": 18,
     "metadata": {},
     "output_type": "execute_result"
    },
    {
     "data": {
      "image/png": "[encoded data removed]",
      "text/plain": [
       "<Figure size 432x288 with 1 Axes>"
      ]
     },
     "metadata": {
      "needs_background": "light"
     },
     "output_type": "display_data"
    }
   ],
   "source": [
    "dfs = analysis.trial_dataframes\n",
    "print([d.mean_accuracy.plot() for d in dfs.values()])\n",
    "\n",
    "# Get a dataframe for analyzing trial results.\n",
    "df = analysis.results_df\n",
    "df"
   ]
  },
  {
   "cell_type": "markdown",
   "id": "e8c5b81a",
   "metadata": {},
   "source": [
    "### 2.2 Early Stopping with ASHA by adding scheduler"
   ]
  },
  {
   "cell_type": "code",
   "execution_count": 24,
   "id": "060ada39",
   "metadata": {},
   "outputs": [
    {
     "name": "stdout",
     "output_type": "stream",
     "text": [
      "\u001b[2m\u001b[36m(pid=383)\u001b[0m == Status ==\n",
      "\u001b[2m\u001b[36m(pid=383)\u001b[0m Memory usage on this node: 1.8/15.6 GiB\n",
      "\u001b[2m\u001b[36m(pid=383)\u001b[0m Using AsyncHyperBand: num_stopped=0\n",
      "\u001b[2m\u001b[36m(pid=383)\u001b[0m Bracket: Iter 64.000: None | Iter 16.000: None | Iter 4.000: None | Iter 1.000: None\n",
      "\u001b[2m\u001b[36m(pid=383)\u001b[0m Resources requested: 0/16 CPUs, 0/0 GPUs, 0.0/11.2 GiB heap, 0.0/5.09 GiB objects (0.0/3.0 example-resource-a, 0.0/3.0 example-resource-b)\n",
      "\u001b[2m\u001b[36m(pid=383)\u001b[0m Result logdir: /home/ray/ray_results/train_mnist_2021-08-23_07-28-01\n",
      "\u001b[2m\u001b[36m(pid=383)\u001b[0m Number of trials: 17/20 (17 PENDING)\n",
      "\u001b[2m\u001b[36m(pid=383)\u001b[0m \n",
      "\u001b[2m\u001b[36m(pid=383)\u001b[0m \n",
      "\u001b[2m\u001b[36m(pid=383)\u001b[0m == Status ==\n",
      "\u001b[2m\u001b[36m(pid=383)\u001b[0m Memory usage on this node: 2.6/15.6 GiB\n",
      "\u001b[2m\u001b[36m(pid=383)\u001b[0m Using AsyncHyperBand: num_stopped=8\n",
      "\u001b[2m\u001b[36m(pid=383)\u001b[0m Bracket: Iter 64.000: None | Iter 16.000: None | Iter 4.000: 0.11562499999999999 | Iter 1.000: 0.15390625\n",
      "\u001b[2m\u001b[36m(pid=383)\u001b[0m Resources requested: 11.0/16 CPUs, 0/0 GPUs, 0.0/11.2 GiB heap, 0.0/5.09 GiB objects (0.0/3.0 example-resource-a, 0.0/3.0 example-resource-b)\n",
      "\u001b[2m\u001b[36m(pid=383)\u001b[0m Result logdir: /home/ray/ray_results/train_mnist_2021-08-23_07-28-01\n",
      "\u001b[2m\u001b[36m(pid=383)\u001b[0m Number of trials: 20/20 (11 RUNNING, 9 TERMINATED)\n",
      "\u001b[2m\u001b[36m(pid=383)\u001b[0m \n",
      "\u001b[2m\u001b[36m(pid=383)\u001b[0m \n",
      "\u001b[2m\u001b[36m(pid=383)\u001b[0m == Status ==\n",
      "\u001b[2m\u001b[36m(pid=383)\u001b[0m Memory usage on this node: 2.1/15.6 GiB\n",
      "\u001b[2m\u001b[36m(pid=383)\u001b[0m Using AsyncHyperBand: num_stopped=14\n",
      "\u001b[2m\u001b[36m(pid=383)\u001b[0m Bracket: Iter 64.000: None | Iter 16.000: None | Iter 4.000: 0.190625 | Iter 1.000: 0.15\n",
      "\u001b[2m\u001b[36m(pid=383)\u001b[0m Resources requested: 0/16 CPUs, 0/0 GPUs, 0.0/11.2 GiB heap, 0.0/5.09 GiB objects (0.0/3.0 example-resource-a, 0.0/3.0 example-resource-b)\n",
      "\u001b[2m\u001b[36m(pid=383)\u001b[0m Result logdir: /home/ray/ray_results/train_mnist_2021-08-23_07-28-01\n",
      "\u001b[2m\u001b[36m(pid=383)\u001b[0m Number of trials: 20/20 (20 TERMINATED)\n",
      "\u001b[2m\u001b[36m(pid=383)\u001b[0m \n",
      "\u001b[2m\u001b[36m(pid=383)\u001b[0m \n"
     ]
    },
    {
     "name": "stderr",
     "output_type": "stream",
     "text": [
      "\u001b[2m\u001b[36m(pid=383)\u001b[0m 2021-08-23 07:28:09,339\tINFO tune.py:550 -- Total run time: 8.21 seconds (8.03 seconds for the tuning loop).\n"
     ]
    }
   ],
   "source": [
    "analysis = tune.run(\n",
    "    train_mnist,\n",
    "    num_samples=20,\n",
    "    scheduler=ASHAScheduler(metric=\"mean_accuracy\", mode=\"max\"),\n",
    "    config=search_space,\n",
    "     verbose = 1)"
   ]
  },
  {
   "cell_type": "code",
   "execution_count": 25,
   "id": "61bd444e",
   "metadata": {},
   "outputs": [
    {
     "data": {
      "image/png": "[encoded data removed]",
      "text/plain": [
       "<Figure size 432x288 with 1 Axes>"
      ]
     },
     "metadata": {
      "needs_background": "light"
     },
     "output_type": "display_data"
    }
   ],
   "source": [
    "# Obtain a trial dataframe from all run trials of this `tune.run` call.\n",
    "dfs = analysis.trial_dataframes\n",
    "\n",
    "# Plot by epoch\n",
    "ax = None  # This plots everything on the same plot\n",
    "for d in dfs.values():\n",
    "    ax = d.mean_accuracy.plot(ax=ax, legend=False)"
   ]
  },
  {
   "cell_type": "markdown",
   "id": "2e5188eb",
   "metadata": {},
   "source": [
    "###  Bayesian Optimization with hyperopt"
   ]
  },
  {
   "cell_type": "code",
   "execution_count": 26,
   "id": "58a4abd1",
   "metadata": {},
   "outputs": [
    {
     "name": "stdout",
     "output_type": "stream",
     "text": [
      "\u001b[33mWARNING: The directory '/root/.cache/pip' or its parent directory is not owned or is not writable by the current user. The cache has been disabled. Check the permissions and owner of that directory. If executing pip with sudo, you should use sudo's -H flag.\u001b[0m\n",
      "\u001b[33mWARNING: Running pip as the 'root' user can result in broken permissions and conflicting behaviour with the system package manager. It is recommended to use a virtual environment instead: https://pip.pypa.io/warnings/venv\u001b[0m\n"
     ]
    }
   ],
   "source": [
    "! pip install hyperopt --quiet"
   ]
  },
  {
   "cell_type": "code",
   "execution_count": 27,
   "id": "d34f3275",
   "metadata": {},
   "outputs": [
    {
     "name": "stdout",
     "output_type": "stream",
     "text": [
      "\u001b[2m\u001b[36m(pid=383)\u001b[0m == Status ==\n",
      "\u001b[2m\u001b[36m(pid=383)\u001b[0m Memory usage on this node: 2.1/15.6 GiB\n",
      "\u001b[2m\u001b[36m(pid=383)\u001b[0m Using FIFO scheduling algorithm.\n",
      "\u001b[2m\u001b[36m(pid=383)\u001b[0m Resources requested: 0/16 CPUs, 0/0 GPUs, 0.0/11.2 GiB heap, 0.0/5.09 GiB objects (0.0/3.0 example-resource-a, 0.0/3.0 example-resource-b)\n",
      "\u001b[2m\u001b[36m(pid=383)\u001b[0m Result logdir: /home/ray/ray_results/train_mnist_2021-08-23_07-28-29\n",
      "\u001b[2m\u001b[36m(pid=383)\u001b[0m Number of trials: 1/10 (1 PENDING)\n",
      "\u001b[2m\u001b[36m(pid=383)\u001b[0m \n",
      "\u001b[2m\u001b[36m(pid=383)\u001b[0m \n",
      "\u001b[2m\u001b[36m(pid=383)\u001b[0m == Status ==\n",
      "\u001b[2m\u001b[36m(pid=383)\u001b[0m Memory usage on this node: 2.0/15.6 GiB\n",
      "\u001b[2m\u001b[36m(pid=383)\u001b[0m Using FIFO scheduling algorithm.\n",
      "\u001b[2m\u001b[36m(pid=383)\u001b[0m Resources requested: 4.0/16 CPUs, 0/0 GPUs, 0.0/11.2 GiB heap, 0.0/5.09 GiB objects (0.0/3.0 example-resource-a, 0.0/3.0 example-resource-b)\n",
      "\u001b[2m\u001b[36m(pid=383)\u001b[0m Result logdir: /home/ray/ray_results/train_mnist_2021-08-23_07-28-29\n",
      "\u001b[2m\u001b[36m(pid=383)\u001b[0m Number of trials: 10/10 (4 RUNNING, 6 TERMINATED)\n",
      "\u001b[2m\u001b[36m(pid=383)\u001b[0m \n",
      "\u001b[2m\u001b[36m(pid=383)\u001b[0m \n",
      "\u001b[2m\u001b[36m(pid=383)\u001b[0m == Status ==\n",
      "\u001b[2m\u001b[36m(pid=383)\u001b[0m Memory usage on this node: 1.9/15.6 GiB\n",
      "\u001b[2m\u001b[36m(pid=383)\u001b[0m Using FIFO scheduling algorithm.\n",
      "\u001b[2m\u001b[36m(pid=383)\u001b[0m Resources requested: 0/16 CPUs, 0/0 GPUs, 0.0/11.2 GiB heap, 0.0/5.09 GiB objects (0.0/3.0 example-resource-a, 0.0/3.0 example-resource-b)\n",
      "\u001b[2m\u001b[36m(pid=383)\u001b[0m Result logdir: /home/ray/ray_results/train_mnist_2021-08-23_07-28-29\n",
      "\u001b[2m\u001b[36m(pid=383)\u001b[0m Number of trials: 10/10 (10 TERMINATED)\n",
      "\u001b[2m\u001b[36m(pid=383)\u001b[0m \n",
      "\u001b[2m\u001b[36m(pid=383)\u001b[0m \n"
     ]
    },
    {
     "name": "stderr",
     "output_type": "stream",
     "text": [
      "\u001b[2m\u001b[36m(pid=383)\u001b[0m 2021-08-23 07:28:36,061\tINFO tune.py:550 -- Total run time: 7.00 seconds (6.85 seconds for the tuning loop).\n"
     ]
    }
   ],
   "source": [
    "from hyperopt import hp\n",
    "from ray.tune.suggest.hyperopt import HyperOptSearch\n",
    "\n",
    "space = {\n",
    "    \"lr\": hp.loguniform(\"lr\", 1e-10, 0.1),\n",
    "    \"momentum\": hp.uniform(\"momentum\", 0.1, 0.9),\n",
    "}\n",
    "\n",
    "hyperopt_search = HyperOptSearch(space, metric=\"mean_accuracy\", mode=\"max\")\n",
    "analysis = tune.run(train_mnist, num_samples=10, search_alg=hyperopt_search, verbose = 1)\n"
   ]
  },
  {
   "cell_type": "code",
   "execution_count": 28,
   "id": "30396b45",
   "metadata": {},
   "outputs": [
    {
     "data": {
      "image/png": "[encoded data removed]",
      "text/plain": [
       "<Figure size 432x288 with 1 Axes>"
      ]
     },
     "metadata": {
      "needs_background": "light"
     },
     "output_type": "display_data"
    }
   ],
   "source": [
    "# Obtain a trial dataframe from all run trials of this `tune.run` call.\n",
    "dfs = analysis.trial_dataframes\n",
    "\n",
    "# Plot by epoch\n",
    "ax = None  # This plots everything on the same plot\n",
    "for d in dfs.values():\n",
    "    ax = d.mean_accuracy.plot(ax=ax, legend=False)"
   ]
  },
  {
   "cell_type": "code",
   "execution_count": 29,
   "id": "87e183c3",
   "metadata": {},
   "outputs": [],
   "source": [
    "ray.shutdown()"
   ]
  }
 ],
 "metadata": {
  "kernelspec": {
   "display_name": "Python [conda env:root] *",
   "language": "python",
   "name": "conda-root-py"
  },
  "language_info": {
   "codemirror_mode": {
    "name": "ipython",
    "version": 3
   },
   "file_extension": ".py",
   "mimetype": "text/x-python",
   "name": "python",
   "nbconvert_exporter": "python",
   "pygments_lexer": "ipython3",
   "version": "3.8.10"
  }
 },
 "nbformat": 4,
 "nbformat_minor": 5
}
