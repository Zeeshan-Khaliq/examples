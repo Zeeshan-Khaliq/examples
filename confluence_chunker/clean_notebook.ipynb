{
 "cells": [
  {
   "cell_type": "code",
   "execution_count": 1,
   "metadata": {},
   "outputs": [],
   "source": [
    "import os\n",
    "import re\n",
    "\n",
    "from langchain_community.document_loaders.confluence import ConfluenceLoader\n",
    "from dotenv import load_dotenv\n",
    "from typing import (Any,List)"
   ]
  },
  {
   "cell_type": "code",
   "execution_count": 2,
   "metadata": {},
   "outputs": [],
   "source": [
    "load_dotenv()\n",
    "persist_directory = \"./chroma_db/\"\n",
    "space_key = \"IBW\"\n",
    "confluence_url = os.getenv(\"CONFLUENE_URL\")\n",
    "username = os.getenv(\"CONFLUENCE_USERNAME\")\n",
    "api_key = os.getenv(\"CONFLUENCE_API_KEY\")"
   ]
  },
  {
   "cell_type": "code",
   "execution_count": 21,
   "metadata": {},
   "outputs": [
    {
     "name": "stderr",
     "output_type": "stream",
     "text": [
      "WARNING:langchain_community.document_loaders.confluence:Received runtime arguments {'space_key': 'IBW', 'include_attachments': False, 'include_comments': False, 'limit': 100, 'max_pages': 1000, 'keep_markdown_format': True}. Passing runtime args to `load` is deprecated. Please pass arguments during initialization instead.\n"
     ]
    }
   ],
   "source": [
    "from langchain_community.document_loaders.confluence import ContentFormat\n",
    "\n",
    "## 1. Extract the documents\n",
    "loader = ConfluenceLoader(\n",
    "    #content_format=ContentFormat.STORAGE,\n",
    "    url=confluence_url,\n",
    "    username = username,\n",
    "    api_key= api_key\n",
    ")\n",
    "\n",
    "documents = loader.load(\n",
    "    space_key=space_key,\n",
    "    #page_ids= [25397420, 25398513], # [26706543, 185500205], # 398098434 # bankens = 25398483, 25398513\n",
    "    include_attachments=False,\n",
    "    include_comments=False,\n",
    "    limit=100,\n",
    "    max_pages=1000,\n",
    "    keep_markdown_format=True,\n",
    "    )"
   ]
  },
  {
   "cell_type": "code",
   "execution_count": 22,
   "metadata": {},
   "outputs": [],
   "source": [
    "from splitters_confluence import ConfluenceMarkdownChunker\n",
    "from langchain_text_splitters.markdown import MarkdownTextSplitter, MarkdownHeaderTextSplitter\n",
    "\n",
    "header_splitter = MarkdownHeaderTextSplitter(\n",
    "    headers_to_split_on=[(\"#\", \"level_1\"), (\"##\", \"level_2\"), ('###', \"level_3\")]\n",
    ")\n",
    "text_splitter = MarkdownTextSplitter(chunk_size=1000, chunk_overlap=0)\n",
    "\n",
    "chunker = ConfluenceMarkdownChunker(markdown_header_splitter=header_splitter, markdown_text_splitter=text_splitter)"
   ]
  },
  {
   "cell_type": "code",
   "execution_count": 23,
   "metadata": {},
   "outputs": [],
   "source": [
    "final = chunker.chunker(documents)"
   ]
  },
  {
   "cell_type": "code",
   "execution_count": 24,
   "metadata": {},
   "outputs": [],
   "source": [
    "#for d in final:\n",
    "#    print(\"~\"*10)\n",
    "#    print(len(d.page_content),\" : \", d.page_content[:100])\n",
    "#    print(\"d.page_content[-100:]: \",d.page_content[-100:])\n",
    "#    print(\"d.metadata['source']: \", d.metadata[\"source\"])\n",
    "#    print('d.metadata[\"sub-title\"]: ',d.metadata[\"sub-title\"])\n"
   ]
  },
  {
   "cell_type": "markdown",
   "metadata": {},
   "source": [
    "# Test Retrieval"
   ]
  },
  {
   "cell_type": "code",
   "execution_count": 33,
   "metadata": {},
   "outputs": [],
   "source": [
    "from langchain_community.embeddings import GPT4AllEmbeddings\n",
    "#from langchain_community.vectorstores import Chroma\n",
    "#from langchain.vectorstores import Chroma\n",
    "from langchain_community.vectorstores import FAISS\n",
    "from langchain_community.embeddings import HuggingFaceEmbeddings\n",
    "from langchain_community.vectorstores.faiss import FAISS"
   ]
  },
  {
   "cell_type": "code",
   "execution_count": 26,
   "metadata": {},
   "outputs": [
    {
     "name": "stderr",
     "output_type": "stream",
     "text": [
      "INFO:sentence_transformers.SentenceTransformer:Load pretrained SentenceTransformer: BAAI/bge-large-en-v1.5\n",
      "modules.json: 100%|██████████| 349/349 [00:00<00:00, 552kB/s]\n",
      "config_sentence_transformers.json: 100%|██████████| 124/124 [00:00<00:00, 614kB/s]\n",
      "README.md: 100%|██████████| 94.6k/94.6k [00:00<00:00, 657kB/s]\n",
      "sentence_bert_config.json: 100%|██████████| 52.0/52.0 [00:00<00:00, 616kB/s]\n",
      "config.json: 100%|██████████| 779/779 [00:00<00:00, 9.18MB/s]\n",
      "model.safetensors: 100%|██████████| 1.34G/1.34G [12:20<00:00, 1.81MB/s]\n",
      "tokenizer_config.json: 100%|██████████| 366/366 [00:00<00:00, 832kB/s]\n",
      "vocab.txt: 100%|██████████| 232k/232k [00:00<00:00, 915kB/s]\n",
      "tokenizer.json: 100%|██████████| 711k/711k [00:00<00:00, 806kB/s]\n",
      "special_tokens_map.json: 100%|██████████| 125/125 [00:00<00:00, 603kB/s]\n",
      "1_Pooling/config.json: 100%|██████████| 191/191 [00:00<00:00, 1.16MB/s]\n"
     ]
    }
   ],
   "source": [
    "model_name = \"BAAI/bge-large-en-v1.5\"#\"sentence-transformers/all-mpnet-base-v2\"\n",
    "model_kwargs = {'device': 'mps'}\n",
    "encode_kwargs = {'normalize_embeddings': True}\n",
    "embeddings = HuggingFaceEmbeddings(\n",
    "    model_name=model_name,\n",
    "    model_kwargs=model_kwargs,\n",
    "    encode_kwargs=encode_kwargs\n",
    ")"
   ]
  },
  {
   "cell_type": "code",
   "execution_count": 35,
   "metadata": {},
   "outputs": [
    {
     "name": "stderr",
     "output_type": "stream",
     "text": [
      "INFO:faiss.loader:Loading faiss.\n",
      "INFO:faiss.loader:Successfully loaded faiss.\n",
      "INFO:chromadb.db.duckdb:Exiting: Cleaning up .chroma directory\n"
     ]
    }
   ],
   "source": [
    "vectordb = FAISS.from_documents(final, embedding=embeddings)"
   ]
  },
  {
   "cell_type": "code",
   "execution_count": 36,
   "metadata": {},
   "outputs": [
    {
     "data": {
      "text/plain": [
       "[Document(page_content='**Spärra kort** Om kunden inte vill/kan reklamera via app kan den skicka in blankett. Blanketten finns att skriva ut på vår hemsida. Om kunden inte har möjlighet att skriva ut den kan vi beställa den på US45 under kategorin VAKUN i Ricard. Blanketten heter\\xa0**Reklamationsblankett Bank**.\\nBanken har ingen möjlighet att i efterhand upphäva en spärr på ett kort. **Kortet kan spärras av kortinnehavaren eller annan person, kunden behöver inte vara identifierad**. Spärras ett kort så spärras alla versioner av det kortet, har kunden alltså kvar en nyare version av kortet hemma går det inte att använda den versionen utan kunden behöver få ett helt nytt kort med nytt kortnummer.\\nÄr version 2 av ett kort aktiverat går det inte att använda version 1 av kortet. Tappar kund bort kortet och aktiverar en senare version behöver inte den borttappade versionen spärras.\\nSpärr i digitala kanaler**ICA Bankens app**', metadata={'title': 'Hantera kort', 'id': '25398483', 'source': 'https://ica.atlassian.net/wiki/spaces/IBW/pages/25398483/Hantera+kort', 'sub-title': '**Spärra kort**'}),\n",
       " Document(page_content='**Spärra kort** ---\\nOm kunden ringer för att spärra kortet ska detta alltid göras först. Kontrollera att kunden inte har något annat aktivt kort på kontot.\\nKort ska spärras av kundansvarig om\\xa0kortet är stulet, tappat, missbrukat (t.ex. utlånat av kunden till annan person), om bedrägeri konstaterats, om det fastnat i en bankomat eller om det på annat sätt kommit bort i exempelvis postgången. Detta omfattar även kort som är upphittade av annan än korthavaren. Kortet ska alltid spärras omgående så snart kunden upptäcker att kortet är borta eller fattar misstanke om brott. Uppmana alltid kunden att göra en polisanmälan om kortet stulits, tappats eller om kunden blivit utsatt för bedrägeri. Har kunden blivit utsatt för obehöriga köp kan kunden göra en reklamation till oss.\\nKunden kan via ICA Banken app göra en reklamation av kortköp. Det kan göras både med MBID och Säkerhetsdosa. **Var tydlig till kund att detta alternativ finns.**', metadata={'title': 'Hantera kort', 'id': '25398483', 'source': 'https://ica.atlassian.net/wiki/spaces/IBW/pages/25398483/Hantera+kort', 'sub-title': '**Spärra kort**'}),\n",
       " Document(page_content='**Spärra kort** | Spärrorsaker\\xa0 |  | Spärr i Hera/MasterCard |\\n| --- | --- | --- |\\n| Borttappat | Används då kund tappat kortet eller om kunden ringer och inte vet var kortet är. | Ja |\\n| Stulet | Används då kund blivit bestulen på kortet. | Ja |\\n| Obehöriga köp men kortet kvar | Används då det finns kortköp som kunden inte känner till trots att hen har kortet kvar | Ja |\\n| Bedrägeri | Används vid alla typer av bedrägeri |  |\\n| Tre felaktiga PIN | Används då kund ringer in för att kortet inte fungerar och då kundansvarig kan konstatera att kunden spärrat kortet på grund av 3 felaktiga pin-registreringar samma dag. Be kunden att försöka låsa upp kortkoden via app eller internetbanken med MBIDOm kunden inte kan låsa upp koden spärra kortet och beställ sedan ett nytt. Om kunden hör av sig dagen efter att de tre felaktiga pinkoderna tryckts in kan vi ombeställa nytt kort och kortkod som vanligt (Vi behöver inte spärra kortet). Läs mer i rutin . |  |\\n| Skimmat | Används då kortet blivit skimmat |  |\\n| Missbrukat | Används främst av Kravavdelningen då kortinnehavaren medvetet missbrukat kort/konto | Ja |\\n| Avslutat | Används då kund avslutar konto och kort. Skall även användas tills vidare då kort inte avhämtats och kommer i retur till ICA Banken (Gör i detta fall separat notering i Centrica) |  |\\n| C-spärr | Används då kund inte vill ha kvar bankkortet men ändå behålla kontot. (Kortavgift tas ej ut av kund) |  |', metadata={'title': 'Hantera kort', 'id': '25398483', 'source': 'https://ica.atlassian.net/wiki/spaces/IBW/pages/25398483/Hantera+kort', 'sub-title': '**Spärra kort**'}),\n",
       " Document(page_content='**Spärra kort** Om kund spärrar sitt kort i appen eller på internetbanken kan hen själv välja att beställa ett nytt kort i samband med spärren. Om kund råkat spärra sitt kort på annat sätt, genom att t.ex. slå fel PIN-kod tre gånger så kan den låsas upp igen via appen eller internetbanken med MBID. Har kunden inte MBID får det beställas ett nytt kort.\\nVad gör jag om kunden upptäckt obehöriga köp/uttag men inte vill spärra kortet?Har kunden kvar kortet och har upptäckt obehöriga köp eller uttag ska kunden upplysas om att hen inte kan få ersättning för köp eller uttag som gjorts efter att kunden upptäckte köpen eller uttagen om kunden väljer att inte spärra kortet.\\xa0 **Kunden ska uppmanas att spärra kortet så snart som möjligt** och reklamera de köp som gjorts innan kunden upptäckte de obehöriga köpen eller uttagen.\\nHur kortet spärrasKunden eller annan person hör av sig till oss och vill spärra ett kort. Ingen identifikation av den som hör av sig till oss behövs för detta steg.', metadata={'title': 'Hantera kort', 'id': '25398483', 'source': 'https://ica.atlassian.net/wiki/spaces/IBW/pages/25398483/Hantera+kort', 'sub-title': '**Spärra kort**'})]"
      ]
     },
     "execution_count": 36,
     "metadata": {},
     "output_type": "execute_result"
    }
   ],
   "source": [
    "question = \"Spärra bankkort\"\n",
    "docs = vectordb.similarity_search(question)\n",
    "docs"
   ]
  },
  {
   "cell_type": "code",
   "execution_count": 37,
   "metadata": {},
   "outputs": [
    {
     "data": {
      "text/plain": [
       "[Document(page_content='Allmän beskrivning/Frågor och svar Mobilt BankID Kund aktiverar Mobilt BankID, men det blir spärrat direkt, vad beror det på? Om en kund aktiverar ett Mobilt BankID, men det spärras direkt efter utgivning, beror det ibland på att det finns en spärr som medför att kunden inte kan ha ett Mobilt BankID.\\nFör att kontrollera om det finns en spärr måste man kontakta AFC (skill Reklamation och Bedrägeri). Vi ska inte informera kund om att vi ska kontrollera ev spärr.\\nFinns ingen spärr får man lägga en felanmälan enligt ordinarie rutin, med de uppgifter som behövs för att kunna felsöka (tidpunkt, typ av enhet, operativssytem, felmeddelanden osv)\\n**OBS!** I de fall kunden får ett avslag/felmeddelande i ansökanflödet och inte kommer vidare alls, ska man alltid börja med att kontrollera att kunden uppfyller kraven för att ha MBID.\\nTe x finns det en felkod på ansökan som kan ge en orsak till ett ev avslag, uppfyller kunden kraven för att ha MBID (medgivande finns, kunden har rätt typ av enhet/operativssytem, antal utgivna Mobila BankID:n osv).', metadata={'title': 'Mobilt BankID', 'id': '25398181', 'source': 'https://ica.atlassian.net/wiki/spaces/IBW/pages/25398181/Mobilt+BankID', 'sub-title': 'Allmän beskrivning/Frågor och svar Mobilt BankID'}),\n",
       " Document(page_content='**Spärra kort** Om kunden inte vill/kan reklamera via app kan den skicka in blankett. Blanketten finns att skriva ut på vår hemsida. Om kunden inte har möjlighet att skriva ut den kan vi beställa den på US45 under kategorin VAKUN i Ricard. Blanketten heter\\xa0**Reklamationsblankett Bank**.\\nBanken har ingen möjlighet att i efterhand upphäva en spärr på ett kort. **Kortet kan spärras av kortinnehavaren eller annan person, kunden behöver inte vara identifierad**. Spärras ett kort så spärras alla versioner av det kortet, har kunden alltså kvar en nyare version av kortet hemma går det inte att använda den versionen utan kunden behöver få ett helt nytt kort med nytt kortnummer.\\nÄr version 2 av ett kort aktiverat går det inte att använda version 1 av kortet. Tappar kund bort kortet och aktiverar en senare version behöver inte den borttappade versionen spärras.\\nSpärr i digitala kanaler**ICA Bankens app**', metadata={'title': 'Hantera kort', 'id': '25398483', 'source': 'https://ica.atlassian.net/wiki/spaces/IBW/pages/25398483/Hantera+kort', 'sub-title': '**Spärra kort**'}),\n",
       " Document(page_content='Allmän beskrivning | Steg 1 | Steg 2 | Steg 3 |\\n| --- | --- | --- |\\n| **Ansök om vårt bankkort/kreditkort på icabanken.se.** | Hjälp kunden att flytta över ev.\\xa0Autogiro. (Enligt Betaltjänstlagen ska autogirot registreras senast tre bankdagar efter kunds specifika önskemål.) | Säkerställ att allt är igång och fungerar för kund. |\\n| **Anmäl nytt kontonummer för utbetalning av inkomst:*** Överföring av lön för stat, kommun och landsting\\xa0/ Försäkringskassan', metadata={'title': 'Byta bank', 'id': '25400139', 'source': 'https://ica.atlassian.net/wiki/spaces/IBW/pages/25400139/Byta+bank', 'sub-title': 'Allmän beskrivning'}),\n",
       " Document(page_content='**Spärra kort** ---\\nOm kunden ringer för att spärra kortet ska detta alltid göras först. Kontrollera att kunden inte har något annat aktivt kort på kontot.\\nKort ska spärras av kundansvarig om\\xa0kortet är stulet, tappat, missbrukat (t.ex. utlånat av kunden till annan person), om bedrägeri konstaterats, om det fastnat i en bankomat eller om det på annat sätt kommit bort i exempelvis postgången. Detta omfattar även kort som är upphittade av annan än korthavaren. Kortet ska alltid spärras omgående så snart kunden upptäcker att kortet är borta eller fattar misstanke om brott. Uppmana alltid kunden att göra en polisanmälan om kortet stulits, tappats eller om kunden blivit utsatt för bedrägeri. Har kunden blivit utsatt för obehöriga köp kan kunden göra en reklamation till oss.\\nKunden kan via ICA Banken app göra en reklamation av kortköp. Det kan göras både med MBID och Säkerhetsdosa. **Var tydlig till kund att detta alternativ finns.**', metadata={'title': 'Hantera kort', 'id': '25398483', 'source': 'https://ica.atlassian.net/wiki/spaces/IBW/pages/25398483/Hantera+kort', 'sub-title': '**Spärra kort**'})]"
      ]
     },
     "execution_count": 37,
     "metadata": {},
     "output_type": "execute_result"
    }
   ],
   "source": [
    "question = \"Hur spärrar jag bankkort?\"\n",
    "docs = vectordb.similarity_search(question)\n",
    "docs"
   ]
  },
  {
   "cell_type": "code",
   "execution_count": 38,
   "metadata": {},
   "outputs": [
    {
     "data": {
      "text/plain": [
       "[Document(page_content='**Möjliggör att man kan skicka brevledes uppdrag till oss. Det går inte att begära uppdrag via telefon eller säkert meddelande.** * Fullmakten ska visas upp i original när den används.\\nHur utför man ett ärende med en framtidsfullmakt?1. Fullmaktshavaren måste skicka in ett skriftligt uppdrag till: *ICA Banken AB, 504 82, Borås*. Det går bra att skicka det med rekommenderat brev. Vi får inte ta emot uppdrag över telefon/säkert meddelande.\\n2. Brevet ska tydligt beskriva vad som ska uträttas och innehålla fullmaktshavarens namn, personnummer och signatur.\\n3. Framtidsfullmakten ska bifogas i **original** när ett uppdrag ska utföras. När uppdraget är utfört returnerar banken fullmakten i original med rekommenderat brev till fullmaktshavaren.\\n4. Kopia på fullmaktshavarens ID-handling ska bifogas.\\n5. Banken **tar inte emot** framtidsfullmakter för arkivering. Fullmaktshavaren ansvarar för att kontakta banken vid de tillfällen som fullmakten ska användas.', metadata={'title': 'Fullmakt och Anhörigbehörighet', 'id': '25397587', 'source': 'https://ica.atlassian.net/wiki/spaces/IBW/pages/25397587', 'sub-title': '**Möjliggör att man kan skicka brevledes uppdrag till oss. Det går inte att begära uppdrag via telefon eller säkert meddelande.**'}),\n",
       " Document(page_content='**Skicka utlandsbetalning** 1. Informera kunden om att hen själv kan skicka upp till 500 000 kronor per dygn via internetbanken. Informera även om att vi tar en avgift enligt fliken *Utlandsbetalningar* i\\xa0[Prislistan](https://www.icabanken.se/prislista/)\\xa0om vi gör betalningen.\\xa0Om kunden vill att vi hjälper till:\\n2. Fråga vilket land kunden ska betala till, stäm av om vi kan skicka till det landet enligt dokumentet till höger i rutinen som heter\\xa0*Godkända och nekade länder.*Om landet är godkänt:\\n3. Kunden behöver vara legitimerad med\\xa04-siffrigt lösenord **och** kortdosa, alternativt med Personlig dosa eller med Mobilt BankID. (Underlag kan inhämtas om kund är inloggad med enbart 4-siffrigt lösenord/kortdosan men vid själva betalningen måste kunden legitimeras med BÅDE lösenordet och kortdosan om hen inte har Mobilt BankID/Personlig dosa.)', metadata={'title': 'Utlandsbetalning', 'id': '25399578', 'source': 'https://ica.atlassian.net/wiki/spaces/IBW/pages/25399578/Utlandsbetalning', 'sub-title': '**Skicka utlandsbetalning**'}),\n",
       " Document(page_content='**Frågor och svar** Kan studenter med svenskt personnummer som ska studera utomlands vara Stammis Student?Ja men det krävs att den sökande har en svensk folkbokföringsadress och att hen befinner sig i Sverige tills det nya kortet har kommit hen tillhanda. Detta eftersom kortet skickas med REK och måste hämtas ut personligen. Är det en befintlig bankkortskund (ICA Bankkort eller ICA Bankkort Plus) som ansöker om Stammis Student så läggs studentflaggan på det befintliga kortet.\\xa0Då spelar det ingen roll om hen befinner sig utomlands vid ansökan eftersom inget nytt kort skickas ut.\\nMåste man ha en svensk ID-handling för att ansöka om Stammis Student?Ja, om kunden inte ska skaffa svenskt ID hänvisar vi istället till en ansökan om Bankkort utan Stammis Student-medlemskap.', metadata={'title': 'Stammis Student (tidigare ICA Student)', 'id': '25399922', 'source': 'https://ica.atlassian.net/wiki/spaces/IBW/pages/25399922', 'sub-title': '**Frågor och svar**'}),\n",
       " Document(page_content='**Möjliggör att man kan skicka brevledes uppdrag till oss. Det går inte att begära uppdrag via telefon eller säkert meddelande.** Vilka ärenden omfattar fullmakten och hur länge är den giltig?I framtidsfullmakten anges angelägenheter som framtidsfullmakten omfattar. Det innebär det att det blir **olika hantering från fall till fall utifrån fullmaktens omfattning**. Exempelvis om det står att fullmakten omfattar avslut av konto, då går det bra att göra det på uppdrag av fullmaktstagaren (den som hjälper kunden).\\nFör mer information om framtidsfullmakter, se länken till Bankföreningens information högre upp i rutinen.', metadata={'title': 'Fullmakt och Anhörigbehörighet', 'id': '25397587', 'source': 'https://ica.atlassian.net/wiki/spaces/IBW/pages/25397587', 'sub-title': '**Möjliggör att man kan skicka brevledes uppdrag till oss. Det går inte att begära uppdrag via telefon eller säkert meddelande.**'})]"
      ]
     },
     "execution_count": 38,
     "metadata": {},
     "output_type": "execute_result"
    }
   ],
   "source": [
    "question = \"Får jag skicka en personlig dosa utomlands via fullmakt?\"\n",
    "docs = vectordb.similarity_search(question)\n",
    "docs"
   ]
  },
  {
   "cell_type": "code",
   "execution_count": 39,
   "metadata": {},
   "outputs": [
    {
     "data": {
      "text/plain": [
       "[Document(page_content='Frågor och svar Kan jag ansluta ett mobilnummer till mitt konto som någon annan äger, t ex mina föräldrar eller min arbetsgivare ?Ja, det fungerar.\\nHur länge sparas historiken för mottagna och skickade betalningar?För svar på denna fråga, se Swish [hemsida](https://www.swish.nu/hjalp#vad_kan_vi_hjalpa_dig_med).\\nKan kund med skyddad identitet swisha?Ja, kund med skyddad identitet kan Swisha. ICA Banken har inte någon inbyggd funktion att använda alias för kund i Swish-flödet. I bankens finstilta villkor har vi gjort ett val att ta med information under allmänna avsnittet för att t.ex. person med skyddad identitet själv ska kunna\\xa0ta ställning om Swish-tjänsten är lämplig att ansluta sig till eller inte:\\n\"Betalningen med Swish kan göras av fysiska person till andra fysiska och juridiska personer som är anslutna till Swish. Vid användning av Swish får parterna i samband med en transaktion uppgift om varandras namn och mobilnummer\".', metadata={'title': 'Swish', 'id': '25398248', 'source': 'https://ica.atlassian.net/wiki/spaces/IBW/pages/25398248/Swish', 'sub-title': 'Frågor och svar'}),\n",
       " Document(page_content='**Skaffa Swish** 8. Barnet laddar sedan ner appen Swish i sin mobil eller surfplatta. Använder kunden en Apple produkt så går hen in på Appstore, använder man en Android enhet ska man gå in på Google play för att ladda ner appen.\\xa0När\\xa0barnet har laddat ner Swish-appen och ska aktivera Swish i telefonen gör hen följande steg:\\nHur förmyndare skaffar Swish åt barnet via ICA Bankens app:1. Förmyndaren loggar in med sitt eget personnummer i ICA Bankens app och trycker på menyknappen (de tre prickarna) uppe i högra hörnet.\\n2. Klickar sedan på **Inställningar** och **Swish***.* (Appens utseende kan variera.)\\n3. Väljer\\xa0**Anslut ett (till) mobilnummer**.\\n4. Hen skriver sedan in barnets\\xa0mobilnummer:\\xa0+46 xxxxxxxxx (utan första 0:an i mobilnummer t.ex. +46721234562).\\n5. Väljer barnets kontonummer i rullistan.\\n6. Väljer om barnet ska kunna *både* skicka och ta emot pengar eller *bara* skicka pengar.', metadata={'title': 'Swish', 'id': '25398248', 'source': 'https://ica.atlassian.net/wiki/spaces/IBW/pages/25398248/Swish', 'sub-title': '**Skaffa Swish**'}),\n",
       " Document(page_content='**Skaffa Swish** 8. Kund laddar sedan ner appen Swish i sin Mobil eller surfplatta. Använder kunden en Apple produkt så går dem in på Appstore, använder man en Android enhet ska man gå in på Google play för att ladda ner appen.\\xa0När\\xa0kunden laddat ner Swish-appen och ska aktivera Swish i telefonen gör denne följande steg:\\nSkaffa Swish via ICA Bankens app - för kund som är 16 år eller äldre1. Kund loggar in och trycker på menyknappen uppe i högra hörnet och trycker sedan på *Inställningar* och *Swish.* (Appens utseende kan variera.)\\n2. Kunden skriver sedan in telefonnummer, väljer konto och väljer om denne vill kunna både skicka och ta emot pengar eller bara skicka pengar.\\n3. Kund anger mobilnummer +46 xxxxxxxxx (utan första 0:an i mobilnummer t.ex. +46721234562).\\n4. Kund signerar villkoren och fyller sedan i verifieringskoden denne nu ska ha fått via sms.\\n5. Kunden är nu ansluten till Swish via ICA Banken, kunden\\xa0ska nu gå\\xa0vidare till Swish-appen.', metadata={'title': 'Swish', 'id': '25398248', 'source': 'https://ica.atlassian.net/wiki/spaces/IBW/pages/25398248/Swish', 'sub-title': '**Skaffa Swish**'}),\n",
       " Document(page_content='Kräver signering/identifiering med Mobilt BankID. * Vad är orsaken till att du ska swisha personen?Om vi kan förstå eller se kopplingen mellan kund och mottagare i systemen samt att vi får en rimligt förklaring till syftet med swishen behöver vi inte begära dokument. Vi kan styrka kopplingar genom att:\\n* se registrerade personer på adressen i infotorg (till exempel om det är sambo eller registrerad partner).\\n* se om mottagaren har samma efternamn.\\n* se om kunden swishat till eller tagit emot swish från mottagaren tidigare (exempelvis om det rör sig om att mottagaren är en nära vän utan släkt-/adresskoppling).\\n* fråga om namnet på personen (när man ska skriva noteringen så skriver du relationen och inte namnet).\\nOm vi\\xa0**inte** kan förstå kopplingen eller att vi inte får en rimlig förklaring till syftet behöver vi efterfråga\\xa0gåvobrev mellan privatpersoner där mottagare, givare och belopp framgår. Gåvobrevet ska vara daterat och underskrivet av båda parterna.', metadata={'title': 'Swish', 'id': '25398248', 'source': 'https://ica.atlassian.net/wiki/spaces/IBW/pages/25398248/Swish', 'sub-title': 'Kräver signering/identifiering med Mobilt BankID.'})]"
      ]
     },
     "execution_count": 39,
     "metadata": {},
     "output_type": "execute_result"
    }
   ],
   "source": [
    "question = \"Kan man ha skyddat namn på Swish när man har skyddad identitet?\"\n",
    "docs = vectordb.similarity_search(question)\n",
    "docs"
   ]
  },
  {
   "cell_type": "code",
   "execution_count": 40,
   "metadata": {},
   "outputs": [
    {
     "data": {
      "text/plain": [
       "[Document(page_content='**Allmän beskrivning**/Frågor och svar #### faq\\nVad kan och får kunder utan svenskt personnummer göra?x = vad kunden kan göra\\nVad är ett samordningsnummer?Samordningsnummer är en identitetsbeteckning för personer som inte är eller har varit folkbokförda i Sverige. Syftet med samordningsnummer är att myndigheter och andra samhällsfunktioner ska kunna identifiera personer även om de inte är folkbokförda i Sverige.\\nSamordningsnummer består liksom personnumret av tio siffror. De inledande sex siffrorna utgår från personens födelsetid med den skillnaden att man lägger till 60 till födelsedagen. För en person som är född den 23 augusti 1964 så blir de sex första siffrorna i samordningsnumret därför 640883.\\n(Information hämtad från Skatteverkets hemsida.)', metadata={'title': 'Kortansökan utan svenskt personnummer', 'id': '25397360', 'source': 'https://ica.atlassian.net/wiki/spaces/IBW/pages/25397360', 'sub-title': '**Allmän beskrivning**/Frågor och svar'}),\n",
       " Document(page_content='**Byta personnummer** Om kund inte har möjlighet att återkomma så kan vi lägga ett ärende till Affärssupport IKK. Informera i detta fall kund att vi kommer att ringa upp inom några dagar samt att svara på alla samtal, även dolda, då samtalet från oss kan stå som dolt nummer.', metadata={'title': 'KDK, kundrelationer och PEP', 'id': '25398540', 'source': 'https://ica.atlassian.net/wiki/spaces/IBW/pages/25398540/KDK%2C+kundrelationer+och+PEP', 'sub-title': '**Byta personnummer**'}),\n",
       " Document(page_content='**Allmän beskrivning**/Frågor och svar Vad händer om kunden sedan får ett svenskt personnummer?Se rutin  under rubriken \"Byta personnummer\".', metadata={'title': 'Kortansökan utan svenskt personnummer', 'id': '25397360', 'source': 'https://ica.atlassian.net/wiki/spaces/IBW/pages/25397360', 'sub-title': '**Allmän beskrivning**/Frågor och svar'}),\n",
       " Document(page_content='**Uppgradera gemensamt** Vad innebär status 89 på KS60?Status 89 innebär att identifiering saknas\\nAntingen har den medsökande inte identifierat sig alls eller så har identifieringen inte har gått riktigt till.\\nOm identifiering är gjord syns detta på RI34. Kunder behöver identifiera sig för varje sökt produkt. Om det finns info om en identifiering på RI34 så dubbelkolla på KS60 så att datumet infaller samma dag som ansökan om uppgraderingen är gjord.\\nSökande 2 kan inte identifiera sig i kassanOm sökande 2 säger att\\xa0det inte kommer fram någon\\xa0identifieringssignal, säkerställ med kunden nedan punktlista\\n1. Går kunden till en manuell kassa?\\xa0Signalen kommer inte\\xa0in fram i en självutcheckningskassa\\n2. Drar kunden ICA-kort för poäng vid ett köp? Säkerställ att kortet är aktivt och inte spärrat\\n3. Scannar kassörskan sedan legitimationen för poäng? I dessa fall kan du lägga in ny kassaidentitet i KS11 och hänvisa till att kassörskan ska knappa in personnumret manuellt.', metadata={'title': 'IKK - Uppgradera kort', 'id': '25399990', 'source': 'https://ica.atlassian.net/wiki/spaces/IBW/pages/25399990/IKK+-+Uppgradera+kort', 'sub-title': '**Uppgradera gemensamt**'})]"
      ]
     },
     "execution_count": 40,
     "metadata": {},
     "output_type": "execute_result"
    }
   ],
   "source": [
    "question = \"Jag har samordningsnummer, finns det några begrsäningar. ?\"\n",
    "docs = vectordb.similarity_search(question)\n",
    "docs"
   ]
  },
  {
   "cell_type": "code",
   "execution_count": 42,
   "metadata": {},
   "outputs": [
    {
     "data": {
      "text/plain": [
       "[Document(page_content='**Felsökning/reklamation** Felkod ACMT23Felkoden *ACMT23* betyder att kunden har max antal Swish-anslutningar redan (man kan ha max 3 st i sitt eget namn och max 3 till sina barn). Om kunden har Swish-anslutning i annan bank som ska avslutas behöver hen vända sig dit.\\nReklamation av Swish-köpI och med att Swish likställs med kontant betalning kan man inte reklamera ett Swish-köp till oss. I det fall en kund vill reklamera ett Swish-köp, exempelvis om hen inte fått varan/tjänsten, hänvisar vi kunden till att reklamera hos företaget i fråga. Om det handlar om ett bedrägeri får kunden göra en polisanmälan.\\nSök efter annan rutin i Wikinpage\\ngreendottedInnehåll på sidan3\\nLäs mer[Mobilt BankID](https://ica.atlassian.net/wiki/display/IBW/Mobilt+BankID)\\n[Utredning betalning/överföring](https://ica.atlassian.net/wiki/pages/viewpage.action?pageId=25400186)\\nInom kort: uppdaterat gränssnitt för Swish Online\\n---\\nDokumentägare: Produktspecialist Betala\\nSenast fastställd: 2021-12-22\\nMBX-Box ICA Banken Kort Och Betaltjänster', metadata={'title': 'Swish', 'id': '25398248', 'source': 'https://ica.atlassian.net/wiki/spaces/IBW/pages/25398248/Swish', 'sub-title': '**Felsökning/reklamation**'}),\n",
       " Document(page_content='**Övrigt** ---\\nKund får felmeddelande vid ansökan**Vill kunden ansöka om ett ICA-kort Betala\\xa0och får felmeddelande:**\\nFör att ansöka om ICA-kort Betala får kunden inte ha ett aktivt rosa ICA-kort sedan tidigare då man max kan ha 1 rosa kort / personnummer.\\nAnsökan kan fastna (måste godkännas i KS60) om kunden har skyddad identitet, angett sig som PEP eller fastnat på sanktionslistan (se nedan).\\nGå in på KS60 och ställ dig på raden för ansökan. Tryck *enter* och sedan *F2.* Här ser du information om orsak varför ansökan blivit avslagen.', metadata={'title': 'IKK - Ansökan', 'id': '25399210', 'source': 'https://ica.atlassian.net/wiki/spaces/IBW/pages/25399210', 'sub-title': '**Övrigt**'}),\n",
       " Document(page_content='Allmän beskrivning/Frågor och svar Mobilt BankID | Felkod | Innebörd | Åtgärd |\\n| --- | --- | --- |\\n| **E\\\\_105** | ”Sessionsreferens redan använd.” Användaren kan ha tryckt på ”Hämta BankID” flera gånger.  | Be kunden avvakta en liten stund och försöka igen. |\\n| **E\\\\_106** | Kunden kan ha väntat för länge med att trycka på \"Hämta BankID\". | Be kunden avvakta en liten stund och försöka igen. |\\n| **E 131** | Se länken till höger. | <https://support.bankid.com/sv/fragor-svar/tekniska-fragor/jag-far-felkod-131-i-min-ios-enhet-vid-anvaendning-av-bankid-vad-goera> |\\n| **E\\\\_135** | Generell felkod för tekniskt fel. | Be kunden avvakta en liten stund och försöka igen. |\\n| **E\\\\_144** | En aktivering pågår redan för detta personnummer. Endast en aktivering eller användning åt gången tillåts. | Be kunden vänta i 10 minuter och försöka igen.\\xa0 |\\n| **E\\\\_145** | En aktivering pågår redan för detta personnummer. Endast en aktivering eller användning åt gången tillåts. | Be kunden vänta i 10 minuter och försöka igen. (samma orsak och åtgärd som för E\\\\_144) |\\n| **E\\\\_149** | Klienten har avbrutit ordern | Be kunden att avinstallera BankID appen, starta om enheten, installera appen och ansöka om ett nytt MBID |\\n| **E\\\\_150** | BankID-klienten gick inte att starta.\\xa0 | Be kund att avinstallera\\xa0 BankID appen och ladda ner den på nytt. Testa på nytt.\\xa0Om det inte hjälper så behöver kund göra en hård omstart av enheten (alltså fabriksåterställa enheten)Informera kund om att all data försvinner om kund inte säkerhetskopierat!Om BankID appen är av- och ominstallerad, hård omstart utförd, appen konfigurerad enligt instruktionerna (för produktion alt för test), och om appen inte kan startas av en webbsida eller annan app skulle det även kunna handla om ’universal links’ [https://support.bankid.com/sv/felavhjalpning/universal\\\\_links](https://eur02.safelinks.protection.outlook.com/?url=https%3A%2F%2Fsupport.bankid.com%2Fsv%2Ffelavhjalpning%2Funiversal_links&data=05%7C01%7Cjessicax.nilsson%40ica.se%7C4d925439b1b94870589108dbe782f64a%7C176bdcf02ce34610962ad59c1f5ce9f6%7C0%7C0%7C638358321890023902%7CUnknown%7CTWFpbGZsb3d8eyJWIjoiMC4wLjAwMDAiLCJQIjoiV2luMzIiLCJBTiI6Ik1haWwiLCJXVCI6Mn0%3D%7C3000%7C%7C%7C&sdata=Mriwj2oT%2BGa%2Bg97AlhWcJUo50kc0jyFpZ%2FKjBGX1tUQ%3D&reserved=0).**OBS!** I vissa fall kan kund få felkod E150 när t ex \"privat läge\"\\xa0 är påslaget i webbläsaren, kontrollera därför alltid det innan man ber kunden fabriksåterställa telefonen. (Se felkod E151)\\xa0 |\\n| **E151** | Klienten och webbläsaren kommer från olika IP-adresser | Det kan t.ex handla om att man går via en proxy eller har någon annan anonymiseringstjänst.Ett exempel kan vara att kunden har valt att ha ’privat’ läge för webbläsaren i sin iPhone, då får inte BankID appen och webbläsaren samma IP-adress. |', metadata={'title': 'Mobilt BankID', 'id': '25398181', 'source': 'https://ica.atlassian.net/wiki/spaces/IBW/pages/25398181/Mobilt+BankID', 'sub-title': 'Allmän beskrivning/Frågor och svar Mobilt BankID'}),\n",
       " Document(page_content='Allmän beskrivning/Frågor och svar Mobilt BankID Statuskoder i KS60Se rutin Statusar i KS60.\\nAppen visar \"fel\" tid vid internetköpVid signering av internetköp visar appen UTC tid (ej svensk tid).\\nFelkoder i BankID-appen\\n**Be alltid kunden att prova på nytt om det dyker upp en felkod, även om felkoden inte står med i listan nedan. Om det inte hjälper** **att prova på nytt mejlar du till [MBX-Box ICA Banken Kort Och Betaltjänster](mailto:kortbetaltjanster@ica.se) för att ta reda på vad felkoden betyder.**\\nOm kundens problem med Mobilt BankID inte löst sig efter att man använt sig av informationen på sidanSkulle det upplevda problemet kvarstå även efter att man kollat över existerande felkoder och tillvägagångssätt på sidan, och kunden har testat dem, så kontaktar man verksamhetsansvar med den insamlade informationen för eventuell felanmälan. Deras telefonnummer är:\\xa00722 202 004.\\nSök efter annan rutin i Wikinpage\\ngreensolidInnehåll på sidan53\\nLäs merIdentifiering och säkerhet', metadata={'title': 'Mobilt BankID', 'id': '25398181', 'source': 'https://ica.atlassian.net/wiki/spaces/IBW/pages/25398181/Mobilt+BankID', 'sub-title': 'Allmän beskrivning/Frågor och svar Mobilt BankID'})]"
      ]
     },
     "execution_count": 42,
     "metadata": {},
     "output_type": "execute_result"
    }
   ],
   "source": [
    "question = \"felkod 65\"\n",
    "docs = vectordb.similarity_search(question)\n",
    "docs"
   ]
  },
  {
   "cell_type": "code",
   "execution_count": 43,
   "metadata": {},
   "outputs": [
    {
     "data": {
      "text/plain": [
       "[Document(page_content='**Felsökning/reklamation** Felkod ACMT23Felkoden *ACMT23* betyder att kunden har max antal Swish-anslutningar redan (man kan ha max 3 st i sitt eget namn och max 3 till sina barn). Om kunden har Swish-anslutning i annan bank som ska avslutas behöver hen vända sig dit.\\nReklamation av Swish-köpI och med att Swish likställs med kontant betalning kan man inte reklamera ett Swish-köp till oss. I det fall en kund vill reklamera ett Swish-köp, exempelvis om hen inte fått varan/tjänsten, hänvisar vi kunden till att reklamera hos företaget i fråga. Om det handlar om ett bedrägeri får kunden göra en polisanmälan.\\nSök efter annan rutin i Wikinpage\\ngreendottedInnehåll på sidan3\\nLäs mer[Mobilt BankID](https://ica.atlassian.net/wiki/display/IBW/Mobilt+BankID)\\n[Utredning betalning/överföring](https://ica.atlassian.net/wiki/pages/viewpage.action?pageId=25400186)\\nInom kort: uppdaterat gränssnitt för Swish Online\\n---\\nDokumentägare: Produktspecialist Betala\\nSenast fastställd: 2021-12-22\\nMBX-Box ICA Banken Kort Och Betaltjänster', metadata={'title': 'Swish', 'id': '25398248', 'source': 'https://ica.atlassian.net/wiki/spaces/IBW/pages/25398248/Swish', 'sub-title': '**Felsökning/reklamation**'}),\n",
       " Document(page_content='**Övrigt** ---\\nKund får felmeddelande vid ansökan**Vill kunden ansöka om ett ICA-kort Betala\\xa0och får felmeddelande:**\\nFör att ansöka om ICA-kort Betala får kunden inte ha ett aktivt rosa ICA-kort sedan tidigare då man max kan ha 1 rosa kort / personnummer.\\nAnsökan kan fastna (måste godkännas i KS60) om kunden har skyddad identitet, angett sig som PEP eller fastnat på sanktionslistan (se nedan).\\nGå in på KS60 och ställ dig på raden för ansökan. Tryck *enter* och sedan *F2.* Här ser du information om orsak varför ansökan blivit avslagen.', metadata={'title': 'IKK - Ansökan', 'id': '25399210', 'source': 'https://ica.atlassian.net/wiki/spaces/IBW/pages/25399210', 'sub-title': '**Övrigt**'}),\n",
       " Document(page_content='Allmän beskrivning/Frågor och svar Mobilt BankID | Felkod | Innebörd | Åtgärd |\\n| --- | --- | --- |\\n| **E\\\\_105** | ”Sessionsreferens redan använd.” Användaren kan ha tryckt på ”Hämta BankID” flera gånger.  | Be kunden avvakta en liten stund och försöka igen. |\\n| **E\\\\_106** | Kunden kan ha väntat för länge med att trycka på \"Hämta BankID\". | Be kunden avvakta en liten stund och försöka igen. |\\n| **E 131** | Se länken till höger. | <https://support.bankid.com/sv/fragor-svar/tekniska-fragor/jag-far-felkod-131-i-min-ios-enhet-vid-anvaendning-av-bankid-vad-goera> |\\n| **E\\\\_135** | Generell felkod för tekniskt fel. | Be kunden avvakta en liten stund och försöka igen. |\\n| **E\\\\_144** | En aktivering pågår redan för detta personnummer. Endast en aktivering eller användning åt gången tillåts. | Be kunden vänta i 10 minuter och försöka igen.\\xa0 |\\n| **E\\\\_145** | En aktivering pågår redan för detta personnummer. Endast en aktivering eller användning åt gången tillåts. | Be kunden vänta i 10 minuter och försöka igen. (samma orsak och åtgärd som för E\\\\_144) |\\n| **E\\\\_149** | Klienten har avbrutit ordern | Be kunden att avinstallera BankID appen, starta om enheten, installera appen och ansöka om ett nytt MBID |\\n| **E\\\\_150** | BankID-klienten gick inte att starta.\\xa0 | Be kund att avinstallera\\xa0 BankID appen och ladda ner den på nytt. Testa på nytt.\\xa0Om det inte hjälper så behöver kund göra en hård omstart av enheten (alltså fabriksåterställa enheten)Informera kund om att all data försvinner om kund inte säkerhetskopierat!Om BankID appen är av- och ominstallerad, hård omstart utförd, appen konfigurerad enligt instruktionerna (för produktion alt för test), och om appen inte kan startas av en webbsida eller annan app skulle det även kunna handla om ’universal links’ [https://support.bankid.com/sv/felavhjalpning/universal\\\\_links](https://eur02.safelinks.protection.outlook.com/?url=https%3A%2F%2Fsupport.bankid.com%2Fsv%2Ffelavhjalpning%2Funiversal_links&data=05%7C01%7Cjessicax.nilsson%40ica.se%7C4d925439b1b94870589108dbe782f64a%7C176bdcf02ce34610962ad59c1f5ce9f6%7C0%7C0%7C638358321890023902%7CUnknown%7CTWFpbGZsb3d8eyJWIjoiMC4wLjAwMDAiLCJQIjoiV2luMzIiLCJBTiI6Ik1haWwiLCJXVCI6Mn0%3D%7C3000%7C%7C%7C&sdata=Mriwj2oT%2BGa%2Bg97AlhWcJUo50kc0jyFpZ%2FKjBGX1tUQ%3D&reserved=0).**OBS!** I vissa fall kan kund få felkod E150 när t ex \"privat läge\"\\xa0 är påslaget i webbläsaren, kontrollera därför alltid det innan man ber kunden fabriksåterställa telefonen. (Se felkod E151)\\xa0 |\\n| **E151** | Klienten och webbläsaren kommer från olika IP-adresser | Det kan t.ex handla om att man går via en proxy eller har någon annan anonymiseringstjänst.Ett exempel kan vara att kunden har valt att ha ’privat’ läge för webbläsaren i sin iPhone, då får inte BankID appen och webbläsaren samma IP-adress. |', metadata={'title': 'Mobilt BankID', 'id': '25398181', 'source': 'https://ica.atlassian.net/wiki/spaces/IBW/pages/25398181/Mobilt+BankID', 'sub-title': 'Allmän beskrivning/Frågor och svar Mobilt BankID'}),\n",
       " Document(page_content='Allmän beskrivning/Frågor och svar Mobilt BankID Statuskoder i KS60Se rutin Statusar i KS60.\\nAppen visar \"fel\" tid vid internetköpVid signering av internetköp visar appen UTC tid (ej svensk tid).\\nFelkoder i BankID-appen\\n**Be alltid kunden att prova på nytt om det dyker upp en felkod, även om felkoden inte står med i listan nedan. Om det inte hjälper** **att prova på nytt mejlar du till [MBX-Box ICA Banken Kort Och Betaltjänster](mailto:kortbetaltjanster@ica.se) för att ta reda på vad felkoden betyder.**\\nOm kundens problem med Mobilt BankID inte löst sig efter att man använt sig av informationen på sidanSkulle det upplevda problemet kvarstå även efter att man kollat över existerande felkoder och tillvägagångssätt på sidan, och kunden har testat dem, så kontaktar man verksamhetsansvar med den insamlade informationen för eventuell felanmälan. Deras telefonnummer är:\\xa00722 202 004.\\nSök efter annan rutin i Wikinpage\\ngreensolidInnehåll på sidan53\\nLäs merIdentifiering och säkerhet', metadata={'title': 'Mobilt BankID', 'id': '25398181', 'source': 'https://ica.atlassian.net/wiki/spaces/IBW/pages/25398181/Mobilt+BankID', 'sub-title': 'Allmän beskrivning/Frågor och svar Mobilt BankID'})]"
      ]
     },
     "execution_count": 43,
     "metadata": {},
     "output_type": "execute_result"
    }
   ],
   "source": [
    "question = \"felkod 65\"\n",
    "embedding_vector = embeddings.embed_query(question)\n",
    "docs_and_scores = vectordb.similarity_search_by_vector(embedding_vector)\n",
    "docs"
   ]
  },
  {
   "cell_type": "code",
   "execution_count": null,
   "metadata": {},
   "outputs": [],
   "source": []
  }
 ],
 "metadata": {
  "kernelspec": {
   "display_name": "confluence",
   "language": "python",
   "name": "python3"
  },
  "language_info": {
   "codemirror_mode": {
    "name": "ipython",
    "version": 3
   },
   "file_extension": ".py",
   "mimetype": "text/x-python",
   "name": "python",
   "nbconvert_exporter": "python",
   "pygments_lexer": "ipython3",
   "version": "3.11.7"
  }
 },
 "nbformat": 4,
 "nbformat_minor": 2
}
