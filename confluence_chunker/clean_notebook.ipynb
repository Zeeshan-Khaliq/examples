{
 "cells": [
  {
   "cell_type": "code",
   "execution_count": 1,
   "metadata": {},
   "outputs": [],
   "source": [
    "import os\n",
    "import re\n",
    "\n",
    "from langchain_community.document_loaders.confluence import ConfluenceLoader\n",
    "from dotenv import load_dotenv\n",
    "from typing import (Any,List)"
   ]
  },
  {
   "cell_type": "code",
   "execution_count": 2,
   "metadata": {},
   "outputs": [],
   "source": [
    "load_dotenv()\n",
    "persist_directory = \"./chroma_db/\"\n",
    "space_key = \"IBW\"\n",
    "confluence_url = os.getenv(\"CONFLUENE_URL\")\n",
    "username = os.getenv(\"CONFLUENCE_USERNAME\")\n",
    "api_key = os.getenv(\"CONFLUENCE_API_KEY\")"
   ]
  },
  {
   "cell_type": "code",
   "execution_count": 3,
   "metadata": {},
   "outputs": [
    {
     "name": "stderr",
     "output_type": "stream",
     "text": [
      "Received runtime arguments {'page_ids': [25397420, 25398513], 'include_attachments': False, 'include_comments': False, 'limit': 100, 'max_pages': 1000, 'keep_markdown_format': True}. Passing runtime args to `load` is deprecated. Please pass arguments during initialization instead.\n"
     ]
    }
   ],
   "source": [
    "from langchain_community.document_loaders.confluence import ContentFormat\n",
    "\n",
    "## 1. Extract the documents\n",
    "loader = ConfluenceLoader(\n",
    "    #content_format=ContentFormat.STORAGE,\n",
    "    url=confluence_url,\n",
    "    username = username,\n",
    "    api_key= api_key\n",
    ")\n",
    "\n",
    "documents = loader.load(\n",
    "    #space_key=space_key,\n",
    "    page_ids= [25397420, 25398513], # [26706543, 185500205], # 398098434 # bankens = 25398483, 25398513\n",
    "    include_attachments=False,\n",
    "    include_comments=False,\n",
    "    limit=100,\n",
    "    max_pages=1000,\n",
    "    keep_markdown_format=True,\n",
    "    )"
   ]
  },
  {
   "cell_type": "code",
   "execution_count": 4,
   "metadata": {},
   "outputs": [],
   "source": [
    "from splitters_confluence import ConfluenceMarkdownChunker\n",
    "from langchain_text_splitters.markdown import MarkdownTextSplitter, MarkdownHeaderTextSplitter\n",
    "\n",
    "chunk_size = 1000\n",
    "header_splitter = MarkdownHeaderTextSplitter(\n",
    "    headers_to_split_on=[(\"#\", \"level_1\"), (\"##\", \"level_2\"), ('###', \"level_3\")]\n",
    ")\n",
    "text_splitter = MarkdownTextSplitter(chunk_size=1000, chunk_overlap=0)\n",
    "\n",
    "chunker = ConfluenceMarkdownChunker(markdown_header_splitter=header_splitter, markdown_text_splitter=text_splitter)"
   ]
  },
  {
   "cell_type": "code",
   "execution_count": 5,
   "metadata": {},
   "outputs": [],
   "source": [
    "final = chunker.chunker(documents)"
   ]
  },
  {
   "cell_type": "code",
   "execution_count": 10,
   "metadata": {},
   "outputs": [
    {
     "name": "stdout",
     "output_type": "stream",
     "text": [
      "::::::::::\n",
      "644 **Allmän beskrivning** ---\n",
      "ICA Banken erbjuder två typer av bankkort för privatkunder, ICA Bankkort \n",
      "https://ica.atlassian.net/wiki/spaces/IBW/pages/25397420/Bankkort%2C+Bankkort+Plus+och+Migrerat+ICA+kort\n",
      "**Allmän beskrivning**\n",
      "::::::::::\n",
      "511 **Bankkort** ---\n",
      "* Mastercard Debit\n",
      "* Går att ha gemensamt.\n",
      "* Innehåller Reseförsäkring och Matförsä\n",
      "https://ica.atlassian.net/wiki/spaces/IBW/pages/25397420/Bankkort%2C+Bankkort+Plus+och+Migrerat+ICA+kort\n",
      "**Bankkort**\n",
      "::::::::::\n",
      "974 **Bankkort Plus** ---\n",
      "* Mastercard, betal och kreditkort\n",
      "* Går att ha gemensamt.\n",
      "* Går att delbetala\n",
      "https://ica.atlassian.net/wiki/spaces/IBW/pages/25397420/Bankkort%2C+Bankkort+Plus+och+Migrerat+ICA+kort\n",
      "**Bankkort Plus**\n",
      "::::::::::\n",
      "109 **Bankkort Plus** **\\***För mer information se rutin: Kontantinsättning, kontantuttag och avrundning\n",
      "https://ica.atlassian.net/wiki/spaces/IBW/pages/25397420/Bankkort%2C+Bankkort+Plus+och+Migrerat+ICA+kort\n",
      "**Bankkort Plus**\n",
      "::::::::::\n",
      "1017 **Migrerat ICA Kort** ---\n",
      "Migrerat ICA Kort är av kontotypen ID (utan kredit) eller IF (med kredit) \n",
      "https://ica.atlassian.net/wiki/spaces/IBW/pages/25397420/Bankkort%2C+Bankkort+Plus+och+Migrerat+ICA+kort\n",
      "**Migrerat ICA Kort**\n",
      "::::::::::\n",
      "998 **Migrerat ICA Kort** 3. Klicka på **Inställningar →****Dina kort → Beställ ny kod**\n",
      "**Via Centrica:\n",
      "https://ica.atlassian.net/wiki/spaces/IBW/pages/25397420/Bankkort%2C+Bankkort+Plus+och+Migrerat+ICA+kort\n",
      "**Migrerat ICA Kort**\n",
      "::::::::::\n",
      "53 **Migrerat ICA Kort** Lag (2010:751) om betaltjänster\n",
      "https://ica.atlassian.net/wiki/spaces/IBW/pages/25397420/Bankkort%2C+Bankkort+Plus+och+Migrerat+ICA+kort\n",
      "**Migrerat ICA Kort**\n",
      "::::::::::\n",
      "1325 **Bankkort Plus** | Direktkontot | Fakturakontot |\n",
      "| --- | --- |\n",
      "| Köp hos ICA och Apotek Hjärtat.Om\n",
      "https://ica.atlassian.net/wiki/spaces/IBW/pages/25397420/Bankkort%2C+Bankkort+Plus+och+Migrerat+ICA+kort\n",
      "**Bankkort Plus**\n",
      "::::::::::\n",
      "970 **Allmän beskrivning** ---\n",
      "ICA Banken vill tillämpa en flexibel prissättning för de familjer som har\n",
      "https://ica.atlassian.net/wiki/spaces/IBW/pages/25398513/Familjepaketet+Bankkort+Plus\n",
      "**Allmän beskrivning**\n",
      "::::::::::\n",
      "678 **Kriterier för att kunna registrera sig som familj** ---\n",
      "* Anmälan behöver omfatta minst två person\n",
      "https://ica.atlassian.net/wiki/spaces/IBW/pages/25398513/Familjepaketet+Bankkort+Plus\n",
      "**Kriterier för att kunna registrera sig som familj**\n",
      "::::::::::\n",
      "596 **Borttag av familjemedlem** ---\n",
      "Denna rutin används då kund kontaktar oss och vill ta bort någon i \n",
      "https://ica.atlassian.net/wiki/spaces/IBW/pages/25398513/Familjepaketet+Bankkort+Plus\n",
      "**Borttag av familjemedlem**\n",
      "::::::::::\n",
      "911 **Avslut familjepaketet** ---\n",
      "Denna rutin används då kund kontaktar oss och vill avsluta familjeregi\n",
      "https://ica.atlassian.net/wiki/spaces/IBW/pages/25398513/Familjepaketet+Bankkort+Plus\n",
      "**Avslut familjepaketet**\n"
     ]
    }
   ],
   "source": [
    "for d in final:\n",
    "    print(\":\"*10)\n",
    "    print(len(d.page_content), d.page_content[:100])\n",
    "    print(d.metadata[\"source\"])\n",
    "    print(d.metadata[\"sub-title\"])\n"
   ]
  },
  {
   "cell_type": "code",
   "execution_count": null,
   "metadata": {},
   "outputs": [],
   "source": []
  },
  {
   "cell_type": "code",
   "execution_count": null,
   "metadata": {},
   "outputs": [],
   "source": []
  }
 ],
 "metadata": {
  "kernelspec": {
   "display_name": "confluence",
   "language": "python",
   "name": "python3"
  },
  "language_info": {
   "codemirror_mode": {
    "name": "ipython",
    "version": 3
   },
   "file_extension": ".py",
   "mimetype": "text/x-python",
   "name": "python",
   "nbconvert_exporter": "python",
   "pygments_lexer": "ipython3",
   "version": "3.11.7"
  }
 },
 "nbformat": 4,
 "nbformat_minor": 2
}
