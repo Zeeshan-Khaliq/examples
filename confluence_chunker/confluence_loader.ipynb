{
 "cells": [
  {
   "cell_type": "code",
   "execution_count": 1,
   "metadata": {},
   "outputs": [],
   "source": [
    "# !pip install langchain-community\n",
    "# !pip install langchain-core\n",
    "# !pip install tesseract\n",
    "# !pip install markdownify\n",
    "# ! pip install semantic-text-splitter\n",
    "# ! pip install unstructured\n",
    "# !pip install pytesseract\n",
    "# !pip install tesseract-ocr\n",
    "# !pip install docx2txt"
   ]
  },
  {
   "cell_type": "code",
   "execution_count": 1,
   "metadata": {},
   "outputs": [],
   "source": [
    "import os\n",
    "import re\n",
    "\n",
    "from langchain_community.document_loaders.confluence import ConfluenceLoader\n",
    "from dotenv import load_dotenv\n",
    "from typing import (Any,List)"
   ]
  },
  {
   "cell_type": "code",
   "execution_count": 2,
   "metadata": {},
   "outputs": [],
   "source": [
    "load_dotenv()\n",
    "persist_directory = \"./chroma_db/\"\n",
    "space_key = \"IBW\"\n",
    "confluence_url = os.getenv(\"CONFLUENE_URL\")\n",
    "username = os.getenv(\"CONFLUENCE_USERNAME\")\n",
    "api_key = os.getenv(\"CONFLUENCE_API_KEY\")"
   ]
  },
  {
   "cell_type": "code",
   "execution_count": 3,
   "metadata": {},
   "outputs": [
    {
     "name": "stderr",
     "output_type": "stream",
     "text": [
      "Received runtime arguments {'page_ids': [25397420, 25398513], 'include_attachments': False, 'include_comments': False, 'limit': 100, 'max_pages': 1000, 'keep_markdown_format': True}. Passing runtime args to `load` is deprecated. Please pass arguments during initialization instead.\n"
     ]
    }
   ],
   "source": [
    "from langchain_community.document_loaders.confluence import ContentFormat\n",
    "\n",
    "## 1. Extract the documents\n",
    "loader = ConfluenceLoader(\n",
    "    #content_format=ContentFormat.STORAGE,\n",
    "    url=confluence_url,\n",
    "    username = username,\n",
    "    api_key= api_key\n",
    ")\n",
    "\n",
    "documents = loader.load(\n",
    "    #space_key=space_key,\n",
    "    page_ids= [25397420, 25398513], # [26706543, 185500205], # 398098434 # bankens = 25398483, 25398513\n",
    "    include_attachments=False,\n",
    "    include_comments=False,\n",
    "    limit=100,\n",
    "    max_pages=1000,\n",
    "    keep_markdown_format=True,\n",
    "    )"
   ]
  },
  {
   "cell_type": "code",
   "execution_count": 4,
   "metadata": {},
   "outputs": [
    {
     "name": "stdout",
     "output_type": "stream",
     "text": [
      "number of document:  2\n"
     ]
    }
   ],
   "source": [
    "print(\"number of document: \", len(documents))"
   ]
  },
  {
   "cell_type": "code",
   "execution_count": 4,
   "metadata": {},
   "outputs": [
    {
     "data": {
      "text/plain": [
       "[Document(page_content='  \\n\\n\\n### **Allmän beskrivning**\\n\\n\\n\\n---\\n\\nICA Banken erbjuder två typer av bankkort för privatkunder, ICA Bankkort MasterCard och ICA Bankkort Plus MasterCard.\\xa0Sedan tidigare finns det även något som kallas för migrerat ICA kort. Våra bankkort är gratis de två första månaderna. Det finns ingen övre beloppsgräns från vår sida när kund handlar med korten (undantag gäller vid blipp-köp), så länge kund har det önskade saldot så kan hen handla oavsett summan.\\xa0ICA Bankkort MasterCard och ICA Bankkort Plus MasterCard\\xa0är öppna för köp över hela världen.  \\n\\xa0\\n\\n[Jämförelse av våra kort på hemsidan.](https://www.icabanken.se/kort-och-konto/vara-kort/jamfor-vara-kort/)\\n\\n### **Bankkort**\\n\\n\\n\\n---\\n\\n* Mastercard Debit\\n* Går att ha gemensamt.\\n* Innehåller Reseförsäkring och Matförsäkring.\\n* Gratis för Stammis Studenter och personer under 21 år.\\n* Grundkriterier för att ha möjlighet att bli beviljad kortet: fyllt 16 år (för yngre se sida: ) och bosatt inom EU/EEA.\\n* Månadsavgift/Cash Advance/Valutaväxlingspåslag enligt\\xa0[prislistan](https://www.icabanken.se/prislista/).\\n* Möjlighet att ansöka om upp till 50 000 kr i kontokredit. (Mer info här:\\xa0)\\n* Möjlighet till stammis och dubbel bonus.\\n\\n### **Bankkort Plus**\\n\\n\\n\\n---\\n\\n* Mastercard, betal och kreditkort\\n* Går att ha gemensamt.\\n* Går att delbetala.\\n* Innehåller Reseförsäkring, Trygghetsförsäkring och Matförsäkring.\\n* Gratis för Stammis Studenter (kräver att man redan har BK+ vid studentanmälan) och personer under 21 år.\\n* Grundkriterier för att ha möjlighet att bli beviljad kortet: fyllt 18 år, inga betalningsanmärkningar, fast inkomst och folkbokförd i Sverige.\\n* Månadsavgift/Cash Advance/Valutaväxlingspåslag enligt\\xa0[prislistan](https://www.icabanken.se/prislista/).\\n* Kopplas till två konton, ett direktkonto och ett fakturakonto. Direktkontot kopplat till ICA-köp och ATM-uttag. Fakturakontot externa köp och om inte täckning på Direktkotot vid ICA-köp.\\n* Obligatorisk kortkredit på lägst 20 000 kr, högst 100 000 kr, möjlighet att ansöka om kontokredit upp till 50 000 kr. (Mer info här:\\xa0.)\\n* Möjlighet till stammis och dubbel bonus.\\n.\\n\\nVilka transaktioner sker på direktkontot och vilka sker på fakturakontot?  \\n\\n\\n\\n\\n| Direktkontot | Fakturakontot |\\n| --- | --- |\\n| Köp hos ICA och Apotek Hjärtat.Om det saknas täckning på Direktkontot dras köp hos ICA och Apotek Hjärtat från Fakturakontot i stället.\\xa0**Exempel:**Det finns **100 kronor** på kundens **Direktkonto** och de görs ett köp på **150 kronor**. Då de **100 kronor** som finns på\\xa0**Direktkontot** inte räcker till för köpet på\\xa0**150 kronor** så dras hela beloppet från\\xa0**Fakturakontot** (så länge det finns täckning på fakturakontot).\\xa0Om det finns **100 kronor** på **Direktkontot**\\xa0och **100 kronor** på\\xa0**Fakturakontot** och man gör ett köp på\\xa0**150 kronor** kommer inte köpet gå igenom då det behöver finnas tillräckligt med täckning på\\xa0**ett** konto. Det kan alltså inte dras\\xa0**100 kronor** från ett konto och sedan resterande\\xa0**50 kronor** från det andra. | Kortköp (butik/internet) förutom om det är köp hos ICA/Apotek Hjärtat. Om det saknas täckning på Direktkontot dras **alla** kortköp här (även köp hos ICA och Apotek Hjärtat). |\\n| Räkningsbetalningar, överföringar och Swish. | Valutaköp/uttag över disk samt Cash Advance avgift. |\\n| Kontantuttag och kontantinsättning\\\\* | Kontantuttag genom att avrunda ett köp i kassan om det saknas täckning på direktkontot.\\\\* |\\n| Ev. kontokredit och i så fall även kreditavgiften. | Kortkredit. |\\n|  | Kortavgiften. |\\n\\n**\\\\***För mer information se rutin: Kontantinsättning, kontantuttag och avrundning i kassan\\n\\n### **Migrerat ICA Kort**\\n\\n\\n\\n---\\n\\nMigrerat ICA Kort är av kontotypen ID (utan kredit) eller IF (med kredit) och kontonumret börjar med siffran 9. Detta är bankkonton som är kopplade till ett rosa ICA Kort. Dessa konton tillhör banken och kunder med dessa skall få hjälp av banken. Korten fungerar bara i ICA:s butiker men genom kontot kan kunden betala räkningar och göra överföringar. Om kortet har CVC så fungerar det även för köp på: [www.ica.se](http://www.ica.se)   \\nHar kunden enbart ett lösenord kan denne beställa ut en Personlig dosa via bankens kundservice för att logga in på icabanken.se/ICA Bankens app.  \\n  \\n\\n\\nOmbeställa kort och kortkod**Guida kunden till att ombeställa kortet:**\\n\\n1. Logga in på\\xa0[www.ica.se](http://www.ica.se)\\n2. Klicka på ditt namn/dina initialer uppe till höger\\n3. Klicka på **Inställningar →****Dina kort\\xa0→\\xa0Spärra/beställ nytt →\\xa0Beställ nytt kort**\\n\\n  \\n\\n\\n**Guida kunden till att beställa hem kortkoden:**\\n\\n1. Logga in på\\xa0[www.ica.se](http://www.ica.se)\\n2. Klicka på ditt namn/dina initialer uppe till höger\\n3. Klicka på **Inställningar →****Dina kort\\xa0→ Beställ ny kod**\\n\\n**Via Centrica:**Läs mer på sida \\n\\n  \\n\\n\\n  \\n\\n\\nKan man göra signaturköp med ett migrerat kort?Ja, de rosa korten (oavsett om de är kopplade till ett bankkonto eller inte) omfattas inte av samma regler som bankkorten. Därför kan man handla med ett migrerat kort på ICA genom att visa upp sin legitimation och skriva under kvittot om man inte kan sin kortkod.\\xa0\\n\\n  \\n\\n\\nHur ser och ändrar jag ett autogiro till ett migrerat ICA kort?Följ rutin: \\n\\n  \\n\\n\\nSök efter annan rutin i Wikinpage\\n\\ngreensolidInnehåll på sidan3\\n\\n  \\n\\n\\nLäs merKortansökan för utvandrad person med svenskt personnummer\\n\\nKortansökan med svenskt personnummer och svensk adress\\n\\nFörmyndare och omyndig\\n\\n  \\n\\n\\n  \\n\\n\\n  \\n\\n\\n  \\n\\n\\n\\n\\n---\\n\\nDokumentägare och beslutsfattare: Produktchef Kortutgivning  \\n  \\nDokumenttyp: Arbetsbeskrivning\\n\\nSenast fastställd:\\xa02023-12-07\\n\\nMBX-Box ICA Banken Kort Och Betaltjänster\\n\\nSäkerhetsklass: S3  \\n  \\nReferens till interna styrdokument:\\xa0  \\nInstruktion för betaltjänster  \\n  \\n\\n\\nReferens till överordnade regelverk:\\xa0  \\nLag (2010:751) om betaltjänster\\n\\n', metadata={'title': 'Bankkort, Bankkort Plus och Migrerat ICA kort', 'id': '25397420', 'source': 'https://ica.atlassian.net/wiki/spaces/IBW/pages/25397420/Bankkort%2C+Bankkort+Plus+och+Migrerat+ICA+kort', 'when': '2024-03-19T14:27:11.684Z'}),\n",
       " Document(page_content='  \\n\\n\\n### **Allmän beskrivning**\\n\\n\\n\\n---\\n\\nICA Banken vill tillämpa en flexibel prissättning för de familjer som har ett eller flera Bankkort Plus i familjen. Registrering av Familj inom ICA Banken innebär att de personer som registrerats kan erhålla särskilt framtagna rabatter och/eller andra förmåner. Registrering av Familj inom ICA Banken är kostnadsfritt. Man betalar bara fullpris på ett Bankkort Plus i en familj, resten av korten är rabatterade.\\n\\nViktigt om kortavgiftenUnder en längre tid har vi haft ett fel i våra system som gör att båda kontohavarna\\xa0på ett gemensamt konto, om de anmält sig som familj,\\xa0får en kortavgift på 24 kr trots att en ska få betala 27 kr och en 24 kr. Det blir alltså bättre för kunden än vad villkoren anger och det är en svårlöst\\xa0bugg varpå detta inte är prioriterat, vi vet alltså inte när det åtgärdas.\\xa0Buggen ligger alla månader förutom december, varpå dragningen i december sker korrekt och en av kunderna får betala 27 kr och den andra 24 kr.\\n\\n### **Kriterier för att kunna registrera sig som familj**\\n\\n\\n\\n---\\n\\n* Anmälan behöver omfatta minst två personer.\\n* Minst en person behöver vara över 18 år, hen får inte vara barn eller syskon till någon annan i anmälan.\\n* Vid två vuxna i anmälan behöver de vara folkbokförda på samma svenska adress.\\n* Barn kan vara medregistrerade fram till 20 års ålder även om de bor på annan adress.\\n\\n#### Registrera familjepaketet\\n\\nVart hittar kunden blanketten?icabanken.se > Kort och betala> Kreditkort > Priser och räntor -> Registrera familj för att få rabatten\\n\\n#### Registrera tillägg familjepaketet\\n\\nRegistrera tilläggKunden skickar in en ny pappersansökan som Kundadmin tar emot och registrerar.\\n\\n### **Borttag av familjemedlem**\\n\\n\\n\\n---\\n\\nDenna rutin används då kund kontaktar oss och vill ta bort någon i familjeregistreringen. Uppsägning kan ske skriftligt, via säkra meddelanden samt via telefon om kunden är identifierad. Banken kan även avregistrera personer i Familj när förutsättningarna inte längre är uppfyllda.\\n\\nBorttag familjemedlem1. Sök fram familjen på KS43 och gå ner på raden och tryck enter.\\n2. Nu får du fram alla familjemedlemmar på KS44.\\n3. Gå ner till raden under F på den i familjen som inte ska vara med och sätt A och tryck enter.\\n4. Nu är personen borttagen från familjepaketet.\\n\\n### **Avslut familjepaketet**\\n\\n\\n\\n---\\n\\nDenna rutin används då kund kontaktar oss och vill avsluta familjeregistreringen. Uppsägning kan ske skriftligt, via säkra meddelanden samt via telefon om kunden är identifierad. Banken kan även\\xa0avsluta familjeregistreringen när förutsättningarna inte längre är uppfyllda.\\n\\nAvslut Familjepaketet1. Sök fram familjen på KS43 och gå ner på raden och tryck enter.\\n2. Nu får ni fram alla familjemedlemmar på KS44.\\n3. Gå ner till Funktion och sätt A för avslut och välj J/N om ni ska skicka ut ett Avslutsbekräftelse till kund eller inte och tryck enter.\\n4. Nu är hela familjepaketet avslutat.\\n\\n  \\n\\n\\nSök efter annan rutin i Wikinpage\\n\\ngreensolidInnehåll på sidan3\\n\\n  \\n\\n\\nLäs mer  \\n\\n\\n  \\n\\n\\n  \\n\\n\\n\\n\\n---\\n\\nDokumentägare och beslutsfattare: Produktchef Kortutgivning  \\n  \\nDokumenttyp: Arbetsbeskrivning\\n\\nSenast fastställd: 2023-09-25\\n\\nMBX-Box ICA Banken Kort Och Betaltjänster\\n\\nSäkerhetsklass: S3\\n\\nReferens till överordnade regelverk:\\n\\n', metadata={'title': 'Familjepaketet Bankkort Plus', 'id': '25398513', 'source': 'https://ica.atlassian.net/wiki/spaces/IBW/pages/25398513/Familjepaketet+Bankkort+Plus', 'when': '2023-10-10T13:16:23.388Z'})]"
      ]
     },
     "execution_count": 4,
     "metadata": {},
     "output_type": "execute_result"
    }
   ],
   "source": [
    "documents"
   ]
  },
  {
   "attachments": {},
   "cell_type": "markdown",
   "metadata": {},
   "source": [
    "## Using Langchain's Recursive and Markdown splitter\n",
    "Split documents and create text snippets based on `\\n, \\n\\n`\n",
    "\n",
    "CharacterTextSplitters (both recursive and plain) will merge multiple small tables into 1.\n"
   ]
  },
  {
   "cell_type": "code",
   "execution_count": 307,
   "metadata": {},
   "outputs": [
    {
     "data": {
      "text/plain": [
       "[Document(page_content='| **temp**  | **a**  | **b** |\\n| --- | --- | --- |\\n| 1 | 2 | 3 |\\n| 4 | 5 | 6 |', metadata={'title': 'Test page with one table', 'id': '661258242', 'source': 'https://ica.atlassian.net/wiki/spaces/BOI/pages/661258242/Test+page+with+one+table', 'when': '2024-03-26T07:33:17.802Z'})]"
      ]
     },
     "execution_count": 307,
     "metadata": {},
     "output_type": "execute_result"
    }
   ],
   "source": [
    "text_splitter = RecursiveCharacterTextSplitter(chunk_size=1000, chunk_overlap=0)\n",
    "texts_recursive = text_splitter.split_documents(documents)\n",
    "texts_recursive\n"
   ]
  },
  {
   "cell_type": "code",
   "execution_count": 45,
   "metadata": {},
   "outputs": [
    {
     "name": "stdout",
     "output_type": "stream",
     "text": [
      "total_chunks:  8\n",
      "Length of each chunk:  [831, 999, 1000, 1000, 743, 12, 863, 172]\n"
     ]
    }
   ],
   "source": [
    "print(\"total_chunks: \", len(texts_recursive))\n",
    "print(\"Length of each chunk: \", [len(x.page_content) for x in texts_recursive])"
   ]
  },
  {
   "cell_type": "code",
   "execution_count": 46,
   "metadata": {},
   "outputs": [
    {
     "data": {
      "text/plain": [
       "[Document(page_content='## \\xa0Objective\\n\\nThe goal is to build a next generation Chatbot based on LLMs for the bank which replaces the current Chatbot that is based on hard-coded workflows.\\n\\n##  Business Value\\n\\nPotential business value from improved Chatbot\\u200b\\n\\n* Improving 1st call resolutions???\\n* Improve availability of customer service -> 24/7\\u200b\\n* Improve customer satisfaction\\n* Minimizing NVA calls (Enabling customer service agents to work with more high-value calls\\u200b)\\n* To reduce the overhead of maintaining the \"scripts\" [scripts are the current static workflows through which a user query passes to get an answer].\\n\\n## \\xa0Success metrics\\n\\nFollowing are some of the success metrics. [More ca]\\n\\n\\n\\n| **Goal** | **Metric** |\\n| --- | --- |\\n| Improve Customer SatisfactionThis is after newlines | Customer satisfaction score increases |\\n|  |  |', metadata={'title': 'BankGPT - Customer Facing', 'id': '562233517', 'source': 'https://ica.atlassian.net/wiki/spaces/BOI/pages/562233517/BankGPT+-+Customer+Facing', 'when': '2024-03-25T08:52:18.032Z'}),\n",
       " Document(page_content='## \\xa0Timeline', metadata={'title': 'BankGPT - Customer Facing', 'id': '562233517', 'source': 'https://ica.atlassian.net/wiki/spaces/BOI/pages/562233517/BankGPT+-+Customer+Facing', 'when': '2024-03-25T08:52:18.032Z'}),\n",
       " Document(page_content='true%7B%22title%22%3A%22Roadmap%20Planner%22%2C%22timeline%22%3A%7B%22startDate%22%3A%222024-01-01%2000%3A00%3A00%22%2C%22endDate%22%3A%222024-08-01%2000%3A00%3A00%22%2C%22displayOption%22%3A%22MONTH%22%7D%2C%22lanes%22%3A%5B%7B%22title%22%3A%22Data%22%2C%22color%22%3A%7B%22lane%22%3A%22%23f6c342%22%2C%22bar%22%3A%22%23fadb8e%22%2C%22text%22%3A%22%23594300%22%2C%22count%22%3A1%7D%2C%22bars%22%3A%5B%7B%22title%22%3A%22Feature%201%22%2C%22description%22%3A%22This%20is%20the%20first%20bar.%22%2C%22startDate%22%3A%222021-12-10%2019%3A43%3A21%22%2C%22duration%22%3A2%2C%22rowIndex%22%3A0%2C%22id%22%3A%22eeb2d902-e723-4ff0-a10d-43a5793089a4%22%2C%22pageLink%22%3A%7B%7D%7D%2C%7B%22rowIndex%22%3A1%2C%22startDate%22%3A%222022-03-13%2007%3A39%3A12%22%2C%22id%22%3A%2290251c8c-3b74-4d2b-b850-684ffd40514b%22%2C%22title%22%3A%22Feature%203%22%2C%22description%22%3A%22%22%2C%22duration%22%3A2.00990099009901%2C%22pageLink%22%3A%7B%7D%7D%2C%7B%22rowIndex%22%3A2%2C%22startDate%22%3A%222022-04-24%2011%3A', metadata={'title': 'BankGPT - Customer Facing', 'id': '562233517', 'source': 'https://ica.atlassian.net/wiki/spaces/BOI/pages/562233517/BankGPT+-+Customer+Facing', 'when': '2024-03-25T08:52:18.032Z'}),\n",
       " Document(page_content='10%3A05%22%2C%22id%22%3A%22d0529fe8-6c8c-45e8-8078-d75c2f063dd9%22%2C%22title%22%3A%22Feature%204%22%2C%22description%22%3A%22%22%2C%22duration%22%3A2.01980198019802%2C%22pageLink%22%3A%7B%7D%7D%2C%7B%22rowIndex%22%3A0%2C%22startDate%22%3A%222024-01-01%2006%3A08%3A18%22%2C%22id%22%3A%22f3d8bda7-5267-465e-9619-43c73d3763ea%22%2C%22title%22%3A%22Get%20Access%20to%20data%20sources%22%2C%22description%22%3A%22Identify%20Data%22%2C%22duration%22%3A1.353135306930693%2C%22pageLink%22%3A%7B%7D%7D%2C%7B%22rowIndex%22%3A1%2C%22startDate%22%3A%222024-02-10%2017%3A08%3A54%22%2C%22id%22%3A%2240b554e4-4809-401a-8ec2-3d8b94a9b321%22%2C%22title%22%3A%22Clean%20Data%20%26%20Decision%20on%20what%20goes%20into%20the%20model%22%2C%22description%22%3A%22%22%2C%22duration%22%3A1.2244224356435642%2C%22pageLink%22%3A%7B%7D%7D%5D%7D%2C%7B%22title%22%3A%22Implementation%22%2C%22color%22%3A%7B%22lane%22%3A%22%233b7fc4%22%2C%22bar%22%3A%22%236c9fd3%22%2C%22text%22%3A%22%23ffffff%22%2C%22count%22%3A1%7D%2C%22bars%', metadata={'title': 'BankGPT - Customer Facing', 'id': '562233517', 'source': 'https://ica.atlassian.net/wiki/spaces/BOI/pages/562233517/BankGPT+-+Customer+Facing', 'when': '2024-03-25T08:52:18.032Z'}),\n",
       " Document(page_content='22%3A%5B%7B%22title%22%3A%22iOS%20App%22%2C%22description%22%3A%22This%20is%20the%20third%20bar.%22%2C%22startDate%22%3A%222022-01-13%2014%3A01%3A11%22%2C%22duration%22%3A2.5%2C%22rowIndex%22%3A0%2C%22id%22%3A%22dd93afcd-2704-4253-adb8-809a336cc5ba%22%2C%22pageLink%22%3A%7B%7D%7D%2C%7B%22rowIndex%22%3A0%2C%22startDate%22%3A%222022-04-23%2013%3A46%3A55%22%2C%22id%22%3A%228dc8bc2d-b7cb-44a8-b526-7d1ede51f690%22%2C%22title%22%3A%22Android%22%2C%22description%22%3A%22%22%2C%22duration%22%3A2.4752475247524752%2C%22pageLink%22%3A%7B%7D%7D%2C%7B%22rowIndex%22%3A0%2C%22startDate%22%3A%222024-03-15%2000%3A23%3A45%22%2C%22id%22%3A%22b50d576b-6913-4b83-8dcf-e2fc3b94bd33%22%2C%22title%22%3A%22Create%20RAG%20based%20solution%22%2C%22description%22%3A%22%22%2C%22duration%22%3A1.561056099009901%2C%22pageLink%22%3A%7B%7D%7D%5D%7D%2C%7B%22title%22%3A%22Test%22%2C%22color%22%3A%7B%22lane%22%3A%22%23d04437%22%2C%22bar%22%3A%22%23d04437%22%2C%22text%22%3A%22%23ffffff%22%2C%22count%22%3A1%7D%2C%22bars%22%3', metadata={'title': 'BankGPT - Customer Facing', 'id': '562233517', 'source': 'https://ica.atlassian.net/wiki/spaces/BOI/pages/562233517/BankGPT+-+Customer+Facing', 'when': '2024-03-25T08:52:18.032Z'}),\n",
       " Document(page_content='A%5B%7B%22rowIndex%22%3A0%2C%22startDate%22%3A%222024-02-28%2020%3A26%3A08%22%2C%22id%22%3A%2200b27dc9-7c0d-403d-b342-1b73ef61321c%22%2C%22title%22%3A%22Decide%20on%20pilot%20testing%22%2C%22description%22%3A%22%22%2C%22duration%22%3A3.1353135247524753%2C%22pageLink%22%3A%7B%7D%7D%5D%7D%5D%2C%22markers%22%3A%5B%7B%22title%22%3A%22Milestone%201%22%2C%22markerDate%22%3A%222022-04-28%2007%3A50%3A29%22%7D%2C%7B%22markerDate%22%3A%222022-08-25%2020%3A40%3A23%22%2C%22title%22%3A%22Go%2FNo%20go%22%7D%2C%7B%22markerDate%22%3A%222022-06-25%2008%3A33%3A16%22%2C%22title%22%3A%22Milestone%202%22%7D%2C%7B%22markerDate%22%3A%222024-05-02%2012%3A49%3A54%22%2C%22title%22%3A%22MVP%20ready%22%7D%5D%7DRoadmap%20Planner35aefc2557f7aa1a2977dffcf0948046##', metadata={'title': 'BankGPT - Customer Facing', 'id': '562233517', 'source': 'https://ica.atlassian.net/wiki/spaces/BOI/pages/562233517/BankGPT+-+Customer+Facing', 'when': '2024-03-25T08:52:18.032Z'}),\n",
       " Document(page_content='Requirements', metadata={'title': 'BankGPT - Customer Facing', 'id': '562233517', 'source': 'https://ica.atlassian.net/wiki/spaces/BOI/pages/562233517/BankGPT+-+Customer+Facing', 'when': '2024-03-25T08:52:18.032Z'}),\n",
       " Document(page_content=\"| **Requirement** | **User Story** | **Importance** | **Jira Issue** | **Notes** |\\n| --- | --- | --- | --- | --- |\\n| An FAQ chatbot that has the ability to have a conversation with the customer and is augmented only with publicly available information | e.g., John is a PM who wants to check on his team's progress from the train station | HIGHRed |  |  |\\n| \\xa0 | \\xa0 | \\xa0 | \\xa0 | \\xa0 |\", metadata={'title': 'BankGPT - Customer Facing', 'id': '562233517', 'source': 'https://ica.atlassian.net/wiki/spaces/BOI/pages/562233517/BankGPT+-+Customer+Facing', 'when': '2024-03-25T08:52:18.032Z'}),\n",
       " Document(page_content=\"## \\xa0Open Questions\\n\\n\\n\\n| **Question** | **Answer** | **Date Answered** |\\n| --- | --- | --- |\\n| Who owns the data that we want to augment the LLMs with? | e.g., We'll announce the feature with a blog post and a presentation | Type // to add a date |\\n\\n## \\xa0Out of Scope\\n\\n* Customer related data\\n\\n##  Business Stakeholders\\n\\n\\n\\n| **Name** | **Role** |\\n| --- | --- |\\n| Martin Frossmed Ulmhage | Head of value stream Care |\\n| Erik Milbredt | PO for Banken’s current chatbot |\\n\\n##  Project Team\\n\\n\\n\\n| **Name** | **Role** |\\n| --- | --- |\\n| Jakob Tardelius Hemborg | Unit Lead Data and Analytics |\\n| Zeeshan Khaliq | Senior Data Scientist |\\n| Peter Henel | Data Architect |\", metadata={'title': 'BankGPT - Customer Facing', 'id': '562233517', 'source': 'https://ica.atlassian.net/wiki/spaces/BOI/pages/562233517/BankGPT+-+Customer+Facing', 'when': '2024-03-25T08:52:18.032Z'})]"
      ]
     },
     "execution_count": 46,
     "metadata": {},
     "output_type": "execute_result"
    }
   ],
   "source": [
    "text_splitter = MarkdownTextSplitter(chunk_size=1000, chunk_overlap=0)\n",
    "texts_md = text_splitter.split_documents(documents)\n",
    "texts_md"
   ]
  },
  {
   "cell_type": "code",
   "execution_count": 47,
   "metadata": {},
   "outputs": [
    {
     "name": "stdout",
     "output_type": "stream",
     "text": [
      "total_chunks:  9\n",
      "Length of each chunk:  [817, 12, 999, 1000, 1000, 743, 12, 377, 660]\n"
     ]
    }
   ],
   "source": [
    "print(\"total_chunks: \", len(texts_md))\n",
    "print(\"Length of each chunk: \", [len(x.page_content) for x in texts_md])"
   ]
  },
  {
   "cell_type": "code",
   "execution_count": 48,
   "metadata": {},
   "outputs": [
    {
     "name": "stderr",
     "output_type": "stream",
     "text": [
      "Created a chunk of size 3756, which is longer than the specified 1000\n"
     ]
    },
    {
     "data": {
      "text/plain": [
       "[Document(page_content='## \\xa0Objective\\n\\nThe goal is to build a next generation Chatbot based on LLMs for the bank which replaces the current Chatbot that is based on hard-coded workflows.\\n\\n##  Business Value\\n\\nPotential business value from improved Chatbot\\u200b\\n\\n* Improving 1st call resolutions???\\n* Improve availability of customer service -> 24/7\\u200b\\n* Improve customer satisfaction\\n* Minimizing NVA calls (Enabling customer service agents to work with more high-value calls\\u200b)\\n* To reduce the overhead of maintaining the \"scripts\" [scripts are the current static workflows through which a user query passes to get an answer].\\n\\n## \\xa0Success metrics\\n\\nFollowing are some of the success metrics. [More ca]\\n\\n| **Goal** | **Metric** |\\n| --- | --- |\\n| Improve Customer SatisfactionThis is after newlines | Customer satisfaction score increases |\\n|  |  |\\n\\n## \\xa0Timeline', metadata={'title': 'BankGPT - Customer Facing', 'id': '562233517', 'source': 'https://ica.atlassian.net/wiki/spaces/BOI/pages/562233517/BankGPT+-+Customer+Facing', 'when': '2024-03-25T08:52:18.032Z'}),\n",
       " Document(page_content='true%7B%22title%22%3A%22Roadmap%20Planner%22%2C%22timeline%22%3A%7B%22startDate%22%3A%222024-01-01%2000%3A00%3A00%22%2C%22endDate%22%3A%222024-08-01%2000%3A00%3A00%22%2C%22displayOption%22%3A%22MONTH%22%7D%2C%22lanes%22%3A%5B%7B%22title%22%3A%22Data%22%2C%22color%22%3A%7B%22lane%22%3A%22%23f6c342%22%2C%22bar%22%3A%22%23fadb8e%22%2C%22text%22%3A%22%23594300%22%2C%22count%22%3A1%7D%2C%22bars%22%3A%5B%7B%22title%22%3A%22Feature%201%22%2C%22description%22%3A%22This%20is%20the%20first%20bar.%22%2C%22startDate%22%3A%222021-12-10%2019%3A43%3A21%22%2C%22duration%22%3A2%2C%22rowIndex%22%3A0%2C%22id%22%3A%22eeb2d902-e723-4ff0-a10d-43a5793089a4%22%2C%22pageLink%22%3A%7B%7D%7D%2C%7B%22rowIndex%22%3A1%2C%22startDate%22%3A%222022-03-13%2007%3A39%3A12%22%2C%22id%22%3A%2290251c8c-3b74-4d2b-b850-684ffd40514b%22%2C%22title%22%3A%22Feature%203%22%2C%22description%22%3A%22%22%2C%22duration%22%3A2.00990099009901%2C%22pageLink%22%3A%7B%7D%7D%2C%7B%22rowIndex%22%3A2%2C%22startDate%22%3A%222022-04-24%2011%3A10%3A05%22%2C%22id%22%3A%22d0529fe8-6c8c-45e8-8078-d75c2f063dd9%22%2C%22title%22%3A%22Feature%204%22%2C%22description%22%3A%22%22%2C%22duration%22%3A2.01980198019802%2C%22pageLink%22%3A%7B%7D%7D%2C%7B%22rowIndex%22%3A0%2C%22startDate%22%3A%222024-01-01%2006%3A08%3A18%22%2C%22id%22%3A%22f3d8bda7-5267-465e-9619-43c73d3763ea%22%2C%22title%22%3A%22Get%20Access%20to%20data%20sources%22%2C%22description%22%3A%22Identify%20Data%22%2C%22duration%22%3A1.353135306930693%2C%22pageLink%22%3A%7B%7D%7D%2C%7B%22rowIndex%22%3A1%2C%22startDate%22%3A%222024-02-10%2017%3A08%3A54%22%2C%22id%22%3A%2240b554e4-4809-401a-8ec2-3d8b94a9b321%22%2C%22title%22%3A%22Clean%20Data%20%26%20Decision%20on%20what%20goes%20into%20the%20model%22%2C%22description%22%3A%22%22%2C%22duration%22%3A1.2244224356435642%2C%22pageLink%22%3A%7B%7D%7D%5D%7D%2C%7B%22title%22%3A%22Implementation%22%2C%22color%22%3A%7B%22lane%22%3A%22%233b7fc4%22%2C%22bar%22%3A%22%236c9fd3%22%2C%22text%22%3A%22%23ffffff%22%2C%22count%22%3A1%7D%2C%22bars%22%3A%5B%7B%22title%22%3A%22iOS%20App%22%2C%22description%22%3A%22This%20is%20the%20third%20bar.%22%2C%22startDate%22%3A%222022-01-13%2014%3A01%3A11%22%2C%22duration%22%3A2.5%2C%22rowIndex%22%3A0%2C%22id%22%3A%22dd93afcd-2704-4253-adb8-809a336cc5ba%22%2C%22pageLink%22%3A%7B%7D%7D%2C%7B%22rowIndex%22%3A0%2C%22startDate%22%3A%222022-04-23%2013%3A46%3A55%22%2C%22id%22%3A%228dc8bc2d-b7cb-44a8-b526-7d1ede51f690%22%2C%22title%22%3A%22Android%22%2C%22description%22%3A%22%22%2C%22duration%22%3A2.4752475247524752%2C%22pageLink%22%3A%7B%7D%7D%2C%7B%22rowIndex%22%3A0%2C%22startDate%22%3A%222024-03-15%2000%3A23%3A45%22%2C%22id%22%3A%22b50d576b-6913-4b83-8dcf-e2fc3b94bd33%22%2C%22title%22%3A%22Create%20RAG%20based%20solution%22%2C%22description%22%3A%22%22%2C%22duration%22%3A1.561056099009901%2C%22pageLink%22%3A%7B%7D%7D%5D%7D%2C%7B%22title%22%3A%22Test%22%2C%22color%22%3A%7B%22lane%22%3A%22%23d04437%22%2C%22bar%22%3A%22%23d04437%22%2C%22text%22%3A%22%23ffffff%22%2C%22count%22%3A1%7D%2C%22bars%22%3A%5B%7B%22rowIndex%22%3A0%2C%22startDate%22%3A%222024-02-28%2020%3A26%3A08%22%2C%22id%22%3A%2200b27dc9-7c0d-403d-b342-1b73ef61321c%22%2C%22title%22%3A%22Decide%20on%20pilot%20testing%22%2C%22description%22%3A%22%22%2C%22duration%22%3A3.1353135247524753%2C%22pageLink%22%3A%7B%7D%7D%5D%7D%5D%2C%22markers%22%3A%5B%7B%22title%22%3A%22Milestone%201%22%2C%22markerDate%22%3A%222022-04-28%2007%3A50%3A29%22%7D%2C%7B%22markerDate%22%3A%222022-08-25%2020%3A40%3A23%22%2C%22title%22%3A%22Go%2FNo%20go%22%7D%2C%7B%22markerDate%22%3A%222022-06-25%2008%3A33%3A16%22%2C%22title%22%3A%22Milestone%202%22%7D%2C%7B%22markerDate%22%3A%222024-05-02%2012%3A49%3A54%22%2C%22title%22%3A%22MVP%20ready%22%7D%5D%7DRoadmap%20Planner35aefc2557f7aa1a2977dffcf0948046## \\xa0Requirements', metadata={'title': 'BankGPT - Customer Facing', 'id': '562233517', 'source': 'https://ica.atlassian.net/wiki/spaces/BOI/pages/562233517/BankGPT+-+Customer+Facing', 'when': '2024-03-25T08:52:18.032Z'}),\n",
       " Document(page_content=\"| **Requirement** | **User Story** | **Importance** | **Jira Issue** | **Notes** |\\n| --- | --- | --- | --- | --- |\\n| An FAQ chatbot that has the ability to have a conversation with the customer and is augmented only with publicly available information | e.g., John is a PM who wants to check on his team's progress from the train station | HIGHRed |  |  |\\n| \\xa0 | \\xa0 | \\xa0 | \\xa0 | \\xa0 |\\n\\n## \\xa0Open Questions\\n\\n| **Question** | **Answer** | **Date Answered** |\\n| --- | --- | --- |\\n| Who owns the data that we want to augment the LLMs with? | e.g., We'll announce the feature with a blog post and a presentation | Type // to add a date |\\n\\n## \\xa0Out of Scope\\n\\n* Customer related data\\n\\n##  Business Stakeholders\\n\\n| **Name** | **Role** |\\n| --- | --- |\\n| Martin Frossmed Ulmhage | Head of value stream Care |\\n| Erik Milbredt | PO for Banken’s current chatbot |\\n\\n##  Project Team\", metadata={'title': 'BankGPT - Customer Facing', 'id': '562233517', 'source': 'https://ica.atlassian.net/wiki/spaces/BOI/pages/562233517/BankGPT+-+Customer+Facing', 'when': '2024-03-25T08:52:18.032Z'}),\n",
       " Document(page_content='| **Name** | **Role** |\\n| --- | --- |\\n| Jakob Tardelius Hemborg | Unit Lead Data and Analytics |\\n| Zeeshan Khaliq | Senior Data Scientist |\\n| Peter Henel | Data Architect |', metadata={'title': 'BankGPT - Customer Facing', 'id': '562233517', 'source': 'https://ica.atlassian.net/wiki/spaces/BOI/pages/562233517/BankGPT+-+Customer+Facing', 'when': '2024-03-25T08:52:18.032Z'})]"
      ]
     },
     "execution_count": 48,
     "metadata": {},
     "output_type": "execute_result"
    }
   ],
   "source": [
    "text_splitter = CharacterTextSplitter(chunk_size=1000, chunk_overlap=0)\n",
    "texts_text = text_splitter.split_documents(documents)\n",
    "texts_text"
   ]
  },
  {
   "cell_type": "code",
   "execution_count": 49,
   "metadata": {},
   "outputs": [
    {
     "name": "stdout",
     "output_type": "stream",
     "text": [
      "total_chunks:  4\n",
      "Length of each chunk:  [829, 3756, 859, 172]\n"
     ]
    }
   ],
   "source": [
    "print(\"total_chunks: \", len(texts_text))\n",
    "print(\"Length of each chunk: \", [len(x.page_content) for x in texts_text])"
   ]
  },
  {
   "cell_type": "code",
   "execution_count": 50,
   "metadata": {},
   "outputs": [
    {
     "data": {
      "text/plain": [
       "[Document(page_content='## \\xa0Objective\\n\\nThe goal is to build a next generation Chatbot based on LLMs for the bank which replaces the current Chatbot that is based on hard-coded workflows.\\n\\n##  Business Value\\n\\nPotential business value from improved Chatbot\\u200b\\n\\n* Improving 1st call resolutions???\\n* Improve availability of customer service -> 24/7\\u200b\\n* Improve customer satisfaction\\n* Minimizing NVA calls (Enabling customer service agents to work with more high-value calls\\u200b)\\n* To reduce the overhead of maintaining the \"scripts\" [scripts are the current static workflows through which a user query passes to get an answer].\\n\\n## \\xa0Success metrics\\n\\nFollowing are some of the success metrics. [More ca]\\n\\n\\n\\n| **Goal** | **Metric** |\\n| --- | --- |\\n| Improve Customer SatisfactionThis is after newlines | Customer satisfaction score increases |\\n|  |  |\\n\\n## \\xa0Timeline\\n\\ntrue%7B%22title%22%3A%22Roadmap%20Planner%22%2C%22timeline%22%3A%7B%22startDate%22%3A%222024-01-01%2000%3A00%3A00%22%2C%22endDate%22%3A%222024-08-01%2000%3A00%3A00%22%2C%22displayOption%22%3A%22MONTH%22%7D%2C%22lanes%22%3A%5B%7B%22title%22%3A%22Data%22%2C%22color%22%3A%7B%22lane%22%3A%22%23f6c342%22%2C%22bar%22%3A%22%23fadb8e%22%2C%22text%22%3A%22%23594300%22%2C%22count%22%3A1%7D%2C%22bars%22%3A%5B%7B%22title%22%3A%22Feature%201%22%2C%22description%22%3A%22This%20is%20the%20first%20bar.%22%2C%22startDate%22%3A%222021-12-10%2019%3A43%3A21%22%2C%22duration%22%3A2%2C%22rowIndex%22%3A0%2C%22id%22%3A%22eeb2d902-e723-4ff0-a10d-43a5793089a4%22%2C%22pageLink%22%3A%7B%7D%7D%2C%7B%22rowIndex%22%3A1%2C%22startDate%22%3A%222022-03-13%2007%3A39%3A12%22%2C%22id%22%3A%2290251c8c-3b74-4d2b-b850-684ffd40514b%22%2C%22title%22%3A%22Feature%203%22%2C%22description%22%3A%22%22%2C%22duration%22%3A2.00990099009901%2C%22pageLink%22%3A%7B%7D%7D%2C%7B%22rowIndex%22%3A2%2C%22startDate%22%3A%222022-04-24%2011%3A10%3A05%22%2C%22id%22%3A%22d0529fe8-6c8c-45e8-8078-d75c2f063dd9%22%2C%22title%22%3A%22Feature%204%22%2C%22description%22%3A%22%22%2C%22duration%22%3A2.01980198019802%2C%22pageLink%22%3A%7B%7D%7D%2C%7B%22rowIndex%22%3A0%2C%22startDate%22%3A%222024-01-01%2006%3A08%3A18%22%2C%22id%22%3A%22f3d8bda7-5267-465e-9619-43c73d3763ea%22%2C%22title', metadata={'title': 'BankGPT - Customer Facing', 'id': '562233517', 'source': 'https://ica.atlassian.net/wiki/spaces/BOI/pages/562233517/BankGPT+-+Customer+Facing', 'when': '2024-03-25T08:52:18.032Z'}),\n",
       " Document(page_content='%22%3A%22Get%20Access%20to%20data%20sources%22%2C%22description%22%3A%22Identify%20Data%22%2C%22duration%22%3A1.353135306930693%2C%22pageLink%22%3A%7B%7D%7D%2C%7B%22rowIndex%22%3A1%2C%22startDate%22%3A%222024-02-10%2017%3A08%3A54%22%2C%22id%22%3A%2240b554e4-4809-401a-8ec2-3d8b94a9b321%22%2C%22title%22%3A%22Clean%20Data%20%26%20Decision%20on%20what%20goes%20into%20the%20model%22%2C%22description%22%3A%22%22%2C%22duration%22%3A1.2244224356435642%2C%22pageLink%22%3A%7B%7D%7D%5D%7D%2C%7B%22title%22%3A%22Implementation%22%2C%22color%22%3A%7B%22lane%22%3A%22%233b7fc4%22%2C%22bar%22%3A%22%236c9fd3%22%2C%22text%22%3A%22%23ffffff%22%2C%22count%22%3A1%7D%2C%22bars%22%3A%5B%7B%22title%22%3A%22iOS%20App%22%2C%22description%22%3A%22This%20is%20the%20third%20bar.%22%2C%22startDate%22%3A%222022-01-13%2014%3A01%3A11%22%2C%22duration%22%3A2.5%2C%22rowIndex%22%3A0%2C%22id%22%3A%22dd93afcd-2704-4253-adb8-809a336cc5ba%22%2C%22pageLink%22%3A%7B%7D%7D%2C%7B%22rowIndex%22%3A0%2C%22startDate%22%3A%222022-04-23%2013%3A46%3A55%22%2C%22id%22%3A%228dc8bc2d-b7cb-44a8-b526-7d1ede51f690%22%2C%22title%22%3A%22Android%22%2C%22description%22%3A%22%22%2C%22duration%22%3A2.4752475247524752%2C%22pageLink%22%3A%7B%7D%7D%2C%7B%22rowIndex%22%3A0%2C%22startDate%22%3A%222024-03-15%2000%3A23%3A45%22%2C%22id%22%3A%22b50d576b-6913-4b83-8dcf-e2fc3b94bd33%22%2C%22title%22%3A%22Create%20RAG%20based%20solution%22%2C%22description%22%3A%22%22%2C%22duration%22%3A1.561056099009901%2C%22pageLink%22%3A%7B%7D%7D%5D%7D%2C%7B%22title%22%3A%22Test%22%2C%22color%22%3A%7B%22lane%22%3A%22%23d04437%22%2C%22bar%22%3A%22%23d04437%22%2C%22text%22%3A%22%23ffffff%22%2C%22count%22%3A1%7D%2C%22bars%22%3A%5B%7', metadata={'title': 'BankGPT - Customer Facing', 'id': '562233517', 'source': 'https://ica.atlassian.net/wiki/spaces/BOI/pages/562233517/BankGPT+-+Customer+Facing', 'when': '2024-03-25T08:52:18.032Z'}),\n",
       " Document(page_content=\"B%22rowIndex%22%3A0%2C%22startDate%22%3A%222024-02-28%2020%3A26%3A08%22%2C%22id%22%3A%2200b27dc9-7c0d-403d-b342-1b73ef61321c%22%2C%22title%22%3A%22Decide%20on%20pilot%20testing%22%2C%22description%22%3A%22%22%2C%22duration%22%3A3.1353135247524753%2C%22pageLink%22%3A%7B%7D%7D%5D%7D%5D%2C%22markers%22%3A%5B%7B%22title%22%3A%22Milestone%201%22%2C%22markerDate%22%3A%222022-04-28%2007%3A50%3A29%22%7D%2C%7B%22markerDate%22%3A%222022-08-25%2020%3A40%3A23%22%2C%22title%22%3A%22Go%2FNo%20go%22%7D%2C%7B%22markerDate%22%3A%222022-06-25%2008%3A33%3A16%22%2C%22title%22%3A%22Milestone%202%22%7D%2C%7B%22markerDate%22%3A%222024-05-02%2012%3A49%3A54%22%2C%22title%22%3A%22MVP%20ready%22%7D%5D%7DRoadmap%20Planner35aefc2557f7aa1a2977dffcf0948046## \\xa0Requirements\\n\\n\\n\\n| **Requirement** | **User Story** | **Importance** | **Jira Issue** | **Notes** |\\n| --- | --- | --- | --- | --- |\\n| An FAQ chatbot that has the ability to have a conversation with the customer and is augmented only with publicly available information | e.g., John is a PM who wants to check on his team's progress from the train station | HIGHRed |  |  |\\n| \\xa0 | \\xa0 | \\xa0 | \\xa0 | \\xa0 |\\n\\n## \\xa0Open Questions\\n\\n\\n\\n| **Question** | **Answer** | **Date Answered** |\\n| --- | --- | --- |\\n| Who owns the data that we want to augment the LLMs with? | e.g., We'll announce the feature with a blog post and a presentation | Type // to add a date |\\n\\n## \\xa0Out of Scope\\n\\n* Customer related data\\n\\n##  Business Stakeholders\\n\\n\\n\\n| **Name** | **Role** |\\n| --- | --- |\\n| Martin Frossmed Ulmhage | Head of value stream Care |\\n| Erik Milbredt | PO for Banken’s current chatbot |\\n\\n##  Project Team\\n\\n\\n\\n| **Name** | **Role** |\\n| --- | --- |\\n| Jakob Tardelius Hemborg | Unit Lead Data and Analytics |\\n| Zeeshan Khaliq | Senior Data Scientist |\\n| Peter Henel | Data Architect |\\n\\n\", metadata={'title': 'BankGPT - Customer Facing', 'id': '562233517', 'source': 'https://ica.atlassian.net/wiki/spaces/BOI/pages/562233517/BankGPT+-+Customer+Facing', 'when': '2024-03-25T08:52:18.032Z'})]"
      ]
     },
     "execution_count": 50,
     "metadata": {},
     "output_type": "execute_result"
    }
   ],
   "source": [
    "text_splitter = TokenTextSplitter(chunk_size=1000, chunk_overlap=0, encoding_name=\"cl100k_base\")  # This the encoding for text-embedding-ada-002\n",
    "texts_token = text_splitter.split_documents(documents)\n",
    "texts_token"
   ]
  },
  {
   "cell_type": "code",
   "execution_count": 51,
   "metadata": {},
   "outputs": [
    {
     "name": "stderr",
     "output_type": "stream",
     "text": [
      "Created a chunk of size 3756, which is longer than the specified 1000\n"
     ]
    },
    {
     "data": {
      "text/plain": [
       "[Document(page_content='## \\xa0Objective\\n\\nThe goal is to build a next generation Chatbot based on LLMs for the bank which replaces the current Chatbot that is based on hard-coded workflows.\\n\\n##  Business Value\\n\\nPotential business value from improved Chatbot\\u200b\\n\\n* Improving 1st call resolutions???\\n* Improve availability of customer service -> 24/7\\u200b\\n* Improve customer satisfaction\\n* Minimizing NVA calls (Enabling customer service agents to work with more high-value calls\\u200b)\\n* To reduce the overhead of maintaining the \"scripts\" [scripts are the current static workflows through which a user query passes to get an answer].\\n\\n## \\xa0Success metrics\\n\\nFollowing are some of the success metrics. [More ca]\\n\\n| **Goal** | **Metric** |\\n| --- | --- |\\n| Improve Customer SatisfactionThis is after newlines | Customer satisfaction score increases |\\n|  |  |\\n\\n## \\xa0Timeline', metadata={'title': 'BankGPT - Customer Facing', 'id': '562233517', 'source': 'https://ica.atlassian.net/wiki/spaces/BOI/pages/562233517/BankGPT+-+Customer+Facing', 'when': '2024-03-25T08:52:18.032Z'}),\n",
       " Document(page_content='true%7B%22title%22%3A%22Roadmap%20Planner%22%2C%22timeline%22%3A%7B%22startDate%22%3A%222024-01-01%2000%3A00%3A00%22%2C%22endDate%22%3A%222024-08-01%2000%3A00%3A00%22%2C%22displayOption%22%3A%22MONTH%22%7D%2C%22lanes%22%3A%5B%7B%22title%22%3A%22Data%22%2C%22color%22%3A%7B%22lane%22%3A%22%23f6c342%22%2C%22bar%22%3A%22%23fadb8e%22%2C%22text%22%3A%22%23594300%22%2C%22count%22%3A1%7D%2C%22bars%22%3A%5B%7B%22title%22%3A%22Feature%201%22%2C%22description%22%3A%22This%20is%20the%20first%20bar.%22%2C%22startDate%22%3A%222021-12-10%2019%3A43%3A21%22%2C%22duration%22%3A2%2C%22rowIndex%22%3A0%2C%22id%22%3A%22eeb2d902-e723-4ff0-a10d-43a5793089a4%22%2C%22pageLink%22%3A%7B%7D%7D%2C%7B%22rowIndex%22%3A1%2C%22startDate%22%3A%222022-03-13%2007%3A39%3A12%22%2C%22id%22%3A%2290251c8c-3b74-4d2b-b850-684ffd40514b%22%2C%22title%22%3A%22Feature%203%22%2C%22description%22%3A%22%22%2C%22duration%22%3A2.00990099009901%2C%22pageLink%22%3A%7B%7D%7D%2C%7B%22rowIndex%22%3A2%2C%22startDate%22%3A%222022-04-24%2011%3A10%3A05%22%2C%22id%22%3A%22d0529fe8-6c8c-45e8-8078-d75c2f063dd9%22%2C%22title%22%3A%22Feature%204%22%2C%22description%22%3A%22%22%2C%22duration%22%3A2.01980198019802%2C%22pageLink%22%3A%7B%7D%7D%2C%7B%22rowIndex%22%3A0%2C%22startDate%22%3A%222024-01-01%2006%3A08%3A18%22%2C%22id%22%3A%22f3d8bda7-5267-465e-9619-43c73d3763ea%22%2C%22title%22%3A%22Get%20Access%20to%20data%20sources%22%2C%22description%22%3A%22Identify%20Data%22%2C%22duration%22%3A1.353135306930693%2C%22pageLink%22%3A%7B%7D%7D%2C%7B%22rowIndex%22%3A1%2C%22startDate%22%3A%222024-02-10%2017%3A08%3A54%22%2C%22id%22%3A%2240b554e4-4809-401a-8ec2-3d8b94a9b321%22%2C%22title%22%3A%22Clean%20Data%', metadata={'title': 'BankGPT - Customer Facing', 'id': '562233517', 'source': 'https://ica.atlassian.net/wiki/spaces/BOI/pages/562233517/BankGPT+-+Customer+Facing', 'when': '2024-03-25T08:52:18.032Z'}),\n",
       " Document(page_content='20%26%20Decision%20on%20what%20goes%20into%20the%20model%22%2C%22description%22%3A%22%22%2C%22duration%22%3A1.2244224356435642%2C%22pageLink%22%3A%7B%7D%7D%5D%7D%2C%7B%22title%22%3A%22Implementation%22%2C%22color%22%3A%7B%22lane%22%3A%22%233b7fc4%22%2C%22bar%22%3A%22%236c9fd3%22%2C%22text%22%3A%22%23ffffff%22%2C%22count%22%3A1%7D%2C%22bars%22%3A%5B%7B%22title%22%3A%22iOS%20App%22%2C%22description%22%3A%22This%20is%20the%20third%20bar.%22%2C%22startDate%22%3A%222022-01-13%2014%3A01%3A11%22%2C%22duration%22%3A2.5%2C%22rowIndex%22%3A0%2C%22id%22%3A%22dd93afcd-2704-4253-adb8-809a336cc5ba%22%2C%22pageLink%22%3A%7B%7D%7D%2C%7B%22rowIndex%22%3A0%2C%22startDate%22%3A%222022-04-23%2013%3A46%3A55%22%2C%22id%22%3A%228dc8bc2d-b7cb-44a8-b526-7d1ede51f690%22%2C%22title%22%3A%22Android%22%2C%22description%22%3A%22%22%2C%22duration%22%3A2.4752475247524752%2C%22pageLink%22%3A%7B%7D%7D%2C%7B%22rowIndex%22%3A0%2C%22startDate%22%3A%222024-03-15%2000%3A23%3A45%22%2C%22id%22%3A%22b50d576b-6913-4b83-8dcf-e2fc3b94bd33%22%2C%22title%22%3A%22Create%20RAG%20based%20solution%22%2C%22description%22%3A%22%22%2C%22duration%22%3A1.561056099009901%2C%22pageLink%22%3A%7B%7D%7D%5D%7D%2C%7B%22title%22%3A%22Test%22%2C%22color%22%3A%7B%22lane%22%3A%22%23d04437%22%2C%22bar%22%3A%22%23d04437%22%2C%22text%22%3A%22%23ffffff%22%2C%22count%22%3A1%7D%2C%22bars%22%3A%5B%7B%22rowIndex%22%3A0%2C%22startDate%22%3A%222024-02-28%2020%3A26%3A08%22%2C%22id%22%3A%2200b27dc9-7c0d-403d-b342-1b73ef61321c%22%2C%22title%22%3A%22Decide%20on%20pilot%20testing%22%2C%22description%22%3A%22%22%2C%22duration%22%3A3.1353135247524753%2C%22pageLink%22%3A%7B%7D%7D%5D%7D%5D%2C%22markers%22%3A%5B%', metadata={'title': 'BankGPT - Customer Facing', 'id': '562233517', 'source': 'https://ica.atlassian.net/wiki/spaces/BOI/pages/562233517/BankGPT+-+Customer+Facing', 'when': '2024-03-25T08:52:18.032Z'}),\n",
       " Document(page_content='7B%22title%22%3A%22Milestone%201%22%2C%22markerDate%22%3A%222022-04-28%2007%3A50%3A29%22%7D%2C%7B%22markerDate%22%3A%222022-08-25%2020%3A40%3A23%22%2C%22title%22%3A%22Go%2FNo%20go%22%7D%2C%7B%22markerDate%22%3A%222022-06-25%2008%3A33%3A16%22%2C%22title%22%3A%22Milestone%202%22%7D%2C%7B%22markerDate%22%3A%222024-05-02%2012%3A49%3A54%22%2C%22title%22%3A%22MVP%20ready%22%7D%5D%7DRoadmap%20Planner35aefc2557f7aa1a2977dffcf0948046## \\xa0Requirements', metadata={'title': 'BankGPT - Customer Facing', 'id': '562233517', 'source': 'https://ica.atlassian.net/wiki/spaces/BOI/pages/562233517/BankGPT+-+Customer+Facing', 'when': '2024-03-25T08:52:18.032Z'}),\n",
       " Document(page_content=\"| **Requirement** | **User Story** | **Importance** | **Jira Issue** | **Notes** |\\n| --- | --- | --- | --- | --- |\\n| An FAQ chatbot that has the ability to have a conversation with the customer and is augmented only with publicly available information | e.g., John is a PM who wants to check on his team's progress from the train station | HIGHRed |  |  |\\n| \\xa0 | \\xa0 | \\xa0 | \\xa0 | \\xa0 |\\n\\n## \\xa0Open Questions\\n\\n| **Question** | **Answer** | **Date Answered** |\\n| --- | --- | --- |\\n| Who owns the data that we want to augment the LLMs with? | e.g., We'll announce the feature with a blog post and a presentation | Type // to add a date |\\n\\n## \\xa0Out of Scope\\n\\n* Customer related data\\n\\n##  Business Stakeholders\\n\\n| **Name** | **Role** |\\n| --- | --- |\\n| Martin Frossmed Ulmhage | Head of value stream Care |\\n| Erik Milbredt | PO for Banken’s current chatbot |\\n\\n##  Project Team\", metadata={'title': 'BankGPT - Customer Facing', 'id': '562233517', 'source': 'https://ica.atlassian.net/wiki/spaces/BOI/pages/562233517/BankGPT+-+Customer+Facing', 'when': '2024-03-25T08:52:18.032Z'}),\n",
       " Document(page_content='| **Name** | **Role** |\\n| --- | --- |\\n| Jakob Tardelius Hemborg | Unit Lead Data and Analytics |\\n| Zeeshan Khaliq | Senior Data Scientist |\\n| Peter Henel | Data Architect |', metadata={'title': 'BankGPT - Customer Facing', 'id': '562233517', 'source': 'https://ica.atlassian.net/wiki/spaces/BOI/pages/562233517/BankGPT+-+Customer+Facing', 'when': '2024-03-25T08:52:18.032Z'})]"
      ]
     },
     "execution_count": 51,
     "metadata": {},
     "output_type": "execute_result"
    }
   ],
   "source": [
    "text_splitter = CharacterTextSplitter(chunk_size=1000, chunk_overlap=0)\n",
    "texts = text_splitter.split_documents(documents)\n",
    "text_splitter = TokenTextSplitter(chunk_size=1000, chunk_overlap=0, encoding_name=\"cl100k_base\")  # This the encoding for text-embedding-ada-002\n",
    "texts = text_splitter.split_documents(texts)\n",
    "texts"
   ]
  },
  {
   "cell_type": "markdown",
   "metadata": {},
   "source": [
    "## Extend the RecursiveCharacter Text splitter \n",
    "This works on the Markdown text splitter. It splits the documents into Text and Tables separately"
   ]
  },
  {
   "cell_type": "code",
   "execution_count": 19,
   "metadata": {},
   "outputs": [],
   "source": [
    "def _split_on_separator(text: str, separator: str, keep_separator: bool) -> List[str]:\n",
    "    # Now that we have the separator, split the text\n",
    "    if separator:\n",
    "        if keep_separator:\n",
    "            # The parentheses in the pattern keep the delimiters in the result.\n",
    "            _splits = re.split(f\"({separator})\", text)\n",
    "            splits = [_splits[i] + _splits[i + 1] for i in range(1, len(_splits), 2)]\n",
    "            if len(_splits) % 2 == 0:\n",
    "                splits += _splits[-1:]\n",
    "            splits = [_splits[0]] + splits\n",
    "        else:\n",
    "            splits = text.split(separator)\n",
    "    else:\n",
    "        splits = list(text)\n",
    "    return [s for s in splits if s != \"\"]\n",
    "\n",
    "class MarkdownTextTableSplitter(MarkdownTextSplitter):\n",
    "    \"\"\"Attempts to split the text along Markdown-formatted headings.\"\"\"\n",
    "\n",
    "    def __init__(self, **kwargs: Any):\n",
    "        \"\"\"Initialize a MarkdownTextSplitter.\"\"\"\n",
    "        super().__init__(**kwargs)\n",
    "    \n",
    "    def _split_text(self, text: str, separators: List[str]) -> List[str]: \n",
    "     \n",
    "        \"\"\"Split incoming text and return chunks.\"\"\"\n",
    "\n",
    "        final_chunks = []\n",
    "        # Get appropriate separator to use\n",
    "        separator = separators[-1]\n",
    "        new_separators = None\n",
    "        for i, _s in enumerate(separators):\n",
    "            if _s == \"\":\n",
    "                separator = _s\n",
    "                break\n",
    "            if _s in text:\n",
    "                separator = _s\n",
    "                new_separators = separators[i + 1 :]\n",
    "                break\n",
    "        \n",
    "        splits, table_chunks = self._split_tables_and_text(text, separator, self._keep_separator)\n",
    "\n",
    "       \n",
    "        # Now go merging things, recursively splitting longer texts.\n",
    "        _good_splits = []\n",
    "        _separator = \"\" if self._keep_separator else separator\n",
    "        for s in splits:\n",
    "            if self._length_function(s) < self._chunk_size:\n",
    "                _good_splits.append(s)\n",
    "            else:\n",
    "                if _good_splits:\n",
    "                    merged_text = self._merge_splits(_good_splits, _separator)\n",
    "                    final_chunks.extend(merged_text)\n",
    "                    _good_splits = []\n",
    "                if new_separators is None:\n",
    "                    final_chunks.append(s)\n",
    "                else:\n",
    "                    \n",
    "                    other_info = self._split_text(s, new_separators)\n",
    "                    final_chunks.extend(other_info)\n",
    "        \n",
    "        \n",
    "        if _good_splits:\n",
    "            merged_text = self._merge_splits(_good_splits, _separator)\n",
    "            final_chunks.extend(merged_text)\n",
    "        \n",
    "\n",
    "        final_chunks.extend(table_chunks)\n",
    "\n",
    "        clean_chunks = []\n",
    "        for fc in final_chunks:\n",
    "            clean_chunks.append(self._replace_newline_with_space(fc))\n",
    "        \n",
    "        return clean_chunks\n",
    "\n",
    "    def _split_tables_and_text(self, text: str, separator: str, keep_separator: bool, table_separator: str = '|'):\n",
    "        \n",
    "        _intermediate_splits = _split_on_separator(text, separator, keep_separator)\n",
    "        \n",
    "        print(repr(separator), _intermediate_splits)\n",
    "        all_table_chunks = []\n",
    "        splits = []\n",
    "        for item in _intermediate_splits:\n",
    "            stripped = item.strip()\n",
    "            if stripped:                                                            \n",
    "                text_chunks, table_chunks = self._split_tables(stripped, table_separator=table_separator)\n",
    "                if table_chunks:\n",
    "                    all_table_chunks.extend(table_chunks)\n",
    "                splits.append(text_chunks)\n",
    "                        \n",
    "        return splits, all_table_chunks\n",
    "    \n",
    "    def _split_tables(self, text: str, table_separator: str = '|'):\n",
    "        table_chunks = {}\n",
    "        text_chunks  = []\n",
    "        table_num = 0\n",
    "        #print(text)\n",
    "        #print(text.splitlines())\n",
    "        for line in text.splitlines():\n",
    "            if line.strip().startswith(table_separator):\n",
    "                if table_num in table_chunks.keys():\n",
    "                    table_chunks[table_num].append(line.strip()) \n",
    "                else:\n",
    "                    table_chunks[table_num]=[line.strip()] \n",
    "            else:\n",
    "                table_num +=1\n",
    "                text_chunks.append(line.strip())\n",
    "        if table_chunks:\n",
    "            final_tables = [\"\\n\".join(table_chunks[i]) for i in table_chunks.keys()]\n",
    "        else:\n",
    "            final_tables = []\n",
    "\n",
    "        return \"\\n\".join(text_chunks), final_tables\n",
    "    \n",
    "        \n",
    "    def _replace_newline_with_space(self, text):\n",
    "        # Define regular expression pattern to match newline character\n",
    "        newline_pattern = r'\\n*'\n",
    "\n",
    "        # Replace newline characters with space\n",
    "        text_with_spaces = re.sub(newline_pattern, '', text)\n",
    "\n",
    "        return text_with_spaces\n",
    "    \n"
   ]
  },
  {
   "cell_type": "code",
   "execution_count": 16,
   "metadata": {},
   "outputs": [
    {
     "name": "stdout",
     "output_type": "stream",
     "text": [
      "['\\n#{1,6} ', '```\\n', '\\n\\\\*\\\\*\\\\*+\\n', '\\n---+\\n', '\\n___+\\n', '\\n\\n', '\\n', ' ', '']\n",
      "'\\n\\n' ['  ', '\\n\\n\\n### **Allmän beskrivning**', '\\n\\n', '\\n\\n---', '\\n\\nICA Banken erbjuder två typer av bankkort för privatkunder, ICA Bankkort MasterCard och ICA Bankkort Plus MasterCard.\\xa0Sedan tidigare finns det även något som kallas för migrerat ICA kort. Våra bankkort är gratis de två första månaderna. Det finns ingen övre beloppsgräns från vår sida när kund handlar med korten (undantag gäller vid blipp-köp), så länge kund har det önskade saldot så kan hen handla oavsett summan.\\xa0ICA Bankkort MasterCard och ICA Bankkort Plus MasterCard\\xa0är öppna för köp över hela världen.  \\n\\xa0', '\\n\\n[Jämförelse av våra kort på hemsidan.](https://www.icabanken.se/kort-och-konto/vara-kort/jamfor-vara-kort/)', '\\n\\n### **Bankkort**', '\\n\\n', '\\n\\n---', '\\n\\n* Mastercard Debit\\n* Går att ha gemensamt.\\n* Innehåller Reseförsäkring och Matförsäkring.\\n* Gratis för Stammis Studenter och personer under 21 år.\\n* Grundkriterier för att ha möjlighet att bli beviljad kortet: fyllt 16 år (för yngre se sida: ) och bosatt inom EU/EEA.\\n* Månadsavgift/Cash Advance/Valutaväxlingspåslag enligt\\xa0[prislistan](https://www.icabanken.se/prislista/).\\n* Möjlighet att ansöka om upp till 50 000 kr i kontokredit. (Mer info här:\\xa0)\\n* Möjlighet till stammis och dubbel bonus.', '\\n\\n### **Bankkort Plus**', '\\n\\n', '\\n\\n---', '\\n\\n* Mastercard, betal och kreditkort\\n* Går att ha gemensamt.\\n* Går att delbetala.\\n* Innehåller Reseförsäkring, Trygghetsförsäkring och Matförsäkring.\\n* Gratis för Stammis Studenter (kräver att man redan har BK+ vid studentanmälan) och personer under 21 år.\\n* Grundkriterier för att ha möjlighet att bli beviljad kortet: fyllt 18 år, inga betalningsanmärkningar, fast inkomst och folkbokförd i Sverige.\\n* Månadsavgift/Cash Advance/Valutaväxlingspåslag enligt\\xa0[prislistan](https://www.icabanken.se/prislista/).\\n* Kopplas till två konton, ett direktkonto och ett fakturakonto. Direktkontot kopplat till ICA-köp och ATM-uttag. Fakturakontot externa köp och om inte täckning på Direktkotot vid ICA-köp.\\n* Obligatorisk kortkredit på lägst 20 000 kr, högst 100 000 kr, möjlighet att ansöka om kontokredit upp till 50 000 kr. (Mer info här:\\xa0.)\\n* Möjlighet till stammis och dubbel bonus.\\n.', '\\n\\nVilka transaktioner sker på direktkontot och vilka sker på fakturakontot?  ', '\\n\\n', '\\n\\n\\n| Direktkontot | Fakturakontot |\\n| --- | --- |\\n| Köp hos ICA och Apotek Hjärtat.Om det saknas täckning på Direktkontot dras köp hos ICA och Apotek Hjärtat från Fakturakontot i stället.\\xa0**Exempel:**Det finns **100 kronor** på kundens **Direktkonto** och de görs ett köp på **150 kronor**. Då de **100 kronor** som finns på\\xa0**Direktkontot** inte räcker till för köpet på\\xa0**150 kronor** så dras hela beloppet från\\xa0**Fakturakontot** (så länge det finns täckning på fakturakontot).\\xa0Om det finns **100 kronor** på **Direktkontot**\\xa0och **100 kronor** på\\xa0**Fakturakontot** och man gör ett köp på\\xa0**150 kronor** kommer inte köpet gå igenom då det behöver finnas tillräckligt med täckning på\\xa0**ett** konto. Det kan alltså inte dras\\xa0**100 kronor** från ett konto och sedan resterande\\xa0**50 kronor** från det andra. | Kortköp (butik/internet) förutom om det är köp hos ICA/Apotek Hjärtat. Om det saknas täckning på Direktkontot dras **alla** kortköp här (även köp hos ICA och Apotek Hjärtat). |\\n| Räkningsbetalningar, överföringar och Swish. | Valutaköp/uttag över disk samt Cash Advance avgift. |\\n| Kontantuttag och kontantinsättning\\\\* | Kontantuttag genom att avrunda ett köp i kassan om det saknas täckning på direktkontot.\\\\* |\\n| Ev. kontokredit och i så fall även kreditavgiften. | Kortkredit. |\\n|  | Kortavgiften. |', '\\n\\n**\\\\***För mer information se rutin: Kontantinsättning, kontantuttag och avrundning i kassan', '\\n\\n### **Migrerat ICA Kort**', '\\n\\n', '\\n\\n---', '\\n\\nMigrerat ICA Kort är av kontotypen ID (utan kredit) eller IF (med kredit) och kontonumret börjar med siffran 9. Detta är bankkonton som är kopplade till ett rosa ICA Kort. Dessa konton tillhör banken och kunder med dessa skall få hjälp av banken. Korten fungerar bara i ICA:s butiker men genom kontot kan kunden betala räkningar och göra överföringar. Om kortet har CVC så fungerar det även för köp på: [www.ica.se](http://www.ica.se)   \\nHar kunden enbart ett lösenord kan denne beställa ut en Personlig dosa via bankens kundservice för att logga in på icabanken.se/ICA Bankens app.  \\n  ', '\\n\\n\\nOmbeställa kort och kortkod**Guida kunden till att ombeställa kortet:**', '\\n\\n1. Logga in på\\xa0[www.ica.se](http://www.ica.se)\\n2. Klicka på ditt namn/dina initialer uppe till höger\\n3. Klicka på **Inställningar →****Dina kort\\xa0→\\xa0Spärra/beställ nytt →\\xa0Beställ nytt kort**', '\\n\\n  ', '\\n\\n\\n**Guida kunden till att beställa hem kortkoden:**', '\\n\\n1. Logga in på\\xa0[www.ica.se](http://www.ica.se)\\n2. Klicka på ditt namn/dina initialer uppe till höger\\n3. Klicka på **Inställningar →****Dina kort\\xa0→ Beställ ny kod**', '\\n\\n**Via Centrica:**Läs mer på sida ', '\\n\\n  ', '\\n\\n\\n  ', '\\n\\n\\nKan man göra signaturköp med ett migrerat kort?Ja, de rosa korten (oavsett om de är kopplade till ett bankkonto eller inte) omfattas inte av samma regler som bankkorten. Därför kan man handla med ett migrerat kort på ICA genom att visa upp sin legitimation och skriva under kvittot om man inte kan sin kortkod.\\xa0', '\\n\\n  ', '\\n\\n\\nHur ser och ändrar jag ett autogiro till ett migrerat ICA kort?Följ rutin: ', '\\n\\n  ', '\\n\\n\\nSök efter annan rutin i Wikinpage', '\\n\\ngreensolidInnehåll på sidan3', '\\n\\n  ', '\\n\\n\\nLäs merKortansökan för utvandrad person med svenskt personnummer', '\\n\\nKortansökan med svenskt personnummer och svensk adress', '\\n\\nFörmyndare och omyndig', '\\n\\n  ', '\\n\\n\\n  ', '\\n\\n\\n  ', '\\n\\n\\n  ', '\\n\\n', '\\n\\n\\n---', '\\n\\nDokumentägare och beslutsfattare: Produktchef Kortutgivning  \\n  \\nDokumenttyp: Arbetsbeskrivning', '\\n\\nSenast fastställd:\\xa02023-12-07', '\\n\\nMBX-Box ICA Banken Kort Och Betaltjänster', '\\n\\nSäkerhetsklass: S3  \\n  \\nReferens till interna styrdokument:\\xa0  \\nInstruktion för betaltjänster  \\n  ', '\\n\\n\\nReferens till överordnade regelverk:\\xa0  \\nLag (2010:751) om betaltjänster', '\\n\\n']\n"
     ]
    },
    {
     "data": {
      "text/plain": [
       "['664 : ### **Allmän beskrivning**---ICA Banken erbjuder två typer av bankkort för privatkunder, ICA Bankkort MasterCard och ICA Bankkort Plus MasterCard.\\xa0Sedan tidigare finns det även något som kallas för migrerat ICA kort. Våra bankkort är gratis de två första månaderna. Det finns ingen övre beloppsgräns från vår sida när kund handlar med korten (undantag gäller vid blipp-köp), så länge kund har det önskade saldot så kan hen handla oavsett summan.\\xa0ICA Bankkort MasterCard och ICA Bankkort Plus MasterCard\\xa0är öppna för köp över hela världen.[Jämförelse av våra kort på hemsidan.](https://www.icabanken.se/kort-och-konto/vara-kort/jamfor-vara-kort/)### **Bankkort**---',\n",
       " '511 : * Mastercard Debit* Går att ha gemensamt.* Innehåller Reseförsäkring och Matförsäkring.* Gratis för Stammis Studenter och personer under 21 år.* Grundkriterier för att ha möjlighet att bli beviljad kortet: fyllt 16 år (för yngre se sida: ) och bosatt inom EU/EEA.* Månadsavgift/Cash Advance/Valutaväxlingspåslag enligt\\xa0[prislistan](https://www.icabanken.se/prislista/).* Möjlighet att ansöka om upp till 50 000 kr i kontokredit. (Mer info här:\\xa0)* Möjlighet till stammis och dubbel bonus.### **Bankkort Plus**---',\n",
       " '941 : * Mastercard, betal och kreditkort* Går att ha gemensamt.* Går att delbetala.* Innehåller Reseförsäkring, Trygghetsförsäkring och Matförsäkring.* Gratis för Stammis Studenter (kräver att man redan har BK+ vid studentanmälan) och personer under 21 år.* Grundkriterier för att ha möjlighet att bli beviljad kortet: fyllt 18 år, inga betalningsanmärkningar, fast inkomst och folkbokförd i Sverige.* Månadsavgift/Cash Advance/Valutaväxlingspåslag enligt\\xa0[prislistan](https://www.icabanken.se/prislista/).* Kopplas till två konton, ett direktkonto och ett fakturakonto. Direktkontot kopplat till ICA-köp och ATM-uttag. Fakturakontot externa köp och om inte täckning på Direktkotot vid ICA-köp.* Obligatorisk kortkredit på lägst 20 000 kr, högst 100 000 kr, möjlighet att ansöka om kontokredit upp till 50 000 kr. (Mer info här:\\xa0.)* Möjlighet till stammis och dubbel bonus..Vilka transaktioner sker på direktkontot och vilka sker på fakturakontot?',\n",
       " '954 : **\\\\***För mer information se rutin: Kontantinsättning, kontantuttag och avrundning i kassan### **Migrerat ICA Kort**---Migrerat ICA Kort är av kontotypen ID (utan kredit) eller IF (med kredit) och kontonumret börjar med siffran 9. Detta är bankkonton som är kopplade till ett rosa ICA Kort. Dessa konton tillhör banken och kunder med dessa skall få hjälp av banken. Korten fungerar bara i ICA:s butiker men genom kontot kan kunden betala räkningar och göra överföringar. Om kortet har CVC så fungerar det även för köp på: [www.ica.se](http://www.ica.se)Har kunden enbart ett lösenord kan denne beställa ut en Personlig dosa via bankens kundservice för att logga in på icabanken.se/ICA Bankens app.Ombeställa kort och kortkod**Guida kunden till att ombeställa kortet:**1. Logga in på\\xa0[www.ica.se](http://www.ica.se)2. Klicka på ditt namn/dina initialer uppe till höger3. Klicka på **Inställningar →****Dina kort\\xa0→\\xa0Spärra/beställ nytt →\\xa0Beställ nytt kort**',\n",
       " '989 : **Guida kunden till att beställa hem kortkoden:**1. Logga in på\\xa0[www.ica.se](http://www.ica.se)2. Klicka på ditt namn/dina initialer uppe till höger3. Klicka på **Inställningar →****Dina kort\\xa0→ Beställ ny kod****Via Centrica:**Läs mer på sidaKan man göra signaturköp med ett migrerat kort?Ja, de rosa korten (oavsett om de är kopplade till ett bankkonto eller inte) omfattas inte av samma regler som bankkorten. Därför kan man handla med ett migrerat kort på ICA genom att visa upp sin legitimation och skriva under kvittot om man inte kan sin kortkod.Hur ser och ändrar jag ett autogiro till ett migrerat ICA kort?Följ rutin:Sök efter annan rutin i WikinpagegreensolidInnehåll på sidan3Läs merKortansökan för utvandrad person med svenskt personnummerKortansökan med svenskt personnummer och svensk adressFörmyndare och omyndig---Dokumentägare och beslutsfattare: Produktchef KortutgivningDokumenttyp: ArbetsbeskrivningSenast fastställd:\\xa02023-12-07MBX-Box ICA Banken Kort Och Betaltjänster',\n",
       " '149 : Säkerhetsklass: S3Referens till interna styrdokument:Instruktion för betaltjänsterReferens till överordnade regelverk:Lag (2010:751) om betaltjänster',\n",
       " '1301 : | Direktkontot | Fakturakontot || --- | --- || Köp hos ICA och Apotek Hjärtat.Om det saknas täckning på Direktkontot dras köp hos ICA och Apotek Hjärtat från Fakturakontot i stället.\\xa0**Exempel:**Det finns **100 kronor** på kundens **Direktkonto** och de görs ett köp på **150 kronor**. Då de **100 kronor** som finns på\\xa0**Direktkontot** inte räcker till för köpet på\\xa0**150 kronor** så dras hela beloppet från\\xa0**Fakturakontot** (så länge det finns täckning på fakturakontot).\\xa0Om det finns **100 kronor** på **Direktkontot**\\xa0och **100 kronor** på\\xa0**Fakturakontot** och man gör ett köp på\\xa0**150 kronor** kommer inte köpet gå igenom då det behöver finnas tillräckligt med täckning på\\xa0**ett** konto. Det kan alltså inte dras\\xa0**100 kronor** från ett konto och sedan resterande\\xa0**50 kronor** från det andra. | Kortköp (butik/internet) förutom om det är köp hos ICA/Apotek Hjärtat. Om det saknas täckning på Direktkontot dras **alla** kortköp här (även köp hos ICA och Apotek Hjärtat). || Räkningsbetalningar, överföringar och Swish. | Valutaköp/uttag över disk samt Cash Advance avgift. || Kontantuttag och kontantinsättning\\\\* | Kontantuttag genom att avrunda ett köp i kassan om det saknas täckning på direktkontot.\\\\* || Ev. kontokredit och i så fall även kreditavgiften. | Kortkredit. ||  | Kortavgiften. |']"
      ]
     },
     "execution_count": 16,
     "metadata": {},
     "output_type": "execute_result"
    }
   ],
   "source": [
    "# d = documents[:1]\n",
    "text_splitter = MarkdownTextTableSplitter(\n",
    "    #model_name='gpt-4',\n",
    "    chunk_size=1000, chunk_overlap=0\n",
    "    )\n",
    "texts_tb_1 = text_splitter.split_documents(documents)\n",
    "[f\"{len(x.page_content)} : {x.page_content}\" for x in texts_tb_1]"
   ]
  },
  {
   "cell_type": "code",
   "execution_count": 51,
   "metadata": {},
   "outputs": [
    {
     "name": "stdout",
     "output_type": "stream",
     "text": [
      "Total chunks:  3\n",
      "Chunks > 1000 chars:  1\n",
      "Chunks < 500 chars:  0\n"
     ]
    }
   ],
   "source": [
    "print(\"Total chunks: \", len(texts_tb_1))\n",
    "print(\"Chunks > 1000 chars: \", len([y for y in [len(x.page_content) for x in texts_tb_1] if y > 1000]))\n",
    "print(\"Chunks < 500 chars: \", len([y for y in [len(x.page_content) for x in texts_tb_1] if y < 500]))"
   ]
  },
  {
   "cell_type": "markdown",
   "metadata": {},
   "source": [
    "## Extend the MarkdownHeaderTextSplitter"
   ]
  },
  {
   "cell_type": "code",
   "execution_count": 7,
   "metadata": {},
   "outputs": [],
   "source": [
    "from copy import deepcopy\n",
    "from langchain_text_splitters.markdown import MarkdownTextSplitter, MarkdownHeaderTextSplitter\n",
    "from langchain_core.documents import Document\n",
    "import sys\n",
    "\n",
    "\n",
    "def _split_tables_and_text(doc: str, table_separator: str = '|'):\n",
    "    \n",
    "    all_table_chunks = []\n",
    "    all_text_chunks = []\n",
    "    stripped = doc.page_content.strip()\n",
    "    if stripped:                                                            \n",
    "        text_chunks, table_chunks = _split_tables(stripped, table_separator=table_separator)\n",
    "        if table_chunks:\n",
    "            all_table_chunks.extend(table_chunks)\n",
    "        all_text_chunks.append(text_chunks)\n",
    "                    \n",
    "    return all_text_chunks, all_table_chunks\n",
    "\n",
    "def _split_tables(text: str, table_separator: str = '|'):\n",
    "        table_chunks = {}\n",
    "        text_chunks  = []\n",
    "        table_num = 0\n",
    "        for line in text.splitlines():\n",
    "            if line.strip().startswith(table_separator):\n",
    "                if table_num in table_chunks.keys():\n",
    "                    table_chunks[table_num].append(line.strip()) \n",
    "                else:\n",
    "                    table_chunks[table_num]=[line.strip()] \n",
    "            else:\n",
    "                table_num +=1\n",
    "                text_chunks.append(line.strip())\n",
    "        if table_chunks:\n",
    "            final_tables = [\"\\n\".join(table_chunks[i]) for i in table_chunks.keys()]\n",
    "        else:\n",
    "            final_tables = []\n",
    "\n",
    "        return \"\\n\".join(text_chunks), final_tables\n",
    "\n",
    "def process_header_splitted_docs(documents, page_metadata, chunk_size, all_docs):\n",
    "    all_docs = all_docs or []\n",
    "    for item in documents:\n",
    "        subtitle = list(item.metadata.values())[0]\n",
    "        #print(f\"{len(item.page_content)}: \", item.page_content[:30])\n",
    "        if len(item.page_content) <= chunk_size:\n",
    "            print(\"Iam here\")\n",
    "            item.page_content = subtitle + \" \" + item.page_content\n",
    "            item.metadata = deepcopy(page_metadata)\n",
    "            item.metadata[\"sub-title\"] = subtitle\n",
    "            #print(list(item.metadata.values())[0])\n",
    "            #print(item.metadata)\n",
    "            all_docs.append(item)\n",
    "        else:\n",
    "            new_docs = text_splitter.split_documents([item])\n",
    "            process_header_splitted_docs(new_docs, page_metadata, chunk_size, all_docs)\n",
    "    return all_docs\n",
    "\n",
    "\n",
    "def process_header_splitted_document(item, metadata, chunk_size, all_docs):\n",
    "    all_docs = all_docs or []\n",
    "    \n",
    "    print(item.metadata)\n",
    "    #print(f\"{len(item.page_content)}: \", item.page_content[:30])\n",
    "    if len(item.page_content) <= chunk_size:\n",
    "        item.page_content = list(item.metadata.values())[0] + \" \" + item.page_content\n",
    "        item.metadata = deepcopy(metadata)\n",
    "        item.metadata[\"sub-title\"] = list(item.metadata.values())[0]\n",
    "        #print(list(item.metadata.values())[0])\n",
    "        #print(item.metadata)\n",
    "        all_docs.append(item)\n",
    "    else:\n",
    "        new_docs = text_splitter.split_documents([item])\n",
    "        #print([len(x.page_content) for x in new_docs])\n",
    "        process_header_splitted_docs(new_docs, item.metadata, chunk_size, all_docs)\n",
    "    return all_docs\n",
    "\n"
   ]
  },
  {
   "cell_type": "code",
   "execution_count": 45,
   "metadata": {},
   "outputs": [
    {
     "name": "stdout",
     "output_type": "stream",
     "text": [
      "~~~~~~~~~~~~~~~~~~~~~~~~~~~~~~~~~~~~~~~~~~~~~~~~~~\n",
      "Iam here\n",
      "Iam here\n",
      "Iam here\n",
      "Iam here\n",
      "Iam here\n",
      "Iam here\n",
      "Iam here\n",
      "~~~~~~~~~~~~~~~~~~~~~~~~~~~~~~~~~~~~~~~~~~~~~~~~~~\n",
      "Iam here\n",
      "Iam here\n",
      "Iam here\n",
      "Iam here\n"
     ]
    }
   ],
   "source": [
    "#all_docs = []\n",
    "chunk_size = 1000\n",
    "header_splitter = MarkdownHeaderTextSplitter(\n",
    "    headers_to_split_on=[(\"#\", \"level_1\"), (\"##\", \"level_2\"), ('###', \"level_3\")]\n",
    ")\n",
    "text_splitter = MarkdownTextSplitter(chunk_size=1000, chunk_overlap=0)\n",
    "\n",
    "final = []\n",
    "for doc in documents:\n",
    "    print(\"~\"*50)\n",
    "    \n",
    "    docs_splitted_by_header = header_splitter.split_text(doc.page_content)\n",
    "\n",
    "    # for md in docs_splitted_by_header:\n",
    "    #     print(md.metadata)\n",
    "    #     print(\"\\n\")\n",
    "   \n",
    "    text_documents = []\n",
    "    table_documents = []\n",
    "    i = 0\n",
    "    for header_doc in docs_splitted_by_header:\n",
    "\n",
    "        #print(header_doc.metadata)\n",
    "        text, table = _split_tables_and_text(header_doc)\n",
    "        # for md in text:\n",
    "        #     print(\"TEXT: \", md)\n",
    "        # print(len(text_documents))\n",
    "        if text: \n",
    "            text_documents.append(Document(page_content=text[0], metadata=header_doc.metadata))\n",
    "\n",
    "        if table:\n",
    "            metadata = deepcopy(doc.metadata)\n",
    "            metadata[\"sub-title\"] = list(header_doc.metadata.values())[0]\n",
    "            table_documents.append(\n",
    "                Document(\n",
    "                    page_content=list(header_doc.metadata.values())[0] + \" \" + table[0],\n",
    "                    metadata=metadata\n",
    "                )\n",
    "            )\n",
    "    \n",
    "  \n",
    "    final.extend(process_header_splitted_docs(text_documents, doc.metadata, chunk_size, list()))\n",
    "    final.extend(table_documents)\n",
    "\n",
    "\n",
    "\n"
   ]
  },
  {
   "cell_type": "code",
   "execution_count": 42,
   "metadata": {},
   "outputs": [],
   "source": [
    "#[f\"{len(x.page_content)}: {x.metadata.get('title')} : {x.page_content[:30]}\" for x in final]"
   ]
  },
  {
   "cell_type": "code",
   "execution_count": 48,
   "metadata": {},
   "outputs": [
    {
     "data": {
      "text/plain": [
       "[('**Allmän beskrivning** ---\\nICA', '**Allmän beskrivning**'),\n",
       " ('**Bankkort** ---\\n* Mastercard ', '**Bankkort**'),\n",
       " ('**Bankkort Plus** ---\\n* Master', '**Bankkort Plus**'),\n",
       " ('**Bankkort Plus** **\\\\***För me', '**Bankkort Plus**'),\n",
       " ('**Migrerat ICA Kort** ---\\nMigr', '**Migrerat ICA Kort**'),\n",
       " ('**Migrerat ICA Kort** 3. Klick', '**Migrerat ICA Kort**'),\n",
       " ('**Migrerat ICA Kort** Lag (201', '**Migrerat ICA Kort**'),\n",
       " ('**Bankkort Plus** | Direktkont', '**Bankkort Plus**'),\n",
       " ('**Allmän beskrivning** ---\\nICA', '**Allmän beskrivning**'),\n",
       " ('**Kriterier för att kunna regi',\n",
       "  '**Kriterier för att kunna registrera sig som familj**'),\n",
       " ('**Borttag av familjemedlem** -', '**Borttag av familjemedlem**'),\n",
       " ('**Avslut familjepaketet** ---\\n', '**Avslut familjepaketet**')]"
      ]
     },
     "execution_count": 48,
     "metadata": {},
     "output_type": "execute_result"
    }
   ],
   "source": [
    "[(x.page_content[:30], x.metadata[\"sub-title\"]) for x in final]"
   ]
  },
  {
   "cell_type": "code",
   "execution_count": 49,
   "metadata": {},
   "outputs": [
    {
     "data": {
      "text/plain": [
       "[Document(page_content='**Allmän beskrivning** ---\\nICA Banken erbjuder två typer av bankkort för privatkunder, ICA Bankkort MasterCard och ICA Bankkort Plus MasterCard.\\xa0Sedan tidigare finns det även något som kallas för migrerat ICA kort. Våra bankkort är gratis de två första månaderna. Det finns ingen övre beloppsgräns från vår sida när kund handlar med korten (undantag gäller vid blipp-köp), så länge kund har det önskade saldot så kan hen handla oavsett summan.\\xa0ICA Bankkort MasterCard och ICA Bankkort Plus MasterCard\\xa0är öppna för köp över hela världen.\\n[Jämförelse av våra kort på hemsidan.](https://www.icabanken.se/kort-och-konto/vara-kort/jamfor-vara-kort/)', metadata={'title': 'Bankkort, Bankkort Plus och Migrerat ICA kort', 'id': '25397420', 'source': 'https://ica.atlassian.net/wiki/spaces/IBW/pages/25397420/Bankkort%2C+Bankkort+Plus+och+Migrerat+ICA+kort', 'when': '2024-03-19T14:27:11.684Z', 'sub-title': '**Allmän beskrivning**'}),\n",
       " Document(page_content='**Bankkort** ---\\n* Mastercard Debit\\n* Går att ha gemensamt.\\n* Innehåller Reseförsäkring och Matförsäkring.\\n* Gratis för Stammis Studenter och personer under 21 år.\\n* Grundkriterier för att ha möjlighet att bli beviljad kortet: fyllt 16 år (för yngre se sida: ) och bosatt inom EU/EEA.\\n* Månadsavgift/Cash Advance/Valutaväxlingspåslag enligt\\xa0[prislistan](https://www.icabanken.se/prislista/).\\n* Möjlighet att ansöka om upp till 50 000 kr i kontokredit. (Mer info här:\\xa0)\\n* Möjlighet till stammis och dubbel bonus.', metadata={'title': 'Bankkort, Bankkort Plus och Migrerat ICA kort', 'id': '25397420', 'source': 'https://ica.atlassian.net/wiki/spaces/IBW/pages/25397420/Bankkort%2C+Bankkort+Plus+och+Migrerat+ICA+kort', 'when': '2024-03-19T14:27:11.684Z', 'sub-title': '**Bankkort**'}),\n",
       " Document(page_content='**Bankkort Plus** ---\\n* Mastercard, betal och kreditkort\\n* Går att ha gemensamt.\\n* Går att delbetala.\\n* Innehåller Reseförsäkring, Trygghetsförsäkring och Matförsäkring.\\n* Gratis för Stammis Studenter (kräver att man redan har BK+ vid studentanmälan) och personer under 21 år.\\n* Grundkriterier för att ha möjlighet att bli beviljad kortet: fyllt 18 år, inga betalningsanmärkningar, fast inkomst och folkbokförd i Sverige.\\n* Månadsavgift/Cash Advance/Valutaväxlingspåslag enligt\\xa0[prislistan](https://www.icabanken.se/prislista/).\\n* Kopplas till två konton, ett direktkonto och ett fakturakonto. Direktkontot kopplat till ICA-köp och ATM-uttag. Fakturakontot externa köp och om inte täckning på Direktkotot vid ICA-köp.\\n* Obligatorisk kortkredit på lägst 20 000 kr, högst 100 000 kr, möjlighet att ansöka om kontokredit upp till 50 000 kr. (Mer info här:\\xa0.)\\n* Möjlighet till stammis och dubbel bonus.\\n.\\nVilka transaktioner sker på direktkontot och vilka sker på fakturakontot?', metadata={'title': 'Bankkort, Bankkort Plus och Migrerat ICA kort', 'id': '25397420', 'source': 'https://ica.atlassian.net/wiki/spaces/IBW/pages/25397420/Bankkort%2C+Bankkort+Plus+och+Migrerat+ICA+kort', 'when': '2024-03-19T14:27:11.684Z', 'sub-title': '**Bankkort Plus**'}),\n",
       " Document(page_content='**Bankkort Plus** **\\\\***För mer information se rutin: Kontantinsättning, kontantuttag och avrundning i kassan', metadata={'title': 'Bankkort, Bankkort Plus och Migrerat ICA kort', 'id': '25397420', 'source': 'https://ica.atlassian.net/wiki/spaces/IBW/pages/25397420/Bankkort%2C+Bankkort+Plus+och+Migrerat+ICA+kort', 'when': '2024-03-19T14:27:11.684Z', 'sub-title': '**Bankkort Plus**'}),\n",
       " Document(page_content='**Migrerat ICA Kort** ---\\nMigrerat ICA Kort är av kontotypen ID (utan kredit) eller IF (med kredit) och kontonumret börjar med siffran 9. Detta är bankkonton som är kopplade till ett rosa ICA Kort. Dessa konton tillhör banken och kunder med dessa skall få hjälp av banken. Korten fungerar bara i ICA:s butiker men genom kontot kan kunden betala räkningar och göra överföringar. Om kortet har CVC så fungerar det även för köp på: [www.ica.se](http://www.ica.se)\\nHar kunden enbart ett lösenord kan denne beställa ut en Personlig dosa via bankens kundservice för att logga in på icabanken.se/ICA Bankens app.\\nOmbeställa kort och kortkod**Guida kunden till att ombeställa kortet:**\\n1. Logga in på\\xa0[www.ica.se](http://www.ica.se)\\n2. Klicka på ditt namn/dina initialer uppe till höger\\n3. Klicka på **Inställningar →****Dina kort\\xa0→\\xa0Spärra/beställ nytt →\\xa0Beställ nytt kort**\\n**Guida kunden till att beställa hem kortkoden:**\\n1. Logga in på\\xa0[www.ica.se](http://www.ica.se)\\n2. Klicka på ditt namn/dina initialer uppe till höger', metadata={'title': 'Bankkort, Bankkort Plus och Migrerat ICA kort', 'id': '25397420', 'source': 'https://ica.atlassian.net/wiki/spaces/IBW/pages/25397420/Bankkort%2C+Bankkort+Plus+och+Migrerat+ICA+kort', 'when': '2024-03-19T14:27:11.684Z', 'sub-title': '**Migrerat ICA Kort**'}),\n",
       " Document(page_content='**Migrerat ICA Kort** 3. Klicka på **Inställningar →****Dina kort\\xa0→ Beställ ny kod**\\n**Via Centrica:**Läs mer på sida\\nKan man göra signaturköp med ett migrerat kort?Ja, de rosa korten (oavsett om de är kopplade till ett bankkonto eller inte) omfattas inte av samma regler som bankkorten. Därför kan man handla med ett migrerat kort på ICA genom att visa upp sin legitimation och skriva under kvittot om man inte kan sin kortkod.\\nHur ser och ändrar jag ett autogiro till ett migrerat ICA kort?Följ rutin:\\nSök efter annan rutin i Wikinpage\\ngreensolidInnehåll på sidan3\\nLäs merKortansökan för utvandrad person med svenskt personnummer\\nKortansökan med svenskt personnummer och svensk adress\\nFörmyndare och omyndig\\n---\\nDokumentägare och beslutsfattare: Produktchef Kortutgivning\\nDokumenttyp: Arbetsbeskrivning\\nSenast fastställd:\\xa02023-12-07\\nMBX-Box ICA Banken Kort Och Betaltjänster\\nSäkerhetsklass: S3\\nReferens till interna styrdokument:\\nInstruktion för betaltjänster\\nReferens till överordnade regelverk:', metadata={'title': 'Bankkort, Bankkort Plus och Migrerat ICA kort', 'id': '25397420', 'source': 'https://ica.atlassian.net/wiki/spaces/IBW/pages/25397420/Bankkort%2C+Bankkort+Plus+och+Migrerat+ICA+kort', 'when': '2024-03-19T14:27:11.684Z', 'sub-title': '**Migrerat ICA Kort**'}),\n",
       " Document(page_content='**Migrerat ICA Kort** Lag (2010:751) om betaltjänster', metadata={'title': 'Bankkort, Bankkort Plus och Migrerat ICA kort', 'id': '25397420', 'source': 'https://ica.atlassian.net/wiki/spaces/IBW/pages/25397420/Bankkort%2C+Bankkort+Plus+och+Migrerat+ICA+kort', 'when': '2024-03-19T14:27:11.684Z', 'sub-title': '**Migrerat ICA Kort**'}),\n",
       " Document(page_content='**Bankkort Plus** | Direktkontot | Fakturakontot |\\n| --- | --- |\\n| Köp hos ICA och Apotek Hjärtat.Om det saknas täckning på Direktkontot dras köp hos ICA och Apotek Hjärtat från Fakturakontot i stället.\\xa0**Exempel:**Det finns **100 kronor** på kundens **Direktkonto** och de görs ett köp på **150 kronor**. Då de **100 kronor** som finns på\\xa0**Direktkontot** inte räcker till för köpet på\\xa0**150 kronor** så dras hela beloppet från\\xa0**Fakturakontot** (så länge det finns täckning på fakturakontot).\\xa0Om det finns **100 kronor** på **Direktkontot**\\xa0och **100 kronor** på\\xa0**Fakturakontot** och man gör ett köp på\\xa0**150 kronor** kommer inte köpet gå igenom då det behöver finnas tillräckligt med täckning på\\xa0**ett** konto. Det kan alltså inte dras\\xa0**100 kronor** från ett konto och sedan resterande\\xa0**50 kronor** från det andra. | Kortköp (butik/internet) förutom om det är köp hos ICA/Apotek Hjärtat. Om det saknas täckning på Direktkontot dras **alla** kortköp här (även köp hos ICA och Apotek Hjärtat). |\\n| Räkningsbetalningar, överföringar och Swish. | Valutaköp/uttag över disk samt Cash Advance avgift. |\\n| Kontantuttag och kontantinsättning\\\\* | Kontantuttag genom att avrunda ett köp i kassan om det saknas täckning på direktkontot.\\\\* |\\n| Ev. kontokredit och i så fall även kreditavgiften. | Kortkredit. |\\n|  | Kortavgiften. |', metadata={'title': 'Bankkort, Bankkort Plus och Migrerat ICA kort', 'id': '25397420', 'source': 'https://ica.atlassian.net/wiki/spaces/IBW/pages/25397420/Bankkort%2C+Bankkort+Plus+och+Migrerat+ICA+kort', 'when': '2024-03-19T14:27:11.684Z', 'sub-title': '**Bankkort Plus**'}),\n",
       " Document(page_content='**Allmän beskrivning** ---\\nICA Banken vill tillämpa en flexibel prissättning för de familjer som har ett eller flera Bankkort Plus i familjen. Registrering av Familj inom ICA Banken innebär att de personer som registrerats kan erhålla särskilt framtagna rabatter och/eller andra förmåner. Registrering av Familj inom ICA Banken är kostnadsfritt. Man betalar bara fullpris på ett Bankkort Plus i en familj, resten av korten är rabatterade.\\nViktigt om kortavgiftenUnder en längre tid har vi haft ett fel i våra system som gör att båda kontohavarna\\xa0på ett gemensamt konto, om de anmält sig som familj,\\xa0får en kortavgift på 24 kr trots att en ska få betala 27 kr och en 24 kr. Det blir alltså bättre för kunden än vad villkoren anger och det är en svårlöst\\xa0bugg varpå detta inte är prioriterat, vi vet alltså inte när det åtgärdas.\\xa0Buggen ligger alla månader förutom december, varpå dragningen i december sker korrekt och en av kunderna får betala 27 kr och den andra 24 kr.', metadata={'title': 'Familjepaketet Bankkort Plus', 'id': '25398513', 'source': 'https://ica.atlassian.net/wiki/spaces/IBW/pages/25398513/Familjepaketet+Bankkort+Plus', 'when': '2023-10-10T13:16:23.388Z', 'sub-title': '**Allmän beskrivning**'}),\n",
       " Document(page_content='**Kriterier för att kunna registrera sig som familj** ---\\n* Anmälan behöver omfatta minst två personer.\\n* Minst en person behöver vara över 18 år, hen får inte vara barn eller syskon till någon annan i anmälan.\\n* Vid två vuxna i anmälan behöver de vara folkbokförda på samma svenska adress.\\n* Barn kan vara medregistrerade fram till 20 års ålder även om de bor på annan adress.\\n#### Registrera familjepaketet\\nVart hittar kunden blanketten?icabanken.se > Kort och betala> Kreditkort > Priser och räntor -> Registrera familj för att få rabatten\\n#### Registrera tillägg familjepaketet\\nRegistrera tilläggKunden skickar in en ny pappersansökan som Kundadmin tar emot och registrerar.', metadata={'title': 'Familjepaketet Bankkort Plus', 'id': '25398513', 'source': 'https://ica.atlassian.net/wiki/spaces/IBW/pages/25398513/Familjepaketet+Bankkort+Plus', 'when': '2023-10-10T13:16:23.388Z', 'sub-title': '**Kriterier för att kunna registrera sig som familj**'}),\n",
       " Document(page_content='**Borttag av familjemedlem** ---\\nDenna rutin används då kund kontaktar oss och vill ta bort någon i familjeregistreringen. Uppsägning kan ske skriftligt, via säkra meddelanden samt via telefon om kunden är identifierad. Banken kan även avregistrera personer i Familj när förutsättningarna inte längre är uppfyllda.\\nBorttag familjemedlem1. Sök fram familjen på KS43 och gå ner på raden och tryck enter.\\n2. Nu får du fram alla familjemedlemmar på KS44.\\n3. Gå ner till raden under F på den i familjen som inte ska vara med och sätt A och tryck enter.\\n4. Nu är personen borttagen från familjepaketet.', metadata={'title': 'Familjepaketet Bankkort Plus', 'id': '25398513', 'source': 'https://ica.atlassian.net/wiki/spaces/IBW/pages/25398513/Familjepaketet+Bankkort+Plus', 'when': '2023-10-10T13:16:23.388Z', 'sub-title': '**Borttag av familjemedlem**'}),\n",
       " Document(page_content='**Avslut familjepaketet** ---\\nDenna rutin används då kund kontaktar oss och vill avsluta familjeregistreringen. Uppsägning kan ske skriftligt, via säkra meddelanden samt via telefon om kunden är identifierad. Banken kan även\\xa0avsluta familjeregistreringen när förutsättningarna inte längre är uppfyllda.\\nAvslut Familjepaketet1. Sök fram familjen på KS43 och gå ner på raden och tryck enter.\\n2. Nu får ni fram alla familjemedlemmar på KS44.\\n3. Gå ner till Funktion och sätt A för avslut och välj J/N om ni ska skicka ut ett Avslutsbekräftelse till kund eller inte och tryck enter.\\n4. Nu är hela familjepaketet avslutat.\\nSök efter annan rutin i Wikinpage\\ngreensolidInnehåll på sidan3\\nLäs mer\\n---\\nDokumentägare och beslutsfattare: Produktchef Kortutgivning\\nDokumenttyp: Arbetsbeskrivning\\nSenast fastställd: 2023-09-25\\nMBX-Box ICA Banken Kort Och Betaltjänster\\nSäkerhetsklass: S3\\nReferens till överordnade regelverk:', metadata={'title': 'Familjepaketet Bankkort Plus', 'id': '25398513', 'source': 'https://ica.atlassian.net/wiki/spaces/IBW/pages/25398513/Familjepaketet+Bankkort+Plus', 'when': '2023-10-10T13:16:23.388Z', 'sub-title': '**Avslut familjepaketet**'})]"
      ]
     },
     "execution_count": 49,
     "metadata": {},
     "output_type": "execute_result"
    }
   ],
   "source": [
    "final"
   ]
  },
  {
   "cell_type": "code",
   "execution_count": 4,
   "metadata": {},
   "outputs": [],
   "source": [
    "# -----------"
   ]
  },
  {
   "cell_type": "code",
   "execution_count": 4,
   "metadata": {},
   "outputs": [],
   "source": [
    "from splitters_confluence import ConfluenceMarkdownChunker\n",
    "from langchain_text_splitters.markdown import MarkdownTextSplitter, MarkdownHeaderTextSplitter\n",
    "\n",
    "chunk_size = 1000\n",
    "header_splitter = MarkdownHeaderTextSplitter(\n",
    "    headers_to_split_on=[(\"#\", \"level_1\"), (\"##\", \"level_2\"), ('###', \"level_3\")]\n",
    ")\n",
    "text_splitter = MarkdownTextSplitter(chunk_size=1000, chunk_overlap=0)\n",
    "\n",
    "chunker = ConfluenceMarkdownChunker(markdown_header_splitter=header_splitter, markdown_text_splitter=text_splitter)"
   ]
  },
  {
   "cell_type": "code",
   "execution_count": 5,
   "metadata": {},
   "outputs": [],
   "source": [
    "final = chunker.chunker(documents)"
   ]
  },
  {
   "cell_type": "code",
   "execution_count": 6,
   "metadata": {},
   "outputs": [
    {
     "data": {
      "text/plain": [
       "['**Allmän beskrivning** ---\\nICA -- **Allmän beskrivning**',\n",
       " '**Bankkort** ---\\n* Mastercard  -- **Bankkort**',\n",
       " '**Bankkort Plus** ---\\n* Master -- **Bankkort Plus**',\n",
       " '**Bankkort Plus** **\\\\***För me -- **Bankkort Plus**',\n",
       " '**Migrerat ICA Kort** ---\\nMigr -- **Migrerat ICA Kort**',\n",
       " '**Migrerat ICA Kort** 3. Klick -- **Migrerat ICA Kort**',\n",
       " '**Migrerat ICA Kort** Lag (201 -- **Migrerat ICA Kort**',\n",
       " '**Bankkort Plus** | Direktkont -- **Bankkort Plus**',\n",
       " '**Allmän beskrivning** ---\\nICA -- **Allmän beskrivning**',\n",
       " '**Kriterier för att kunna regi -- **Kriterier för att kunna registrera sig som familj**',\n",
       " '**Borttag av familjemedlem** - -- **Borttag av familjemedlem**',\n",
       " '**Avslut familjepaketet** ---\\n -- **Avslut familjepaketet**']"
      ]
     },
     "execution_count": 6,
     "metadata": {},
     "output_type": "execute_result"
    }
   ],
   "source": [
    "[f\"{x.page_content[:30]} -- {x.metadata['sub-title']}\"  for x in final]"
   ]
  },
  {
   "cell_type": "markdown",
   "metadata": {},
   "source": [
    "## Semantic text splitter"
   ]
  },
  {
   "cell_type": "code",
   "execution_count": 261,
   "metadata": {},
   "outputs": [
    {
     "name": "stderr",
     "output_type": "stream",
     "text": [
      "/Users/hle254/anaconda3/envs/confluence/lib/python3.11/site-packages/tqdm/auto.py:21: TqdmWarning: IProgress not found. Please update jupyter and ipywidgets. See https://ipywidgets.readthedocs.io/en/stable/user_install.html\n",
      "  from .autonotebook import tqdm as notebook_tqdm\n"
     ]
    }
   ],
   "source": [
    "from semantic_text_splitter import TextSplitter, MarkdownSplitter\n",
    "from tokenizers import Tokenizer\n",
    "\n",
    "# Maximum number of tokens in a chunk\n",
    "max_tokens = 1000\n",
    "tokenizer = Tokenizer.from_pretrained(\"bert-base-uncased\") # \"google-bert/bert-base-uncased\"\n",
    "splitter = TextSplitter.from_huggingface_tokenizer(tokenizer)\n",
    "\n",
    "#splitter = TextSplitter.from_tiktoken_model(\"gpt-3.5-turbo\")\n",
    "\n",
    "chunks = splitter.chunks(documents[0].page_content, max_tokens)\n"
   ]
  },
  {
   "cell_type": "code",
   "execution_count": 265,
   "metadata": {},
   "outputs": [
    {
     "name": "stdout",
     "output_type": "stream",
     "text": [
      "0 :  ##  Objective\n",
      "\n",
      "The goal is to build a next generation Chatbot based on LLMs for the bank which replaces the current Chatbot that is based on hard-coded workflows.\n",
      "\n",
      "##  Business Value\n",
      "\n",
      "Potential business value from improved Chatbot​\n",
      "\n",
      "* Improving 1st call resolutions???\n",
      "* Improve availability of customer service -> 24/7​\n",
      "* Improve customer satisfaction\n",
      "* Minimizing NVA calls (Enabling customer service agents to work with more high-value calls​)\n",
      "* To reduce the overhead of maintaining the \"scripts\" [scripts are the current static workflows through which a user query passes to get an answer].\n",
      "\n",
      "##  Success metrics\n",
      "\n",
      "Following are some of the success metrics. [More ca]\n",
      "-*-*-*-*-*-*-*-*-*-*-*-*-*-*-*-*-*-*-*-*-*-*-*-*-*-*-*-*-*-*-*-*-*-*-*-*-*-*-*-*-*-*-*-*-*-*-*-*-*-*\n",
      "1 :  | **Goal** | **Metric** |\n",
      "| --- | --- |\n",
      "| Improve Customer Satisfaction|This is after newlines| | Customer satisfaction score increases |\n",
      "| | |  |\n",
      "\n",
      "##  Timeline\n",
      "-*-*-*-*-*-*-*-*-*-*-*-*-*-*-*-*-*-*-*-*-*-*-*-*-*-*-*-*-*-*-*-*-*-*-*-*-*-*-*-*-*-*-*-*-*-*-*-*-*-*\n",
      "2 :  true%7B%22title%22%3A%22Roadmap%20Planner%22%2C%22timeline%22%3A%7B%22startDate%22%3A%222024-01-01%2000%3A00%3A00%22%2C%22endDate%22%3A%222024-08-01%2000%3A00%3A00%22%2C%22displayOption%22%3A%22MONTH%22%7D%2C%22lanes%22%3A%5B%7B%22title%22%3A%22Data%22%2C%22color%22%3A%7B%22lane%22%3A%22%23f6c342%22%2C%22bar%22%3A%22%23fadb8e%22%2C%22text%22%3A%22%23594300%22%2C%22count%22%3A1%7D%2C%22bars%22%3A%5B%7B%22title%22%3A%22Feature%201%22%2C%22description%22%3A%22This%20is%20the%20first%20bar.\n",
      "-*-*-*-*-*-*-*-*-*-*-*-*-*-*-*-*-*-*-*-*-*-*-*-*-*-*-*-*-*-*-*-*-*-*-*-*-*-*-*-*-*-*-*-*-*-*-*-*-*-*\n",
      "3 :  %22%2C%22startDate%22%3A%222021-12-10%2019%3A43%3A21%22%2C%22duration%22%3A2%2C%22rowIndex%22%3A0%2C%22id%22%3A%22eeb2d902-e723-4ff0-a10d-43a5793089a4%22%2C%22pageLink%22%3A%7B%7D%7D%2C%7B%22rowIndex%22%3A1%2C%22startDate%22%3A%222022-03-13%2007%3A39%3A12%22%2C%22id%22%3A%2290251c8c-3b74-4d2b-b850-684ffd40514b%22%2C%22title%22%3A%22Feature%203%22%2C%22description%22%3A%22%22%2C%22duration%22%3A2.00990099009901%2C%22pageLink%22%3A%7B%7D%7D%2C%7B%22rowIndex%22%3A2%2C%22startDate%22%3A%222022-04-24%2011%3A10%3A05%22%2C%22id%22%3A%22d0529fe8-6c8c-45e8-8078-d75c2f063dd9%22%2C%22title%22%3A%22Feature%204%22%2C%22description%22%3A%22%22%2C%22duration%22%3A2.01980198019802%2C%22pageLink%22%3A%7B%7D%7D%2C%7B%22rowIndex%22%3A0%2C%22startDate%22%3A%222024-01-01%2006%3A08%3A18%22%2C%22id%22%3A%22f3d8bda7-5267-465e-9619-43c73d3763ea%22%2C%22title%22%3A%22Get%20Access%20to%20data%20sources%22%2C%22description%22%3A%22Identify%20Data%22%2C%22duration%22%3A1.353135306930693%2C%22pageLink%22%3A%7B%7D%7D%2C%7B%22rowIndex%22%3A1%2C%22startDate%22%3A%222024-02-10%2017%3A08%3A54%22%2C%22id%22%3A%2240b554e4-4809-401a-8ec2-3d8b94a9b321%22%2C%22title%22%3A%22Clean%20Data%20%26%20Decision%20on%20what%20goes%20into%20the%20model%22%2C%22description%22%3A%22%22%2C%22duration%22%3A1.2244224356435642%2C%22pageLink%22%3A%7B%7D%7D%5D%7D%2C%7B%22title%22%3A%22Implementation%22%2C%22color%22%3A%7B%22lane%22%3A%22%233b7fc4%22%2C%22bar%22%3A%22%236c9fd3%22%2C%22text%22%3A%22%23ffffff%22%2C%22count%22%3A1%7D%2C%22bars%22%3A%5B%7B%22title%22%3A%22iOS%20App%22%2C%22description%22%3A%22This%\n",
      "-*-*-*-*-*-*-*-*-*-*-*-*-*-*-*-*-*-*-*-*-*-*-*-*-*-*-*-*-*-*-*-*-*-*-*-*-*-*-*-*-*-*-*-*-*-*-*-*-*-*\n",
      "4 :  20is%20the%20third%20bar.\n",
      "-*-*-*-*-*-*-*-*-*-*-*-*-*-*-*-*-*-*-*-*-*-*-*-*-*-*-*-*-*-*-*-*-*-*-*-*-*-*-*-*-*-*-*-*-*-*-*-*-*-*\n",
      "5 :  %22%2C%22startDate%22%3A%222022-01-13%2014%3A01%3A11%22%2C%22duration%22%3A2.5%2C%22rowIndex%22%3A0%2C%22id%22%3A%22dd93afcd-2704-4253-adb8-809a336cc5ba%22%2C%22pageLink%22%3A%7B%7D%7D%2C%7B%22rowIndex%22%3A0%2C%22startDate%22%3A%222022-04-23%2013%3A46%3A55%22%2C%22id%22%3A%228dc8bc2d-b7cb-44a8-b526-7d1ede51f690%22%2C%22title%22%3A%22Android%22%2C%22description%22%3A%22%22%2C%22duration%22%3A2.4752475247524752%2C%22pageLink%22%3A%7B%7D%7D%2C%7B%22rowIndex%22%3A0%2C%22startDate%22%3A%222024-03-15%2000%3A23%3A45%22%2C%22id%22%3A%22b50d576b-6913-4b83-8dcf-e2fc3b94bd33%22%2C%22title%22%3A%22Create%20RAG%20based%20solution%22%2C%22description%22%3A%22%22%2C%22duration%22%3A1.561056099009901%2C%22pageLink%22%3A%7B%7D%7D%5D%7D%2C%7B%22title%22%3A%22Test%22%2C%22color%22%3A%7B%22lane%22%3A%22%23d04437%22%2C%22bar%22%3A%22%23d04437%22%2C%22text%22%3A%22%23ffffff%22%2C%22count%22%3A1%7D%2C%22bars%22%3A%5B%7B%22rowIndex%22%3A0%2C%22startDate%22%3A%222024-02-28%2020%3A26%3A08%22%2C%22id%22%3A%2200b27dc9-7c0d-403d-b342-1b73ef61321c%22%2C%22title%22%3A%22Decide%20on%20pilot%20testing%22%2C%22description%22%3A%22%22%2C%22duration%22%3A3.1353135247524753%2C%22pageLink%22%3A%7B%7D%7D%5D%7D%5D%2C%22markers%22%3A%5B%7B%22title%22%3A%22Milestone%201%22%2C%22markerDate%22%3A%222022-04-28%2007%3A50%3A29%22%7D%2C%7B%22markerDate%22%3A%222022-08-25%2020%3A40%3A23%22%2C%22title%22%3A%22Go%2FNo%20go%22%7D%2C%7B%22markerDate%22%3A%222022-06-25%2008%3A33%3A16%22%2C%22title%22%3A%22Milestone%202%22%7D%2C%7B%22markerDate%22%3A%222024-05-02%2012%3A49%3A54%22%2C%22title%22%3A%22MVP%20ready%22%7D%5D%\n",
      "-*-*-*-*-*-*-*-*-*-*-*-*-*-*-*-*-*-*-*-*-*-*-*-*-*-*-*-*-*-*-*-*-*-*-*-*-*-*-*-*-*-*-*-*-*-*-*-*-*-*\n",
      "6 :  7DRoadmap%20Planner35aefc2557f7aa1a2977dffcf0948046##  Requirements\n",
      "\n",
      "\n",
      "\n",
      "| **Requirement** | **User Story** | **Importance** | **Jira Issue** | **Notes** |\n",
      "| --- | --- | --- | --- | --- |\n",
      "| An FAQ chatbot that has the ability to have a conversation with the customer and is augmented only with publicly available information | e.g., John is a PM who wants to check on his team's progress from the train station | HIGHRed |  |  |\n",
      "|   |   |   |   |   |\n",
      "\n",
      "##  Open Questions\n",
      "\n",
      "\n",
      "\n",
      "| **Question** | **Answer** | **Date Answered** |\n",
      "| --- | --- | --- |\n",
      "| Who owns the data that we want to augment the LLMs with? | e.g., We'll announce the feature with a blog post and a presentation | Type // to add a date |\n",
      "\n",
      "##  Out of Scope\n",
      "\n",
      "* Customer related data\n",
      "\n",
      "##  Business Stakeholders\n",
      "\n",
      "\n",
      "\n",
      "| **Name** | **Role** |\n",
      "| --- | --- |\n",
      "| Martin Frossmed Ulmhage | Head of value stream Care |\n",
      "| Erik Milbredt | PO for Banken’s current chatbot |\n",
      "\n",
      "##  Project Team\n",
      "-*-*-*-*-*-*-*-*-*-*-*-*-*-*-*-*-*-*-*-*-*-*-*-*-*-*-*-*-*-*-*-*-*-*-*-*-*-*-*-*-*-*-*-*-*-*-*-*-*-*\n",
      "7 :  | **Name** | **Role** |\n",
      "| --- | --- |\n",
      "| Jakob Tardelius Hemborg | Unit Lead Data and Analytics |\n",
      "| Zeeshan Khaliq | Senior Data Scientist |\n",
      "| Peter Henel | Data Architect |\n",
      "\n",
      "## Temp heading to checking how it's read\n",
      "\n",
      "adsafhajfjasjdha saldkösjöaksdjkfajs d öaskdjökasjkfjajsk aökdjköajfkdajskfjaökladsjkajsdökj\n",
      "\n",
      "askdjköasjdökjöaksjdkfajsdkjasj\n",
      "\n",
      "aöksdjföklasdjkfjaksdjkfajsdjfas\n",
      "\n",
      "dkösjfökadsja ölkajdökfajsd f aökjföakl jf asdk aksdjfa ösdjf askfj faskj asködjf fasökdjf öaskf akösjf fadskfj asökj kja öfjöaskjf asöjdf aösk faöksj fökjasökdfj fas\n",
      "\n",
      "jaskdjöföa sdfj aökdjföas ökfj aösk jföasj fas'\n",
      "\n",
      "ödkjfökajsdkfjöa sdfja sdfadsjföalsjfökadsjfk asökfjasödk faksöjfas\n",
      "\n",
      "kldösajfk adsökfjaöskjfaöskjfkajsökfjaöskjfa söfkljaöklsdjfa\n",
      "\n",
      "jaklösdjfökasjdfkjaös dfjaklsdjfas dökjö adökjf asdjf asökdfjaök söjfk asdök adksjfökasj af''a\n",
      "\n",
      "adkasjdfkjasökdjfökasjdfkjaskjfkajsfj as\n",
      "\n",
      "kdjökfjaskdjfkasjkfjaksjfajs ökasdjökfajskdfjas ökajsdkfjaskdjfa ökljasökdjfklasjdklfj as öaksjdfkajs dfj asljfasj fj asjk föajsöfkasjfjaksjfasjföjas\n",
      "\n",
      "adsafhajfjasjdha saldkösjöaksdjkfajs d öaskdjökasjkfjajsk aökdjköajfkdajskfjaökladsjkajsdökj\n",
      "\n",
      "askdjköasjdökjöaksjdkfajsdkjasj\n",
      "\n",
      "aöksdjföklasdjkfjaksdjkfajsdjfas\n",
      "\n",
      "dkösjfökadsja ölkajdökfajsd f aökjföakl jf asdk aksdjfa ösdjf askfj faskj asködjf fasökdjf öaskf akösjf fadskfj asökj kja öfjöaskjf asöjdf aösk faöksj fökjasökdfj fas\n",
      "\n",
      "jaskdjöföa sdfj aökdjföas ökfj aösk jföasj fas'\n",
      "\n",
      "ödkjfökajsdkfjöa sdfja sdfadsjföalsjfökadsjfk asökfjasödk faksöjfas\n",
      "\n",
      "kldösajfk adsökfjaöskjfaöskjfkajsökfjaöskjfa söfkljaöklsdjfa\n",
      "\n",
      "jaklösdjfökasjdfkjaös dfjaklsdjfas dökjö adökjf asdjf asökdfjaök söjfk asdök adksjfökasj af''a\n",
      "\n",
      "adkasjdfkjasökdjfökasjdfkjaskjfkajsfj as\n",
      "\n",
      "kdjökfjaskdjfkasjkfjaksjfajs ökasdjökfajskdfjas ökajsdkfjaskdjfa ökljasökdjfklasjdklfj as öaksjdfkajs dfj asljfasj fj asjk föajsöfkasjfjaksjfasjföjas\n",
      "\n",
      "adsafhajfjasjdha saldkösjöaksdjkfajs d öaskdjökasjkfjajsk aökdjköajfkdajskfjaökladsjkajsdökj\n",
      "\n",
      "askdjköasjdökjöaksjdkfajsdkjasj\n",
      "-*-*-*-*-*-*-*-*-*-*-*-*-*-*-*-*-*-*-*-*-*-*-*-*-*-*-*-*-*-*-*-*-*-*-*-*-*-*-*-*-*-*-*-*-*-*-*-*-*-*\n",
      "8 :  aöksdjföklasdjkfjaksdjkfajsdjfas\n",
      "\n",
      "dkösjfökadsja ölkajdökfajsd f aökjföakl jf asdk aksdjfa ösdjf askfj faskj asködjf fasökdjf öaskf akösjf fadskfj asökj kja öfjöaskjf asöjdf aösk faöksj fökjasökdfj fas\n",
      "\n",
      "jaskdjöföa sdfj aökdjföas ökfj aösk jföasj fas'\n",
      "\n",
      "ödkjfökajsdkfjöa sdfja sdfadsjföalsjfökadsjfk asökfjasödk faksöjfas\n",
      "\n",
      "kldösajfk adsökfjaöskjfaöskjfkajsökfjaöskjfa söfkljaöklsdjfa\n",
      "\n",
      "jaklösdjfökasjdfkjaös dfjaklsdjfas dökjö adökjf asdjf asökdfjaök söjfk asdök adksjfökasj af''a\n",
      "\n",
      "adkasjdfkjasökdjfökasjdfkjaskjfkajsfj as\n",
      "\n",
      "kdjökfjaskdjfkasjkfjaksjfajs ökasdjökfajskdfjas ökajsdkfjaskdjfa ökljasökdjfklasjdklfj as öaksjdfkajs dfj asljfasj fj asjk föajsöfkasjfjaksjfasjföjas\n",
      "-*-*-*-*-*-*-*-*-*-*-*-*-*-*-*-*-*-*-*-*-*-*-*-*-*-*-*-*-*-*-*-*-*-*-*-*-*-*-*-*-*-*-*-*-*-*-*-*-*-*\n"
     ]
    }
   ],
   "source": [
    "for i, t in enumerate(chunks):\n",
    "    print(i, \": \", t)\n",
    "    print(\"-*\"*50)"
   ]
  },
  {
   "cell_type": "code",
   "execution_count": 263,
   "metadata": {},
   "outputs": [
    {
     "name": "stdout",
     "output_type": "stream",
     "text": [
      "Total chunks:  9\n",
      "Chunks > 1000 chars:  3\n",
      "Chunks < 500 chars:  3\n"
     ]
    }
   ],
   "source": [
    "print(\"Total chunks: \", len(chunks))\n",
    "print(\"Chunks > 1000 chars: \", len([y for y in [len(x) for x in chunks] if y > 1000]))\n",
    "print(\"Chunks < 500 chars: \", len([y for y in [len(x) for x in chunks] if y < 500]))"
   ]
  },
  {
   "cell_type": "code",
   "execution_count": 264,
   "metadata": {},
   "outputs": [
    {
     "data": {
      "text/plain": [
       "[670, 160, 491, 1579, 25, 1594, 934, 1938, 669]"
      ]
     },
     "execution_count": 264,
     "metadata": {},
     "output_type": "execute_result"
    }
   ],
   "source": [
    "[len(x) for x in chunks]"
   ]
  },
  {
   "cell_type": "markdown",
   "metadata": {},
   "source": [
    "## TableTextSplitter\n",
    "Extend the CharacterTextSplitter"
   ]
  },
  {
   "cell_type": "code",
   "execution_count": 20,
   "metadata": {},
   "outputs": [],
   "source": [
    "import re\n",
    "from typing import (\n",
    "    Any,\n",
    "    List,\n",
    ")\n",
    "\n",
    "def _split_text(text: str, separator: str, keep_separator: bool) -> List[str]:\n",
    "    # Now that we have the separator, split the text\n",
    "    if separator:\n",
    "        if keep_separator:\n",
    "            # The parentheses in the pattern keep the delimiters in the result.\n",
    "            _splits = re.split(f\"({separator})\", text)\n",
    "            splits = [_splits[i] + _splits[i + 1] for i in range(1, len(_splits), 2)]\n",
    "            if len(_splits) % 2 == 0:\n",
    "                splits += _splits[-1:]\n",
    "            splits = [_splits[0]] + splits\n",
    "        else:\n",
    "            splits = text.split(separator)\n",
    "    else:\n",
    "        splits = list(text)\n",
    "    return [s for s in splits if s != \"\"]\n",
    "\n",
    "class MarkdownTextTableSplitter2(CharacterTextSplitter):\n",
    "    \"\"\"Attempts to split the text along Markdown-formatted headings.\"\"\"\n",
    "\n",
    "    def __init__(self, separator: str = \"\\n\\n\", **kwargs: Any):\n",
    "        \"\"\"Create a new TextSplitter.\"\"\"\n",
    "        super().__init__(**kwargs)\n",
    "        self._separator = separator\n",
    "\n",
    "    def split_text(self, text: str) -> List[str]:\n",
    "        \"\"\"Split incoming text and return chunks.\"\"\"\n",
    "        #print(text)\n",
    "        texts, tables = self._separate_tables_text(text)\n",
    "        # First we naively split the large input into a bunch of smaller ones.\n",
    "        splits = _split_text(texts, self._separator, self._keep_separator)\n",
    "        _separator = \"\" if self._keep_separator else self._separator\n",
    "        merged_splits = self._merge_splits(splits, _separator)\n",
    "        merged_splits.extend(tables)\n",
    "        return merged_splits\n",
    "\n",
    "    def _separate_tables_text(self, text: str, table_separator: str = '|'):\n",
    "        table_chunks = {}\n",
    "        text_chunks  = []\n",
    "        table_num = 0\n",
    "\n",
    "        for line in text.splitlines():\n",
    "            stripped_line = line.strip()\n",
    "            if stripped_line:\n",
    "                if stripped_line.startswith(table_separator):\n",
    "                    if table_num in table_chunks.keys():\n",
    "                        table_chunks[table_num].append(stripped_line) \n",
    "                    else:\n",
    "                        table_chunks[table_num]=[stripped_line] \n",
    "                else:\n",
    "                    table_num +=1\n",
    "                    text_chunks.append(stripped_line)\n",
    "        if table_chunks:\n",
    "            final_tables = [\"\\n\".join(table_chunks[i]) for i in table_chunks.keys()]\n",
    "        else:\n",
    "            final_tables = []\n",
    "\n",
    "        return self._separator.join(text_chunks), final_tables\n"
   ]
  },
  {
   "cell_type": "code",
   "execution_count": 21,
   "metadata": {},
   "outputs": [
    {
     "name": "stderr",
     "output_type": "stream",
     "text": [
      "Created a chunk of size 1432, which is longer than the specified 1000\n",
      "Created a chunk of size 1093, which is longer than the specified 1000\n",
      "Created a chunk of size 1048, which is longer than the specified 1000\n",
      "Created a chunk of size 1216, which is longer than the specified 1000\n",
      "Created a chunk of size 1110, which is longer than the specified 1000\n",
      "Created a chunk of size 1784, which is longer than the specified 1000\n",
      "Created a chunk of size 1076, which is longer than the specified 1000\n"
     ]
    }
   ],
   "source": [
    "# d = documents[:1]\n",
    "text_splitter = MarkdownTextTableSplitter2(chunk_size=1000, chunk_overlap=100)\n",
    "texts_tb = text_splitter.split_documents(documents)\n",
    "# [f\"{len(x.page_content)} : {x.page_content}\" for x in texts_tb]"
   ]
  },
  {
   "cell_type": "code",
   "execution_count": 22,
   "metadata": {},
   "outputs": [
    {
     "name": "stdout",
     "output_type": "stream",
     "text": [
      "Total chunks:  2409\n",
      "Chunks > 1000 chars:  50\n",
      "Chunks < 500 chars:  193\n"
     ]
    }
   ],
   "source": [
    "print(\"Total chunks: \", len(texts_tb))\n",
    "print(\"Chunks > 1000 chars: \", len([y for y in [len(x.page_content) for x in texts_tb] if y > 1000]))\n",
    "print(\"Chunks < 500 chars: \", len([y for y in [len(x.page_content) for x in texts_tb] if y < 500]))"
   ]
  },
  {
   "cell_type": "code",
   "execution_count": 23,
   "metadata": {},
   "outputs": [],
   "source": [
    "#texts_tb"
   ]
  },
  {
   "cell_type": "markdown",
   "metadata": {},
   "source": [
    "# **********************"
   ]
  },
  {
   "cell_type": "markdown",
   "metadata": {},
   "source": [
    "## BankGPT test"
   ]
  },
  {
   "cell_type": "code",
   "execution_count": 1,
   "metadata": {},
   "outputs": [
    {
     "name": "stderr",
     "output_type": "stream",
     "text": [
      "Received runtime arguments {'page_ids': [25397420], 'include_attachments': False, 'include_comments': False, 'limit': 100, 'max_pages': 1000, 'keep_markdown_format': True}. Passing runtime args to `load` is deprecated. Please pass arguments during initialization instead.\n"
     ]
    }
   ],
   "source": [
    "import os\n",
    "from langchain_community.document_loaders.confluence import ConfluenceLoader\n",
    "from langchain.text_splitter import RecursiveCharacterTextSplitter, MarkdownTextSplitter, CharacterTextSplitter, TokenTextSplitter, TextSplitter\n",
    "#from langchain.embeddings.openai import OpenAIEmbeddings\n",
    "from langchain.prompts import PromptTemplate\n",
    "#from langchain.chat_models import ChatOpenAI\n",
    "from __future__ import annotations\n",
    "\n",
    "\n",
    "import re\n",
    "from typing import (\n",
    "    Any,\n",
    "    List,\n",
    ")\n",
    "load_dotenv()\n",
    "persist_directory = \"./chroma_db/\"\n",
    "space_key = \"IBW\"\n",
    "confluence_url = os.getenv(\"CONFLUENE_URL\")\n",
    "username = os.getenv(\"CONFLUENCE_USERNAME\")\n",
    "api_key = os.getenv(\"CONFLUENCE_API_KEY\")\n",
    "\n",
    "from langchain_community.document_loaders.confluence import ContentFormat\n",
    "from confluence_chunker.confluence_loader_modified import BankGPTConfluenceLoader\n",
    "loader = BankGPTConfluenceLoader(\n",
    "    content_format=ContentFormat.STORAGE,\n",
    "    url=confluence_url,\n",
    "    username = username,\n",
    "    api_key= api_key\n",
    ")\n",
    "\n",
    "documents = loader.load(\n",
    "    #space_key=space_key,\n",
    "    page_ids= [25397420], # [26706543, 185500205], # 398098434 # bankens = 25398483\n",
    "    include_attachments=False,\n",
    "    include_comments=False,\n",
    "    limit=100,\n",
    "    max_pages=1000,\n",
    "    keep_markdown_format=True, \n",
    "    )"
   ]
  },
  {
   "cell_type": "code",
   "execution_count": 2,
   "metadata": {},
   "outputs": [
    {
     "name": "stdout",
     "output_type": "stream",
     "text": [
      "['  \\n\\n\\n### **Allmän beskrivning** ###\\n\\n\\n\\n---\\n\\nICA Banken erbjuder två typer av bankkort för privatkunder, ICA Bankkort MasterCard och ICA Bankkort Plus MasterCard.\\xa0Sedan tidigare finns det även något som kallas för migrerat ICA kort. Våra bankkort är gratis de två första månaderna. Det finns ingen övre beloppsgräns från vår sida när kund handlar med korten (undantag gäller vid blipp-köp), så länge kund har det önskade saldot så kan hen handla oavsett summan.\\xa0ICA Bankkort MasterCard och ICA Bankkort Plus MasterCard\\xa0är öppna för köp över hela världen.  \\n\\xa0\\n\\n[Jämförelse av våra kort på hemsidan.](https://www.icabanken.se/kort-och-konto/vara-kort/jamfor-vara-kort/)\\n\\n### **Bankkort** ###\\n\\n\\n\\n---\\n\\n* Mastercard Debit\\n* Går att ha gemensamt.\\n* Innehåller Reseförsäkring och Matförsäkring.\\n* Gratis för Stammis Studenter och personer under 21 år.\\n* Grundkriterier för att ha möjlighet att bli beviljad kortet: fyllt 16 år (för yngre se sida: ) och bosatt inom EU/EEA.\\n* Månadsavgift/Cash Advance/Valutaväxlingspåslag enligt\\xa0[prislistan](https://www.icabanken.se/prislista/).\\n* Möjlighet att ansöka om upp till 50 000 kr i kontokredit. (Mer info här:\\xa0)\\n* Möjlighet till stammis och dubbel bonus.\\n\\n### **Bankkort Plus** ###\\n\\n\\n\\n---\\n\\n* Mastercard, betal och kreditkort\\n* Går att ha gemensamt.\\n* Går att delbetala.\\n* Innehåller Reseförsäkring, Trygghetsförsäkring och Matförsäkring.\\n* Gratis för Stammis Studenter (kräver att man redan har BK+ vid studentanmälan) och personer under 21 år.\\n* Grundkriterier för att ha möjlighet att bli beviljad kortet: fyllt 18 år, inga betalningsanmärkningar, fast inkomst och folkbokförd i Sverige.\\n* Månadsavgift/Cash Advance/Valutaväxlingspåslag enligt\\xa0[prislistan](https://www.icabanken.se/prislista/).\\n* Kopplas till två konton, ett direktkonto och ett fakturakonto. Direktkontot kopplat till ICA-köp och ATM-uttag. Fakturakontot externa köp och om inte täckning på Direktkotot vid ICA-köp.\\n* Obligatorisk kortkredit på lägst 20 000 kr, högst 100 000 kr, möjlighet att ansöka om kontokredit upp till 50 000 kr. (Mer info här:\\xa0.)\\n* Möjlighet till stammis och dubbel bonus.\\n.\\n\\nVilka transaktioner sker på direktkontot och vilka sker på fakturakontot?  \\n\\n\\n\\n\\n| Direktkontot | Fakturakontot |\\n| --- | --- |\\n| Köp hos ICA och Apotek Hjärtat.Om det saknas täckning på Direktkontot dras köp hos ICA och Apotek Hjärtat från Fakturakontot i stället.\\xa0**Exempel:**Det finns **100 kronor** på kundens **Direktkonto** och de görs ett köp på **150 kronor**. Då de **100 kronor** som finns på\\xa0**Direktkontot** inte räcker till för köpet på\\xa0**150 kronor** så dras hela beloppet från\\xa0**Fakturakontot** (så länge det finns täckning på fakturakontot).\\xa0Om det finns **100 kronor** på **Direktkontot**\\xa0och **100 kronor** på\\xa0**Fakturakontot** och man gör ett köp på\\xa0**150 kronor** kommer inte köpet gå igenom då det behöver finnas tillräckligt med täckning på\\xa0**ett** konto. Det kan alltså inte dras\\xa0**100 kronor** från ett konto och sedan resterande\\xa0**50 kronor** från det andra. | Kortköp (butik/internet) förutom om det är köp hos ICA/Apotek Hjärtat. Om det saknas täckning på Direktkontot dras **alla** kortköp här (även köp hos ICA och Apotek Hjärtat). |\\n| Räkningsbetalningar, överföringar och Swish. | Valutaköp/uttag över disk samt Cash Advance avgift. |\\n| Kontantuttag och kontantinsättning\\\\* | Kontantuttag genom att avrunda ett köp i kassan om det saknas täckning på direktkontot.\\\\* |\\n| Ev. kontokredit och i så fall även kreditavgiften. | Kortkredit. |\\n|  | Kortavgiften. |\\n\\n**\\\\***För mer information se rutin: Kontantinsättning, kontantuttag och avrundning i kassan\\n\\n### **Migrerat ICA Kort** ###\\n\\n\\n\\n---\\n\\nMigrerat ICA Kort är av kontotypen ID (utan kredit) eller IF (med kredit) och kontonumret börjar med siffran 9. Detta är bankkonton som är kopplade till ett rosa ICA Kort. Dessa konton tillhör banken och kunder med dessa skall få hjälp av banken. Korten fungerar bara i ICA:s butiker men genom kontot kan kunden betala räkningar och göra överföringar. Om kortet har CVC så fungerar det även för köp på: [www.ica.se](http://www.ica.se)   \\nHar kunden enbart ett lösenord kan denne beställa ut en Personlig dosa via bankens kundservice för att logga in på icabanken.se/ICA Bankens app.  \\n  \\n\\n\\nOmbeställa kort och kortkod**Guida kunden till att ombeställa kortet:**\\n\\n1. Logga in på\\xa0[www.ica.se](http://www.ica.se)\\n2. Klicka på ditt namn/dina initialer uppe till höger\\n3. Klicka på **Inställningar →****Dina kort\\xa0→\\xa0Spärra/beställ nytt →\\xa0Beställ nytt kort**\\n\\n  \\n\\n\\n**Guida kunden till att beställa hem kortkoden:**\\n\\n1. Logga in på\\xa0[www.ica.se](http://www.ica.se)\\n2. Klicka på ditt namn/dina initialer uppe till höger\\n3. Klicka på **Inställningar →****Dina kort\\xa0→ Beställ ny kod**\\n\\n**Via Centrica:**Läs mer på sida \\n\\n  \\n\\n\\n  \\n\\n\\nKan man göra signaturköp med ett migrerat kort?Ja, de rosa korten (oavsett om de är kopplade till ett bankkonto eller inte) omfattas inte av samma regler som bankkorten. Därför kan man handla med ett migrerat kort på ICA genom att visa upp sin legitimation och skriva under kvittot om man inte kan sin kortkod.\\xa0\\n\\n  \\n\\n\\nHur ser och ändrar jag ett autogiro till ett migrerat ICA kort?Följ rutin: \\n\\n  \\n\\n\\nSök efter annan rutin i Wikinpage\\n\\ngreensolidInnehåll på sidan3\\n\\n  \\n\\n\\nLäs merKortansökan för utvandrad person med svenskt personnummer\\n\\nKortansökan med svenskt personnummer och svensk adress\\n\\nFörmyndare och omyndig\\n\\n  \\n\\n\\n  \\n\\n\\n  \\n\\n\\n  \\n\\n\\n\\n\\n---\\n\\nDokumentägare och beslutsfattare: Produktchef Kortutgivning  \\n  \\nDokumenttyp: Arbetsbeskrivning\\n\\nSenast fastställd:\\xa02023-12-07\\n\\nMBX-Box ICA Banken Kort Och Betaltjänster\\n\\nSäkerhetsklass: S3  \\n  \\nReferens till interna styrdokument:\\xa0  \\nInstruktion för betaltjänster  \\n  \\n\\n\\nReferens till överordnade regelverk:\\xa0  \\nLag (2010:751) om betaltjänster\\n\\n']\n"
     ]
    }
   ],
   "source": [
    "print(documents)"
   ]
  },
  {
   "cell_type": "code",
   "execution_count": null,
   "metadata": {},
   "outputs": [],
   "source": []
  },
  {
   "cell_type": "code",
   "execution_count": null,
   "metadata": {},
   "outputs": [],
   "source": []
  },
  {
   "cell_type": "code",
   "execution_count": null,
   "metadata": {},
   "outputs": [],
   "source": []
  },
  {
   "cell_type": "markdown",
   "metadata": {},
   "source": [
    "# *****************************************"
   ]
  },
  {
   "cell_type": "code",
   "execution_count": 260,
   "metadata": {},
   "outputs": [
    {
     "data": {
      "text/plain": [
       "(10, 16)"
      ]
     },
     "execution_count": 260,
     "metadata": {},
     "output_type": "execute_result"
    }
   ],
   "source": [
    "len(texts_tb), len(texts_tb_1)"
   ]
  },
  {
   "cell_type": "code",
   "execution_count": 28,
   "metadata": {},
   "outputs": [],
   "source": [
    "import bs4\n",
    "from langchain.schema import Document\n",
    "\n",
    "from unstructured.partition.html import partition_html\n",
    "from unstructured.chunking.title import chunk_by_title\n",
    "\n",
    "\n",
    "class HTMLSplitter:\n",
    "    \"\"\"\n",
    "    The class that splits HTML into chunks of the predefined size `chunk_size`.\n",
    "    The chunks can overlap by at most `chunk_overlap` characters, meaning that if `chunk_overlap`\n",
    "    is non-zero, the next chunk should start by at most `chunk_overlap` characters from the last chunk.\n",
    "\n",
    "    Forming the chunks and calculating their overlap is governed by the following rules:\n",
    "    1. Do not split in the middle any unbreakable tags\n",
    "    2. Do not split any HTML tag name, e.g. <a> should never be split into ['<a', '>']\n",
    "    3. Do not split regular words inside tags in the middle, instead take the whole word until the closest space.\n",
    "\n",
    "    The unbreakable tags include:\n",
    "    1. Headers, like <h1> or <h2>\n",
    "    2. Table rows <tr>\n",
    "\n",
    "    This should be achieved by `split_html` method. Test cases for `split_html` method:\n",
    "\n",
    "    Input: <h1>Title</h1><p>Some <b>bold</b> text.</p><tr><td>Table cell</td></tr>\n",
    "    Output: ['<h1>Title</h1>', '<p>Some ', 'Some <b>bold', 'bold</b> text.', 'text.</p><tr><td>Table cell</td></tr>']\n",
    "    \"\"\"\n",
    "\n",
    "    def __init__(self, chunk_size, chunk_overlap):\n",
    "        self.chunk_size = chunk_size\n",
    "        self.chunk_overlap = chunk_overlap\n",
    "        self.unbreakable_tags = [\"h1\", \"h2\", \"tr\"]\n",
    "        self.chunks = []\n",
    "\n",
    "    def split_html(self, html):\n",
    "        soup = bs4.BeautifulSoup(html, features=\"html.parser\")\n",
    "        self._split_node(soup)\n",
    "        return self.chunks\n",
    "\n",
    "    def split_text(self, text):\n",
    "        \"\"\"\n",
    "        The method takes HTML text as input, splits it according to the rules of this class.\n",
    "        Then the method converts table into a text representation\n",
    "        \"\"\"\n",
    "\n",
    "        # This is for compatibility with LangChain's interface\n",
    "        chunks = self.split_html(text)\n",
    "\n",
    "        return [Document(page_content=c) for c in chunks]\n",
    "\n",
    "    def _split_node(self, node, stack_before=None, stack_after=None):\n",
    "        if isinstance(node, bs4.NavigableString):\n",
    "            self._split_text(\n",
    "                str(node), stack_before=stack_before, stack_after=stack_after\n",
    "            )\n",
    "        elif isinstance(node, bs4.Comment):\n",
    "            pass  # ignore comments\n",
    "        else:\n",
    "            if stack_before is None:\n",
    "                stack_before = []\n",
    "            if stack_after is None:\n",
    "                stack_after = []\n",
    "\n",
    "            if node.name in self.unbreakable_tags:\n",
    "                # TODO: this is wrong logic, they shouldn't be just added to chunks\n",
    "                self.chunks.append(str(node))\n",
    "            else:\n",
    "                N_children = len(node.contents)\n",
    "\n",
    "                for i, child in enumerate(node.children):\n",
    "                    new_before = list(stack_before)\n",
    "                    new_after = list(stack_after)\n",
    "\n",
    "                    if node.name != \"[document]\":\n",
    "                        if i == 0:\n",
    "                            new_before.append(node.name)\n",
    "\n",
    "                        if i == N_children - 1:\n",
    "                            new_after.append(node.name)\n",
    "\n",
    "                    self._split_node(\n",
    "                        child, stack_before=new_before, stack_after=new_after\n",
    "                    )\n",
    "\n",
    "    def get_clean_suffix(self, text, chunk_size=None, boundary=None):\n",
    "        \"\"\"\n",
    "        The function returns the substring of at most size `chunk_size`\n",
    "        by following the `text` from end to beginning. When found the position\n",
    "        for the chunk boundary, the function adjusts the string as follows:\n",
    "        - If the position is in the middle of the word, move right to the closest space\n",
    "        - If the position is in the middle of the tag, move right to the corresponding closing tag\n",
    "        \"\"\"\n",
    "        N_text = len(text)\n",
    "        if chunk_size:\n",
    "            if N_text <= chunk_size:\n",
    "                return text, 0\n",
    "\n",
    "            boundary = N_text - chunk_size\n",
    "\n",
    "        if text[boundary] == \">\":\n",
    "            boundary += 1\n",
    "            return text[boundary:], boundary\n",
    "\n",
    "        # If the boundary is in the middle of a word, move right to the closest space\n",
    "        while boundary < N_text and text[boundary] not in [\" \", \">\"]:\n",
    "            boundary += 1\n",
    "\n",
    "        # If the boundary is in the middle of a tag, move right to the corresponding closing tag\n",
    "        if boundary < N_text and text[boundary] == \">\":\n",
    "            while boundary < N_text and text[boundary] != \"<\":\n",
    "                boundary += 1\n",
    "\n",
    "        return text[boundary:], boundary\n",
    "\n",
    "    def _split_text(self, text, stack_before=None, stack_after=None):\n",
    "        if stack_before:\n",
    "            text = \"<{0}>{1}\".format(stack_before[-1], text)\n",
    "        if stack_after:\n",
    "            text = \"{1}</{0}>\".format(stack_after[-1], text)\n",
    "\n",
    "        if len(self.chunks) > 0 and len(self.chunks[-1]) < self.chunk_size:\n",
    "            # If the chunk still has room to chunk_size, pop it from chunk\n",
    "            # in an attempt to extend\n",
    "            last_chunk = self.chunks.pop()\n",
    "            text = \"{}{}\".format(last_chunk, text)\n",
    "\n",
    "        overlap = \"\"\n",
    "        while len(text) > self.chunk_size:\n",
    "            # This is when the chunk is larger than the `chunk_size`\n",
    "            # So we need to split it and store the ready chunk,\n",
    "            # and leave the smaller overflow part in `text`.\n",
    "            if len(self.chunks) > 0:\n",
    "                overlap, _ = self.get_clean_suffix(\n",
    "                    self.chunks[-1], chunk_size=self.chunk_overlap\n",
    "                )\n",
    "\n",
    "            idx = (self.chunk_size - self.chunk_overlap) if overlap else self.chunk_size\n",
    "\n",
    "            _, idx = self.get_clean_suffix(text, boundary=idx)\n",
    "            self.chunks.append(overlap + text[:idx])\n",
    "\n",
    "            text = text[idx:]\n",
    "            overlap = \"\"\n",
    "        print(self.chunks)\n",
    "\n",
    "        if text.strip():\n",
    "            # Store the not-yet-grown chunk in self.chunk\n",
    "            self.chunks.append(text)"
   ]
  },
  {
   "cell_type": "code",
   "execution_count": 5,
   "metadata": {},
   "outputs": [],
   "source": [
    "from unstructured.partition.md import  partition_md\n",
    "from unstructured.chunking.title import chunk_by_title"
   ]
  },
  {
   "cell_type": "code",
   "execution_count": 37,
   "metadata": {},
   "outputs": [
    {
     "name": "stdout",
     "output_type": "stream",
     "text": [
      "<p>Almost all data used for the model comes from the CRM_DM library connected from the SAS Server.</p>\n",
      "<p>The models are built on monthly data and hence we use the Kund_historik_månadsvis as the \"master\" where a lot of customer attributes already exists (historical values as well)</p>\n",
      "<table>\n",
      "<thead>\n",
      "<tr>\n",
      "<th>Library</th>\n",
      "<th>Table name</th>\n",
      "<th>Comments</th>\n",
      "<th>SAS Program </th>\n",
      "</tr>\n",
      "</thead>\n",
      "<tbody>\n",
      "<tr>\n",
      "<td>CRM_DM</td>\n",
      "<td>Kund_Historik_Månadsvis</td>\n",
      "<td>\"master\" table that is used as a starting point </td>\n",
      "<td>prod_master_customer_abt_grundtabell</td>\n",
      "</tr>\n",
      "<tr>\n",
      "<td>CRM_DM</td>\n",
      "<td>Kund_RFM_Scoring</td>\n",
      "<td>an RFM calculation done in 2018 with hard coded values for the 5 groups therein. An assessment was done in 2021 Marchand the groups are still fairly stable, so the decision was made to keep the model as is. Room for improvement here though. The RFM information can be found on T:\\Bank\\ICA Banken BI\\SAS\\SAS-information  go to the OneNote called \"Åtgärder 2018\" and then to 30 Aprill </td>\n",
      "<td>prod_master_customer_abt_grundtabell</td>\n",
      "</tr>\n",
      "<tr>\n",
      "<td>CRM_DM</td>\n",
      "<td>Kund_cv_segment</td>\n",
      "<td>Customer segments created by the CVM-team</td>\n",
      "<td>prod_master_customer_abt_cv_segment</td>\n",
      "</tr>\n",
      "<tr>\n",
      "<td>CRM_DM</td>\n",
      "<td>Kund_Ansökan</td>\n",
      "<td>used as link between ansökan and customer</td>\n",
      "<td>prod_master_customer_abt_ansokan_qual</td>\n",
      "</tr>\n",
      "<tr>\n",
      "<td>CRM_DM</td>\n",
      "<td>Ansökan_Blancolån_Statushistorik</td>\n",
      "<td>used for identifying the blanco loan history</td>\n",
      "<td>prod_master_customer_abt_ansokan_qual</td>\n",
      "</tr>\n",
      "<tr>\n",
      "<td>CRM_DM</td>\n",
      "<td>Ansökan_Blancolån</td>\n",
      "<td>used for checking if there is an ongoing blanco application</td>\n",
      "<td>prod_master_customer_abt_ansokan_qual</td>\n",
      "</tr>\n",
      "<tr>\n",
      "<td>CRM_DM</td>\n",
      "<td>Produktexemplar</td>\n",
      "<td></td>\n",
      "<td>prod_master_customer_abt_uppsagningar_info</td>\n",
      "</tr>\n",
      "<tr>\n",
      "<td>CRM_DM</td>\n",
      "<td>Produkt</td>\n",
      "<td></td>\n",
      "<td>prod_master_customer_abt_uppsagningar_info</td>\n",
      "</tr>\n",
      "<tr>\n",
      "<td>CRM_DM</td>\n",
      "<td>Produktexemplar_Historik</td>\n",
      "<td>historical information about the products</td>\n",
      "<td>prod_master_customer_abt_produktinfo</td>\n",
      "</tr>\n",
      "<tr>\n",
      "<td>CRM_DM</td>\n",
      "<td>Kund_Produktexemplar</td>\n",
      "<td>used as link betweeen product and customer</td>\n",
      "<td>prod_master_customer_abt_produktinfo</td>\n",
      "</tr>\n",
      "<tr>\n",
      "<td>CRM_DM</td>\n",
      "<td>Bilregisterdata</td>\n",
      "<td>not too many customers has a match here, creates a lot of missing data for the model to handle</td>\n",
      "<td>prod_master_customer_abt_bilkop_6m</td>\n",
      "</tr>\n",
      "<tr>\n",
      "<td>CRM_DM</td>\n",
      "<td>Kund_SvarCentrica</td>\n",
      "<td>Very little information here as well. </td>\n",
      "<td>prod_master_customer_abt_centrica_reject_flag</td>\n",
      "</tr>\n",
      "<tr>\n",
      "<td>CRM_DM</td>\n",
      "<td>Kund_Hushåll</td>\n",
      "<td>used as link between fastighetsdataExtended and customer data</td>\n",
      "<td>prod_master_customer_abt_recency_fastighet_mod</td>\n",
      "</tr>\n",
      "<tr>\n",
      "<td>CRM_DM</td>\n",
      "<td>FastighetsdataExtended</td>\n",
      "<td>need to check the keys.</td>\n",
      "<td>prod_master_customer_abt_recency_fastighet_mod</td>\n",
      "</tr>\n",
      "<tr>\n",
      "<td></td>\n",
      "<td></td>\n",
      "<td></td>\n",
      "<td></td>\n",
      "</tr>\n",
      "<tr>\n",
      "<td>ANA_MART</td>\n",
      "<td>cop_flag_skotsel</td>\n",
      "<td>Special table that Julia at DUIT has created for us since the \"skötsel\"-flags in the CRM_DMdatabase are not of proper quality (per March 2021). We are using this table as a workaround. It needs to be updated manually by Julia each month.</td>\n",
      "<td>prod_master_customer_abt_skotsel_flg</td>\n",
      "</tr>\n",
      "</tbody>\n",
      "</table>\n",
      "<h2>Special Cases</h2>\n",
      "<ul>\n",
      "<li>Kön information comes from crm_dm.kund (even though it is not historised)</li>\n",
      "<li>The 13 product categories - Share Of Wallet. They are already existing in the Kund_Historik_Månadsvis. However those are only a 1/0 if the customer has any of the products in that category. What we are also interested is when was the last time the customer actually used the product. Are they \"active\" within each product category ? The definition of active is something that needs to be defined by the business/product owner. (read more in \"Improvements\" section).</li>\n",
      "</ul>\n",
      "<table>\n",
      "<thead>\n",
      "<tr>\n",
      "<th>Product Category</th>\n",
      "<th>Definition of Recent</th>\n",
      "<th>SAS Program</th>\n",
      "<th>Improvement Suggestion</th>\n",
      "</tr>\n",
      "</thead>\n",
      "<tbody>\n",
      "<tr>\n",
      "<td>Försäkring (general)</td>\n",
      "<td>days since last created försärking</td>\n",
      "<td>prod_master_customer_abt_recency_fastighet_mod</td>\n",
      "<td>split it up into each actual Försäkring Product Category</td>\n",
      "</tr>\n",
      "<tr>\n",
      "<td>Fond</td>\n",
      "<td>days since last created fond-product</td>\n",
      "<td>prod_master_customer_abt_recency_fastighet_mod</td>\n",
      "<td></td>\n",
      "</tr>\n",
      "<tr>\n",
      "<td>Sparkonto</td>\n",
      "<td>days since last created Sparkonto-product</td>\n",
      "<td>prod_master_customer_abt_recency_fastighet_mod</td>\n",
      "<td></td>\n",
      "</tr>\n",
      "<tr>\n",
      "<td>Bolån</td>\n",
      "<td>days since last created bolåne-product</td>\n",
      "<td>prod_master_customer_abt_recency_fastighet_mod</td>\n",
      "<td></td>\n",
      "</tr>\n",
      "<tr>\n",
      "<td>Blanco</td>\n",
      "<td>days since last created blanco-product</td>\n",
      "<td>prod_master_customer_abt_recency_fastighet_mod</td>\n",
      "<td></td>\n",
      "</tr>\n",
      "<tr>\n",
      "<td>Bankkort</td>\n",
      "<td>tbd</td>\n",
      "<td></td>\n",
      "<td>BI-teamet att ta fram recency historiskt...finns bara as of idag</td>\n",
      "</tr>\n",
      "<tr>\n",
      "<td>Transaktionskonto</td>\n",
      "<td>tbd</td>\n",
      "<td></td>\n",
      "<td>BI-teamet att ta fram recency historiskt...finns bara as of idag</td>\n",
      "</tr>\n",
      "<tr>\n",
      "<td>ICA Kort</td>\n",
      "<td>tbd</td>\n",
      "<td></td>\n",
      "<td>BI-teamet att ta fram recency historiskt...finns bara as of idag</td>\n",
      "</tr>\n",
      "</tbody>\n",
      "</table>\n"
     ]
    }
   ],
   "source": [
    "import markdown\n",
    "\n",
    "# Convert Markdown to HTML with table support\n",
    "html_content = markdown.markdown(documents[0].page_content, extensions=['markdown.extensions.tables'])\n",
    "\n",
    "# Print or use the HTML content as needed\n",
    "print(html_content)"
   ]
  },
  {
   "cell_type": "code",
   "execution_count": 41,
   "metadata": {},
   "outputs": [],
   "source": [
    "def recursive(func):\n",
    "    def wrapper(self, soup, recursive_before=False, recursive_after=False):\n",
    "        def recurse():\n",
    "            if soup is not None:\n",
    "                for child in soup.children:\n",
    "                    if isinstance(child, bs4.Tag):\n",
    "                        wrapper(\n",
    "                            self,\n",
    "                            child,\n",
    "                            recursive_before=recursive_before,\n",
    "                            recursive_after=recursive_after,\n",
    "                        )\n",
    "\n",
    "        if recursive_before:\n",
    "            recursive_after = False\n",
    "\n",
    "        if recursive_before:\n",
    "            recurse()\n",
    "\n",
    "        func(\n",
    "            self,\n",
    "            soup,\n",
    "            recursive_before=recursive_before,\n",
    "            recursive_after=recursive_after,\n",
    "        )\n",
    "\n",
    "        if recursive_after:\n",
    "            recurse()\n",
    "\n",
    "    return wrapper\n",
    "class BS4Util:\n",
    "    @recursive\n",
    "    def delete_all_attrs(self, soup, **kwargs):\n",
    "        if hasattr(soup, \"attrs\"):\n",
    "            for attribute in list(soup.attrs):\n",
    "                if attribute != \"href\":\n",
    "                    del soup[attribute]\n",
    "\n",
    "    @recursive\n",
    "    def clean_href(self, soup, **kwargs):\n",
    "        if hasattr(soup, \"attrs\"):\n",
    "            for attribute in list(soup.attrs):\n",
    "                if attribute == \"href\":\n",
    "                    soup[attribute] = soup[attribute].split(\"?\")[0].strip(\"/\")\n",
    "\n",
    "    @recursive\n",
    "    def remove_nested_tags(self, soup, **kwargs):\n",
    "        for tag in soup.find_all(True):\n",
    "            if tag.parent and tag.parent.name == tag.name:\n",
    "                tag.replace_with(*tag.contents)\n",
    "\n",
    "    @recursive\n",
    "    def remove_empty_tags(self, soup, **kwargs):\n",
    "        for tag in soup.find_all(True):\n",
    "            contents = [\n",
    "                x\n",
    "                for x in tag.contents\n",
    "                if not isinstance(x, bs4.NavigableString) or x.strip()\n",
    "            ]\n",
    "\n",
    "            if not contents:\n",
    "                tag.decompose()\n",
    "\n",
    "    def remove_table_formatting(self, soup):\n",
    "        if not isinstance(soup, bs4.BeautifulSoup):\n",
    "            return\n",
    "\n",
    "        tag_names = (\"td\", \"th\")\n",
    "        for tag_name in tag_names:\n",
    "            for tag in soup.find_all(tag_name):\n",
    "                new_tag = soup.new_tag(tag_name)\n",
    "                new_tag.string = tag.get_text()\n",
    "\n",
    "                tag.replace_with(new_tag)\n"
   ]
  },
  {
   "cell_type": "code",
   "execution_count": 42,
   "metadata": {},
   "outputs": [
    {
     "name": "stdout",
     "output_type": "stream",
     "text": [
      "[]\n",
      "[]\n",
      "[]\n",
      "[]\n",
      "[]\n",
      "[]\n",
      "['<p>Almost all data used for the model comes from the CRM_DM library connected from the SAS Server.</p>\\n<p>The models are built on monthly data and hence we use the Kund_historik_månadsvis as the \"master\" where a lot of customer attributes already exists (historical values as well)</p>\\n<table>\\n<thead>\\n']\n",
      "['<p>Almost all data used for the model comes from the CRM_DM library connected from the SAS Server.</p>\\n<p>The models are built on monthly data and hence we use the Kund_historik_månadsvis as the \"master\" where a lot of customer attributes already exists (historical values as well)</p>\\n<table>\\n<thead>\\n']\n",
      "['<p>Almost all data used for the model comes from the CRM_DM library connected from the SAS Server.</p>\\n<p>The models are built on monthly data and hence we use the Kund_historik_månadsvis as the \"master\" where a lot of customer attributes already exists (historical values as well)</p>\\n<table>\\n<thead>\\n']\n",
      "['<p>Almost all data used for the model comes from the CRM_DM library connected from the SAS Server.</p>\\n<p>The models are built on monthly data and hence we use the Kund_historik_månadsvis as the \"master\" where a lot of customer attributes already exists (historical values as well)</p>\\n<table>\\n<thead>\\n', '<tr>\\n<th>Library</th>\\n<th>Table name</th>\\n<th>Comments</th>\\n<th>SAS Program\\xa0</th>\\n</tr>\\n</thead>\\n<tbody>\\n']\n",
      "['<p>Almost all data used for the model comes from the CRM_DM library connected from the SAS Server.</p>\\n<p>The models are built on monthly data and hence we use the Kund_historik_månadsvis as the \"master\" where a lot of customer attributes already exists (historical values as well)</p>\\n<table>\\n<thead>\\n', '<tr>\\n<th>Library</th>\\n<th>Table name</th>\\n<th>Comments</th>\\n<th>SAS Program\\xa0</th>\\n</tr>\\n</thead>\\n<tbody>\\n', '<tr>\\n<td>CRM_DM</td>\\n<td>Kund_Historik_Månadsvis</td>\\n<td>\"master\" table that is used as a starting point\\xa0</td>\\n<td>prod_master_customer_abt_grundtabell</td>\\n</tr>\\n']\n",
      "['<p>Almost all data used for the model comes from the CRM_DM library connected from the SAS Server.</p>\\n<p>The models are built on monthly data and hence we use the Kund_historik_månadsvis as the \"master\" where a lot of customer attributes already exists (historical values as well)</p>\\n<table>\\n<thead>\\n', '<tr>\\n<th>Library</th>\\n<th>Table name</th>\\n<th>Comments</th>\\n<th>SAS Program\\xa0</th>\\n</tr>\\n</thead>\\n<tbody>\\n', '<tr>\\n<td>CRM_DM</td>\\n<td>Kund_Historik_Månadsvis</td>\\n<td>\"master\" table that is used as a starting point\\xa0</td>\\n<td>prod_master_customer_abt_grundtabell</td>\\n</tr>\\n', '<tr>\\n<td>CRM_DM</td>\\n<td>Kund_RFM_Scoring</td>\\n<td>an RFM calculation done in 2018 with hard coded values for the 5 groups therein. An assessment was done in 2021 Marchand the groups are still fairly stable, so the decision was made to keep the model as is. Room for improvement here though.\\xa0The RFM information can be found on T:\\\\Bank\\\\ICA Banken BI\\\\SAS\\\\SAS-information\\xa0 go to the OneNote called \"Åtgärder 2018\" and then to 30 Aprill\\xa0</td>\\n<td>prod_master_customer_abt_grundtabell</td>\\n</tr>\\n']\n",
      "['<p>Almost all data used for the model comes from the CRM_DM library connected from the SAS Server.</p>\\n<p>The models are built on monthly data and hence we use the Kund_historik_månadsvis as the \"master\" where a lot of customer attributes already exists (historical values as well)</p>\\n<table>\\n<thead>\\n', '<tr>\\n<th>Library</th>\\n<th>Table name</th>\\n<th>Comments</th>\\n<th>SAS Program\\xa0</th>\\n</tr>\\n</thead>\\n<tbody>\\n', '<tr>\\n<td>CRM_DM</td>\\n<td>Kund_Historik_Månadsvis</td>\\n<td>\"master\" table that is used as a starting point\\xa0</td>\\n<td>prod_master_customer_abt_grundtabell</td>\\n</tr>\\n', '<tr>\\n<td>CRM_DM</td>\\n<td>Kund_RFM_Scoring</td>\\n<td>an RFM calculation done in 2018 with hard coded values for the 5 groups therein. An assessment was done in 2021 Marchand the groups are still fairly stable, so the decision was made to keep the model as is. Room for improvement here though.\\xa0The RFM information can be found on T:\\\\Bank\\\\ICA Banken BI\\\\SAS\\\\SAS-information\\xa0 go to the OneNote called \"Åtgärder 2018\" and then to 30 Aprill\\xa0</td>\\n<td>prod_master_customer_abt_grundtabell</td>\\n</tr>\\n', '<tr>\\n<td>CRM_DM</td>\\n<td>Kund_cv_segment</td>\\n<td>Customer segments created by the CVM-team</td>\\n<td>prod_master_customer_abt_cv_segment</td>\\n</tr>\\n']\n",
      "['<p>Almost all data used for the model comes from the CRM_DM library connected from the SAS Server.</p>\\n<p>The models are built on monthly data and hence we use the Kund_historik_månadsvis as the \"master\" where a lot of customer attributes already exists (historical values as well)</p>\\n<table>\\n<thead>\\n', '<tr>\\n<th>Library</th>\\n<th>Table name</th>\\n<th>Comments</th>\\n<th>SAS Program\\xa0</th>\\n</tr>\\n</thead>\\n<tbody>\\n', '<tr>\\n<td>CRM_DM</td>\\n<td>Kund_Historik_Månadsvis</td>\\n<td>\"master\" table that is used as a starting point\\xa0</td>\\n<td>prod_master_customer_abt_grundtabell</td>\\n</tr>\\n', '<tr>\\n<td>CRM_DM</td>\\n<td>Kund_RFM_Scoring</td>\\n<td>an RFM calculation done in 2018 with hard coded values for the 5 groups therein. An assessment was done in 2021 Marchand the groups are still fairly stable, so the decision was made to keep the model as is. Room for improvement here though.\\xa0The RFM information can be found on T:\\\\Bank\\\\ICA Banken BI\\\\SAS\\\\SAS-information\\xa0 go to the OneNote called \"Åtgärder 2018\" and then to 30 Aprill\\xa0</td>\\n<td>prod_master_customer_abt_grundtabell</td>\\n</tr>\\n', '<tr>\\n<td>CRM_DM</td>\\n<td>Kund_cv_segment</td>\\n<td>Customer segments created by the CVM-team</td>\\n<td>prod_master_customer_abt_cv_segment</td>\\n</tr>\\n', '<tr>\\n<td>CRM_DM</td>\\n<td>Kund_Ansökan</td>\\n<td>used as link between ansökan and customer</td>\\n<td>prod_master_customer_abt_ansokan_qual</td>\\n</tr>\\n']\n",
      "['<p>Almost all data used for the model comes from the CRM_DM library connected from the SAS Server.</p>\\n<p>The models are built on monthly data and hence we use the Kund_historik_månadsvis as the \"master\" where a lot of customer attributes already exists (historical values as well)</p>\\n<table>\\n<thead>\\n', '<tr>\\n<th>Library</th>\\n<th>Table name</th>\\n<th>Comments</th>\\n<th>SAS Program\\xa0</th>\\n</tr>\\n</thead>\\n<tbody>\\n', '<tr>\\n<td>CRM_DM</td>\\n<td>Kund_Historik_Månadsvis</td>\\n<td>\"master\" table that is used as a starting point\\xa0</td>\\n<td>prod_master_customer_abt_grundtabell</td>\\n</tr>\\n', '<tr>\\n<td>CRM_DM</td>\\n<td>Kund_RFM_Scoring</td>\\n<td>an RFM calculation done in 2018 with hard coded values for the 5 groups therein. An assessment was done in 2021 Marchand the groups are still fairly stable, so the decision was made to keep the model as is. Room for improvement here though.\\xa0The RFM information can be found on T:\\\\Bank\\\\ICA Banken BI\\\\SAS\\\\SAS-information\\xa0 go to the OneNote called \"Åtgärder 2018\" and then to 30 Aprill\\xa0</td>\\n<td>prod_master_customer_abt_grundtabell</td>\\n</tr>\\n', '<tr>\\n<td>CRM_DM</td>\\n<td>Kund_cv_segment</td>\\n<td>Customer segments created by the CVM-team</td>\\n<td>prod_master_customer_abt_cv_segment</td>\\n</tr>\\n', '<tr>\\n<td>CRM_DM</td>\\n<td>Kund_Ansökan</td>\\n<td>used as link between ansökan and customer</td>\\n<td>prod_master_customer_abt_ansokan_qual</td>\\n</tr>\\n', '<tr>\\n<td>CRM_DM</td>\\n<td>Ansökan_Blancolån_Statushistorik</td>\\n<td>used for identifying the blanco loan history</td>\\n<td>prod_master_customer_abt_ansokan_qual</td>\\n</tr>\\n']\n",
      "['<p>Almost all data used for the model comes from the CRM_DM library connected from the SAS Server.</p>\\n<p>The models are built on monthly data and hence we use the Kund_historik_månadsvis as the \"master\" where a lot of customer attributes already exists (historical values as well)</p>\\n<table>\\n<thead>\\n', '<tr>\\n<th>Library</th>\\n<th>Table name</th>\\n<th>Comments</th>\\n<th>SAS Program\\xa0</th>\\n</tr>\\n</thead>\\n<tbody>\\n', '<tr>\\n<td>CRM_DM</td>\\n<td>Kund_Historik_Månadsvis</td>\\n<td>\"master\" table that is used as a starting point\\xa0</td>\\n<td>prod_master_customer_abt_grundtabell</td>\\n</tr>\\n', '<tr>\\n<td>CRM_DM</td>\\n<td>Kund_RFM_Scoring</td>\\n<td>an RFM calculation done in 2018 with hard coded values for the 5 groups therein. An assessment was done in 2021 Marchand the groups are still fairly stable, so the decision was made to keep the model as is. Room for improvement here though.\\xa0The RFM information can be found on T:\\\\Bank\\\\ICA Banken BI\\\\SAS\\\\SAS-information\\xa0 go to the OneNote called \"Åtgärder 2018\" and then to 30 Aprill\\xa0</td>\\n<td>prod_master_customer_abt_grundtabell</td>\\n</tr>\\n', '<tr>\\n<td>CRM_DM</td>\\n<td>Kund_cv_segment</td>\\n<td>Customer segments created by the CVM-team</td>\\n<td>prod_master_customer_abt_cv_segment</td>\\n</tr>\\n', '<tr>\\n<td>CRM_DM</td>\\n<td>Kund_Ansökan</td>\\n<td>used as link between ansökan and customer</td>\\n<td>prod_master_customer_abt_ansokan_qual</td>\\n</tr>\\n', '<tr>\\n<td>CRM_DM</td>\\n<td>Ansökan_Blancolån_Statushistorik</td>\\n<td>used for identifying the blanco loan history</td>\\n<td>prod_master_customer_abt_ansokan_qual</td>\\n</tr>\\n', '<tr>\\n<td>CRM_DM</td>\\n<td>Ansökan_Blancolån</td>\\n<td>used for checking if there is an ongoing blanco application</td>\\n<td>prod_master_customer_abt_ansokan_qual</td>\\n</tr>\\n']\n",
      "['<p>Almost all data used for the model comes from the CRM_DM library connected from the SAS Server.</p>\\n<p>The models are built on monthly data and hence we use the Kund_historik_månadsvis as the \"master\" where a lot of customer attributes already exists (historical values as well)</p>\\n<table>\\n<thead>\\n', '<tr>\\n<th>Library</th>\\n<th>Table name</th>\\n<th>Comments</th>\\n<th>SAS Program\\xa0</th>\\n</tr>\\n</thead>\\n<tbody>\\n', '<tr>\\n<td>CRM_DM</td>\\n<td>Kund_Historik_Månadsvis</td>\\n<td>\"master\" table that is used as a starting point\\xa0</td>\\n<td>prod_master_customer_abt_grundtabell</td>\\n</tr>\\n', '<tr>\\n<td>CRM_DM</td>\\n<td>Kund_RFM_Scoring</td>\\n<td>an RFM calculation done in 2018 with hard coded values for the 5 groups therein. An assessment was done in 2021 Marchand the groups are still fairly stable, so the decision was made to keep the model as is. Room for improvement here though.\\xa0The RFM information can be found on T:\\\\Bank\\\\ICA Banken BI\\\\SAS\\\\SAS-information\\xa0 go to the OneNote called \"Åtgärder 2018\" and then to 30 Aprill\\xa0</td>\\n<td>prod_master_customer_abt_grundtabell</td>\\n</tr>\\n', '<tr>\\n<td>CRM_DM</td>\\n<td>Kund_cv_segment</td>\\n<td>Customer segments created by the CVM-team</td>\\n<td>prod_master_customer_abt_cv_segment</td>\\n</tr>\\n', '<tr>\\n<td>CRM_DM</td>\\n<td>Kund_Ansökan</td>\\n<td>used as link between ansökan and customer</td>\\n<td>prod_master_customer_abt_ansokan_qual</td>\\n</tr>\\n', '<tr>\\n<td>CRM_DM</td>\\n<td>Ansökan_Blancolån_Statushistorik</td>\\n<td>used for identifying the blanco loan history</td>\\n<td>prod_master_customer_abt_ansokan_qual</td>\\n</tr>\\n', '<tr>\\n<td>CRM_DM</td>\\n<td>Ansökan_Blancolån</td>\\n<td>used for checking if there is an ongoing blanco application</td>\\n<td>prod_master_customer_abt_ansokan_qual</td>\\n</tr>\\n', '<tr>\\n<td>CRM_DM</td>\\n<td>Produktexemplar</td>\\n<td>prod_master_customer_abt_uppsagningar_info</td>\\n</tr>\\n']\n",
      "['<p>Almost all data used for the model comes from the CRM_DM library connected from the SAS Server.</p>\\n<p>The models are built on monthly data and hence we use the Kund_historik_månadsvis as the \"master\" where a lot of customer attributes already exists (historical values as well)</p>\\n<table>\\n<thead>\\n', '<tr>\\n<th>Library</th>\\n<th>Table name</th>\\n<th>Comments</th>\\n<th>SAS Program\\xa0</th>\\n</tr>\\n</thead>\\n<tbody>\\n', '<tr>\\n<td>CRM_DM</td>\\n<td>Kund_Historik_Månadsvis</td>\\n<td>\"master\" table that is used as a starting point\\xa0</td>\\n<td>prod_master_customer_abt_grundtabell</td>\\n</tr>\\n', '<tr>\\n<td>CRM_DM</td>\\n<td>Kund_RFM_Scoring</td>\\n<td>an RFM calculation done in 2018 with hard coded values for the 5 groups therein. An assessment was done in 2021 Marchand the groups are still fairly stable, so the decision was made to keep the model as is. Room for improvement here though.\\xa0The RFM information can be found on T:\\\\Bank\\\\ICA Banken BI\\\\SAS\\\\SAS-information\\xa0 go to the OneNote called \"Åtgärder 2018\" and then to 30 Aprill\\xa0</td>\\n<td>prod_master_customer_abt_grundtabell</td>\\n</tr>\\n', '<tr>\\n<td>CRM_DM</td>\\n<td>Kund_cv_segment</td>\\n<td>Customer segments created by the CVM-team</td>\\n<td>prod_master_customer_abt_cv_segment</td>\\n</tr>\\n', '<tr>\\n<td>CRM_DM</td>\\n<td>Kund_Ansökan</td>\\n<td>used as link between ansökan and customer</td>\\n<td>prod_master_customer_abt_ansokan_qual</td>\\n</tr>\\n', '<tr>\\n<td>CRM_DM</td>\\n<td>Ansökan_Blancolån_Statushistorik</td>\\n<td>used for identifying the blanco loan history</td>\\n<td>prod_master_customer_abt_ansokan_qual</td>\\n</tr>\\n', '<tr>\\n<td>CRM_DM</td>\\n<td>Ansökan_Blancolån</td>\\n<td>used for checking if there is an ongoing blanco application</td>\\n<td>prod_master_customer_abt_ansokan_qual</td>\\n</tr>\\n', '<tr>\\n<td>CRM_DM</td>\\n<td>Produktexemplar</td>\\n<td>prod_master_customer_abt_uppsagningar_info</td>\\n</tr>\\n', '<tr>\\n<td>CRM_DM</td>\\n<td>Produkt</td>\\n<td>prod_master_customer_abt_uppsagningar_info</td>\\n</tr>\\n']\n",
      "['<p>Almost all data used for the model comes from the CRM_DM library connected from the SAS Server.</p>\\n<p>The models are built on monthly data and hence we use the Kund_historik_månadsvis as the \"master\" where a lot of customer attributes already exists (historical values as well)</p>\\n<table>\\n<thead>\\n', '<tr>\\n<th>Library</th>\\n<th>Table name</th>\\n<th>Comments</th>\\n<th>SAS Program\\xa0</th>\\n</tr>\\n</thead>\\n<tbody>\\n', '<tr>\\n<td>CRM_DM</td>\\n<td>Kund_Historik_Månadsvis</td>\\n<td>\"master\" table that is used as a starting point\\xa0</td>\\n<td>prod_master_customer_abt_grundtabell</td>\\n</tr>\\n', '<tr>\\n<td>CRM_DM</td>\\n<td>Kund_RFM_Scoring</td>\\n<td>an RFM calculation done in 2018 with hard coded values for the 5 groups therein. An assessment was done in 2021 Marchand the groups are still fairly stable, so the decision was made to keep the model as is. Room for improvement here though.\\xa0The RFM information can be found on T:\\\\Bank\\\\ICA Banken BI\\\\SAS\\\\SAS-information\\xa0 go to the OneNote called \"Åtgärder 2018\" and then to 30 Aprill\\xa0</td>\\n<td>prod_master_customer_abt_grundtabell</td>\\n</tr>\\n', '<tr>\\n<td>CRM_DM</td>\\n<td>Kund_cv_segment</td>\\n<td>Customer segments created by the CVM-team</td>\\n<td>prod_master_customer_abt_cv_segment</td>\\n</tr>\\n', '<tr>\\n<td>CRM_DM</td>\\n<td>Kund_Ansökan</td>\\n<td>used as link between ansökan and customer</td>\\n<td>prod_master_customer_abt_ansokan_qual</td>\\n</tr>\\n', '<tr>\\n<td>CRM_DM</td>\\n<td>Ansökan_Blancolån_Statushistorik</td>\\n<td>used for identifying the blanco loan history</td>\\n<td>prod_master_customer_abt_ansokan_qual</td>\\n</tr>\\n', '<tr>\\n<td>CRM_DM</td>\\n<td>Ansökan_Blancolån</td>\\n<td>used for checking if there is an ongoing blanco application</td>\\n<td>prod_master_customer_abt_ansokan_qual</td>\\n</tr>\\n', '<tr>\\n<td>CRM_DM</td>\\n<td>Produktexemplar</td>\\n<td>prod_master_customer_abt_uppsagningar_info</td>\\n</tr>\\n', '<tr>\\n<td>CRM_DM</td>\\n<td>Produkt</td>\\n<td>prod_master_customer_abt_uppsagningar_info</td>\\n</tr>\\n', '<tr>\\n<td>CRM_DM</td>\\n<td>Produktexemplar_Historik</td>\\n<td>historical information about the products</td>\\n<td>prod_master_customer_abt_produktinfo</td>\\n</tr>\\n']\n",
      "['<p>Almost all data used for the model comes from the CRM_DM library connected from the SAS Server.</p>\\n<p>The models are built on monthly data and hence we use the Kund_historik_månadsvis as the \"master\" where a lot of customer attributes already exists (historical values as well)</p>\\n<table>\\n<thead>\\n', '<tr>\\n<th>Library</th>\\n<th>Table name</th>\\n<th>Comments</th>\\n<th>SAS Program\\xa0</th>\\n</tr>\\n</thead>\\n<tbody>\\n', '<tr>\\n<td>CRM_DM</td>\\n<td>Kund_Historik_Månadsvis</td>\\n<td>\"master\" table that is used as a starting point\\xa0</td>\\n<td>prod_master_customer_abt_grundtabell</td>\\n</tr>\\n', '<tr>\\n<td>CRM_DM</td>\\n<td>Kund_RFM_Scoring</td>\\n<td>an RFM calculation done in 2018 with hard coded values for the 5 groups therein. An assessment was done in 2021 Marchand the groups are still fairly stable, so the decision was made to keep the model as is. Room for improvement here though.\\xa0The RFM information can be found on T:\\\\Bank\\\\ICA Banken BI\\\\SAS\\\\SAS-information\\xa0 go to the OneNote called \"Åtgärder 2018\" and then to 30 Aprill\\xa0</td>\\n<td>prod_master_customer_abt_grundtabell</td>\\n</tr>\\n', '<tr>\\n<td>CRM_DM</td>\\n<td>Kund_cv_segment</td>\\n<td>Customer segments created by the CVM-team</td>\\n<td>prod_master_customer_abt_cv_segment</td>\\n</tr>\\n', '<tr>\\n<td>CRM_DM</td>\\n<td>Kund_Ansökan</td>\\n<td>used as link between ansökan and customer</td>\\n<td>prod_master_customer_abt_ansokan_qual</td>\\n</tr>\\n', '<tr>\\n<td>CRM_DM</td>\\n<td>Ansökan_Blancolån_Statushistorik</td>\\n<td>used for identifying the blanco loan history</td>\\n<td>prod_master_customer_abt_ansokan_qual</td>\\n</tr>\\n', '<tr>\\n<td>CRM_DM</td>\\n<td>Ansökan_Blancolån</td>\\n<td>used for checking if there is an ongoing blanco application</td>\\n<td>prod_master_customer_abt_ansokan_qual</td>\\n</tr>\\n', '<tr>\\n<td>CRM_DM</td>\\n<td>Produktexemplar</td>\\n<td>prod_master_customer_abt_uppsagningar_info</td>\\n</tr>\\n', '<tr>\\n<td>CRM_DM</td>\\n<td>Produkt</td>\\n<td>prod_master_customer_abt_uppsagningar_info</td>\\n</tr>\\n', '<tr>\\n<td>CRM_DM</td>\\n<td>Produktexemplar_Historik</td>\\n<td>historical information about the products</td>\\n<td>prod_master_customer_abt_produktinfo</td>\\n</tr>\\n', '<tr>\\n<td>CRM_DM</td>\\n<td>Kund_Produktexemplar</td>\\n<td>used as link betweeen product and customer</td>\\n<td>prod_master_customer_abt_produktinfo</td>\\n</tr>\\n']\n",
      "['<p>Almost all data used for the model comes from the CRM_DM library connected from the SAS Server.</p>\\n<p>The models are built on monthly data and hence we use the Kund_historik_månadsvis as the \"master\" where a lot of customer attributes already exists (historical values as well)</p>\\n<table>\\n<thead>\\n', '<tr>\\n<th>Library</th>\\n<th>Table name</th>\\n<th>Comments</th>\\n<th>SAS Program\\xa0</th>\\n</tr>\\n</thead>\\n<tbody>\\n', '<tr>\\n<td>CRM_DM</td>\\n<td>Kund_Historik_Månadsvis</td>\\n<td>\"master\" table that is used as a starting point\\xa0</td>\\n<td>prod_master_customer_abt_grundtabell</td>\\n</tr>\\n', '<tr>\\n<td>CRM_DM</td>\\n<td>Kund_RFM_Scoring</td>\\n<td>an RFM calculation done in 2018 with hard coded values for the 5 groups therein. An assessment was done in 2021 Marchand the groups are still fairly stable, so the decision was made to keep the model as is. Room for improvement here though.\\xa0The RFM information can be found on T:\\\\Bank\\\\ICA Banken BI\\\\SAS\\\\SAS-information\\xa0 go to the OneNote called \"Åtgärder 2018\" and then to 30 Aprill\\xa0</td>\\n<td>prod_master_customer_abt_grundtabell</td>\\n</tr>\\n', '<tr>\\n<td>CRM_DM</td>\\n<td>Kund_cv_segment</td>\\n<td>Customer segments created by the CVM-team</td>\\n<td>prod_master_customer_abt_cv_segment</td>\\n</tr>\\n', '<tr>\\n<td>CRM_DM</td>\\n<td>Kund_Ansökan</td>\\n<td>used as link between ansökan and customer</td>\\n<td>prod_master_customer_abt_ansokan_qual</td>\\n</tr>\\n', '<tr>\\n<td>CRM_DM</td>\\n<td>Ansökan_Blancolån_Statushistorik</td>\\n<td>used for identifying the blanco loan history</td>\\n<td>prod_master_customer_abt_ansokan_qual</td>\\n</tr>\\n', '<tr>\\n<td>CRM_DM</td>\\n<td>Ansökan_Blancolån</td>\\n<td>used for checking if there is an ongoing blanco application</td>\\n<td>prod_master_customer_abt_ansokan_qual</td>\\n</tr>\\n', '<tr>\\n<td>CRM_DM</td>\\n<td>Produktexemplar</td>\\n<td>prod_master_customer_abt_uppsagningar_info</td>\\n</tr>\\n', '<tr>\\n<td>CRM_DM</td>\\n<td>Produkt</td>\\n<td>prod_master_customer_abt_uppsagningar_info</td>\\n</tr>\\n', '<tr>\\n<td>CRM_DM</td>\\n<td>Produktexemplar_Historik</td>\\n<td>historical information about the products</td>\\n<td>prod_master_customer_abt_produktinfo</td>\\n</tr>\\n', '<tr>\\n<td>CRM_DM</td>\\n<td>Kund_Produktexemplar</td>\\n<td>used as link betweeen product and customer</td>\\n<td>prod_master_customer_abt_produktinfo</td>\\n</tr>\\n', '<tr>\\n<td>CRM_DM</td>\\n<td>Bilregisterdata</td>\\n<td>not too many customers has a match here, creates a lot of missing data for the model to handle</td>\\n<td>prod_master_customer_abt_bilkop_6m</td>\\n</tr>\\n']\n",
      "['<p>Almost all data used for the model comes from the CRM_DM library connected from the SAS Server.</p>\\n<p>The models are built on monthly data and hence we use the Kund_historik_månadsvis as the \"master\" where a lot of customer attributes already exists (historical values as well)</p>\\n<table>\\n<thead>\\n', '<tr>\\n<th>Library</th>\\n<th>Table name</th>\\n<th>Comments</th>\\n<th>SAS Program\\xa0</th>\\n</tr>\\n</thead>\\n<tbody>\\n', '<tr>\\n<td>CRM_DM</td>\\n<td>Kund_Historik_Månadsvis</td>\\n<td>\"master\" table that is used as a starting point\\xa0</td>\\n<td>prod_master_customer_abt_grundtabell</td>\\n</tr>\\n', '<tr>\\n<td>CRM_DM</td>\\n<td>Kund_RFM_Scoring</td>\\n<td>an RFM calculation done in 2018 with hard coded values for the 5 groups therein. An assessment was done in 2021 Marchand the groups are still fairly stable, so the decision was made to keep the model as is. Room for improvement here though.\\xa0The RFM information can be found on T:\\\\Bank\\\\ICA Banken BI\\\\SAS\\\\SAS-information\\xa0 go to the OneNote called \"Åtgärder 2018\" and then to 30 Aprill\\xa0</td>\\n<td>prod_master_customer_abt_grundtabell</td>\\n</tr>\\n', '<tr>\\n<td>CRM_DM</td>\\n<td>Kund_cv_segment</td>\\n<td>Customer segments created by the CVM-team</td>\\n<td>prod_master_customer_abt_cv_segment</td>\\n</tr>\\n', '<tr>\\n<td>CRM_DM</td>\\n<td>Kund_Ansökan</td>\\n<td>used as link between ansökan and customer</td>\\n<td>prod_master_customer_abt_ansokan_qual</td>\\n</tr>\\n', '<tr>\\n<td>CRM_DM</td>\\n<td>Ansökan_Blancolån_Statushistorik</td>\\n<td>used for identifying the blanco loan history</td>\\n<td>prod_master_customer_abt_ansokan_qual</td>\\n</tr>\\n', '<tr>\\n<td>CRM_DM</td>\\n<td>Ansökan_Blancolån</td>\\n<td>used for checking if there is an ongoing blanco application</td>\\n<td>prod_master_customer_abt_ansokan_qual</td>\\n</tr>\\n', '<tr>\\n<td>CRM_DM</td>\\n<td>Produktexemplar</td>\\n<td>prod_master_customer_abt_uppsagningar_info</td>\\n</tr>\\n', '<tr>\\n<td>CRM_DM</td>\\n<td>Produkt</td>\\n<td>prod_master_customer_abt_uppsagningar_info</td>\\n</tr>\\n', '<tr>\\n<td>CRM_DM</td>\\n<td>Produktexemplar_Historik</td>\\n<td>historical information about the products</td>\\n<td>prod_master_customer_abt_produktinfo</td>\\n</tr>\\n', '<tr>\\n<td>CRM_DM</td>\\n<td>Kund_Produktexemplar</td>\\n<td>used as link betweeen product and customer</td>\\n<td>prod_master_customer_abt_produktinfo</td>\\n</tr>\\n', '<tr>\\n<td>CRM_DM</td>\\n<td>Bilregisterdata</td>\\n<td>not too many customers has a match here, creates a lot of missing data for the model to handle</td>\\n<td>prod_master_customer_abt_bilkop_6m</td>\\n</tr>\\n', '<tr>\\n<td>CRM_DM</td>\\n<td>Kund_SvarCentrica</td>\\n<td>Very little information here as well.\\xa0</td>\\n<td>prod_master_customer_abt_centrica_reject_flag</td>\\n</tr>\\n']\n",
      "['<p>Almost all data used for the model comes from the CRM_DM library connected from the SAS Server.</p>\\n<p>The models are built on monthly data and hence we use the Kund_historik_månadsvis as the \"master\" where a lot of customer attributes already exists (historical values as well)</p>\\n<table>\\n<thead>\\n', '<tr>\\n<th>Library</th>\\n<th>Table name</th>\\n<th>Comments</th>\\n<th>SAS Program\\xa0</th>\\n</tr>\\n</thead>\\n<tbody>\\n', '<tr>\\n<td>CRM_DM</td>\\n<td>Kund_Historik_Månadsvis</td>\\n<td>\"master\" table that is used as a starting point\\xa0</td>\\n<td>prod_master_customer_abt_grundtabell</td>\\n</tr>\\n', '<tr>\\n<td>CRM_DM</td>\\n<td>Kund_RFM_Scoring</td>\\n<td>an RFM calculation done in 2018 with hard coded values for the 5 groups therein. An assessment was done in 2021 Marchand the groups are still fairly stable, so the decision was made to keep the model as is. Room for improvement here though.\\xa0The RFM information can be found on T:\\\\Bank\\\\ICA Banken BI\\\\SAS\\\\SAS-information\\xa0 go to the OneNote called \"Åtgärder 2018\" and then to 30 Aprill\\xa0</td>\\n<td>prod_master_customer_abt_grundtabell</td>\\n</tr>\\n', '<tr>\\n<td>CRM_DM</td>\\n<td>Kund_cv_segment</td>\\n<td>Customer segments created by the CVM-team</td>\\n<td>prod_master_customer_abt_cv_segment</td>\\n</tr>\\n', '<tr>\\n<td>CRM_DM</td>\\n<td>Kund_Ansökan</td>\\n<td>used as link between ansökan and customer</td>\\n<td>prod_master_customer_abt_ansokan_qual</td>\\n</tr>\\n', '<tr>\\n<td>CRM_DM</td>\\n<td>Ansökan_Blancolån_Statushistorik</td>\\n<td>used for identifying the blanco loan history</td>\\n<td>prod_master_customer_abt_ansokan_qual</td>\\n</tr>\\n', '<tr>\\n<td>CRM_DM</td>\\n<td>Ansökan_Blancolån</td>\\n<td>used for checking if there is an ongoing blanco application</td>\\n<td>prod_master_customer_abt_ansokan_qual</td>\\n</tr>\\n', '<tr>\\n<td>CRM_DM</td>\\n<td>Produktexemplar</td>\\n<td>prod_master_customer_abt_uppsagningar_info</td>\\n</tr>\\n', '<tr>\\n<td>CRM_DM</td>\\n<td>Produkt</td>\\n<td>prod_master_customer_abt_uppsagningar_info</td>\\n</tr>\\n', '<tr>\\n<td>CRM_DM</td>\\n<td>Produktexemplar_Historik</td>\\n<td>historical information about the products</td>\\n<td>prod_master_customer_abt_produktinfo</td>\\n</tr>\\n', '<tr>\\n<td>CRM_DM</td>\\n<td>Kund_Produktexemplar</td>\\n<td>used as link betweeen product and customer</td>\\n<td>prod_master_customer_abt_produktinfo</td>\\n</tr>\\n', '<tr>\\n<td>CRM_DM</td>\\n<td>Bilregisterdata</td>\\n<td>not too many customers has a match here, creates a lot of missing data for the model to handle</td>\\n<td>prod_master_customer_abt_bilkop_6m</td>\\n</tr>\\n', '<tr>\\n<td>CRM_DM</td>\\n<td>Kund_SvarCentrica</td>\\n<td>Very little information here as well.\\xa0</td>\\n<td>prod_master_customer_abt_centrica_reject_flag</td>\\n</tr>\\n', '<tr>\\n<td>CRM_DM</td>\\n<td>Kund_Hushåll</td>\\n<td>used as link between fastighetsdataExtended and customer data</td>\\n<td>prod_master_customer_abt_recency_fastighet_mod</td>\\n</tr>\\n']\n",
      "['<p>Almost all data used for the model comes from the CRM_DM library connected from the SAS Server.</p>\\n<p>The models are built on monthly data and hence we use the Kund_historik_månadsvis as the \"master\" where a lot of customer attributes already exists (historical values as well)</p>\\n<table>\\n<thead>\\n', '<tr>\\n<th>Library</th>\\n<th>Table name</th>\\n<th>Comments</th>\\n<th>SAS Program\\xa0</th>\\n</tr>\\n</thead>\\n<tbody>\\n', '<tr>\\n<td>CRM_DM</td>\\n<td>Kund_Historik_Månadsvis</td>\\n<td>\"master\" table that is used as a starting point\\xa0</td>\\n<td>prod_master_customer_abt_grundtabell</td>\\n</tr>\\n', '<tr>\\n<td>CRM_DM</td>\\n<td>Kund_RFM_Scoring</td>\\n<td>an RFM calculation done in 2018 with hard coded values for the 5 groups therein. An assessment was done in 2021 Marchand the groups are still fairly stable, so the decision was made to keep the model as is. Room for improvement here though.\\xa0The RFM information can be found on T:\\\\Bank\\\\ICA Banken BI\\\\SAS\\\\SAS-information\\xa0 go to the OneNote called \"Åtgärder 2018\" and then to 30 Aprill\\xa0</td>\\n<td>prod_master_customer_abt_grundtabell</td>\\n</tr>\\n', '<tr>\\n<td>CRM_DM</td>\\n<td>Kund_cv_segment</td>\\n<td>Customer segments created by the CVM-team</td>\\n<td>prod_master_customer_abt_cv_segment</td>\\n</tr>\\n', '<tr>\\n<td>CRM_DM</td>\\n<td>Kund_Ansökan</td>\\n<td>used as link between ansökan and customer</td>\\n<td>prod_master_customer_abt_ansokan_qual</td>\\n</tr>\\n', '<tr>\\n<td>CRM_DM</td>\\n<td>Ansökan_Blancolån_Statushistorik</td>\\n<td>used for identifying the blanco loan history</td>\\n<td>prod_master_customer_abt_ansokan_qual</td>\\n</tr>\\n', '<tr>\\n<td>CRM_DM</td>\\n<td>Ansökan_Blancolån</td>\\n<td>used for checking if there is an ongoing blanco application</td>\\n<td>prod_master_customer_abt_ansokan_qual</td>\\n</tr>\\n', '<tr>\\n<td>CRM_DM</td>\\n<td>Produktexemplar</td>\\n<td>prod_master_customer_abt_uppsagningar_info</td>\\n</tr>\\n', '<tr>\\n<td>CRM_DM</td>\\n<td>Produkt</td>\\n<td>prod_master_customer_abt_uppsagningar_info</td>\\n</tr>\\n', '<tr>\\n<td>CRM_DM</td>\\n<td>Produktexemplar_Historik</td>\\n<td>historical information about the products</td>\\n<td>prod_master_customer_abt_produktinfo</td>\\n</tr>\\n', '<tr>\\n<td>CRM_DM</td>\\n<td>Kund_Produktexemplar</td>\\n<td>used as link betweeen product and customer</td>\\n<td>prod_master_customer_abt_produktinfo</td>\\n</tr>\\n', '<tr>\\n<td>CRM_DM</td>\\n<td>Bilregisterdata</td>\\n<td>not too many customers has a match here, creates a lot of missing data for the model to handle</td>\\n<td>prod_master_customer_abt_bilkop_6m</td>\\n</tr>\\n', '<tr>\\n<td>CRM_DM</td>\\n<td>Kund_SvarCentrica</td>\\n<td>Very little information here as well.\\xa0</td>\\n<td>prod_master_customer_abt_centrica_reject_flag</td>\\n</tr>\\n', '<tr>\\n<td>CRM_DM</td>\\n<td>Kund_Hushåll</td>\\n<td>used as link between fastighetsdataExtended and customer data</td>\\n<td>prod_master_customer_abt_recency_fastighet_mod</td>\\n</tr>\\n', '<tr>\\n<td>CRM_DM</td>\\n<td>FastighetsdataExtended</td>\\n<td>need to check the keys.</td>\\n<td>prod_master_customer_abt_recency_fastighet_mod</td>\\n</tr>\\n']\n",
      "['<p>Almost all data used for the model comes from the CRM_DM library connected from the SAS Server.</p>\\n<p>The models are built on monthly data and hence we use the Kund_historik_månadsvis as the \"master\" where a lot of customer attributes already exists (historical values as well)</p>\\n<table>\\n<thead>\\n', '<tr>\\n<th>Library</th>\\n<th>Table name</th>\\n<th>Comments</th>\\n<th>SAS Program\\xa0</th>\\n</tr>\\n</thead>\\n<tbody>\\n', '<tr>\\n<td>CRM_DM</td>\\n<td>Kund_Historik_Månadsvis</td>\\n<td>\"master\" table that is used as a starting point\\xa0</td>\\n<td>prod_master_customer_abt_grundtabell</td>\\n</tr>\\n', '<tr>\\n<td>CRM_DM</td>\\n<td>Kund_RFM_Scoring</td>\\n<td>an RFM calculation done in 2018 with hard coded values for the 5 groups therein. An assessment was done in 2021 Marchand the groups are still fairly stable, so the decision was made to keep the model as is. Room for improvement here though.\\xa0The RFM information can be found on T:\\\\Bank\\\\ICA Banken BI\\\\SAS\\\\SAS-information\\xa0 go to the OneNote called \"Åtgärder 2018\" and then to 30 Aprill\\xa0</td>\\n<td>prod_master_customer_abt_grundtabell</td>\\n</tr>\\n', '<tr>\\n<td>CRM_DM</td>\\n<td>Kund_cv_segment</td>\\n<td>Customer segments created by the CVM-team</td>\\n<td>prod_master_customer_abt_cv_segment</td>\\n</tr>\\n', '<tr>\\n<td>CRM_DM</td>\\n<td>Kund_Ansökan</td>\\n<td>used as link between ansökan and customer</td>\\n<td>prod_master_customer_abt_ansokan_qual</td>\\n</tr>\\n', '<tr>\\n<td>CRM_DM</td>\\n<td>Ansökan_Blancolån_Statushistorik</td>\\n<td>used for identifying the blanco loan history</td>\\n<td>prod_master_customer_abt_ansokan_qual</td>\\n</tr>\\n', '<tr>\\n<td>CRM_DM</td>\\n<td>Ansökan_Blancolån</td>\\n<td>used for checking if there is an ongoing blanco application</td>\\n<td>prod_master_customer_abt_ansokan_qual</td>\\n</tr>\\n', '<tr>\\n<td>CRM_DM</td>\\n<td>Produktexemplar</td>\\n<td>prod_master_customer_abt_uppsagningar_info</td>\\n</tr>\\n', '<tr>\\n<td>CRM_DM</td>\\n<td>Produkt</td>\\n<td>prod_master_customer_abt_uppsagningar_info</td>\\n</tr>\\n', '<tr>\\n<td>CRM_DM</td>\\n<td>Produktexemplar_Historik</td>\\n<td>historical information about the products</td>\\n<td>prod_master_customer_abt_produktinfo</td>\\n</tr>\\n', '<tr>\\n<td>CRM_DM</td>\\n<td>Kund_Produktexemplar</td>\\n<td>used as link betweeen product and customer</td>\\n<td>prod_master_customer_abt_produktinfo</td>\\n</tr>\\n', '<tr>\\n<td>CRM_DM</td>\\n<td>Bilregisterdata</td>\\n<td>not too many customers has a match here, creates a lot of missing data for the model to handle</td>\\n<td>prod_master_customer_abt_bilkop_6m</td>\\n</tr>\\n', '<tr>\\n<td>CRM_DM</td>\\n<td>Kund_SvarCentrica</td>\\n<td>Very little information here as well.\\xa0</td>\\n<td>prod_master_customer_abt_centrica_reject_flag</td>\\n</tr>\\n', '<tr>\\n<td>CRM_DM</td>\\n<td>Kund_Hushåll</td>\\n<td>used as link between fastighetsdataExtended and customer data</td>\\n<td>prod_master_customer_abt_recency_fastighet_mod</td>\\n</tr>\\n', '<tr>\\n<td>CRM_DM</td>\\n<td>FastighetsdataExtended</td>\\n<td>need to check the keys.</td>\\n<td>prod_master_customer_abt_recency_fastighet_mod</td>\\n</tr>\\n']\n",
      "['<p>Almost all data used for the model comes from the CRM_DM library connected from the SAS Server.</p>\\n<p>The models are built on monthly data and hence we use the Kund_historik_månadsvis as the \"master\" where a lot of customer attributes already exists (historical values as well)</p>\\n<table>\\n<thead>\\n', '<tr>\\n<th>Library</th>\\n<th>Table name</th>\\n<th>Comments</th>\\n<th>SAS Program\\xa0</th>\\n</tr>\\n</thead>\\n<tbody>\\n', '<tr>\\n<td>CRM_DM</td>\\n<td>Kund_Historik_Månadsvis</td>\\n<td>\"master\" table that is used as a starting point\\xa0</td>\\n<td>prod_master_customer_abt_grundtabell</td>\\n</tr>\\n', '<tr>\\n<td>CRM_DM</td>\\n<td>Kund_RFM_Scoring</td>\\n<td>an RFM calculation done in 2018 with hard coded values for the 5 groups therein. An assessment was done in 2021 Marchand the groups are still fairly stable, so the decision was made to keep the model as is. Room for improvement here though.\\xa0The RFM information can be found on T:\\\\Bank\\\\ICA Banken BI\\\\SAS\\\\SAS-information\\xa0 go to the OneNote called \"Åtgärder 2018\" and then to 30 Aprill\\xa0</td>\\n<td>prod_master_customer_abt_grundtabell</td>\\n</tr>\\n', '<tr>\\n<td>CRM_DM</td>\\n<td>Kund_cv_segment</td>\\n<td>Customer segments created by the CVM-team</td>\\n<td>prod_master_customer_abt_cv_segment</td>\\n</tr>\\n', '<tr>\\n<td>CRM_DM</td>\\n<td>Kund_Ansökan</td>\\n<td>used as link between ansökan and customer</td>\\n<td>prod_master_customer_abt_ansokan_qual</td>\\n</tr>\\n', '<tr>\\n<td>CRM_DM</td>\\n<td>Ansökan_Blancolån_Statushistorik</td>\\n<td>used for identifying the blanco loan history</td>\\n<td>prod_master_customer_abt_ansokan_qual</td>\\n</tr>\\n', '<tr>\\n<td>CRM_DM</td>\\n<td>Ansökan_Blancolån</td>\\n<td>used for checking if there is an ongoing blanco application</td>\\n<td>prod_master_customer_abt_ansokan_qual</td>\\n</tr>\\n', '<tr>\\n<td>CRM_DM</td>\\n<td>Produktexemplar</td>\\n<td>prod_master_customer_abt_uppsagningar_info</td>\\n</tr>\\n', '<tr>\\n<td>CRM_DM</td>\\n<td>Produkt</td>\\n<td>prod_master_customer_abt_uppsagningar_info</td>\\n</tr>\\n', '<tr>\\n<td>CRM_DM</td>\\n<td>Produktexemplar_Historik</td>\\n<td>historical information about the products</td>\\n<td>prod_master_customer_abt_produktinfo</td>\\n</tr>\\n', '<tr>\\n<td>CRM_DM</td>\\n<td>Kund_Produktexemplar</td>\\n<td>used as link betweeen product and customer</td>\\n<td>prod_master_customer_abt_produktinfo</td>\\n</tr>\\n', '<tr>\\n<td>CRM_DM</td>\\n<td>Bilregisterdata</td>\\n<td>not too many customers has a match here, creates a lot of missing data for the model to handle</td>\\n<td>prod_master_customer_abt_bilkop_6m</td>\\n</tr>\\n', '<tr>\\n<td>CRM_DM</td>\\n<td>Kund_SvarCentrica</td>\\n<td>Very little information here as well.\\xa0</td>\\n<td>prod_master_customer_abt_centrica_reject_flag</td>\\n</tr>\\n', '<tr>\\n<td>CRM_DM</td>\\n<td>Kund_Hushåll</td>\\n<td>used as link between fastighetsdataExtended and customer data</td>\\n<td>prod_master_customer_abt_recency_fastighet_mod</td>\\n</tr>\\n', '<tr>\\n<td>CRM_DM</td>\\n<td>FastighetsdataExtended</td>\\n<td>need to check the keys.</td>\\n<td>prod_master_customer_abt_recency_fastighet_mod</td>\\n</tr>\\n']\n",
      "['<p>Almost all data used for the model comes from the CRM_DM library connected from the SAS Server.</p>\\n<p>The models are built on monthly data and hence we use the Kund_historik_månadsvis as the \"master\" where a lot of customer attributes already exists (historical values as well)</p>\\n<table>\\n<thead>\\n', '<tr>\\n<th>Library</th>\\n<th>Table name</th>\\n<th>Comments</th>\\n<th>SAS Program\\xa0</th>\\n</tr>\\n</thead>\\n<tbody>\\n', '<tr>\\n<td>CRM_DM</td>\\n<td>Kund_Historik_Månadsvis</td>\\n<td>\"master\" table that is used as a starting point\\xa0</td>\\n<td>prod_master_customer_abt_grundtabell</td>\\n</tr>\\n', '<tr>\\n<td>CRM_DM</td>\\n<td>Kund_RFM_Scoring</td>\\n<td>an RFM calculation done in 2018 with hard coded values for the 5 groups therein. An assessment was done in 2021 Marchand the groups are still fairly stable, so the decision was made to keep the model as is. Room for improvement here though.\\xa0The RFM information can be found on T:\\\\Bank\\\\ICA Banken BI\\\\SAS\\\\SAS-information\\xa0 go to the OneNote called \"Åtgärder 2018\" and then to 30 Aprill\\xa0</td>\\n<td>prod_master_customer_abt_grundtabell</td>\\n</tr>\\n', '<tr>\\n<td>CRM_DM</td>\\n<td>Kund_cv_segment</td>\\n<td>Customer segments created by the CVM-team</td>\\n<td>prod_master_customer_abt_cv_segment</td>\\n</tr>\\n', '<tr>\\n<td>CRM_DM</td>\\n<td>Kund_Ansökan</td>\\n<td>used as link between ansökan and customer</td>\\n<td>prod_master_customer_abt_ansokan_qual</td>\\n</tr>\\n', '<tr>\\n<td>CRM_DM</td>\\n<td>Ansökan_Blancolån_Statushistorik</td>\\n<td>used for identifying the blanco loan history</td>\\n<td>prod_master_customer_abt_ansokan_qual</td>\\n</tr>\\n', '<tr>\\n<td>CRM_DM</td>\\n<td>Ansökan_Blancolån</td>\\n<td>used for checking if there is an ongoing blanco application</td>\\n<td>prod_master_customer_abt_ansokan_qual</td>\\n</tr>\\n', '<tr>\\n<td>CRM_DM</td>\\n<td>Produktexemplar</td>\\n<td>prod_master_customer_abt_uppsagningar_info</td>\\n</tr>\\n', '<tr>\\n<td>CRM_DM</td>\\n<td>Produkt</td>\\n<td>prod_master_customer_abt_uppsagningar_info</td>\\n</tr>\\n', '<tr>\\n<td>CRM_DM</td>\\n<td>Produktexemplar_Historik</td>\\n<td>historical information about the products</td>\\n<td>prod_master_customer_abt_produktinfo</td>\\n</tr>\\n', '<tr>\\n<td>CRM_DM</td>\\n<td>Kund_Produktexemplar</td>\\n<td>used as link betweeen product and customer</td>\\n<td>prod_master_customer_abt_produktinfo</td>\\n</tr>\\n', '<tr>\\n<td>CRM_DM</td>\\n<td>Bilregisterdata</td>\\n<td>not too many customers has a match here, creates a lot of missing data for the model to handle</td>\\n<td>prod_master_customer_abt_bilkop_6m</td>\\n</tr>\\n', '<tr>\\n<td>CRM_DM</td>\\n<td>Kund_SvarCentrica</td>\\n<td>Very little information here as well.\\xa0</td>\\n<td>prod_master_customer_abt_centrica_reject_flag</td>\\n</tr>\\n', '<tr>\\n<td>CRM_DM</td>\\n<td>Kund_Hushåll</td>\\n<td>used as link between fastighetsdataExtended and customer data</td>\\n<td>prod_master_customer_abt_recency_fastighet_mod</td>\\n</tr>\\n', '<tr>\\n<td>CRM_DM</td>\\n<td>FastighetsdataExtended</td>\\n<td>need to check the keys.</td>\\n<td>prod_master_customer_abt_recency_fastighet_mod</td>\\n</tr>\\n', '<tr>\\n<td>ANA_MART</td>\\n<td>cop_flag_skotsel</td>\\n<td>Special table that Julia at DUIT has created for us since the \"skötsel\"-flags in the CRM_DMdatabase are not of proper quality (per March 2021). We are using this table as a workaround. It needs to be updated\\xa0manually by Julia each month.</td>\\n<td>prod_master_customer_abt_skotsel_flg</td>\\n</tr>\\n</tbody>\\n</table>\\n']\n",
      "['<p>Almost all data used for the model comes from the CRM_DM library connected from the SAS Server.</p>\\n<p>The models are built on monthly data and hence we use the Kund_historik_månadsvis as the \"master\" where a lot of customer attributes already exists (historical values as well)</p>\\n<table>\\n<thead>\\n', '<tr>\\n<th>Library</th>\\n<th>Table name</th>\\n<th>Comments</th>\\n<th>SAS Program\\xa0</th>\\n</tr>\\n</thead>\\n<tbody>\\n', '<tr>\\n<td>CRM_DM</td>\\n<td>Kund_Historik_Månadsvis</td>\\n<td>\"master\" table that is used as a starting point\\xa0</td>\\n<td>prod_master_customer_abt_grundtabell</td>\\n</tr>\\n', '<tr>\\n<td>CRM_DM</td>\\n<td>Kund_RFM_Scoring</td>\\n<td>an RFM calculation done in 2018 with hard coded values for the 5 groups therein. An assessment was done in 2021 Marchand the groups are still fairly stable, so the decision was made to keep the model as is. Room for improvement here though.\\xa0The RFM information can be found on T:\\\\Bank\\\\ICA Banken BI\\\\SAS\\\\SAS-information\\xa0 go to the OneNote called \"Åtgärder 2018\" and then to 30 Aprill\\xa0</td>\\n<td>prod_master_customer_abt_grundtabell</td>\\n</tr>\\n', '<tr>\\n<td>CRM_DM</td>\\n<td>Kund_cv_segment</td>\\n<td>Customer segments created by the CVM-team</td>\\n<td>prod_master_customer_abt_cv_segment</td>\\n</tr>\\n', '<tr>\\n<td>CRM_DM</td>\\n<td>Kund_Ansökan</td>\\n<td>used as link between ansökan and customer</td>\\n<td>prod_master_customer_abt_ansokan_qual</td>\\n</tr>\\n', '<tr>\\n<td>CRM_DM</td>\\n<td>Ansökan_Blancolån_Statushistorik</td>\\n<td>used for identifying the blanco loan history</td>\\n<td>prod_master_customer_abt_ansokan_qual</td>\\n</tr>\\n', '<tr>\\n<td>CRM_DM</td>\\n<td>Ansökan_Blancolån</td>\\n<td>used for checking if there is an ongoing blanco application</td>\\n<td>prod_master_customer_abt_ansokan_qual</td>\\n</tr>\\n', '<tr>\\n<td>CRM_DM</td>\\n<td>Produktexemplar</td>\\n<td>prod_master_customer_abt_uppsagningar_info</td>\\n</tr>\\n', '<tr>\\n<td>CRM_DM</td>\\n<td>Produkt</td>\\n<td>prod_master_customer_abt_uppsagningar_info</td>\\n</tr>\\n', '<tr>\\n<td>CRM_DM</td>\\n<td>Produktexemplar_Historik</td>\\n<td>historical information about the products</td>\\n<td>prod_master_customer_abt_produktinfo</td>\\n</tr>\\n', '<tr>\\n<td>CRM_DM</td>\\n<td>Kund_Produktexemplar</td>\\n<td>used as link betweeen product and customer</td>\\n<td>prod_master_customer_abt_produktinfo</td>\\n</tr>\\n', '<tr>\\n<td>CRM_DM</td>\\n<td>Bilregisterdata</td>\\n<td>not too many customers has a match here, creates a lot of missing data for the model to handle</td>\\n<td>prod_master_customer_abt_bilkop_6m</td>\\n</tr>\\n', '<tr>\\n<td>CRM_DM</td>\\n<td>Kund_SvarCentrica</td>\\n<td>Very little information here as well.\\xa0</td>\\n<td>prod_master_customer_abt_centrica_reject_flag</td>\\n</tr>\\n', '<tr>\\n<td>CRM_DM</td>\\n<td>Kund_Hushåll</td>\\n<td>used as link between fastighetsdataExtended and customer data</td>\\n<td>prod_master_customer_abt_recency_fastighet_mod</td>\\n</tr>\\n', '<tr>\\n<td>CRM_DM</td>\\n<td>FastighetsdataExtended</td>\\n<td>need to check the keys.</td>\\n<td>prod_master_customer_abt_recency_fastighet_mod</td>\\n</tr>\\n', '<tr>\\n<td>ANA_MART</td>\\n<td>cop_flag_skotsel</td>\\n<td>Special table that Julia at DUIT has created for us since the \"skötsel\"-flags in the CRM_DMdatabase are not of proper quality (per March 2021). We are using this table as a workaround. It needs to be updated\\xa0manually by Julia each month.</td>\\n<td>prod_master_customer_abt_skotsel_flg</td>\\n</tr>\\n</tbody>\\n</table>\\n']\n",
      "['<p>Almost all data used for the model comes from the CRM_DM library connected from the SAS Server.</p>\\n<p>The models are built on monthly data and hence we use the Kund_historik_månadsvis as the \"master\" where a lot of customer attributes already exists (historical values as well)</p>\\n<table>\\n<thead>\\n', '<tr>\\n<th>Library</th>\\n<th>Table name</th>\\n<th>Comments</th>\\n<th>SAS Program\\xa0</th>\\n</tr>\\n</thead>\\n<tbody>\\n', '<tr>\\n<td>CRM_DM</td>\\n<td>Kund_Historik_Månadsvis</td>\\n<td>\"master\" table that is used as a starting point\\xa0</td>\\n<td>prod_master_customer_abt_grundtabell</td>\\n</tr>\\n', '<tr>\\n<td>CRM_DM</td>\\n<td>Kund_RFM_Scoring</td>\\n<td>an RFM calculation done in 2018 with hard coded values for the 5 groups therein. An assessment was done in 2021 Marchand the groups are still fairly stable, so the decision was made to keep the model as is. Room for improvement here though.\\xa0The RFM information can be found on T:\\\\Bank\\\\ICA Banken BI\\\\SAS\\\\SAS-information\\xa0 go to the OneNote called \"Åtgärder 2018\" and then to 30 Aprill\\xa0</td>\\n<td>prod_master_customer_abt_grundtabell</td>\\n</tr>\\n', '<tr>\\n<td>CRM_DM</td>\\n<td>Kund_cv_segment</td>\\n<td>Customer segments created by the CVM-team</td>\\n<td>prod_master_customer_abt_cv_segment</td>\\n</tr>\\n', '<tr>\\n<td>CRM_DM</td>\\n<td>Kund_Ansökan</td>\\n<td>used as link between ansökan and customer</td>\\n<td>prod_master_customer_abt_ansokan_qual</td>\\n</tr>\\n', '<tr>\\n<td>CRM_DM</td>\\n<td>Ansökan_Blancolån_Statushistorik</td>\\n<td>used for identifying the blanco loan history</td>\\n<td>prod_master_customer_abt_ansokan_qual</td>\\n</tr>\\n', '<tr>\\n<td>CRM_DM</td>\\n<td>Ansökan_Blancolån</td>\\n<td>used for checking if there is an ongoing blanco application</td>\\n<td>prod_master_customer_abt_ansokan_qual</td>\\n</tr>\\n', '<tr>\\n<td>CRM_DM</td>\\n<td>Produktexemplar</td>\\n<td>prod_master_customer_abt_uppsagningar_info</td>\\n</tr>\\n', '<tr>\\n<td>CRM_DM</td>\\n<td>Produkt</td>\\n<td>prod_master_customer_abt_uppsagningar_info</td>\\n</tr>\\n', '<tr>\\n<td>CRM_DM</td>\\n<td>Produktexemplar_Historik</td>\\n<td>historical information about the products</td>\\n<td>prod_master_customer_abt_produktinfo</td>\\n</tr>\\n', '<tr>\\n<td>CRM_DM</td>\\n<td>Kund_Produktexemplar</td>\\n<td>used as link betweeen product and customer</td>\\n<td>prod_master_customer_abt_produktinfo</td>\\n</tr>\\n', '<tr>\\n<td>CRM_DM</td>\\n<td>Bilregisterdata</td>\\n<td>not too many customers has a match here, creates a lot of missing data for the model to handle</td>\\n<td>prod_master_customer_abt_bilkop_6m</td>\\n</tr>\\n', '<tr>\\n<td>CRM_DM</td>\\n<td>Kund_SvarCentrica</td>\\n<td>Very little information here as well.\\xa0</td>\\n<td>prod_master_customer_abt_centrica_reject_flag</td>\\n</tr>\\n', '<tr>\\n<td>CRM_DM</td>\\n<td>Kund_Hushåll</td>\\n<td>used as link between fastighetsdataExtended and customer data</td>\\n<td>prod_master_customer_abt_recency_fastighet_mod</td>\\n</tr>\\n', '<tr>\\n<td>CRM_DM</td>\\n<td>FastighetsdataExtended</td>\\n<td>need to check the keys.</td>\\n<td>prod_master_customer_abt_recency_fastighet_mod</td>\\n</tr>\\n', '<tr>\\n<td>ANA_MART</td>\\n<td>cop_flag_skotsel</td>\\n<td>Special table that Julia at DUIT has created for us since the \"skötsel\"-flags in the CRM_DMdatabase are not of proper quality (per March 2021). We are using this table as a workaround. It needs to be updated\\xa0manually by Julia each month.</td>\\n<td>prod_master_customer_abt_skotsel_flg</td>\\n</tr>\\n</tbody>\\n</table>\\n']\n",
      "['<p>Almost all data used for the model comes from the CRM_DM library connected from the SAS Server.</p>\\n<p>The models are built on monthly data and hence we use the Kund_historik_månadsvis as the \"master\" where a lot of customer attributes already exists (historical values as well)</p>\\n<table>\\n<thead>\\n', '<tr>\\n<th>Library</th>\\n<th>Table name</th>\\n<th>Comments</th>\\n<th>SAS Program\\xa0</th>\\n</tr>\\n</thead>\\n<tbody>\\n', '<tr>\\n<td>CRM_DM</td>\\n<td>Kund_Historik_Månadsvis</td>\\n<td>\"master\" table that is used as a starting point\\xa0</td>\\n<td>prod_master_customer_abt_grundtabell</td>\\n</tr>\\n', '<tr>\\n<td>CRM_DM</td>\\n<td>Kund_RFM_Scoring</td>\\n<td>an RFM calculation done in 2018 with hard coded values for the 5 groups therein. An assessment was done in 2021 Marchand the groups are still fairly stable, so the decision was made to keep the model as is. Room for improvement here though.\\xa0The RFM information can be found on T:\\\\Bank\\\\ICA Banken BI\\\\SAS\\\\SAS-information\\xa0 go to the OneNote called \"Åtgärder 2018\" and then to 30 Aprill\\xa0</td>\\n<td>prod_master_customer_abt_grundtabell</td>\\n</tr>\\n', '<tr>\\n<td>CRM_DM</td>\\n<td>Kund_cv_segment</td>\\n<td>Customer segments created by the CVM-team</td>\\n<td>prod_master_customer_abt_cv_segment</td>\\n</tr>\\n', '<tr>\\n<td>CRM_DM</td>\\n<td>Kund_Ansökan</td>\\n<td>used as link between ansökan and customer</td>\\n<td>prod_master_customer_abt_ansokan_qual</td>\\n</tr>\\n', '<tr>\\n<td>CRM_DM</td>\\n<td>Ansökan_Blancolån_Statushistorik</td>\\n<td>used for identifying the blanco loan history</td>\\n<td>prod_master_customer_abt_ansokan_qual</td>\\n</tr>\\n', '<tr>\\n<td>CRM_DM</td>\\n<td>Ansökan_Blancolån</td>\\n<td>used for checking if there is an ongoing blanco application</td>\\n<td>prod_master_customer_abt_ansokan_qual</td>\\n</tr>\\n', '<tr>\\n<td>CRM_DM</td>\\n<td>Produktexemplar</td>\\n<td>prod_master_customer_abt_uppsagningar_info</td>\\n</tr>\\n', '<tr>\\n<td>CRM_DM</td>\\n<td>Produkt</td>\\n<td>prod_master_customer_abt_uppsagningar_info</td>\\n</tr>\\n', '<tr>\\n<td>CRM_DM</td>\\n<td>Produktexemplar_Historik</td>\\n<td>historical information about the products</td>\\n<td>prod_master_customer_abt_produktinfo</td>\\n</tr>\\n', '<tr>\\n<td>CRM_DM</td>\\n<td>Kund_Produktexemplar</td>\\n<td>used as link betweeen product and customer</td>\\n<td>prod_master_customer_abt_produktinfo</td>\\n</tr>\\n', '<tr>\\n<td>CRM_DM</td>\\n<td>Bilregisterdata</td>\\n<td>not too many customers has a match here, creates a lot of missing data for the model to handle</td>\\n<td>prod_master_customer_abt_bilkop_6m</td>\\n</tr>\\n', '<tr>\\n<td>CRM_DM</td>\\n<td>Kund_SvarCentrica</td>\\n<td>Very little information here as well.\\xa0</td>\\n<td>prod_master_customer_abt_centrica_reject_flag</td>\\n</tr>\\n', '<tr>\\n<td>CRM_DM</td>\\n<td>Kund_Hushåll</td>\\n<td>used as link between fastighetsdataExtended and customer data</td>\\n<td>prod_master_customer_abt_recency_fastighet_mod</td>\\n</tr>\\n', '<tr>\\n<td>CRM_DM</td>\\n<td>FastighetsdataExtended</td>\\n<td>need to check the keys.</td>\\n<td>prod_master_customer_abt_recency_fastighet_mod</td>\\n</tr>\\n', '<tr>\\n<td>ANA_MART</td>\\n<td>cop_flag_skotsel</td>\\n<td>Special table that Julia at DUIT has created for us since the \"skötsel\"-flags in the CRM_DMdatabase are not of proper quality (per March 2021). We are using this table as a workaround. It needs to be updated\\xa0manually by Julia each month.</td>\\n<td>prod_master_customer_abt_skotsel_flg</td>\\n</tr>\\n</tbody>\\n</table>\\n']\n",
      "['<p>Almost all data used for the model comes from the CRM_DM library connected from the SAS Server.</p>\\n<p>The models are built on monthly data and hence we use the Kund_historik_månadsvis as the \"master\" where a lot of customer attributes already exists (historical values as well)</p>\\n<table>\\n<thead>\\n', '<tr>\\n<th>Library</th>\\n<th>Table name</th>\\n<th>Comments</th>\\n<th>SAS Program\\xa0</th>\\n</tr>\\n</thead>\\n<tbody>\\n', '<tr>\\n<td>CRM_DM</td>\\n<td>Kund_Historik_Månadsvis</td>\\n<td>\"master\" table that is used as a starting point\\xa0</td>\\n<td>prod_master_customer_abt_grundtabell</td>\\n</tr>\\n', '<tr>\\n<td>CRM_DM</td>\\n<td>Kund_RFM_Scoring</td>\\n<td>an RFM calculation done in 2018 with hard coded values for the 5 groups therein. An assessment was done in 2021 Marchand the groups are still fairly stable, so the decision was made to keep the model as is. Room for improvement here though.\\xa0The RFM information can be found on T:\\\\Bank\\\\ICA Banken BI\\\\SAS\\\\SAS-information\\xa0 go to the OneNote called \"Åtgärder 2018\" and then to 30 Aprill\\xa0</td>\\n<td>prod_master_customer_abt_grundtabell</td>\\n</tr>\\n', '<tr>\\n<td>CRM_DM</td>\\n<td>Kund_cv_segment</td>\\n<td>Customer segments created by the CVM-team</td>\\n<td>prod_master_customer_abt_cv_segment</td>\\n</tr>\\n', '<tr>\\n<td>CRM_DM</td>\\n<td>Kund_Ansökan</td>\\n<td>used as link between ansökan and customer</td>\\n<td>prod_master_customer_abt_ansokan_qual</td>\\n</tr>\\n', '<tr>\\n<td>CRM_DM</td>\\n<td>Ansökan_Blancolån_Statushistorik</td>\\n<td>used for identifying the blanco loan history</td>\\n<td>prod_master_customer_abt_ansokan_qual</td>\\n</tr>\\n', '<tr>\\n<td>CRM_DM</td>\\n<td>Ansökan_Blancolån</td>\\n<td>used for checking if there is an ongoing blanco application</td>\\n<td>prod_master_customer_abt_ansokan_qual</td>\\n</tr>\\n', '<tr>\\n<td>CRM_DM</td>\\n<td>Produktexemplar</td>\\n<td>prod_master_customer_abt_uppsagningar_info</td>\\n</tr>\\n', '<tr>\\n<td>CRM_DM</td>\\n<td>Produkt</td>\\n<td>prod_master_customer_abt_uppsagningar_info</td>\\n</tr>\\n', '<tr>\\n<td>CRM_DM</td>\\n<td>Produktexemplar_Historik</td>\\n<td>historical information about the products</td>\\n<td>prod_master_customer_abt_produktinfo</td>\\n</tr>\\n', '<tr>\\n<td>CRM_DM</td>\\n<td>Kund_Produktexemplar</td>\\n<td>used as link betweeen product and customer</td>\\n<td>prod_master_customer_abt_produktinfo</td>\\n</tr>\\n', '<tr>\\n<td>CRM_DM</td>\\n<td>Bilregisterdata</td>\\n<td>not too many customers has a match here, creates a lot of missing data for the model to handle</td>\\n<td>prod_master_customer_abt_bilkop_6m</td>\\n</tr>\\n', '<tr>\\n<td>CRM_DM</td>\\n<td>Kund_SvarCentrica</td>\\n<td>Very little information here as well.\\xa0</td>\\n<td>prod_master_customer_abt_centrica_reject_flag</td>\\n</tr>\\n', '<tr>\\n<td>CRM_DM</td>\\n<td>Kund_Hushåll</td>\\n<td>used as link between fastighetsdataExtended and customer data</td>\\n<td>prod_master_customer_abt_recency_fastighet_mod</td>\\n</tr>\\n', '<tr>\\n<td>CRM_DM</td>\\n<td>FastighetsdataExtended</td>\\n<td>need to check the keys.</td>\\n<td>prod_master_customer_abt_recency_fastighet_mod</td>\\n</tr>\\n', '<tr>\\n<td>ANA_MART</td>\\n<td>cop_flag_skotsel</td>\\n<td>Special table that Julia at DUIT has created for us since the \"skötsel\"-flags in the CRM_DMdatabase are not of proper quality (per March 2021). We are using this table as a workaround. It needs to be updated\\xa0manually by Julia each month.</td>\\n<td>prod_master_customer_abt_skotsel_flg</td>\\n</tr>\\n</tbody>\\n</table>\\n']\n",
      "['<p>Almost all data used for the model comes from the CRM_DM library connected from the SAS Server.</p>\\n<p>The models are built on monthly data and hence we use the Kund_historik_månadsvis as the \"master\" where a lot of customer attributes already exists (historical values as well)</p>\\n<table>\\n<thead>\\n', '<tr>\\n<th>Library</th>\\n<th>Table name</th>\\n<th>Comments</th>\\n<th>SAS Program\\xa0</th>\\n</tr>\\n</thead>\\n<tbody>\\n', '<tr>\\n<td>CRM_DM</td>\\n<td>Kund_Historik_Månadsvis</td>\\n<td>\"master\" table that is used as a starting point\\xa0</td>\\n<td>prod_master_customer_abt_grundtabell</td>\\n</tr>\\n', '<tr>\\n<td>CRM_DM</td>\\n<td>Kund_RFM_Scoring</td>\\n<td>an RFM calculation done in 2018 with hard coded values for the 5 groups therein. An assessment was done in 2021 Marchand the groups are still fairly stable, so the decision was made to keep the model as is. Room for improvement here though.\\xa0The RFM information can be found on T:\\\\Bank\\\\ICA Banken BI\\\\SAS\\\\SAS-information\\xa0 go to the OneNote called \"Åtgärder 2018\" and then to 30 Aprill\\xa0</td>\\n<td>prod_master_customer_abt_grundtabell</td>\\n</tr>\\n', '<tr>\\n<td>CRM_DM</td>\\n<td>Kund_cv_segment</td>\\n<td>Customer segments created by the CVM-team</td>\\n<td>prod_master_customer_abt_cv_segment</td>\\n</tr>\\n', '<tr>\\n<td>CRM_DM</td>\\n<td>Kund_Ansökan</td>\\n<td>used as link between ansökan and customer</td>\\n<td>prod_master_customer_abt_ansokan_qual</td>\\n</tr>\\n', '<tr>\\n<td>CRM_DM</td>\\n<td>Ansökan_Blancolån_Statushistorik</td>\\n<td>used for identifying the blanco loan history</td>\\n<td>prod_master_customer_abt_ansokan_qual</td>\\n</tr>\\n', '<tr>\\n<td>CRM_DM</td>\\n<td>Ansökan_Blancolån</td>\\n<td>used for checking if there is an ongoing blanco application</td>\\n<td>prod_master_customer_abt_ansokan_qual</td>\\n</tr>\\n', '<tr>\\n<td>CRM_DM</td>\\n<td>Produktexemplar</td>\\n<td>prod_master_customer_abt_uppsagningar_info</td>\\n</tr>\\n', '<tr>\\n<td>CRM_DM</td>\\n<td>Produkt</td>\\n<td>prod_master_customer_abt_uppsagningar_info</td>\\n</tr>\\n', '<tr>\\n<td>CRM_DM</td>\\n<td>Produktexemplar_Historik</td>\\n<td>historical information about the products</td>\\n<td>prod_master_customer_abt_produktinfo</td>\\n</tr>\\n', '<tr>\\n<td>CRM_DM</td>\\n<td>Kund_Produktexemplar</td>\\n<td>used as link betweeen product and customer</td>\\n<td>prod_master_customer_abt_produktinfo</td>\\n</tr>\\n', '<tr>\\n<td>CRM_DM</td>\\n<td>Bilregisterdata</td>\\n<td>not too many customers has a match here, creates a lot of missing data for the model to handle</td>\\n<td>prod_master_customer_abt_bilkop_6m</td>\\n</tr>\\n', '<tr>\\n<td>CRM_DM</td>\\n<td>Kund_SvarCentrica</td>\\n<td>Very little information here as well.\\xa0</td>\\n<td>prod_master_customer_abt_centrica_reject_flag</td>\\n</tr>\\n', '<tr>\\n<td>CRM_DM</td>\\n<td>Kund_Hushåll</td>\\n<td>used as link between fastighetsdataExtended and customer data</td>\\n<td>prod_master_customer_abt_recency_fastighet_mod</td>\\n</tr>\\n', '<tr>\\n<td>CRM_DM</td>\\n<td>FastighetsdataExtended</td>\\n<td>need to check the keys.</td>\\n<td>prod_master_customer_abt_recency_fastighet_mod</td>\\n</tr>\\n', '<tr>\\n<td>ANA_MART</td>\\n<td>cop_flag_skotsel</td>\\n<td>Special table that Julia at DUIT has created for us since the \"skötsel\"-flags in the CRM_DMdatabase are not of proper quality (per March 2021). We are using this table as a workaround. It needs to be updated\\xa0manually by Julia each month.</td>\\n<td>prod_master_customer_abt_skotsel_flg</td>\\n</tr>\\n</tbody>\\n</table>\\n']\n",
      "['<p>Almost all data used for the model comes from the CRM_DM library connected from the SAS Server.</p>\\n<p>The models are built on monthly data and hence we use the Kund_historik_månadsvis as the \"master\" where a lot of customer attributes already exists (historical values as well)</p>\\n<table>\\n<thead>\\n', '<tr>\\n<th>Library</th>\\n<th>Table name</th>\\n<th>Comments</th>\\n<th>SAS Program\\xa0</th>\\n</tr>\\n</thead>\\n<tbody>\\n', '<tr>\\n<td>CRM_DM</td>\\n<td>Kund_Historik_Månadsvis</td>\\n<td>\"master\" table that is used as a starting point\\xa0</td>\\n<td>prod_master_customer_abt_grundtabell</td>\\n</tr>\\n', '<tr>\\n<td>CRM_DM</td>\\n<td>Kund_RFM_Scoring</td>\\n<td>an RFM calculation done in 2018 with hard coded values for the 5 groups therein. An assessment was done in 2021 Marchand the groups are still fairly stable, so the decision was made to keep the model as is. Room for improvement here though.\\xa0The RFM information can be found on T:\\\\Bank\\\\ICA Banken BI\\\\SAS\\\\SAS-information\\xa0 go to the OneNote called \"Åtgärder 2018\" and then to 30 Aprill\\xa0</td>\\n<td>prod_master_customer_abt_grundtabell</td>\\n</tr>\\n', '<tr>\\n<td>CRM_DM</td>\\n<td>Kund_cv_segment</td>\\n<td>Customer segments created by the CVM-team</td>\\n<td>prod_master_customer_abt_cv_segment</td>\\n</tr>\\n', '<tr>\\n<td>CRM_DM</td>\\n<td>Kund_Ansökan</td>\\n<td>used as link between ansökan and customer</td>\\n<td>prod_master_customer_abt_ansokan_qual</td>\\n</tr>\\n', '<tr>\\n<td>CRM_DM</td>\\n<td>Ansökan_Blancolån_Statushistorik</td>\\n<td>used for identifying the blanco loan history</td>\\n<td>prod_master_customer_abt_ansokan_qual</td>\\n</tr>\\n', '<tr>\\n<td>CRM_DM</td>\\n<td>Ansökan_Blancolån</td>\\n<td>used for checking if there is an ongoing blanco application</td>\\n<td>prod_master_customer_abt_ansokan_qual</td>\\n</tr>\\n', '<tr>\\n<td>CRM_DM</td>\\n<td>Produktexemplar</td>\\n<td>prod_master_customer_abt_uppsagningar_info</td>\\n</tr>\\n', '<tr>\\n<td>CRM_DM</td>\\n<td>Produkt</td>\\n<td>prod_master_customer_abt_uppsagningar_info</td>\\n</tr>\\n', '<tr>\\n<td>CRM_DM</td>\\n<td>Produktexemplar_Historik</td>\\n<td>historical information about the products</td>\\n<td>prod_master_customer_abt_produktinfo</td>\\n</tr>\\n', '<tr>\\n<td>CRM_DM</td>\\n<td>Kund_Produktexemplar</td>\\n<td>used as link betweeen product and customer</td>\\n<td>prod_master_customer_abt_produktinfo</td>\\n</tr>\\n', '<tr>\\n<td>CRM_DM</td>\\n<td>Bilregisterdata</td>\\n<td>not too many customers has a match here, creates a lot of missing data for the model to handle</td>\\n<td>prod_master_customer_abt_bilkop_6m</td>\\n</tr>\\n', '<tr>\\n<td>CRM_DM</td>\\n<td>Kund_SvarCentrica</td>\\n<td>Very little information here as well.\\xa0</td>\\n<td>prod_master_customer_abt_centrica_reject_flag</td>\\n</tr>\\n', '<tr>\\n<td>CRM_DM</td>\\n<td>Kund_Hushåll</td>\\n<td>used as link between fastighetsdataExtended and customer data</td>\\n<td>prod_master_customer_abt_recency_fastighet_mod</td>\\n</tr>\\n', '<tr>\\n<td>CRM_DM</td>\\n<td>FastighetsdataExtended</td>\\n<td>need to check the keys.</td>\\n<td>prod_master_customer_abt_recency_fastighet_mod</td>\\n</tr>\\n', '<tr>\\n<td>ANA_MART</td>\\n<td>cop_flag_skotsel</td>\\n<td>Special table that Julia at DUIT has created for us since the \"skötsel\"-flags in the CRM_DMdatabase are not of proper quality (per March 2021). We are using this table as a workaround. It needs to be updated\\xa0manually by Julia each month.</td>\\n<td>prod_master_customer_abt_skotsel_flg</td>\\n</tr>\\n</tbody>\\n</table>\\n']\n",
      "['<p>Almost all data used for the model comes from the CRM_DM library connected from the SAS Server.</p>\\n<p>The models are built on monthly data and hence we use the Kund_historik_månadsvis as the \"master\" where a lot of customer attributes already exists (historical values as well)</p>\\n<table>\\n<thead>\\n', '<tr>\\n<th>Library</th>\\n<th>Table name</th>\\n<th>Comments</th>\\n<th>SAS Program\\xa0</th>\\n</tr>\\n</thead>\\n<tbody>\\n', '<tr>\\n<td>CRM_DM</td>\\n<td>Kund_Historik_Månadsvis</td>\\n<td>\"master\" table that is used as a starting point\\xa0</td>\\n<td>prod_master_customer_abt_grundtabell</td>\\n</tr>\\n', '<tr>\\n<td>CRM_DM</td>\\n<td>Kund_RFM_Scoring</td>\\n<td>an RFM calculation done in 2018 with hard coded values for the 5 groups therein. An assessment was done in 2021 Marchand the groups are still fairly stable, so the decision was made to keep the model as is. Room for improvement here though.\\xa0The RFM information can be found on T:\\\\Bank\\\\ICA Banken BI\\\\SAS\\\\SAS-information\\xa0 go to the OneNote called \"Åtgärder 2018\" and then to 30 Aprill\\xa0</td>\\n<td>prod_master_customer_abt_grundtabell</td>\\n</tr>\\n', '<tr>\\n<td>CRM_DM</td>\\n<td>Kund_cv_segment</td>\\n<td>Customer segments created by the CVM-team</td>\\n<td>prod_master_customer_abt_cv_segment</td>\\n</tr>\\n', '<tr>\\n<td>CRM_DM</td>\\n<td>Kund_Ansökan</td>\\n<td>used as link between ansökan and customer</td>\\n<td>prod_master_customer_abt_ansokan_qual</td>\\n</tr>\\n', '<tr>\\n<td>CRM_DM</td>\\n<td>Ansökan_Blancolån_Statushistorik</td>\\n<td>used for identifying the blanco loan history</td>\\n<td>prod_master_customer_abt_ansokan_qual</td>\\n</tr>\\n', '<tr>\\n<td>CRM_DM</td>\\n<td>Ansökan_Blancolån</td>\\n<td>used for checking if there is an ongoing blanco application</td>\\n<td>prod_master_customer_abt_ansokan_qual</td>\\n</tr>\\n', '<tr>\\n<td>CRM_DM</td>\\n<td>Produktexemplar</td>\\n<td>prod_master_customer_abt_uppsagningar_info</td>\\n</tr>\\n', '<tr>\\n<td>CRM_DM</td>\\n<td>Produkt</td>\\n<td>prod_master_customer_abt_uppsagningar_info</td>\\n</tr>\\n', '<tr>\\n<td>CRM_DM</td>\\n<td>Produktexemplar_Historik</td>\\n<td>historical information about the products</td>\\n<td>prod_master_customer_abt_produktinfo</td>\\n</tr>\\n', '<tr>\\n<td>CRM_DM</td>\\n<td>Kund_Produktexemplar</td>\\n<td>used as link betweeen product and customer</td>\\n<td>prod_master_customer_abt_produktinfo</td>\\n</tr>\\n', '<tr>\\n<td>CRM_DM</td>\\n<td>Bilregisterdata</td>\\n<td>not too many customers has a match here, creates a lot of missing data for the model to handle</td>\\n<td>prod_master_customer_abt_bilkop_6m</td>\\n</tr>\\n', '<tr>\\n<td>CRM_DM</td>\\n<td>Kund_SvarCentrica</td>\\n<td>Very little information here as well.\\xa0</td>\\n<td>prod_master_customer_abt_centrica_reject_flag</td>\\n</tr>\\n', '<tr>\\n<td>CRM_DM</td>\\n<td>Kund_Hushåll</td>\\n<td>used as link between fastighetsdataExtended and customer data</td>\\n<td>prod_master_customer_abt_recency_fastighet_mod</td>\\n</tr>\\n', '<tr>\\n<td>CRM_DM</td>\\n<td>FastighetsdataExtended</td>\\n<td>need to check the keys.</td>\\n<td>prod_master_customer_abt_recency_fastighet_mod</td>\\n</tr>\\n', '<tr>\\n<td>ANA_MART</td>\\n<td>cop_flag_skotsel</td>\\n<td>Special table that Julia at DUIT has created for us since the \"skötsel\"-flags in the CRM_DMdatabase are not of proper quality (per March 2021). We are using this table as a workaround. It needs to be updated\\xa0manually by Julia each month.</td>\\n<td>prod_master_customer_abt_skotsel_flg</td>\\n</tr>\\n</tbody>\\n</table>\\n']\n",
      "['<p>Almost all data used for the model comes from the CRM_DM library connected from the SAS Server.</p>\\n<p>The models are built on monthly data and hence we use the Kund_historik_månadsvis as the \"master\" where a lot of customer attributes already exists (historical values as well)</p>\\n<table>\\n<thead>\\n', '<tr>\\n<th>Library</th>\\n<th>Table name</th>\\n<th>Comments</th>\\n<th>SAS Program\\xa0</th>\\n</tr>\\n</thead>\\n<tbody>\\n', '<tr>\\n<td>CRM_DM</td>\\n<td>Kund_Historik_Månadsvis</td>\\n<td>\"master\" table that is used as a starting point\\xa0</td>\\n<td>prod_master_customer_abt_grundtabell</td>\\n</tr>\\n', '<tr>\\n<td>CRM_DM</td>\\n<td>Kund_RFM_Scoring</td>\\n<td>an RFM calculation done in 2018 with hard coded values for the 5 groups therein. An assessment was done in 2021 Marchand the groups are still fairly stable, so the decision was made to keep the model as is. Room for improvement here though.\\xa0The RFM information can be found on T:\\\\Bank\\\\ICA Banken BI\\\\SAS\\\\SAS-information\\xa0 go to the OneNote called \"Åtgärder 2018\" and then to 30 Aprill\\xa0</td>\\n<td>prod_master_customer_abt_grundtabell</td>\\n</tr>\\n', '<tr>\\n<td>CRM_DM</td>\\n<td>Kund_cv_segment</td>\\n<td>Customer segments created by the CVM-team</td>\\n<td>prod_master_customer_abt_cv_segment</td>\\n</tr>\\n', '<tr>\\n<td>CRM_DM</td>\\n<td>Kund_Ansökan</td>\\n<td>used as link between ansökan and customer</td>\\n<td>prod_master_customer_abt_ansokan_qual</td>\\n</tr>\\n', '<tr>\\n<td>CRM_DM</td>\\n<td>Ansökan_Blancolån_Statushistorik</td>\\n<td>used for identifying the blanco loan history</td>\\n<td>prod_master_customer_abt_ansokan_qual</td>\\n</tr>\\n', '<tr>\\n<td>CRM_DM</td>\\n<td>Ansökan_Blancolån</td>\\n<td>used for checking if there is an ongoing blanco application</td>\\n<td>prod_master_customer_abt_ansokan_qual</td>\\n</tr>\\n', '<tr>\\n<td>CRM_DM</td>\\n<td>Produktexemplar</td>\\n<td>prod_master_customer_abt_uppsagningar_info</td>\\n</tr>\\n', '<tr>\\n<td>CRM_DM</td>\\n<td>Produkt</td>\\n<td>prod_master_customer_abt_uppsagningar_info</td>\\n</tr>\\n', '<tr>\\n<td>CRM_DM</td>\\n<td>Produktexemplar_Historik</td>\\n<td>historical information about the products</td>\\n<td>prod_master_customer_abt_produktinfo</td>\\n</tr>\\n', '<tr>\\n<td>CRM_DM</td>\\n<td>Kund_Produktexemplar</td>\\n<td>used as link betweeen product and customer</td>\\n<td>prod_master_customer_abt_produktinfo</td>\\n</tr>\\n', '<tr>\\n<td>CRM_DM</td>\\n<td>Bilregisterdata</td>\\n<td>not too many customers has a match here, creates a lot of missing data for the model to handle</td>\\n<td>prod_master_customer_abt_bilkop_6m</td>\\n</tr>\\n', '<tr>\\n<td>CRM_DM</td>\\n<td>Kund_SvarCentrica</td>\\n<td>Very little information here as well.\\xa0</td>\\n<td>prod_master_customer_abt_centrica_reject_flag</td>\\n</tr>\\n', '<tr>\\n<td>CRM_DM</td>\\n<td>Kund_Hushåll</td>\\n<td>used as link between fastighetsdataExtended and customer data</td>\\n<td>prod_master_customer_abt_recency_fastighet_mod</td>\\n</tr>\\n', '<tr>\\n<td>CRM_DM</td>\\n<td>FastighetsdataExtended</td>\\n<td>need to check the keys.</td>\\n<td>prod_master_customer_abt_recency_fastighet_mod</td>\\n</tr>\\n', '<tr>\\n<td>ANA_MART</td>\\n<td>cop_flag_skotsel</td>\\n<td>Special table that Julia at DUIT has created for us since the \"skötsel\"-flags in the CRM_DMdatabase are not of proper quality (per March 2021). We are using this table as a workaround. It needs to be updated\\xa0manually by Julia each month.</td>\\n<td>prod_master_customer_abt_skotsel_flg</td>\\n</tr>\\n</tbody>\\n</table>\\n']\n",
      "['<p>Almost all data used for the model comes from the CRM_DM library connected from the SAS Server.</p>\\n<p>The models are built on monthly data and hence we use the Kund_historik_månadsvis as the \"master\" where a lot of customer attributes already exists (historical values as well)</p>\\n<table>\\n<thead>\\n', '<tr>\\n<th>Library</th>\\n<th>Table name</th>\\n<th>Comments</th>\\n<th>SAS Program\\xa0</th>\\n</tr>\\n</thead>\\n<tbody>\\n', '<tr>\\n<td>CRM_DM</td>\\n<td>Kund_Historik_Månadsvis</td>\\n<td>\"master\" table that is used as a starting point\\xa0</td>\\n<td>prod_master_customer_abt_grundtabell</td>\\n</tr>\\n', '<tr>\\n<td>CRM_DM</td>\\n<td>Kund_RFM_Scoring</td>\\n<td>an RFM calculation done in 2018 with hard coded values for the 5 groups therein. An assessment was done in 2021 Marchand the groups are still fairly stable, so the decision was made to keep the model as is. Room for improvement here though.\\xa0The RFM information can be found on T:\\\\Bank\\\\ICA Banken BI\\\\SAS\\\\SAS-information\\xa0 go to the OneNote called \"Åtgärder 2018\" and then to 30 Aprill\\xa0</td>\\n<td>prod_master_customer_abt_grundtabell</td>\\n</tr>\\n', '<tr>\\n<td>CRM_DM</td>\\n<td>Kund_cv_segment</td>\\n<td>Customer segments created by the CVM-team</td>\\n<td>prod_master_customer_abt_cv_segment</td>\\n</tr>\\n', '<tr>\\n<td>CRM_DM</td>\\n<td>Kund_Ansökan</td>\\n<td>used as link between ansökan and customer</td>\\n<td>prod_master_customer_abt_ansokan_qual</td>\\n</tr>\\n', '<tr>\\n<td>CRM_DM</td>\\n<td>Ansökan_Blancolån_Statushistorik</td>\\n<td>used for identifying the blanco loan history</td>\\n<td>prod_master_customer_abt_ansokan_qual</td>\\n</tr>\\n', '<tr>\\n<td>CRM_DM</td>\\n<td>Ansökan_Blancolån</td>\\n<td>used for checking if there is an ongoing blanco application</td>\\n<td>prod_master_customer_abt_ansokan_qual</td>\\n</tr>\\n', '<tr>\\n<td>CRM_DM</td>\\n<td>Produktexemplar</td>\\n<td>prod_master_customer_abt_uppsagningar_info</td>\\n</tr>\\n', '<tr>\\n<td>CRM_DM</td>\\n<td>Produkt</td>\\n<td>prod_master_customer_abt_uppsagningar_info</td>\\n</tr>\\n', '<tr>\\n<td>CRM_DM</td>\\n<td>Produktexemplar_Historik</td>\\n<td>historical information about the products</td>\\n<td>prod_master_customer_abt_produktinfo</td>\\n</tr>\\n', '<tr>\\n<td>CRM_DM</td>\\n<td>Kund_Produktexemplar</td>\\n<td>used as link betweeen product and customer</td>\\n<td>prod_master_customer_abt_produktinfo</td>\\n</tr>\\n', '<tr>\\n<td>CRM_DM</td>\\n<td>Bilregisterdata</td>\\n<td>not too many customers has a match here, creates a lot of missing data for the model to handle</td>\\n<td>prod_master_customer_abt_bilkop_6m</td>\\n</tr>\\n', '<tr>\\n<td>CRM_DM</td>\\n<td>Kund_SvarCentrica</td>\\n<td>Very little information here as well.\\xa0</td>\\n<td>prod_master_customer_abt_centrica_reject_flag</td>\\n</tr>\\n', '<tr>\\n<td>CRM_DM</td>\\n<td>Kund_Hushåll</td>\\n<td>used as link between fastighetsdataExtended and customer data</td>\\n<td>prod_master_customer_abt_recency_fastighet_mod</td>\\n</tr>\\n', '<tr>\\n<td>CRM_DM</td>\\n<td>FastighetsdataExtended</td>\\n<td>need to check the keys.</td>\\n<td>prod_master_customer_abt_recency_fastighet_mod</td>\\n</tr>\\n', '<tr>\\n<td>ANA_MART</td>\\n<td>cop_flag_skotsel</td>\\n<td>Special table that Julia at DUIT has created for us since the \"skötsel\"-flags in the CRM_DMdatabase are not of proper quality (per March 2021). We are using this table as a workaround. It needs to be updated\\xa0manually by Julia each month.</td>\\n<td>prod_master_customer_abt_skotsel_flg</td>\\n</tr>\\n</tbody>\\n</table>\\n', '<h2>Special Cases</h2>\\n<ul>\\n<li>Kön information comes from crm_dm.kund (even though it is not historised)</li>\\n<li>The 13 product categories - Share Of Wallet. They are already existing in the Kund_Historik_Månadsvis. However those are only a 1/0 if the customer has any of the products in that category. What we are also interested is when was the last time the customer actually used the product. Are they \"active\" within each product category ? The definition of active is something that needs to be defined by the business/product owner. (read more in \"Improvements\" section).</li>\\n</ul>\\n<table>\\n<thead>\\n']\n",
      "['<p>Almost all data used for the model comes from the CRM_DM library connected from the SAS Server.</p>\\n<p>The models are built on monthly data and hence we use the Kund_historik_månadsvis as the \"master\" where a lot of customer attributes already exists (historical values as well)</p>\\n<table>\\n<thead>\\n', '<tr>\\n<th>Library</th>\\n<th>Table name</th>\\n<th>Comments</th>\\n<th>SAS Program\\xa0</th>\\n</tr>\\n</thead>\\n<tbody>\\n', '<tr>\\n<td>CRM_DM</td>\\n<td>Kund_Historik_Månadsvis</td>\\n<td>\"master\" table that is used as a starting point\\xa0</td>\\n<td>prod_master_customer_abt_grundtabell</td>\\n</tr>\\n', '<tr>\\n<td>CRM_DM</td>\\n<td>Kund_RFM_Scoring</td>\\n<td>an RFM calculation done in 2018 with hard coded values for the 5 groups therein. An assessment was done in 2021 Marchand the groups are still fairly stable, so the decision was made to keep the model as is. Room for improvement here though.\\xa0The RFM information can be found on T:\\\\Bank\\\\ICA Banken BI\\\\SAS\\\\SAS-information\\xa0 go to the OneNote called \"Åtgärder 2018\" and then to 30 Aprill\\xa0</td>\\n<td>prod_master_customer_abt_grundtabell</td>\\n</tr>\\n', '<tr>\\n<td>CRM_DM</td>\\n<td>Kund_cv_segment</td>\\n<td>Customer segments created by the CVM-team</td>\\n<td>prod_master_customer_abt_cv_segment</td>\\n</tr>\\n', '<tr>\\n<td>CRM_DM</td>\\n<td>Kund_Ansökan</td>\\n<td>used as link between ansökan and customer</td>\\n<td>prod_master_customer_abt_ansokan_qual</td>\\n</tr>\\n', '<tr>\\n<td>CRM_DM</td>\\n<td>Ansökan_Blancolån_Statushistorik</td>\\n<td>used for identifying the blanco loan history</td>\\n<td>prod_master_customer_abt_ansokan_qual</td>\\n</tr>\\n', '<tr>\\n<td>CRM_DM</td>\\n<td>Ansökan_Blancolån</td>\\n<td>used for checking if there is an ongoing blanco application</td>\\n<td>prod_master_customer_abt_ansokan_qual</td>\\n</tr>\\n', '<tr>\\n<td>CRM_DM</td>\\n<td>Produktexemplar</td>\\n<td>prod_master_customer_abt_uppsagningar_info</td>\\n</tr>\\n', '<tr>\\n<td>CRM_DM</td>\\n<td>Produkt</td>\\n<td>prod_master_customer_abt_uppsagningar_info</td>\\n</tr>\\n', '<tr>\\n<td>CRM_DM</td>\\n<td>Produktexemplar_Historik</td>\\n<td>historical information about the products</td>\\n<td>prod_master_customer_abt_produktinfo</td>\\n</tr>\\n', '<tr>\\n<td>CRM_DM</td>\\n<td>Kund_Produktexemplar</td>\\n<td>used as link betweeen product and customer</td>\\n<td>prod_master_customer_abt_produktinfo</td>\\n</tr>\\n', '<tr>\\n<td>CRM_DM</td>\\n<td>Bilregisterdata</td>\\n<td>not too many customers has a match here, creates a lot of missing data for the model to handle</td>\\n<td>prod_master_customer_abt_bilkop_6m</td>\\n</tr>\\n', '<tr>\\n<td>CRM_DM</td>\\n<td>Kund_SvarCentrica</td>\\n<td>Very little information here as well.\\xa0</td>\\n<td>prod_master_customer_abt_centrica_reject_flag</td>\\n</tr>\\n', '<tr>\\n<td>CRM_DM</td>\\n<td>Kund_Hushåll</td>\\n<td>used as link between fastighetsdataExtended and customer data</td>\\n<td>prod_master_customer_abt_recency_fastighet_mod</td>\\n</tr>\\n', '<tr>\\n<td>CRM_DM</td>\\n<td>FastighetsdataExtended</td>\\n<td>need to check the keys.</td>\\n<td>prod_master_customer_abt_recency_fastighet_mod</td>\\n</tr>\\n', '<tr>\\n<td>ANA_MART</td>\\n<td>cop_flag_skotsel</td>\\n<td>Special table that Julia at DUIT has created for us since the \"skötsel\"-flags in the CRM_DMdatabase are not of proper quality (per March 2021). We are using this table as a workaround. It needs to be updated\\xa0manually by Julia each month.</td>\\n<td>prod_master_customer_abt_skotsel_flg</td>\\n</tr>\\n</tbody>\\n</table>\\n', '<h2>Special Cases</h2>\\n<ul>\\n<li>Kön information comes from crm_dm.kund (even though it is not historised)</li>\\n<li>The 13 product categories - Share Of Wallet. They are already existing in the Kund_Historik_Månadsvis. However those are only a 1/0 if the customer has any of the products in that category. What we are also interested is when was the last time the customer actually used the product. Are they \"active\" within each product category ? The definition of active is something that needs to be defined by the business/product owner. (read more in \"Improvements\" section).</li>\\n</ul>\\n<table>\\n<thead>\\n']\n",
      "['<p>Almost all data used for the model comes from the CRM_DM library connected from the SAS Server.</p>\\n<p>The models are built on monthly data and hence we use the Kund_historik_månadsvis as the \"master\" where a lot of customer attributes already exists (historical values as well)</p>\\n<table>\\n<thead>\\n', '<tr>\\n<th>Library</th>\\n<th>Table name</th>\\n<th>Comments</th>\\n<th>SAS Program\\xa0</th>\\n</tr>\\n</thead>\\n<tbody>\\n', '<tr>\\n<td>CRM_DM</td>\\n<td>Kund_Historik_Månadsvis</td>\\n<td>\"master\" table that is used as a starting point\\xa0</td>\\n<td>prod_master_customer_abt_grundtabell</td>\\n</tr>\\n', '<tr>\\n<td>CRM_DM</td>\\n<td>Kund_RFM_Scoring</td>\\n<td>an RFM calculation done in 2018 with hard coded values for the 5 groups therein. An assessment was done in 2021 Marchand the groups are still fairly stable, so the decision was made to keep the model as is. Room for improvement here though.\\xa0The RFM information can be found on T:\\\\Bank\\\\ICA Banken BI\\\\SAS\\\\SAS-information\\xa0 go to the OneNote called \"Åtgärder 2018\" and then to 30 Aprill\\xa0</td>\\n<td>prod_master_customer_abt_grundtabell</td>\\n</tr>\\n', '<tr>\\n<td>CRM_DM</td>\\n<td>Kund_cv_segment</td>\\n<td>Customer segments created by the CVM-team</td>\\n<td>prod_master_customer_abt_cv_segment</td>\\n</tr>\\n', '<tr>\\n<td>CRM_DM</td>\\n<td>Kund_Ansökan</td>\\n<td>used as link between ansökan and customer</td>\\n<td>prod_master_customer_abt_ansokan_qual</td>\\n</tr>\\n', '<tr>\\n<td>CRM_DM</td>\\n<td>Ansökan_Blancolån_Statushistorik</td>\\n<td>used for identifying the blanco loan history</td>\\n<td>prod_master_customer_abt_ansokan_qual</td>\\n</tr>\\n', '<tr>\\n<td>CRM_DM</td>\\n<td>Ansökan_Blancolån</td>\\n<td>used for checking if there is an ongoing blanco application</td>\\n<td>prod_master_customer_abt_ansokan_qual</td>\\n</tr>\\n', '<tr>\\n<td>CRM_DM</td>\\n<td>Produktexemplar</td>\\n<td>prod_master_customer_abt_uppsagningar_info</td>\\n</tr>\\n', '<tr>\\n<td>CRM_DM</td>\\n<td>Produkt</td>\\n<td>prod_master_customer_abt_uppsagningar_info</td>\\n</tr>\\n', '<tr>\\n<td>CRM_DM</td>\\n<td>Produktexemplar_Historik</td>\\n<td>historical information about the products</td>\\n<td>prod_master_customer_abt_produktinfo</td>\\n</tr>\\n', '<tr>\\n<td>CRM_DM</td>\\n<td>Kund_Produktexemplar</td>\\n<td>used as link betweeen product and customer</td>\\n<td>prod_master_customer_abt_produktinfo</td>\\n</tr>\\n', '<tr>\\n<td>CRM_DM</td>\\n<td>Bilregisterdata</td>\\n<td>not too many customers has a match here, creates a lot of missing data for the model to handle</td>\\n<td>prod_master_customer_abt_bilkop_6m</td>\\n</tr>\\n', '<tr>\\n<td>CRM_DM</td>\\n<td>Kund_SvarCentrica</td>\\n<td>Very little information here as well.\\xa0</td>\\n<td>prod_master_customer_abt_centrica_reject_flag</td>\\n</tr>\\n', '<tr>\\n<td>CRM_DM</td>\\n<td>Kund_Hushåll</td>\\n<td>used as link between fastighetsdataExtended and customer data</td>\\n<td>prod_master_customer_abt_recency_fastighet_mod</td>\\n</tr>\\n', '<tr>\\n<td>CRM_DM</td>\\n<td>FastighetsdataExtended</td>\\n<td>need to check the keys.</td>\\n<td>prod_master_customer_abt_recency_fastighet_mod</td>\\n</tr>\\n', '<tr>\\n<td>ANA_MART</td>\\n<td>cop_flag_skotsel</td>\\n<td>Special table that Julia at DUIT has created for us since the \"skötsel\"-flags in the CRM_DMdatabase are not of proper quality (per March 2021). We are using this table as a workaround. It needs to be updated\\xa0manually by Julia each month.</td>\\n<td>prod_master_customer_abt_skotsel_flg</td>\\n</tr>\\n</tbody>\\n</table>\\n', '<h2>Special Cases</h2>\\n<ul>\\n<li>Kön information comes from crm_dm.kund (even though it is not historised)</li>\\n<li>The 13 product categories - Share Of Wallet. They are already existing in the Kund_Historik_Månadsvis. However those are only a 1/0 if the customer has any of the products in that category. What we are also interested is when was the last time the customer actually used the product. Are they \"active\" within each product category ? The definition of active is something that needs to be defined by the business/product owner. (read more in \"Improvements\" section).</li>\\n</ul>\\n<table>\\n<thead>\\n']\n",
      "['<p>Almost all data used for the model comes from the CRM_DM library connected from the SAS Server.</p>\\n<p>The models are built on monthly data and hence we use the Kund_historik_månadsvis as the \"master\" where a lot of customer attributes already exists (historical values as well)</p>\\n<table>\\n<thead>\\n', '<tr>\\n<th>Library</th>\\n<th>Table name</th>\\n<th>Comments</th>\\n<th>SAS Program\\xa0</th>\\n</tr>\\n</thead>\\n<tbody>\\n', '<tr>\\n<td>CRM_DM</td>\\n<td>Kund_Historik_Månadsvis</td>\\n<td>\"master\" table that is used as a starting point\\xa0</td>\\n<td>prod_master_customer_abt_grundtabell</td>\\n</tr>\\n', '<tr>\\n<td>CRM_DM</td>\\n<td>Kund_RFM_Scoring</td>\\n<td>an RFM calculation done in 2018 with hard coded values for the 5 groups therein. An assessment was done in 2021 Marchand the groups are still fairly stable, so the decision was made to keep the model as is. Room for improvement here though.\\xa0The RFM information can be found on T:\\\\Bank\\\\ICA Banken BI\\\\SAS\\\\SAS-information\\xa0 go to the OneNote called \"Åtgärder 2018\" and then to 30 Aprill\\xa0</td>\\n<td>prod_master_customer_abt_grundtabell</td>\\n</tr>\\n', '<tr>\\n<td>CRM_DM</td>\\n<td>Kund_cv_segment</td>\\n<td>Customer segments created by the CVM-team</td>\\n<td>prod_master_customer_abt_cv_segment</td>\\n</tr>\\n', '<tr>\\n<td>CRM_DM</td>\\n<td>Kund_Ansökan</td>\\n<td>used as link between ansökan and customer</td>\\n<td>prod_master_customer_abt_ansokan_qual</td>\\n</tr>\\n', '<tr>\\n<td>CRM_DM</td>\\n<td>Ansökan_Blancolån_Statushistorik</td>\\n<td>used for identifying the blanco loan history</td>\\n<td>prod_master_customer_abt_ansokan_qual</td>\\n</tr>\\n', '<tr>\\n<td>CRM_DM</td>\\n<td>Ansökan_Blancolån</td>\\n<td>used for checking if there is an ongoing blanco application</td>\\n<td>prod_master_customer_abt_ansokan_qual</td>\\n</tr>\\n', '<tr>\\n<td>CRM_DM</td>\\n<td>Produktexemplar</td>\\n<td>prod_master_customer_abt_uppsagningar_info</td>\\n</tr>\\n', '<tr>\\n<td>CRM_DM</td>\\n<td>Produkt</td>\\n<td>prod_master_customer_abt_uppsagningar_info</td>\\n</tr>\\n', '<tr>\\n<td>CRM_DM</td>\\n<td>Produktexemplar_Historik</td>\\n<td>historical information about the products</td>\\n<td>prod_master_customer_abt_produktinfo</td>\\n</tr>\\n', '<tr>\\n<td>CRM_DM</td>\\n<td>Kund_Produktexemplar</td>\\n<td>used as link betweeen product and customer</td>\\n<td>prod_master_customer_abt_produktinfo</td>\\n</tr>\\n', '<tr>\\n<td>CRM_DM</td>\\n<td>Bilregisterdata</td>\\n<td>not too many customers has a match here, creates a lot of missing data for the model to handle</td>\\n<td>prod_master_customer_abt_bilkop_6m</td>\\n</tr>\\n', '<tr>\\n<td>CRM_DM</td>\\n<td>Kund_SvarCentrica</td>\\n<td>Very little information here as well.\\xa0</td>\\n<td>prod_master_customer_abt_centrica_reject_flag</td>\\n</tr>\\n', '<tr>\\n<td>CRM_DM</td>\\n<td>Kund_Hushåll</td>\\n<td>used as link between fastighetsdataExtended and customer data</td>\\n<td>prod_master_customer_abt_recency_fastighet_mod</td>\\n</tr>\\n', '<tr>\\n<td>CRM_DM</td>\\n<td>FastighetsdataExtended</td>\\n<td>need to check the keys.</td>\\n<td>prod_master_customer_abt_recency_fastighet_mod</td>\\n</tr>\\n', '<tr>\\n<td>ANA_MART</td>\\n<td>cop_flag_skotsel</td>\\n<td>Special table that Julia at DUIT has created for us since the \"skötsel\"-flags in the CRM_DMdatabase are not of proper quality (per March 2021). We are using this table as a workaround. It needs to be updated\\xa0manually by Julia each month.</td>\\n<td>prod_master_customer_abt_skotsel_flg</td>\\n</tr>\\n</tbody>\\n</table>\\n', '<h2>Special Cases</h2>\\n<ul>\\n<li>Kön information comes from crm_dm.kund (even though it is not historised)</li>\\n<li>The 13 product categories - Share Of Wallet. They are already existing in the Kund_Historik_Månadsvis. However those are only a 1/0 if the customer has any of the products in that category. What we are also interested is when was the last time the customer actually used the product. Are they \"active\" within each product category ? The definition of active is something that needs to be defined by the business/product owner. (read more in \"Improvements\" section).</li>\\n</ul>\\n<table>\\n<thead>\\n', '<tr>\\n<th>Product Category</th>\\n<th>Definition of Recent</th>\\n<th>SAS Program</th>\\n<th>Improvement Suggestion</th>\\n</tr>\\n</thead>\\n<tbody>\\n']\n",
      "['<p>Almost all data used for the model comes from the CRM_DM library connected from the SAS Server.</p>\\n<p>The models are built on monthly data and hence we use the Kund_historik_månadsvis as the \"master\" where a lot of customer attributes already exists (historical values as well)</p>\\n<table>\\n<thead>\\n', '<tr>\\n<th>Library</th>\\n<th>Table name</th>\\n<th>Comments</th>\\n<th>SAS Program\\xa0</th>\\n</tr>\\n</thead>\\n<tbody>\\n', '<tr>\\n<td>CRM_DM</td>\\n<td>Kund_Historik_Månadsvis</td>\\n<td>\"master\" table that is used as a starting point\\xa0</td>\\n<td>prod_master_customer_abt_grundtabell</td>\\n</tr>\\n', '<tr>\\n<td>CRM_DM</td>\\n<td>Kund_RFM_Scoring</td>\\n<td>an RFM calculation done in 2018 with hard coded values for the 5 groups therein. An assessment was done in 2021 Marchand the groups are still fairly stable, so the decision was made to keep the model as is. Room for improvement here though.\\xa0The RFM information can be found on T:\\\\Bank\\\\ICA Banken BI\\\\SAS\\\\SAS-information\\xa0 go to the OneNote called \"Åtgärder 2018\" and then to 30 Aprill\\xa0</td>\\n<td>prod_master_customer_abt_grundtabell</td>\\n</tr>\\n', '<tr>\\n<td>CRM_DM</td>\\n<td>Kund_cv_segment</td>\\n<td>Customer segments created by the CVM-team</td>\\n<td>prod_master_customer_abt_cv_segment</td>\\n</tr>\\n', '<tr>\\n<td>CRM_DM</td>\\n<td>Kund_Ansökan</td>\\n<td>used as link between ansökan and customer</td>\\n<td>prod_master_customer_abt_ansokan_qual</td>\\n</tr>\\n', '<tr>\\n<td>CRM_DM</td>\\n<td>Ansökan_Blancolån_Statushistorik</td>\\n<td>used for identifying the blanco loan history</td>\\n<td>prod_master_customer_abt_ansokan_qual</td>\\n</tr>\\n', '<tr>\\n<td>CRM_DM</td>\\n<td>Ansökan_Blancolån</td>\\n<td>used for checking if there is an ongoing blanco application</td>\\n<td>prod_master_customer_abt_ansokan_qual</td>\\n</tr>\\n', '<tr>\\n<td>CRM_DM</td>\\n<td>Produktexemplar</td>\\n<td>prod_master_customer_abt_uppsagningar_info</td>\\n</tr>\\n', '<tr>\\n<td>CRM_DM</td>\\n<td>Produkt</td>\\n<td>prod_master_customer_abt_uppsagningar_info</td>\\n</tr>\\n', '<tr>\\n<td>CRM_DM</td>\\n<td>Produktexemplar_Historik</td>\\n<td>historical information about the products</td>\\n<td>prod_master_customer_abt_produktinfo</td>\\n</tr>\\n', '<tr>\\n<td>CRM_DM</td>\\n<td>Kund_Produktexemplar</td>\\n<td>used as link betweeen product and customer</td>\\n<td>prod_master_customer_abt_produktinfo</td>\\n</tr>\\n', '<tr>\\n<td>CRM_DM</td>\\n<td>Bilregisterdata</td>\\n<td>not too many customers has a match here, creates a lot of missing data for the model to handle</td>\\n<td>prod_master_customer_abt_bilkop_6m</td>\\n</tr>\\n', '<tr>\\n<td>CRM_DM</td>\\n<td>Kund_SvarCentrica</td>\\n<td>Very little information here as well.\\xa0</td>\\n<td>prod_master_customer_abt_centrica_reject_flag</td>\\n</tr>\\n', '<tr>\\n<td>CRM_DM</td>\\n<td>Kund_Hushåll</td>\\n<td>used as link between fastighetsdataExtended and customer data</td>\\n<td>prod_master_customer_abt_recency_fastighet_mod</td>\\n</tr>\\n', '<tr>\\n<td>CRM_DM</td>\\n<td>FastighetsdataExtended</td>\\n<td>need to check the keys.</td>\\n<td>prod_master_customer_abt_recency_fastighet_mod</td>\\n</tr>\\n', '<tr>\\n<td>ANA_MART</td>\\n<td>cop_flag_skotsel</td>\\n<td>Special table that Julia at DUIT has created for us since the \"skötsel\"-flags in the CRM_DMdatabase are not of proper quality (per March 2021). We are using this table as a workaround. It needs to be updated\\xa0manually by Julia each month.</td>\\n<td>prod_master_customer_abt_skotsel_flg</td>\\n</tr>\\n</tbody>\\n</table>\\n', '<h2>Special Cases</h2>\\n<ul>\\n<li>Kön information comes from crm_dm.kund (even though it is not historised)</li>\\n<li>The 13 product categories - Share Of Wallet. They are already existing in the Kund_Historik_Månadsvis. However those are only a 1/0 if the customer has any of the products in that category. What we are also interested is when was the last time the customer actually used the product. Are they \"active\" within each product category ? The definition of active is something that needs to be defined by the business/product owner. (read more in \"Improvements\" section).</li>\\n</ul>\\n<table>\\n<thead>\\n', '<tr>\\n<th>Product Category</th>\\n<th>Definition of Recent</th>\\n<th>SAS Program</th>\\n<th>Improvement Suggestion</th>\\n</tr>\\n</thead>\\n<tbody>\\n', '<tr>\\n<td>Försäkring (general)</td>\\n<td>days since last created försärking</td>\\n<td>prod_master_customer_abt_recency_fastighet_mod</td>\\n<td>split it up into each actual Försäkring Product Category</td>\\n</tr>\\n']\n",
      "['<p>Almost all data used for the model comes from the CRM_DM library connected from the SAS Server.</p>\\n<p>The models are built on monthly data and hence we use the Kund_historik_månadsvis as the \"master\" where a lot of customer attributes already exists (historical values as well)</p>\\n<table>\\n<thead>\\n', '<tr>\\n<th>Library</th>\\n<th>Table name</th>\\n<th>Comments</th>\\n<th>SAS Program\\xa0</th>\\n</tr>\\n</thead>\\n<tbody>\\n', '<tr>\\n<td>CRM_DM</td>\\n<td>Kund_Historik_Månadsvis</td>\\n<td>\"master\" table that is used as a starting point\\xa0</td>\\n<td>prod_master_customer_abt_grundtabell</td>\\n</tr>\\n', '<tr>\\n<td>CRM_DM</td>\\n<td>Kund_RFM_Scoring</td>\\n<td>an RFM calculation done in 2018 with hard coded values for the 5 groups therein. An assessment was done in 2021 Marchand the groups are still fairly stable, so the decision was made to keep the model as is. Room for improvement here though.\\xa0The RFM information can be found on T:\\\\Bank\\\\ICA Banken BI\\\\SAS\\\\SAS-information\\xa0 go to the OneNote called \"Åtgärder 2018\" and then to 30 Aprill\\xa0</td>\\n<td>prod_master_customer_abt_grundtabell</td>\\n</tr>\\n', '<tr>\\n<td>CRM_DM</td>\\n<td>Kund_cv_segment</td>\\n<td>Customer segments created by the CVM-team</td>\\n<td>prod_master_customer_abt_cv_segment</td>\\n</tr>\\n', '<tr>\\n<td>CRM_DM</td>\\n<td>Kund_Ansökan</td>\\n<td>used as link between ansökan and customer</td>\\n<td>prod_master_customer_abt_ansokan_qual</td>\\n</tr>\\n', '<tr>\\n<td>CRM_DM</td>\\n<td>Ansökan_Blancolån_Statushistorik</td>\\n<td>used for identifying the blanco loan history</td>\\n<td>prod_master_customer_abt_ansokan_qual</td>\\n</tr>\\n', '<tr>\\n<td>CRM_DM</td>\\n<td>Ansökan_Blancolån</td>\\n<td>used for checking if there is an ongoing blanco application</td>\\n<td>prod_master_customer_abt_ansokan_qual</td>\\n</tr>\\n', '<tr>\\n<td>CRM_DM</td>\\n<td>Produktexemplar</td>\\n<td>prod_master_customer_abt_uppsagningar_info</td>\\n</tr>\\n', '<tr>\\n<td>CRM_DM</td>\\n<td>Produkt</td>\\n<td>prod_master_customer_abt_uppsagningar_info</td>\\n</tr>\\n', '<tr>\\n<td>CRM_DM</td>\\n<td>Produktexemplar_Historik</td>\\n<td>historical information about the products</td>\\n<td>prod_master_customer_abt_produktinfo</td>\\n</tr>\\n', '<tr>\\n<td>CRM_DM</td>\\n<td>Kund_Produktexemplar</td>\\n<td>used as link betweeen product and customer</td>\\n<td>prod_master_customer_abt_produktinfo</td>\\n</tr>\\n', '<tr>\\n<td>CRM_DM</td>\\n<td>Bilregisterdata</td>\\n<td>not too many customers has a match here, creates a lot of missing data for the model to handle</td>\\n<td>prod_master_customer_abt_bilkop_6m</td>\\n</tr>\\n', '<tr>\\n<td>CRM_DM</td>\\n<td>Kund_SvarCentrica</td>\\n<td>Very little information here as well.\\xa0</td>\\n<td>prod_master_customer_abt_centrica_reject_flag</td>\\n</tr>\\n', '<tr>\\n<td>CRM_DM</td>\\n<td>Kund_Hushåll</td>\\n<td>used as link between fastighetsdataExtended and customer data</td>\\n<td>prod_master_customer_abt_recency_fastighet_mod</td>\\n</tr>\\n', '<tr>\\n<td>CRM_DM</td>\\n<td>FastighetsdataExtended</td>\\n<td>need to check the keys.</td>\\n<td>prod_master_customer_abt_recency_fastighet_mod</td>\\n</tr>\\n', '<tr>\\n<td>ANA_MART</td>\\n<td>cop_flag_skotsel</td>\\n<td>Special table that Julia at DUIT has created for us since the \"skötsel\"-flags in the CRM_DMdatabase are not of proper quality (per March 2021). We are using this table as a workaround. It needs to be updated\\xa0manually by Julia each month.</td>\\n<td>prod_master_customer_abt_skotsel_flg</td>\\n</tr>\\n</tbody>\\n</table>\\n', '<h2>Special Cases</h2>\\n<ul>\\n<li>Kön information comes from crm_dm.kund (even though it is not historised)</li>\\n<li>The 13 product categories - Share Of Wallet. They are already existing in the Kund_Historik_Månadsvis. However those are only a 1/0 if the customer has any of the products in that category. What we are also interested is when was the last time the customer actually used the product. Are they \"active\" within each product category ? The definition of active is something that needs to be defined by the business/product owner. (read more in \"Improvements\" section).</li>\\n</ul>\\n<table>\\n<thead>\\n', '<tr>\\n<th>Product Category</th>\\n<th>Definition of Recent</th>\\n<th>SAS Program</th>\\n<th>Improvement Suggestion</th>\\n</tr>\\n</thead>\\n<tbody>\\n', '<tr>\\n<td>Försäkring (general)</td>\\n<td>days since last created försärking</td>\\n<td>prod_master_customer_abt_recency_fastighet_mod</td>\\n<td>split it up into each actual Försäkring Product Category</td>\\n</tr>\\n', '<tr>\\n<td>Fond</td>\\n<td>days since last created fond-product</td>\\n<td>prod_master_customer_abt_recency_fastighet_mod</td>\\n</tr>\\n']\n",
      "['<p>Almost all data used for the model comes from the CRM_DM library connected from the SAS Server.</p>\\n<p>The models are built on monthly data and hence we use the Kund_historik_månadsvis as the \"master\" where a lot of customer attributes already exists (historical values as well)</p>\\n<table>\\n<thead>\\n', '<tr>\\n<th>Library</th>\\n<th>Table name</th>\\n<th>Comments</th>\\n<th>SAS Program\\xa0</th>\\n</tr>\\n</thead>\\n<tbody>\\n', '<tr>\\n<td>CRM_DM</td>\\n<td>Kund_Historik_Månadsvis</td>\\n<td>\"master\" table that is used as a starting point\\xa0</td>\\n<td>prod_master_customer_abt_grundtabell</td>\\n</tr>\\n', '<tr>\\n<td>CRM_DM</td>\\n<td>Kund_RFM_Scoring</td>\\n<td>an RFM calculation done in 2018 with hard coded values for the 5 groups therein. An assessment was done in 2021 Marchand the groups are still fairly stable, so the decision was made to keep the model as is. Room for improvement here though.\\xa0The RFM information can be found on T:\\\\Bank\\\\ICA Banken BI\\\\SAS\\\\SAS-information\\xa0 go to the OneNote called \"Åtgärder 2018\" and then to 30 Aprill\\xa0</td>\\n<td>prod_master_customer_abt_grundtabell</td>\\n</tr>\\n', '<tr>\\n<td>CRM_DM</td>\\n<td>Kund_cv_segment</td>\\n<td>Customer segments created by the CVM-team</td>\\n<td>prod_master_customer_abt_cv_segment</td>\\n</tr>\\n', '<tr>\\n<td>CRM_DM</td>\\n<td>Kund_Ansökan</td>\\n<td>used as link between ansökan and customer</td>\\n<td>prod_master_customer_abt_ansokan_qual</td>\\n</tr>\\n', '<tr>\\n<td>CRM_DM</td>\\n<td>Ansökan_Blancolån_Statushistorik</td>\\n<td>used for identifying the blanco loan history</td>\\n<td>prod_master_customer_abt_ansokan_qual</td>\\n</tr>\\n', '<tr>\\n<td>CRM_DM</td>\\n<td>Ansökan_Blancolån</td>\\n<td>used for checking if there is an ongoing blanco application</td>\\n<td>prod_master_customer_abt_ansokan_qual</td>\\n</tr>\\n', '<tr>\\n<td>CRM_DM</td>\\n<td>Produktexemplar</td>\\n<td>prod_master_customer_abt_uppsagningar_info</td>\\n</tr>\\n', '<tr>\\n<td>CRM_DM</td>\\n<td>Produkt</td>\\n<td>prod_master_customer_abt_uppsagningar_info</td>\\n</tr>\\n', '<tr>\\n<td>CRM_DM</td>\\n<td>Produktexemplar_Historik</td>\\n<td>historical information about the products</td>\\n<td>prod_master_customer_abt_produktinfo</td>\\n</tr>\\n', '<tr>\\n<td>CRM_DM</td>\\n<td>Kund_Produktexemplar</td>\\n<td>used as link betweeen product and customer</td>\\n<td>prod_master_customer_abt_produktinfo</td>\\n</tr>\\n', '<tr>\\n<td>CRM_DM</td>\\n<td>Bilregisterdata</td>\\n<td>not too many customers has a match here, creates a lot of missing data for the model to handle</td>\\n<td>prod_master_customer_abt_bilkop_6m</td>\\n</tr>\\n', '<tr>\\n<td>CRM_DM</td>\\n<td>Kund_SvarCentrica</td>\\n<td>Very little information here as well.\\xa0</td>\\n<td>prod_master_customer_abt_centrica_reject_flag</td>\\n</tr>\\n', '<tr>\\n<td>CRM_DM</td>\\n<td>Kund_Hushåll</td>\\n<td>used as link between fastighetsdataExtended and customer data</td>\\n<td>prod_master_customer_abt_recency_fastighet_mod</td>\\n</tr>\\n', '<tr>\\n<td>CRM_DM</td>\\n<td>FastighetsdataExtended</td>\\n<td>need to check the keys.</td>\\n<td>prod_master_customer_abt_recency_fastighet_mod</td>\\n</tr>\\n', '<tr>\\n<td>ANA_MART</td>\\n<td>cop_flag_skotsel</td>\\n<td>Special table that Julia at DUIT has created for us since the \"skötsel\"-flags in the CRM_DMdatabase are not of proper quality (per March 2021). We are using this table as a workaround. It needs to be updated\\xa0manually by Julia each month.</td>\\n<td>prod_master_customer_abt_skotsel_flg</td>\\n</tr>\\n</tbody>\\n</table>\\n', '<h2>Special Cases</h2>\\n<ul>\\n<li>Kön information comes from crm_dm.kund (even though it is not historised)</li>\\n<li>The 13 product categories - Share Of Wallet. They are already existing in the Kund_Historik_Månadsvis. However those are only a 1/0 if the customer has any of the products in that category. What we are also interested is when was the last time the customer actually used the product. Are they \"active\" within each product category ? The definition of active is something that needs to be defined by the business/product owner. (read more in \"Improvements\" section).</li>\\n</ul>\\n<table>\\n<thead>\\n', '<tr>\\n<th>Product Category</th>\\n<th>Definition of Recent</th>\\n<th>SAS Program</th>\\n<th>Improvement Suggestion</th>\\n</tr>\\n</thead>\\n<tbody>\\n', '<tr>\\n<td>Försäkring (general)</td>\\n<td>days since last created försärking</td>\\n<td>prod_master_customer_abt_recency_fastighet_mod</td>\\n<td>split it up into each actual Försäkring Product Category</td>\\n</tr>\\n', '<tr>\\n<td>Fond</td>\\n<td>days since last created fond-product</td>\\n<td>prod_master_customer_abt_recency_fastighet_mod</td>\\n</tr>\\n', '<tr>\\n<td>Sparkonto</td>\\n<td>days since last created Sparkonto-product</td>\\n<td>prod_master_customer_abt_recency_fastighet_mod</td>\\n</tr>\\n']\n",
      "['<p>Almost all data used for the model comes from the CRM_DM library connected from the SAS Server.</p>\\n<p>The models are built on monthly data and hence we use the Kund_historik_månadsvis as the \"master\" where a lot of customer attributes already exists (historical values as well)</p>\\n<table>\\n<thead>\\n', '<tr>\\n<th>Library</th>\\n<th>Table name</th>\\n<th>Comments</th>\\n<th>SAS Program\\xa0</th>\\n</tr>\\n</thead>\\n<tbody>\\n', '<tr>\\n<td>CRM_DM</td>\\n<td>Kund_Historik_Månadsvis</td>\\n<td>\"master\" table that is used as a starting point\\xa0</td>\\n<td>prod_master_customer_abt_grundtabell</td>\\n</tr>\\n', '<tr>\\n<td>CRM_DM</td>\\n<td>Kund_RFM_Scoring</td>\\n<td>an RFM calculation done in 2018 with hard coded values for the 5 groups therein. An assessment was done in 2021 Marchand the groups are still fairly stable, so the decision was made to keep the model as is. Room for improvement here though.\\xa0The RFM information can be found on T:\\\\Bank\\\\ICA Banken BI\\\\SAS\\\\SAS-information\\xa0 go to the OneNote called \"Åtgärder 2018\" and then to 30 Aprill\\xa0</td>\\n<td>prod_master_customer_abt_grundtabell</td>\\n</tr>\\n', '<tr>\\n<td>CRM_DM</td>\\n<td>Kund_cv_segment</td>\\n<td>Customer segments created by the CVM-team</td>\\n<td>prod_master_customer_abt_cv_segment</td>\\n</tr>\\n', '<tr>\\n<td>CRM_DM</td>\\n<td>Kund_Ansökan</td>\\n<td>used as link between ansökan and customer</td>\\n<td>prod_master_customer_abt_ansokan_qual</td>\\n</tr>\\n', '<tr>\\n<td>CRM_DM</td>\\n<td>Ansökan_Blancolån_Statushistorik</td>\\n<td>used for identifying the blanco loan history</td>\\n<td>prod_master_customer_abt_ansokan_qual</td>\\n</tr>\\n', '<tr>\\n<td>CRM_DM</td>\\n<td>Ansökan_Blancolån</td>\\n<td>used for checking if there is an ongoing blanco application</td>\\n<td>prod_master_customer_abt_ansokan_qual</td>\\n</tr>\\n', '<tr>\\n<td>CRM_DM</td>\\n<td>Produktexemplar</td>\\n<td>prod_master_customer_abt_uppsagningar_info</td>\\n</tr>\\n', '<tr>\\n<td>CRM_DM</td>\\n<td>Produkt</td>\\n<td>prod_master_customer_abt_uppsagningar_info</td>\\n</tr>\\n', '<tr>\\n<td>CRM_DM</td>\\n<td>Produktexemplar_Historik</td>\\n<td>historical information about the products</td>\\n<td>prod_master_customer_abt_produktinfo</td>\\n</tr>\\n', '<tr>\\n<td>CRM_DM</td>\\n<td>Kund_Produktexemplar</td>\\n<td>used as link betweeen product and customer</td>\\n<td>prod_master_customer_abt_produktinfo</td>\\n</tr>\\n', '<tr>\\n<td>CRM_DM</td>\\n<td>Bilregisterdata</td>\\n<td>not too many customers has a match here, creates a lot of missing data for the model to handle</td>\\n<td>prod_master_customer_abt_bilkop_6m</td>\\n</tr>\\n', '<tr>\\n<td>CRM_DM</td>\\n<td>Kund_SvarCentrica</td>\\n<td>Very little information here as well.\\xa0</td>\\n<td>prod_master_customer_abt_centrica_reject_flag</td>\\n</tr>\\n', '<tr>\\n<td>CRM_DM</td>\\n<td>Kund_Hushåll</td>\\n<td>used as link between fastighetsdataExtended and customer data</td>\\n<td>prod_master_customer_abt_recency_fastighet_mod</td>\\n</tr>\\n', '<tr>\\n<td>CRM_DM</td>\\n<td>FastighetsdataExtended</td>\\n<td>need to check the keys.</td>\\n<td>prod_master_customer_abt_recency_fastighet_mod</td>\\n</tr>\\n', '<tr>\\n<td>ANA_MART</td>\\n<td>cop_flag_skotsel</td>\\n<td>Special table that Julia at DUIT has created for us since the \"skötsel\"-flags in the CRM_DMdatabase are not of proper quality (per March 2021). We are using this table as a workaround. It needs to be updated\\xa0manually by Julia each month.</td>\\n<td>prod_master_customer_abt_skotsel_flg</td>\\n</tr>\\n</tbody>\\n</table>\\n', '<h2>Special Cases</h2>\\n<ul>\\n<li>Kön information comes from crm_dm.kund (even though it is not historised)</li>\\n<li>The 13 product categories - Share Of Wallet. They are already existing in the Kund_Historik_Månadsvis. However those are only a 1/0 if the customer has any of the products in that category. What we are also interested is when was the last time the customer actually used the product. Are they \"active\" within each product category ? The definition of active is something that needs to be defined by the business/product owner. (read more in \"Improvements\" section).</li>\\n</ul>\\n<table>\\n<thead>\\n', '<tr>\\n<th>Product Category</th>\\n<th>Definition of Recent</th>\\n<th>SAS Program</th>\\n<th>Improvement Suggestion</th>\\n</tr>\\n</thead>\\n<tbody>\\n', '<tr>\\n<td>Försäkring (general)</td>\\n<td>days since last created försärking</td>\\n<td>prod_master_customer_abt_recency_fastighet_mod</td>\\n<td>split it up into each actual Försäkring Product Category</td>\\n</tr>\\n', '<tr>\\n<td>Fond</td>\\n<td>days since last created fond-product</td>\\n<td>prod_master_customer_abt_recency_fastighet_mod</td>\\n</tr>\\n', '<tr>\\n<td>Sparkonto</td>\\n<td>days since last created Sparkonto-product</td>\\n<td>prod_master_customer_abt_recency_fastighet_mod</td>\\n</tr>\\n', '<tr>\\n<td>Bolån</td>\\n<td>days since last created bolåne-product</td>\\n<td>prod_master_customer_abt_recency_fastighet_mod</td>\\n</tr>\\n']\n",
      "['<p>Almost all data used for the model comes from the CRM_DM library connected from the SAS Server.</p>\\n<p>The models are built on monthly data and hence we use the Kund_historik_månadsvis as the \"master\" where a lot of customer attributes already exists (historical values as well)</p>\\n<table>\\n<thead>\\n', '<tr>\\n<th>Library</th>\\n<th>Table name</th>\\n<th>Comments</th>\\n<th>SAS Program\\xa0</th>\\n</tr>\\n</thead>\\n<tbody>\\n', '<tr>\\n<td>CRM_DM</td>\\n<td>Kund_Historik_Månadsvis</td>\\n<td>\"master\" table that is used as a starting point\\xa0</td>\\n<td>prod_master_customer_abt_grundtabell</td>\\n</tr>\\n', '<tr>\\n<td>CRM_DM</td>\\n<td>Kund_RFM_Scoring</td>\\n<td>an RFM calculation done in 2018 with hard coded values for the 5 groups therein. An assessment was done in 2021 Marchand the groups are still fairly stable, so the decision was made to keep the model as is. Room for improvement here though.\\xa0The RFM information can be found on T:\\\\Bank\\\\ICA Banken BI\\\\SAS\\\\SAS-information\\xa0 go to the OneNote called \"Åtgärder 2018\" and then to 30 Aprill\\xa0</td>\\n<td>prod_master_customer_abt_grundtabell</td>\\n</tr>\\n', '<tr>\\n<td>CRM_DM</td>\\n<td>Kund_cv_segment</td>\\n<td>Customer segments created by the CVM-team</td>\\n<td>prod_master_customer_abt_cv_segment</td>\\n</tr>\\n', '<tr>\\n<td>CRM_DM</td>\\n<td>Kund_Ansökan</td>\\n<td>used as link between ansökan and customer</td>\\n<td>prod_master_customer_abt_ansokan_qual</td>\\n</tr>\\n', '<tr>\\n<td>CRM_DM</td>\\n<td>Ansökan_Blancolån_Statushistorik</td>\\n<td>used for identifying the blanco loan history</td>\\n<td>prod_master_customer_abt_ansokan_qual</td>\\n</tr>\\n', '<tr>\\n<td>CRM_DM</td>\\n<td>Ansökan_Blancolån</td>\\n<td>used for checking if there is an ongoing blanco application</td>\\n<td>prod_master_customer_abt_ansokan_qual</td>\\n</tr>\\n', '<tr>\\n<td>CRM_DM</td>\\n<td>Produktexemplar</td>\\n<td>prod_master_customer_abt_uppsagningar_info</td>\\n</tr>\\n', '<tr>\\n<td>CRM_DM</td>\\n<td>Produkt</td>\\n<td>prod_master_customer_abt_uppsagningar_info</td>\\n</tr>\\n', '<tr>\\n<td>CRM_DM</td>\\n<td>Produktexemplar_Historik</td>\\n<td>historical information about the products</td>\\n<td>prod_master_customer_abt_produktinfo</td>\\n</tr>\\n', '<tr>\\n<td>CRM_DM</td>\\n<td>Kund_Produktexemplar</td>\\n<td>used as link betweeen product and customer</td>\\n<td>prod_master_customer_abt_produktinfo</td>\\n</tr>\\n', '<tr>\\n<td>CRM_DM</td>\\n<td>Bilregisterdata</td>\\n<td>not too many customers has a match here, creates a lot of missing data for the model to handle</td>\\n<td>prod_master_customer_abt_bilkop_6m</td>\\n</tr>\\n', '<tr>\\n<td>CRM_DM</td>\\n<td>Kund_SvarCentrica</td>\\n<td>Very little information here as well.\\xa0</td>\\n<td>prod_master_customer_abt_centrica_reject_flag</td>\\n</tr>\\n', '<tr>\\n<td>CRM_DM</td>\\n<td>Kund_Hushåll</td>\\n<td>used as link between fastighetsdataExtended and customer data</td>\\n<td>prod_master_customer_abt_recency_fastighet_mod</td>\\n</tr>\\n', '<tr>\\n<td>CRM_DM</td>\\n<td>FastighetsdataExtended</td>\\n<td>need to check the keys.</td>\\n<td>prod_master_customer_abt_recency_fastighet_mod</td>\\n</tr>\\n', '<tr>\\n<td>ANA_MART</td>\\n<td>cop_flag_skotsel</td>\\n<td>Special table that Julia at DUIT has created for us since the \"skötsel\"-flags in the CRM_DMdatabase are not of proper quality (per March 2021). We are using this table as a workaround. It needs to be updated\\xa0manually by Julia each month.</td>\\n<td>prod_master_customer_abt_skotsel_flg</td>\\n</tr>\\n</tbody>\\n</table>\\n', '<h2>Special Cases</h2>\\n<ul>\\n<li>Kön information comes from crm_dm.kund (even though it is not historised)</li>\\n<li>The 13 product categories - Share Of Wallet. They are already existing in the Kund_Historik_Månadsvis. However those are only a 1/0 if the customer has any of the products in that category. What we are also interested is when was the last time the customer actually used the product. Are they \"active\" within each product category ? The definition of active is something that needs to be defined by the business/product owner. (read more in \"Improvements\" section).</li>\\n</ul>\\n<table>\\n<thead>\\n', '<tr>\\n<th>Product Category</th>\\n<th>Definition of Recent</th>\\n<th>SAS Program</th>\\n<th>Improvement Suggestion</th>\\n</tr>\\n</thead>\\n<tbody>\\n', '<tr>\\n<td>Försäkring (general)</td>\\n<td>days since last created försärking</td>\\n<td>prod_master_customer_abt_recency_fastighet_mod</td>\\n<td>split it up into each actual Försäkring Product Category</td>\\n</tr>\\n', '<tr>\\n<td>Fond</td>\\n<td>days since last created fond-product</td>\\n<td>prod_master_customer_abt_recency_fastighet_mod</td>\\n</tr>\\n', '<tr>\\n<td>Sparkonto</td>\\n<td>days since last created Sparkonto-product</td>\\n<td>prod_master_customer_abt_recency_fastighet_mod</td>\\n</tr>\\n', '<tr>\\n<td>Bolån</td>\\n<td>days since last created bolåne-product</td>\\n<td>prod_master_customer_abt_recency_fastighet_mod</td>\\n</tr>\\n', '<tr>\\n<td>Blanco</td>\\n<td>days since last created blanco-product</td>\\n<td>prod_master_customer_abt_recency_fastighet_mod</td>\\n</tr>\\n']\n",
      "['<p>Almost all data used for the model comes from the CRM_DM library connected from the SAS Server.</p>\\n<p>The models are built on monthly data and hence we use the Kund_historik_månadsvis as the \"master\" where a lot of customer attributes already exists (historical values as well)</p>\\n<table>\\n<thead>\\n', '<tr>\\n<th>Library</th>\\n<th>Table name</th>\\n<th>Comments</th>\\n<th>SAS Program\\xa0</th>\\n</tr>\\n</thead>\\n<tbody>\\n', '<tr>\\n<td>CRM_DM</td>\\n<td>Kund_Historik_Månadsvis</td>\\n<td>\"master\" table that is used as a starting point\\xa0</td>\\n<td>prod_master_customer_abt_grundtabell</td>\\n</tr>\\n', '<tr>\\n<td>CRM_DM</td>\\n<td>Kund_RFM_Scoring</td>\\n<td>an RFM calculation done in 2018 with hard coded values for the 5 groups therein. An assessment was done in 2021 Marchand the groups are still fairly stable, so the decision was made to keep the model as is. Room for improvement here though.\\xa0The RFM information can be found on T:\\\\Bank\\\\ICA Banken BI\\\\SAS\\\\SAS-information\\xa0 go to the OneNote called \"Åtgärder 2018\" and then to 30 Aprill\\xa0</td>\\n<td>prod_master_customer_abt_grundtabell</td>\\n</tr>\\n', '<tr>\\n<td>CRM_DM</td>\\n<td>Kund_cv_segment</td>\\n<td>Customer segments created by the CVM-team</td>\\n<td>prod_master_customer_abt_cv_segment</td>\\n</tr>\\n', '<tr>\\n<td>CRM_DM</td>\\n<td>Kund_Ansökan</td>\\n<td>used as link between ansökan and customer</td>\\n<td>prod_master_customer_abt_ansokan_qual</td>\\n</tr>\\n', '<tr>\\n<td>CRM_DM</td>\\n<td>Ansökan_Blancolån_Statushistorik</td>\\n<td>used for identifying the blanco loan history</td>\\n<td>prod_master_customer_abt_ansokan_qual</td>\\n</tr>\\n', '<tr>\\n<td>CRM_DM</td>\\n<td>Ansökan_Blancolån</td>\\n<td>used for checking if there is an ongoing blanco application</td>\\n<td>prod_master_customer_abt_ansokan_qual</td>\\n</tr>\\n', '<tr>\\n<td>CRM_DM</td>\\n<td>Produktexemplar</td>\\n<td>prod_master_customer_abt_uppsagningar_info</td>\\n</tr>\\n', '<tr>\\n<td>CRM_DM</td>\\n<td>Produkt</td>\\n<td>prod_master_customer_abt_uppsagningar_info</td>\\n</tr>\\n', '<tr>\\n<td>CRM_DM</td>\\n<td>Produktexemplar_Historik</td>\\n<td>historical information about the products</td>\\n<td>prod_master_customer_abt_produktinfo</td>\\n</tr>\\n', '<tr>\\n<td>CRM_DM</td>\\n<td>Kund_Produktexemplar</td>\\n<td>used as link betweeen product and customer</td>\\n<td>prod_master_customer_abt_produktinfo</td>\\n</tr>\\n', '<tr>\\n<td>CRM_DM</td>\\n<td>Bilregisterdata</td>\\n<td>not too many customers has a match here, creates a lot of missing data for the model to handle</td>\\n<td>prod_master_customer_abt_bilkop_6m</td>\\n</tr>\\n', '<tr>\\n<td>CRM_DM</td>\\n<td>Kund_SvarCentrica</td>\\n<td>Very little information here as well.\\xa0</td>\\n<td>prod_master_customer_abt_centrica_reject_flag</td>\\n</tr>\\n', '<tr>\\n<td>CRM_DM</td>\\n<td>Kund_Hushåll</td>\\n<td>used as link between fastighetsdataExtended and customer data</td>\\n<td>prod_master_customer_abt_recency_fastighet_mod</td>\\n</tr>\\n', '<tr>\\n<td>CRM_DM</td>\\n<td>FastighetsdataExtended</td>\\n<td>need to check the keys.</td>\\n<td>prod_master_customer_abt_recency_fastighet_mod</td>\\n</tr>\\n', '<tr>\\n<td>ANA_MART</td>\\n<td>cop_flag_skotsel</td>\\n<td>Special table that Julia at DUIT has created for us since the \"skötsel\"-flags in the CRM_DMdatabase are not of proper quality (per March 2021). We are using this table as a workaround. It needs to be updated\\xa0manually by Julia each month.</td>\\n<td>prod_master_customer_abt_skotsel_flg</td>\\n</tr>\\n</tbody>\\n</table>\\n', '<h2>Special Cases</h2>\\n<ul>\\n<li>Kön information comes from crm_dm.kund (even though it is not historised)</li>\\n<li>The 13 product categories - Share Of Wallet. They are already existing in the Kund_Historik_Månadsvis. However those are only a 1/0 if the customer has any of the products in that category. What we are also interested is when was the last time the customer actually used the product. Are they \"active\" within each product category ? The definition of active is something that needs to be defined by the business/product owner. (read more in \"Improvements\" section).</li>\\n</ul>\\n<table>\\n<thead>\\n', '<tr>\\n<th>Product Category</th>\\n<th>Definition of Recent</th>\\n<th>SAS Program</th>\\n<th>Improvement Suggestion</th>\\n</tr>\\n</thead>\\n<tbody>\\n', '<tr>\\n<td>Försäkring (general)</td>\\n<td>days since last created försärking</td>\\n<td>prod_master_customer_abt_recency_fastighet_mod</td>\\n<td>split it up into each actual Försäkring Product Category</td>\\n</tr>\\n', '<tr>\\n<td>Fond</td>\\n<td>days since last created fond-product</td>\\n<td>prod_master_customer_abt_recency_fastighet_mod</td>\\n</tr>\\n', '<tr>\\n<td>Sparkonto</td>\\n<td>days since last created Sparkonto-product</td>\\n<td>prod_master_customer_abt_recency_fastighet_mod</td>\\n</tr>\\n', '<tr>\\n<td>Bolån</td>\\n<td>days since last created bolåne-product</td>\\n<td>prod_master_customer_abt_recency_fastighet_mod</td>\\n</tr>\\n', '<tr>\\n<td>Blanco</td>\\n<td>days since last created blanco-product</td>\\n<td>prod_master_customer_abt_recency_fastighet_mod</td>\\n</tr>\\n', '<tr>\\n<td>Bankkort</td>\\n<td>tbd</td>\\n<td>BI-teamet att ta fram recency historiskt...finns bara as of idag</td>\\n</tr>\\n']\n",
      "['<p>Almost all data used for the model comes from the CRM_DM library connected from the SAS Server.</p>\\n<p>The models are built on monthly data and hence we use the Kund_historik_månadsvis as the \"master\" where a lot of customer attributes already exists (historical values as well)</p>\\n<table>\\n<thead>\\n', '<tr>\\n<th>Library</th>\\n<th>Table name</th>\\n<th>Comments</th>\\n<th>SAS Program\\xa0</th>\\n</tr>\\n</thead>\\n<tbody>\\n', '<tr>\\n<td>CRM_DM</td>\\n<td>Kund_Historik_Månadsvis</td>\\n<td>\"master\" table that is used as a starting point\\xa0</td>\\n<td>prod_master_customer_abt_grundtabell</td>\\n</tr>\\n', '<tr>\\n<td>CRM_DM</td>\\n<td>Kund_RFM_Scoring</td>\\n<td>an RFM calculation done in 2018 with hard coded values for the 5 groups therein. An assessment was done in 2021 Marchand the groups are still fairly stable, so the decision was made to keep the model as is. Room for improvement here though.\\xa0The RFM information can be found on T:\\\\Bank\\\\ICA Banken BI\\\\SAS\\\\SAS-information\\xa0 go to the OneNote called \"Åtgärder 2018\" and then to 30 Aprill\\xa0</td>\\n<td>prod_master_customer_abt_grundtabell</td>\\n</tr>\\n', '<tr>\\n<td>CRM_DM</td>\\n<td>Kund_cv_segment</td>\\n<td>Customer segments created by the CVM-team</td>\\n<td>prod_master_customer_abt_cv_segment</td>\\n</tr>\\n', '<tr>\\n<td>CRM_DM</td>\\n<td>Kund_Ansökan</td>\\n<td>used as link between ansökan and customer</td>\\n<td>prod_master_customer_abt_ansokan_qual</td>\\n</tr>\\n', '<tr>\\n<td>CRM_DM</td>\\n<td>Ansökan_Blancolån_Statushistorik</td>\\n<td>used for identifying the blanco loan history</td>\\n<td>prod_master_customer_abt_ansokan_qual</td>\\n</tr>\\n', '<tr>\\n<td>CRM_DM</td>\\n<td>Ansökan_Blancolån</td>\\n<td>used for checking if there is an ongoing blanco application</td>\\n<td>prod_master_customer_abt_ansokan_qual</td>\\n</tr>\\n', '<tr>\\n<td>CRM_DM</td>\\n<td>Produktexemplar</td>\\n<td>prod_master_customer_abt_uppsagningar_info</td>\\n</tr>\\n', '<tr>\\n<td>CRM_DM</td>\\n<td>Produkt</td>\\n<td>prod_master_customer_abt_uppsagningar_info</td>\\n</tr>\\n', '<tr>\\n<td>CRM_DM</td>\\n<td>Produktexemplar_Historik</td>\\n<td>historical information about the products</td>\\n<td>prod_master_customer_abt_produktinfo</td>\\n</tr>\\n', '<tr>\\n<td>CRM_DM</td>\\n<td>Kund_Produktexemplar</td>\\n<td>used as link betweeen product and customer</td>\\n<td>prod_master_customer_abt_produktinfo</td>\\n</tr>\\n', '<tr>\\n<td>CRM_DM</td>\\n<td>Bilregisterdata</td>\\n<td>not too many customers has a match here, creates a lot of missing data for the model to handle</td>\\n<td>prod_master_customer_abt_bilkop_6m</td>\\n</tr>\\n', '<tr>\\n<td>CRM_DM</td>\\n<td>Kund_SvarCentrica</td>\\n<td>Very little information here as well.\\xa0</td>\\n<td>prod_master_customer_abt_centrica_reject_flag</td>\\n</tr>\\n', '<tr>\\n<td>CRM_DM</td>\\n<td>Kund_Hushåll</td>\\n<td>used as link between fastighetsdataExtended and customer data</td>\\n<td>prod_master_customer_abt_recency_fastighet_mod</td>\\n</tr>\\n', '<tr>\\n<td>CRM_DM</td>\\n<td>FastighetsdataExtended</td>\\n<td>need to check the keys.</td>\\n<td>prod_master_customer_abt_recency_fastighet_mod</td>\\n</tr>\\n', '<tr>\\n<td>ANA_MART</td>\\n<td>cop_flag_skotsel</td>\\n<td>Special table that Julia at DUIT has created for us since the \"skötsel\"-flags in the CRM_DMdatabase are not of proper quality (per March 2021). We are using this table as a workaround. It needs to be updated\\xa0manually by Julia each month.</td>\\n<td>prod_master_customer_abt_skotsel_flg</td>\\n</tr>\\n</tbody>\\n</table>\\n', '<h2>Special Cases</h2>\\n<ul>\\n<li>Kön information comes from crm_dm.kund (even though it is not historised)</li>\\n<li>The 13 product categories - Share Of Wallet. They are already existing in the Kund_Historik_Månadsvis. However those are only a 1/0 if the customer has any of the products in that category. What we are also interested is when was the last time the customer actually used the product. Are they \"active\" within each product category ? The definition of active is something that needs to be defined by the business/product owner. (read more in \"Improvements\" section).</li>\\n</ul>\\n<table>\\n<thead>\\n', '<tr>\\n<th>Product Category</th>\\n<th>Definition of Recent</th>\\n<th>SAS Program</th>\\n<th>Improvement Suggestion</th>\\n</tr>\\n</thead>\\n<tbody>\\n', '<tr>\\n<td>Försäkring (general)</td>\\n<td>days since last created försärking</td>\\n<td>prod_master_customer_abt_recency_fastighet_mod</td>\\n<td>split it up into each actual Försäkring Product Category</td>\\n</tr>\\n', '<tr>\\n<td>Fond</td>\\n<td>days since last created fond-product</td>\\n<td>prod_master_customer_abt_recency_fastighet_mod</td>\\n</tr>\\n', '<tr>\\n<td>Sparkonto</td>\\n<td>days since last created Sparkonto-product</td>\\n<td>prod_master_customer_abt_recency_fastighet_mod</td>\\n</tr>\\n', '<tr>\\n<td>Bolån</td>\\n<td>days since last created bolåne-product</td>\\n<td>prod_master_customer_abt_recency_fastighet_mod</td>\\n</tr>\\n', '<tr>\\n<td>Blanco</td>\\n<td>days since last created blanco-product</td>\\n<td>prod_master_customer_abt_recency_fastighet_mod</td>\\n</tr>\\n', '<tr>\\n<td>Bankkort</td>\\n<td>tbd</td>\\n<td>BI-teamet att ta fram recency historiskt...finns bara as of idag</td>\\n</tr>\\n', '<tr>\\n<td>Transaktionskonto</td>\\n<td>tbd</td>\\n<td>BI-teamet att ta fram recency historiskt...finns bara as of idag</td>\\n</tr>\\n']\n",
      "['<p>Almost all data used for the model comes from the CRM_DM library connected from the SAS Server.</p>\\n<p>The models are built on monthly data and hence we use the Kund_historik_månadsvis as the \"master\" where a lot of customer attributes already exists (historical values as well)</p>\\n<table>\\n<thead>\\n', '<tr>\\n<th>Library</th>\\n<th>Table name</th>\\n<th>Comments</th>\\n<th>SAS Program\\xa0</th>\\n</tr>\\n</thead>\\n<tbody>\\n', '<tr>\\n<td>CRM_DM</td>\\n<td>Kund_Historik_Månadsvis</td>\\n<td>\"master\" table that is used as a starting point\\xa0</td>\\n<td>prod_master_customer_abt_grundtabell</td>\\n</tr>\\n', '<tr>\\n<td>CRM_DM</td>\\n<td>Kund_RFM_Scoring</td>\\n<td>an RFM calculation done in 2018 with hard coded values for the 5 groups therein. An assessment was done in 2021 Marchand the groups are still fairly stable, so the decision was made to keep the model as is. Room for improvement here though.\\xa0The RFM information can be found on T:\\\\Bank\\\\ICA Banken BI\\\\SAS\\\\SAS-information\\xa0 go to the OneNote called \"Åtgärder 2018\" and then to 30 Aprill\\xa0</td>\\n<td>prod_master_customer_abt_grundtabell</td>\\n</tr>\\n', '<tr>\\n<td>CRM_DM</td>\\n<td>Kund_cv_segment</td>\\n<td>Customer segments created by the CVM-team</td>\\n<td>prod_master_customer_abt_cv_segment</td>\\n</tr>\\n', '<tr>\\n<td>CRM_DM</td>\\n<td>Kund_Ansökan</td>\\n<td>used as link between ansökan and customer</td>\\n<td>prod_master_customer_abt_ansokan_qual</td>\\n</tr>\\n', '<tr>\\n<td>CRM_DM</td>\\n<td>Ansökan_Blancolån_Statushistorik</td>\\n<td>used for identifying the blanco loan history</td>\\n<td>prod_master_customer_abt_ansokan_qual</td>\\n</tr>\\n', '<tr>\\n<td>CRM_DM</td>\\n<td>Ansökan_Blancolån</td>\\n<td>used for checking if there is an ongoing blanco application</td>\\n<td>prod_master_customer_abt_ansokan_qual</td>\\n</tr>\\n', '<tr>\\n<td>CRM_DM</td>\\n<td>Produktexemplar</td>\\n<td>prod_master_customer_abt_uppsagningar_info</td>\\n</tr>\\n', '<tr>\\n<td>CRM_DM</td>\\n<td>Produkt</td>\\n<td>prod_master_customer_abt_uppsagningar_info</td>\\n</tr>\\n', '<tr>\\n<td>CRM_DM</td>\\n<td>Produktexemplar_Historik</td>\\n<td>historical information about the products</td>\\n<td>prod_master_customer_abt_produktinfo</td>\\n</tr>\\n', '<tr>\\n<td>CRM_DM</td>\\n<td>Kund_Produktexemplar</td>\\n<td>used as link betweeen product and customer</td>\\n<td>prod_master_customer_abt_produktinfo</td>\\n</tr>\\n', '<tr>\\n<td>CRM_DM</td>\\n<td>Bilregisterdata</td>\\n<td>not too many customers has a match here, creates a lot of missing data for the model to handle</td>\\n<td>prod_master_customer_abt_bilkop_6m</td>\\n</tr>\\n', '<tr>\\n<td>CRM_DM</td>\\n<td>Kund_SvarCentrica</td>\\n<td>Very little information here as well.\\xa0</td>\\n<td>prod_master_customer_abt_centrica_reject_flag</td>\\n</tr>\\n', '<tr>\\n<td>CRM_DM</td>\\n<td>Kund_Hushåll</td>\\n<td>used as link between fastighetsdataExtended and customer data</td>\\n<td>prod_master_customer_abt_recency_fastighet_mod</td>\\n</tr>\\n', '<tr>\\n<td>CRM_DM</td>\\n<td>FastighetsdataExtended</td>\\n<td>need to check the keys.</td>\\n<td>prod_master_customer_abt_recency_fastighet_mod</td>\\n</tr>\\n', '<tr>\\n<td>ANA_MART</td>\\n<td>cop_flag_skotsel</td>\\n<td>Special table that Julia at DUIT has created for us since the \"skötsel\"-flags in the CRM_DMdatabase are not of proper quality (per March 2021). We are using this table as a workaround. It needs to be updated\\xa0manually by Julia each month.</td>\\n<td>prod_master_customer_abt_skotsel_flg</td>\\n</tr>\\n</tbody>\\n</table>\\n', '<h2>Special Cases</h2>\\n<ul>\\n<li>Kön information comes from crm_dm.kund (even though it is not historised)</li>\\n<li>The 13 product categories - Share Of Wallet. They are already existing in the Kund_Historik_Månadsvis. However those are only a 1/0 if the customer has any of the products in that category. What we are also interested is when was the last time the customer actually used the product. Are they \"active\" within each product category ? The definition of active is something that needs to be defined by the business/product owner. (read more in \"Improvements\" section).</li>\\n</ul>\\n<table>\\n<thead>\\n', '<tr>\\n<th>Product Category</th>\\n<th>Definition of Recent</th>\\n<th>SAS Program</th>\\n<th>Improvement Suggestion</th>\\n</tr>\\n</thead>\\n<tbody>\\n', '<tr>\\n<td>Försäkring (general)</td>\\n<td>days since last created försärking</td>\\n<td>prod_master_customer_abt_recency_fastighet_mod</td>\\n<td>split it up into each actual Försäkring Product Category</td>\\n</tr>\\n', '<tr>\\n<td>Fond</td>\\n<td>days since last created fond-product</td>\\n<td>prod_master_customer_abt_recency_fastighet_mod</td>\\n</tr>\\n', '<tr>\\n<td>Sparkonto</td>\\n<td>days since last created Sparkonto-product</td>\\n<td>prod_master_customer_abt_recency_fastighet_mod</td>\\n</tr>\\n', '<tr>\\n<td>Bolån</td>\\n<td>days since last created bolåne-product</td>\\n<td>prod_master_customer_abt_recency_fastighet_mod</td>\\n</tr>\\n', '<tr>\\n<td>Blanco</td>\\n<td>days since last created blanco-product</td>\\n<td>prod_master_customer_abt_recency_fastighet_mod</td>\\n</tr>\\n', '<tr>\\n<td>Bankkort</td>\\n<td>tbd</td>\\n<td>BI-teamet att ta fram recency historiskt...finns bara as of idag</td>\\n</tr>\\n', '<tr>\\n<td>Transaktionskonto</td>\\n<td>tbd</td>\\n<td>BI-teamet att ta fram recency historiskt...finns bara as of idag</td>\\n</tr>\\n']\n"
     ]
    }
   ],
   "source": [
    "\n",
    "splitter = HTMLSplitter(chunk_size=1000, chunk_overlap=0)\n",
    "\n",
    "obj = bs4.BeautifulSoup(html_content, r\"html.parser\")\n",
    "bs4util = BS4Util()\n",
    "\n",
    "bs4util.delete_all_attrs(obj, recursive_after=True)\n",
    "bs4util.remove_nested_tags(obj, recursive_after=True)\n",
    "bs4util.remove_empty_tags(obj, recursive_before=True)\n",
    "bs4util.remove_table_formatting(obj)\n",
    "\n",
    "chunks = splitter.split_html(str(obj))\n",
    "\n",
    "elements = partition_html(text=str(obj))\n",
    "chunks2 = chunk_by_title(elements)\n"
   ]
  },
  {
   "cell_type": "markdown",
   "metadata": {},
   "source": []
  },
  {
   "cell_type": "markdown",
   "metadata": {},
   "source": [
    "# Test Retrieval"
   ]
  },
  {
   "cell_type": "code",
   "execution_count": null,
   "metadata": {},
   "outputs": [],
   "source": [
    "#!pip install --upgrade --quiet  gpt4all \n",
    "#!pip install langchain-community\n",
    "# !pip install transformers sentence-transformers"
   ]
  },
  {
   "cell_type": "code",
   "execution_count": 10,
   "metadata": {},
   "outputs": [],
   "source": [
    "from langchain_community.embeddings import GPT4AllEmbeddings\n",
    "#from langchain_community.vectorstores import Chroma\n",
    "from langchain.vectorstores import Chroma\n",
    "from langchain_community.embeddings import HuggingFaceEmbeddings"
   ]
  },
  {
   "cell_type": "code",
   "execution_count": 24,
   "metadata": {},
   "outputs": [],
   "source": [
    "#embeddings = GPT4AllEmbeddings()\n",
    "# embeddings = HuggingFaceEmbeddings(model_name=\"all-MiniLM-L6-v2\")\n",
    "\n",
    "model_name = \"sentence-transformers/all-mpnet-base-v2\"\n",
    "model_kwargs = {'device': 'cpu'}\n",
    "encode_kwargs = {'normalize_embeddings': True}\n",
    "embeddings = HuggingFaceEmbeddings(\n",
    "    model_name=model_name,\n",
    "    model_kwargs=model_kwargs,\n",
    "    encode_kwargs=encode_kwargs\n",
    ")"
   ]
  },
  {
   "attachments": {},
   "cell_type": "markdown",
   "metadata": {},
   "source": [
    "#### Generate Embeddings and add to chroma store"
   ]
  },
  {
   "cell_type": "code",
   "execution_count": 25,
   "metadata": {},
   "outputs": [],
   "source": [
    "vectordb = Chroma.from_documents(texts_tb, embeddings)"
   ]
  },
  {
   "cell_type": "code",
   "execution_count": null,
   "metadata": {},
   "outputs": [],
   "source": [
    "# import os\n",
    "# if persist_directory and os.path.exists(persist_directory):\n",
    "#     vectordb = Chroma(persist_directory=persist_directory, embedding_function=embeddings)\n",
    "# else:\n",
    "#     vectordb = Chroma.from_documents(documents=texts, embedding=embeddings, persist_directory=persist_directory)\n",
    "    "
   ]
  },
  {
   "cell_type": "code",
   "execution_count": 26,
   "metadata": {},
   "outputs": [
    {
     "data": {
      "text/plain": [
       "[Document(page_content='Spärra via internetbanken/ICA Bankens app**Internetbanken:**\\n\\nKund går in under:\\xa0*Min Ekonomi → Säker identifiering → Mobilt BankID → Hantera Mobilt BankID → Hantera Mobilt BankID* (externt fönster) → nu kan kunden välja att spärra BankID:t.\\n\\n**Iphone-/Ipad-appen**:\\n\\nKund går in via *Inställningar* och sedan *Hantera Mobilt BankID.*\\n\\n**Android-appen**:\\n\\nKund går in via *kugghjulet* uppe till höger och sedan\\xa0*Ta bort BankID*.\\n\\nSpärra via BG Tools1. Öppna länken: <https://bgtools.icabanken.net/bgtools.aspx>\\xa0i Google Chrome (tips är att spara den som favorit)\\n\\n2. Logga in med användarnamn och lösenord.\\n\\n3. Följande sida öppnas, klicka på **Kör**\\xa0vid *BankID Admin*.\\n\\n4. Nedan sida öppnas, ange kundens personnummer ÅÅÅÅMMDDXXXX, klicka på **Fortsätt**.\\n\\n5. Du\\xa0kommer då in på Bankgirots administratörssida. **Kontrollera att det står rätt namn till kunden!** Spärra kundens BankID genom att klicka på **Spärra**.', metadata={'title': 'Mobilt BankID', 'id': '25398181', 'source': 'https://ica.atlassian.net/wiki/spaces/IBW/pages/25398181/Mobilt+BankID'}),\n",
       " Document(page_content='2. Tryck på knappen \"Säkerhet\".\\n\\n3. Tryck på \"Spärra lösenord\".\\n\\n4. Tryck på \"Spärra\".\\n\\n5. Det går nu bra att beställa ut ett nytt lösenord till kunden.\\n\\nByt från \"A\" till \"R\" vid avslut av kundens hela bankengagemangNär kund avslutar sin sista bankprodukt ska flaggan \"System\" på KS11 ändras från \"A\" till \"R\".\\n\\nAnledningen till det är att kunden inte längre tillhör AB-reskontran (Bankkund)\\n\\nFör att ändra vilket system kunden \"tillhör\" gör enligt nedan:\\n\\n1. Sök upp kunden i KS11.\\n\\n2. Sätt \"ä\" efter funktion och ett \"R\" efter system. Tryck Enter, då ändras värdet mellan A (Active Bank) och R (Ricard).\\n\\nSpärra Todos vid avslut av kundens hela bankengagemang1. Kontrollera att alla bankprodukter är avslutade.\\n\\n2. Sök fram kunden på KS11 i mainframe.\\n\\n3. Tryck på F4.\\n\\n4. Sätt ett \"J\"\\xa0efter \"Spärra todos\".\\n\\n### Sök efter annan rutin i Wikinpage\\n\\nLäs merIdentifiering och säkerhet\\n\\n[Felaktigt spärrad Todos/ändrat från a till r i Ricard](https://wiki.ica.se/pages/viewpage.action?pageId=81002735)', metadata={'title': '4-siffrigt lösenord', 'id': '25397672', 'source': 'https://ica.atlassian.net/wiki/spaces/IBW/pages/25397672'}),\n",
       " Document(page_content='| Ricard-sida |  |\\n| --- | --- |\\n| **BA10** | Autogiro för blancolån och ICA:s\\xa0försäkringar |\\n| **BA49** | Brevgiro |\\n| **BA53** | Makulera beställning av personlig dosa |\\n| **IV26** | Se reservationer/bokningar mot kunds bankkort/kreditkort |\\n| **KS06** | Se vad kunden kommer få för ränta på beviljat men ej utbetalat lån. |\\n| **KS10** | Kund/konto info\\xa0 |\\n| **KS11** | Ändra från \"a till r\" och spärra Todos när hela kundens bankengagemang avslutas. |\\n| **KS17** | Detaljer om ICA-anställda |\\n| **KS33** | REK-försändelser som har skickats till kund |\\n| **KS38** | Kortavgifter |\\n| **KS57** | Ändra/makulera kortutskick |\\n| **KS60** | Ansökningar |\\n| NP20 | Gemensat bonussparande |\\n| **NP21** | Bonusuppdatering |\\n| RI06 | Kontrollera vilken bank ett clearingnummer tillhör |\\n| **RI14** | Söka upp en kund via t ex namn/telefonnummer |\\n| RI34 | Se om/när ändringar gjorts |\\n| **RI70** | Journalanteckningar (ibland kan bl a admin skriva anteckningar här) |\\n| **US20** | Se om utskick är gjort på papper/till Kivra |\\n| **US45** | Beställa blanketter\\xa0 |\\n| **US87** | Kundbrev/avtal (sparas här i 120 dagar) |', metadata={'title': 'Bilder i Ricard (Mainframe)', 'id': '25397022', 'source': 'https://ica.atlassian.net/wiki/spaces/IBW/pages/25397022'}),\n",
       " Document(page_content='**För fler detaljer, se separat rubrik i rutinen om koncernanställdas bankförmåner.**\\n\\nAnsökan om bankkortKoncernanställda kan ansöka om bankens produkter i alla ordinarie kanaler, men kan också hänvisas att göra sin ansökan via [icabanken.se/koncernanstalld](https://www.icabanken.se/koncernanstalld) där all information om bankförmånerna för koncernanställda finns samlad. Där finns även information om den kampanjkod som koncernanställda ska använda.', metadata={'title': 'Anställd inom ICA', 'id': '25398592', 'source': 'https://ica.atlassian.net/wiki/spaces/IBW/pages/25398592'})]"
      ]
     },
     "execution_count": 26,
     "metadata": {},
     "output_type": "execute_result"
    }
   ],
   "source": [
    "question = \"Spärra bankkort\"\n",
    "docs = vectordb.similarity_search(question)\n",
    "docs"
   ]
  },
  {
   "cell_type": "code",
   "execution_count": 27,
   "metadata": {},
   "outputs": [
    {
     "data": {
      "text/plain": [
       "[Document(page_content='* Eventuella utskick som vi behöver göra till utlandet kostar upp till 500 SEK.\\n\\n* Om ansökan beviljas kommer du få hem kort, kortkod och bankdosa i separata kuvert. Om det blir avslag eller om ansökan behöver kompletteras får du besked om det via brev. (Handläggningstiden varierar beroende på om det behövs kompletteringar, vi kan därför inte säga en viss handläggningstid.)\\n\\n3. **Skapa ett ärende i Centrica** till *Affärssupport IKK* med underkategori: *Utskick av ansökan* och följande information:\\n\\n* *Beskrivning*: Kortansökan för utvandrad person med svenskt personnummer.\\n\\n* Personnumret\\n\\n* Personens för- och efternamn.\\n\\n* Adressen dit ansökningsblanketten ska skickas.\\n\\n**Frågor och svar**\\n\\n---\\n\\nVad betyder \"utvandrad\"?Man är utvandrad om man saknar svensk folkbokföringsadress och har meddelat Skatteverket att man har flyttat till ett annat land.', metadata={'title': 'Kortansökan för utvandrad person med svenskt personnummer', 'id': '25397637', 'source': 'https://ica.atlassian.net/wiki/spaces/IBW/pages/25397637'}),\n",
       " Document(page_content='---\\n\\nÄr det möjligt att skicka bankkort, pinkod, lösenord till utlandet till BEFINTLIGA KUNDER utomlands?\\xa0Ja, vi kan skicka ovan till befintliga och identifierade kunder. Vi kan antingen skicka det med DHL eller med vanlig post, det bestämmer kunden.\\xa0\\xa0Vi kan aldrig skicka en försändelse som går med REK till utlandet.\\n\\n* Utskick med **vanlig post** gör kundansvarig själv. Följ instruktionerna i fliken\\xa0*Ta bort eller ändra adress på utskick* nedan.\\n\\n* Ska det skickas med **DHL**\\xa0följ då instruktionerna i\\xa0*Hur gör jag om kund vill ha kort, lösen eller pin-kod skickat utomlands med DHL?*\\n\\nAvgiften är 500 kronor/försändelse. Tänk på att kunden behöver säkerställa att det finns ett DHL-ombud där hen befinner sig.\\n\\nÄr det möjligt att skicka bankkort, pinkod, lösenord till utlandet till helt NYA KUNDER?Nej.\\n\\nSkicka kort, kortkod eller lösenord till annan adress (även utomlands) med vanlig post1. Gör en beställning av kortkod, kort eller lösenord via Centrica.', metadata={'title': 'Utskick', 'id': '25398566', 'source': 'https://ica.atlassian.net/wiki/spaces/IBW/pages/25398566/Utskick'}),\n",
       " Document(page_content='* **Mottagare** = (Går inte att välja för betalningar inom EU/EES.) Det dras 100 SEK för ICA Bankens avgift ifrån själva beloppet för utlandsbetalningen. Den mottagande banken kan också dra en avgift, antingen ifrån beloppet eller utöver det.\\n\\nÄr det en avgift vid retur av en avgående utlandsbetalning?Det är en avgift enligt  [Prislistan](https://www.icabanken.se/prislista/) om en utlandsbetalning som man skickar ifrån ICA Banken går i retur till kunden som är avsändare. Avgiften dras från kundens konto samtidigt som det returnerade beloppet kommer in där.\\n\\n### Ta emot utlandsbetalning\\n\\n---\\n\\nVåra kunder kan ta emot utlandsbetalningar ifrån de länder och i de valutor som står i rutan uppe till höger i rutinen.', metadata={'title': 'Utlandsbetalning', 'id': '25399578', 'source': 'https://ica.atlassian.net/wiki/spaces/IBW/pages/25399578/Utlandsbetalning'}),\n",
       " Document(page_content='#### Utskick av personlig dosa\\n\\n---\\n\\nInnan en ny personlig dosa skickas ut till kund ska kontroll göras varför kund behöver en säkerhetsdosa och vilket engagemang kunden har. Är kunden inte helkund och har ett Mobilt BankID från en annan bank ska kund hänvisas att använda detta istället för att vi skickar en säkerhetsdosa. Är kunden däremot helkund i ICA Banken och har ett Mobilt BankID utgivet av oss behöver kund en dosa. Detta gäller också om kund av en eller annan orsak inte kan använda Mobilt BankID. En personlig säkerhetsdosa skickas alltid till kund med REK förutom vid specifika undantag enligt rutin för utskick av säkerhetsdosa.\\n\\nfalse**OBS! Vi får inte ge ut REK-nummer till olegitimerade kunder.**', metadata={'title': 'Personlig dosa', 'id': '25397680', 'source': 'https://ica.atlassian.net/wiki/spaces/IBW/pages/25397680/Personlig+dosa'})]"
      ]
     },
     "execution_count": 27,
     "metadata": {},
     "output_type": "execute_result"
    }
   ],
   "source": [
    "question = \"Får jag skicka en personlig dosa utomlands via fullmakt?\"\n",
    "docs = vectordb.similarity_search(question)\n",
    "docs"
   ]
  },
  {
   "cell_type": "code",
   "execution_count": null,
   "metadata": {},
   "outputs": [],
   "source": []
  }
 ],
 "metadata": {
  "kernelspec": {
   "display_name": "Python 3 (ipykernel)",
   "language": "python",
   "name": "python3"
  },
  "language_info": {
   "codemirror_mode": {
    "name": "ipython",
    "version": 3
   },
   "file_extension": ".py",
   "mimetype": "text/x-python",
   "name": "python",
   "nbconvert_exporter": "python",
   "pygments_lexer": "ipython3",
   "version": "3.11.7"
  }
 },
 "nbformat": 4,
 "nbformat_minor": 4
}
